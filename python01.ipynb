{
 "cells": [
  {
   "cell_type": "markdown",
   "id": "d70721b7-48af-45e5-80d4-b9c8575b83fc",
   "metadata": {
    "jp-MarkdownHeadingCollapsed": true
   },
   "source": [
    "# 주피터랩 단축키\n",
    "- a: 위 셀 추가\n",
    "- b: 아래 셀 추가\n",
    "- ctrl + shift + 방향키 위 : 셀 위로 이동\n",
    "- ctrl + shift + 방향키 아래 : 셀 아래로 이동\n",
    "- shift + enter : 셀 실행\n",
    "- dd : 셀 삭제\n",
    "- x : 셀 잘라내기\n",
    "- c : 셀 복사\n",
    "- v : 셀 붙여넣기\n",
    "- z : 되살리기 (undo)\n",
    "- shift + z : 다시 진행 (redo)"
   ]
  },
  {
   "cell_type": "markdown",
   "id": "91697a70-73ff-4f4c-a2db-f1c4e7ba51b0",
   "metadata": {},
   "source": [
    "# 기초"
   ]
  },
  {
   "cell_type": "code",
   "execution_count": 1,
   "id": "28522bb2-9505-4738-b869-7fe5c9ce81a0",
   "metadata": {},
   "outputs": [
    {
     "name": "stdout",
     "output_type": "stream",
     "text": [
      "위에 주석인가여\n"
     ]
    }
   ],
   "source": [
    "# print('쥬피터랩 ㅎㅇ')\n",
    "print('위에 주석인가여')"
   ]
  },
  {
   "cell_type": "code",
   "execution_count": 2,
   "id": "322fdd07-02e2-406d-9cc3-19bb249e670e",
   "metadata": {},
   "outputs": [
    {
     "name": "stdout",
     "output_type": "stream",
     "text": [
      "13566572\n"
     ]
    }
   ],
   "source": [
    "print(1231231+12335341)"
   ]
  },
  {
   "cell_type": "code",
   "execution_count": 3,
   "id": "bede392e-f68b-4867-934b-476ca8573801",
   "metadata": {},
   "outputs": [
    {
     "name": "stdout",
     "output_type": "stream",
     "text": [
      "비트코인ㅋㅋㅋㅋㅋㅋ\n",
      "근데\n"
     ]
    }
   ],
   "source": [
    "print('비트코인',end='ㅋㅋㅋㅋㅋㅋ\\n')\n",
    "print('근데')"
   ]
  },
  {
   "cell_type": "code",
   "execution_count": 4,
   "id": "2f00491f-b43d-4f98-9b3b-8c536b767237",
   "metadata": {},
   "outputs": [
    {
     "name": "stdout",
     "output_type": "stream",
     "text": [
      "1*2*3*4*5\n"
     ]
    }
   ],
   "source": [
    "print(1,2,3,4,5, sep='*')"
   ]
  },
  {
   "cell_type": "markdown",
   "id": "a7a25f06-f4fc-49f5-8b43-dfff4066f975",
   "metadata": {},
   "source": [
    "# 자료형"
   ]
  },
  {
   "cell_type": "markdown",
   "id": "bcb876d9-d06a-4d10-9474-d1a7c2cab786",
   "metadata": {},
   "source": [
    "## 숫자형"
   ]
  },
  {
   "cell_type": "code",
   "execution_count": 5,
   "id": "7300a30e-34a7-462d-8780-484720bd331c",
   "metadata": {},
   "outputs": [
    {
     "name": "stdout",
     "output_type": "stream",
     "text": [
      "뺄셈 433\n",
      "=========================\n",
      "나눗셈 19.82608695652174\n",
      "=========================\n",
      "곱셈 10488\n",
      "=========================\n",
      "몫 19\n",
      "=========================\n",
      "나머지 19\n",
      "=========================\n",
      "승 207936\n",
      "=========================\n"
     ]
    }
   ],
   "source": [
    "# 사칙연산 예\n",
    "사칙 = 456\n",
    "셈 = 23\n",
    "\n",
    "print('뺄셈',사칙 - 셈, end='\\n=========================\\n')\n",
    "print('나눗셈',사칙 / 셈, end='\\n=========================\\n')\n",
    "print('곱셈',사칙 * 셈, end='\\n=========================\\n')\n",
    "print('몫',사칙 // 셈, end='\\n=========================\\n')\n",
    "print('나머지',사칙 %셈, end='\\n=========================\\n')\n",
    "print('승',사칙 ** 2, end='\\n=========================\\n')"
   ]
  },
  {
   "cell_type": "code",
   "execution_count": 6,
   "id": "8c485164-00af-4398-b17f-25d7224dd19e",
   "metadata": {},
   "outputs": [
    {
     "name": "stdout",
     "output_type": "stream",
     "text": [
      "123 -178 0\n"
     ]
    }
   ],
   "source": [
    "# 정수형\n",
    "a = 123\n",
    "b = -178\n",
    "c = 0\n",
    "print(a,b,c)"
   ]
  },
  {
   "cell_type": "code",
   "execution_count": 7,
   "id": "92371d29-558e-4b8a-8aad-601f27d407fd",
   "metadata": {},
   "outputs": [
    {
     "name": "stdout",
     "output_type": "stream",
     "text": [
      "1.2 -3.14 4.24e-10\n"
     ]
    }
   ],
   "source": [
    "# 실수형\n",
    "aa = 1.2\n",
    "bb = -3.14\n",
    "cc = 4.24e-10\n",
    "print(aa,bb,cc)"
   ]
  },
  {
   "cell_type": "code",
   "execution_count": 8,
   "id": "4e4ec842-d67a-4bed-9bf7-0071e2980431",
   "metadata": {},
   "outputs": [
    {
     "name": "stdout",
     "output_type": "stream",
     "text": [
      "127 2303 7\n"
     ]
    }
   ],
   "source": [
    "# 8진수(oct)와 16진수(hex)와 2진수(bin)\n",
    "aaa = 0o177\n",
    "bbb = 0x8ff\n",
    "ccc = 0b111\n",
    "print(aaa, bbb, ccc)\n"
   ]
  },
  {
   "cell_type": "code",
   "execution_count": 9,
   "id": "48305554-9cac-4715-9e04-7a877ea05de0",
   "metadata": {},
   "outputs": [],
   "source": [
    "a = 1\n",
    "b = 2"
   ]
  },
  {
   "cell_type": "code",
   "execution_count": 10,
   "id": "59d2cbd2-4704-4903-b863-e615d69a03c7",
   "metadata": {},
   "outputs": [
    {
     "data": {
      "text/plain": [
       "3"
      ]
     },
     "execution_count": 10,
     "metadata": {},
     "output_type": "execute_result"
    }
   ],
   "source": [
    "a+b"
   ]
  },
  {
   "cell_type": "code",
   "execution_count": 11,
   "id": "c4b931f0-f787-4065-a387-9ee50c164643",
   "metadata": {},
   "outputs": [
    {
     "data": {
      "text/plain": [
       "-1"
      ]
     },
     "execution_count": 11,
     "metadata": {},
     "output_type": "execute_result"
    }
   ],
   "source": [
    "a-b"
   ]
  },
  {
   "cell_type": "code",
   "execution_count": 12,
   "id": "a1922c82-485a-43fa-9b5f-0506c4f6e35b",
   "metadata": {},
   "outputs": [
    {
     "data": {
      "text/plain": [
       "2"
      ]
     },
     "execution_count": 12,
     "metadata": {},
     "output_type": "execute_result"
    }
   ],
   "source": [
    "a*b"
   ]
  },
  {
   "cell_type": "code",
   "execution_count": 13,
   "id": "175ef460-6f9e-4b9f-af35-85b3d5bb815f",
   "metadata": {},
   "outputs": [
    {
     "data": {
      "text/plain": [
       "0.5"
      ]
     },
     "execution_count": 13,
     "metadata": {},
     "output_type": "execute_result"
    }
   ],
   "source": [
    "a/b"
   ]
  },
  {
   "cell_type": "code",
   "execution_count": 14,
   "id": "466a58e3-b622-4c4b-96d4-9bbf75f2d6f8",
   "metadata": {},
   "outputs": [
    {
     "data": {
      "text/plain": [
       "1"
      ]
     },
     "execution_count": 14,
     "metadata": {},
     "output_type": "execute_result"
    }
   ],
   "source": [
    "a**b"
   ]
  },
  {
   "cell_type": "code",
   "execution_count": 15,
   "id": "67a4c99f-86d9-4a7a-a1d4-5585e512939d",
   "metadata": {},
   "outputs": [
    {
     "name": "stdout",
     "output_type": "stream",
     "text": [
      "2\n",
      "3\n",
      "4\n"
     ]
    }
   ],
   "source": [
    "# 복합연산자\n",
    "a = 1\n",
    "\n",
    "a = a + 1 #a +=1\n",
    "print(a)\n",
    "a = a + 1\n",
    "print(a)\n",
    "a = a + 1\n",
    "print(a)"
   ]
  },
  {
   "cell_type": "code",
   "execution_count": 16,
   "id": "d14ff258-2edd-4623-98ce-d9ee093bd850",
   "metadata": {},
   "outputs": [
    {
     "name": "stdout",
     "output_type": "stream",
     "text": [
      "5\n",
      "6\n",
      "7\n",
      "8\n"
     ]
    }
   ],
   "source": [
    "a +=1\n",
    "print(a)\n",
    "a +=1\n",
    "print(a)\n",
    "a +=1\n",
    "print(a)\n",
    "a +=1\n",
    "print(a)"
   ]
  },
  {
   "cell_type": "code",
   "execution_count": 17,
   "id": "1196e514-91ba-4fe9-9cf7-c2e259514663",
   "metadata": {},
   "outputs": [
    {
     "name": "stdout",
     "output_type": "stream",
     "text": [
      "0\n",
      "-1\n",
      "-2\n"
     ]
    }
   ],
   "source": [
    "# 복합연산자\n",
    "a = 1\n",
    "\n",
    "a = a - 1 #a -=1\n",
    "print(a)\n",
    "a = a - 1\n",
    "print(a)\n",
    "a = a - 1\n",
    "print(a)"
   ]
  },
  {
   "cell_type": "markdown",
   "id": "1055a767-7bcb-4c4e-b44e-fe74d86733de",
   "metadata": {},
   "source": [
    "## 문자열 자료형"
   ]
  },
  {
   "cell_type": "markdown",
   "id": "f11def79-37a1-462c-ac57-1205b8b47613",
   "metadata": {},
   "source": [
    "### 문자열 연산하기"
   ]
  },
  {
   "cell_type": "code",
   "execution_count": 53,
   "id": "69525e7a-bcab-4894-abe1-bc5f90cf43c5",
   "metadata": {},
   "outputs": [
    {
     "name": "stdout",
     "output_type": "stream",
     "text": [
      "\n",
      "여러줄\n",
      " \n",
      "여러줄\n",
      "\n"
     ]
    }
   ],
   "source": [
    "str1 = '''\n",
    "여러줄\n",
    "'''\n",
    "\n",
    "str2 = \"\"\"\n",
    "여러줄\n",
    "\"\"\"\n",
    "\n",
    "print(str1, str2)"
   ]
  },
  {
   "cell_type": "code",
   "execution_count": 54,
   "id": "6596d638-0078-4ea2-ae52-7ae7250fda22",
   "metadata": {},
   "outputs": [],
   "source": [
    "# food = \"Python's favorite food is perl\"\n",
    "food = 'Python\\'s \\'favorite\\' food is perl'"
   ]
  },
  {
   "cell_type": "code",
   "execution_count": 55,
   "id": "814cab59-32d8-465a-b3ae-6a4f89898e32",
   "metadata": {},
   "outputs": [
    {
     "name": "stdout",
     "output_type": "stream",
     "text": [
      "Python's 'favorite' food is perl\n"
     ]
    }
   ],
   "source": [
    "print(food)"
   ]
  },
  {
   "cell_type": "code",
   "execution_count": 56,
   "id": "9de06f6e-f91b-4152-aafa-c18d3191c63b",
   "metadata": {},
   "outputs": [],
   "source": [
    "ml = 'Life is too short\\nYou need python'"
   ]
  },
  {
   "cell_type": "code",
   "execution_count": 57,
   "id": "902909b9-3b74-4b0f-a7c8-64c6f9dab877",
   "metadata": {},
   "outputs": [
    {
     "name": "stdout",
     "output_type": "stream",
     "text": [
      "Life is too short\n",
      "You need python\n"
     ]
    }
   ],
   "source": [
    "print(ml)"
   ]
  },
  {
   "cell_type": "code",
   "execution_count": 58,
   "id": "c8b84eb8-4f79-402c-a912-32c0d2458245",
   "metadata": {},
   "outputs": [],
   "source": [
    "ml = '''\n",
    "Life is too short\n",
    "You need python\n",
    "'''"
   ]
  },
  {
   "cell_type": "code",
   "execution_count": 59,
   "id": "cb846063-9a80-4a00-8fe5-292f12e77159",
   "metadata": {},
   "outputs": [
    {
     "name": "stdout",
     "output_type": "stream",
     "text": [
      "\n",
      "Life is too short\n",
      "You need python\n",
      "\n"
     ]
    }
   ],
   "source": [
    "print(ml)"
   ]
  },
  {
   "cell_type": "code",
   "execution_count": 60,
   "id": "d298f53d-23ce-49dc-b501-9545ce02982f",
   "metadata": {},
   "outputs": [
    {
     "name": "stdout",
     "output_type": "stream",
     "text": [
      "python is fun!\n"
     ]
    }
   ],
   "source": [
    "# 문자열 연산하기\n",
    "head = 'python'\n",
    "tail = ' is fun!'\n",
    "\n",
    "print(head + tail)\n"
   ]
  },
  {
   "cell_type": "code",
   "execution_count": 61,
   "id": "1c0ce067-de50-4852-a083-1268f90e706a",
   "metadata": {},
   "outputs": [
    {
     "name": "stdout",
     "output_type": "stream",
     "text": [
      "python\n",
      "python\n",
      "python\n",
      "python\n",
      "python\n",
      "\n"
     ]
    }
   ],
   "source": [
    "a = 'python' + '\\n'\n",
    "\n",
    "print(a * 5)"
   ]
  },
  {
   "cell_type": "code",
   "execution_count": 62,
   "id": "19a53339-81e3-49ef-b203-55e80ea900da",
   "metadata": {},
   "outputs": [
    {
     "name": "stdout",
     "output_type": "stream",
     "text": [
      "아메리카노: 16500원\n",
      "라떼: 7200원\n",
      "허브티: 12000원\n",
      "\n",
      "================\n",
      "     영수증\n",
      "================\n",
      "아메리카노: 16500원\n",
      "라떼: 7200원\n",
      "허브티: 12000원\n",
      "================\n"
     ]
    }
   ],
   "source": [
    "p1 = 5500 * 3\n",
    "p2 = 7200\n",
    "p3 = 6000 * 2\n",
    "\n",
    "m1 = '아메리카노: ' + str(p1) +'원\\n'\n",
    "m2 = '라떼: ' + str(p2) + '원\\n'\n",
    "m3 = '허브티: ' + str(p3) + '원\\n'\n",
    "\n",
    "print(m1+m2+m3)\n",
    "\n",
    "print('=' * 16 + '\\n' + '     ' + '영수증' + '\\n'+ '=' * 16 + '\\n' + m1 + m2 + m3 + '=' * 16)"
   ]
  },
  {
   "cell_type": "code",
   "execution_count": 63,
   "id": "2f84b452-2aad-4495-959c-249b047f4735",
   "metadata": {},
   "outputs": [
    {
     "name": "stdout",
     "output_type": "stream",
     "text": [
      "<class 'type'>\n"
     ]
    }
   ],
   "source": [
    "print(type(str))"
   ]
  },
  {
   "cell_type": "markdown",
   "id": "fbc45c3b-66bc-4476-b830-afce7415d579",
   "metadata": {},
   "source": [
    "### 문자열 인덱싱과 슬라이싱"
   ]
  },
  {
   "cell_type": "code",
   "execution_count": 64,
   "id": "9a4bdcb1-3d00-470c-bc07-ba584389a4f5",
   "metadata": {},
   "outputs": [
    {
     "ename": "TypeError",
     "evalue": "object of type 'int' has no len()",
     "output_type": "error",
     "traceback": [
      "\u001b[1;31m---------------------------------------------------------------------------\u001b[0m",
      "\u001b[1;31mTypeError\u001b[0m                                 Traceback (most recent call last)",
      "Cell \u001b[1;32mIn[64], line 1\u001b[0m\n\u001b[1;32m----> 1\u001b[0m \u001b[38;5;28mprint\u001b[39m(\u001b[38;5;28;43mlen\u001b[39;49m\u001b[43m(\u001b[49m\u001b[43mp1\u001b[49m\u001b[43m)\u001b[49m)\n",
      "\u001b[1;31mTypeError\u001b[0m: object of type 'int' has no len()"
     ]
    }
   ],
   "source": [
    "print(len(p1))"
   ]
  },
  {
   "cell_type": "code",
   "execution_count": null,
   "id": "2dcb020d-652f-4780-9862-86e2f86b682d",
   "metadata": {},
   "outputs": [],
   "source": [
    "print(len(m1))"
   ]
  },
  {
   "cell_type": "code",
   "execution_count": null,
   "id": "07116041-ff09-4fac-a637-6a15801edd1b",
   "metadata": {},
   "outputs": [],
   "source": [
    "a = 'Life is too short'\n",
    "\n",
    "len(a)"
   ]
  },
  {
   "cell_type": "code",
   "execution_count": null,
   "id": "61c9823b-8437-418c-b4c4-01f164d3b7d5",
   "metadata": {},
   "outputs": [],
   "source": [
    "a"
   ]
  },
  {
   "cell_type": "code",
   "execution_count": null,
   "id": "a12c8efc-9057-4a2b-94f3-ea17524f97f1",
   "metadata": {},
   "outputs": [],
   "source": [
    "a[10]"
   ]
  },
  {
   "cell_type": "code",
   "execution_count": null,
   "id": "668839bf-8f04-4422-9608-816e95a139ed",
   "metadata": {},
   "outputs": [],
   "source": [
    "a[9]"
   ]
  },
  {
   "cell_type": "code",
   "execution_count": null,
   "id": "ff81da1e-274a-4118-ae97-68f3b2523eaf",
   "metadata": {},
   "outputs": [],
   "source": [
    "a[8]"
   ]
  },
  {
   "cell_type": "code",
   "execution_count": null,
   "id": "32039efa-4394-402f-b5ce-5a82e2b87d33",
   "metadata": {},
   "outputs": [],
   "source": [
    "print(a[8],a[9],a[10])"
   ]
  },
  {
   "cell_type": "code",
   "execution_count": null,
   "id": "3bad08db-b188-4fc8-9651-77350475113e",
   "metadata": {},
   "outputs": [],
   "source": [
    "print(a[-1],a[-2])"
   ]
  },
  {
   "cell_type": "code",
   "execution_count": 74,
   "id": "4eecbbff-07e5-476d-9cc0-8214c46c6acd",
   "metadata": {},
   "outputs": [
    {
     "name": "stdout",
     "output_type": "stream",
     "text": [
      "need\n",
      "Life is too short, You need\n",
      "Python\n",
      "nohtyP deen uoY ,trohs oot si efiL\n"
     ]
    }
   ],
   "source": [
    "a = \"Life is too short, You need Python\"\n",
    "\n",
    "print(a[-11:-7])\n",
    "print(a[:27])\n",
    "print(a[28:])\n",
    "print(a[::-1])"
   ]
  },
  {
   "cell_type": "code",
   "execution_count": 77,
   "id": "1d28c255-08c2-4428-a55f-b051b9f61f34",
   "metadata": {},
   "outputs": [
    {
     "name": "stdout",
     "output_type": "stream",
     "text": [
      "2025020\n",
      "오늘 화창함\n"
     ]
    }
   ],
   "source": [
    "today = '20250203 오늘 화창함'\n",
    "\n",
    "date = today[:7]\n",
    "글자 = today[9:]\n",
    "\n",
    "print(date + '\\n' + 글자)"
   ]
  },
  {
   "cell_type": "code",
   "execution_count": 83,
   "id": "423821ba-03de-4ff7-b296-7d51236eccc3",
   "metadata": {},
   "outputs": [
    {
     "name": "stdout",
     "output_type": "stream",
     "text": [
      "2025년 02월 03일 오늘 화창함!\n"
     ]
    }
   ],
   "source": [
    "year = today[:4] + '년 '\n",
    "month = today[4:6] + '월 '\n",
    "day = today[6:8] + '일 '\n",
    "\n",
    "print(year + month + day + 글자 + '!')"
   ]
  },
  {
   "cell_type": "code",
   "execution_count": 3,
   "id": "be176bfc-4814-4b10-bb2d-b89c293aff80",
   "metadata": {},
   "outputs": [
    {
     "name": "stdout",
     "output_type": "stream",
     "text": [
      "한국서 돈벌고 '나 몰라라' 코스트코… 연회비 인상률은 미국의 2배\n",
      "한국서 돈벌고 '나 몰라라' 코스트코… 연회비 인상률은 미국의 7배\n"
     ]
    }
   ],
   "source": [
    "import requests\n",
    "url = 'https://v.daum.net/v/20250203151815463'\n",
    "res = requests.get(url)\n",
    "print(res.text[374:411])\n",
    "title = res.text[374:411]\n",
    "title = title[:35] + '%d' + title[36:]\n",
    "print(title %7)"
   ]
  },
  {
   "cell_type": "code",
   "execution_count": 138,
   "id": "c77dd980-5c10-4594-a56e-e64e9300bd5c",
   "metadata": {},
   "outputs": [
    {
     "name": "stdout",
     "output_type": "stream",
     "text": [
      "뿌요의 톡쏘는 일상 : 네이버 블로그\n",
      "희성의 톡쏘는 일상 : 네이버 블로그\n"
     ]
    }
   ],
   "source": [
    "import requests\n",
    "url = 'https://blog.naver.com/droad777' \n",
    "res = requests.get(url).text\n",
    "print(res[895:915])\n",
    "title = res[895:915]\n",
    "print('희성' + title[2:])"
   ]
  },
  {
   "cell_type": "markdown",
   "id": "0a3ed2af-d9ab-4f40-86a8-a1669d30235c",
   "metadata": {},
   "source": [
    "### 문자열 포매팅"
   ]
  },
  {
   "cell_type": "code",
   "execution_count": 4,
   "id": "976b2f66-62d4-4830-8836-831721502b72",
   "metadata": {},
   "outputs": [
    {
     "name": "stdout",
     "output_type": "stream",
     "text": [
      "I eat 3 apples.\n",
      "I eat 17 apples.\n",
      "I eat five apples.\n"
     ]
    }
   ],
   "source": [
    "print('I eat 3 apples.')\n",
    "print('I eat %d apples.' %17)\n",
    "print('I eat %s apples.' %\"five\")"
   ]
  },
  {
   "cell_type": "code",
   "execution_count": 5,
   "id": "280155bb-bffe-4b6b-a30c-45a7befc4a00",
   "metadata": {},
   "outputs": [
    {
     "ename": "ValueError",
     "evalue": "incomplete format",
     "output_type": "error",
     "traceback": [
      "\u001b[1;31m---------------------------------------------------------------------------\u001b[0m",
      "\u001b[1;31mValueError\u001b[0m                                Traceback (most recent call last)",
      "Cell \u001b[1;32mIn[5], line 1\u001b[0m\n\u001b[1;32m----> 1\u001b[0m \u001b[38;5;28mprint\u001b[39m(\u001b[38;5;124;43m\"\u001b[39;49m\u001b[38;5;124;43mError is \u001b[39;49m\u001b[38;5;132;43;01m%d\u001b[39;49;00m\u001b[38;5;124;43m%\u001b[39;49m\u001b[38;5;124;43m\"\u001b[39;49m\u001b[43m \u001b[49m\u001b[38;5;241;43m%\u001b[39;49m\u001b[38;5;241;43m90\u001b[39;49m)\n",
      "\u001b[1;31mValueError\u001b[0m: incomplete format"
     ]
    }
   ],
   "source": [
    "print(\"Error is %d%\" %90)"
   ]
  },
  {
   "cell_type": "code",
   "execution_count": 6,
   "id": "443f1e5c-c874-4eb2-bc7d-e65743302779",
   "metadata": {},
   "outputs": [
    {
     "name": "stdout",
     "output_type": "stream",
     "text": [
      "Error is 90%\n"
     ]
    }
   ],
   "source": [
    "print(\"Error is %d%%\" %90)"
   ]
  },
  {
   "cell_type": "code",
   "execution_count": 16,
   "id": "e95dd99a-98af-4172-8376-35160077c29a",
   "metadata": {},
   "outputs": [
    {
     "name": "stdout",
     "output_type": "stream",
     "text": [
      "십진수 123은 16진수로 7b이다.\n",
      "십진수 123은 8진수로 173이다.\n"
     ]
    }
   ],
   "source": [
    "print(\"십진수 %d은 16진수로 %x이다.\" %(123,123))\n",
    "print(\"십진수 %d은 8진수로 %o이다.\" %(123,123))"
   ]
  },
  {
   "cell_type": "code",
   "execution_count": 18,
   "id": "563dc99e-cce1-40c0-8a33-3e996525db69",
   "metadata": {},
   "outputs": [
    {
     "name": "stdout",
     "output_type": "stream",
     "text": [
      "십진수 123은 16진수로 7b이고, 8진수로 173이다.\n"
     ]
    }
   ],
   "source": [
    "print(\"십진수 123은 16진수로 %x이고, 8진수로 %o이다.\" %(123,123))"
   ]
  },
  {
   "cell_type": "code",
   "execution_count": 20,
   "id": "0985e0b6-72d4-4cc4-8daf-4633835d717b",
   "metadata": {},
   "outputs": [
    {
     "name": "stdout",
     "output_type": "stream",
     "text": [
      "        hi\n"
     ]
    }
   ],
   "source": [
    "print(\"%10s\" %\"hi\")"
   ]
  },
  {
   "cell_type": "code",
   "execution_count": 22,
   "id": "0beb388d-566c-4e38-badc-52a1670103e8",
   "metadata": {},
   "outputs": [
    {
     "name": "stdout",
     "output_type": "stream",
     "text": [
      "hi        Jane\n"
     ]
    }
   ],
   "source": [
    "print(\"%-10sJane\" %\"hi\")"
   ]
  },
  {
   "cell_type": "code",
   "execution_count": 30,
   "id": "03475a1e-383f-4954-97c1-791590b71461",
   "metadata": {},
   "outputs": [
    {
     "name": "stdout",
     "output_type": "stream",
     "text": [
      "3.14\n",
      "       3.14\n",
      "3.14       \n"
     ]
    }
   ],
   "source": [
    "print(\"%.2f\" %3.141592)\n",
    "print(\"%11.2f\" %3.141592)\n",
    "print(\"%-11.2f\" %3.141592)"
   ]
  },
  {
   "cell_type": "markdown",
   "id": "13de3274-9094-4545-bff5-d4d0c01dc79e",
   "metadata": {},
   "source": [
    "### format 함수를 사용한 포매팅"
   ]
  },
  {
   "cell_type": "code",
   "execution_count": 36,
   "id": "5a208a39-9ba6-438e-9f42-9db8efd04a66",
   "metadata": {},
   "outputs": [
    {
     "name": "stdout",
     "output_type": "stream",
     "text": [
      "<class 'str'>\n"
     ]
    }
   ],
   "source": [
    "print(type(\"I eat {0} of {1} apples.\".format(3,10)))"
   ]
  },
  {
   "cell_type": "code",
   "execution_count": 35,
   "id": "057fbe3b-4545-4090-a071-e21acc35663e",
   "metadata": {},
   "outputs": [
    {
     "name": "stdout",
     "output_type": "stream",
     "text": [
      "I eat three of 10 apples.\n"
     ]
    }
   ],
   "source": [
    "total = 10\n",
    "ea = \"three\"\n",
    "print(\"I eat {0} of {1} apples.\".format(ea, total))"
   ]
  },
  {
   "cell_type": "code",
   "execution_count": 37,
   "id": "837095ba-b007-49e1-8103-475f293753fb",
   "metadata": {},
   "outputs": [
    {
     "name": "stdout",
     "output_type": "stream",
     "text": [
      "I eat 3 of 10 apples.\n"
     ]
    }
   ],
   "source": [
    "print(\"I eat {ea} of {total} apples.\".format(ea = 3, total = 10))"
   ]
  },
  {
   "cell_type": "code",
   "execution_count": 38,
   "id": "c080e5c8-7e69-471b-a8b6-73084afb9e2c",
   "metadata": {},
   "outputs": [
    {
     "name": "stdout",
     "output_type": "stream",
     "text": [
      "I ate 10 apples. so I was sick for 3 days.\n"
     ]
    }
   ],
   "source": [
    "print(\"I ate {0} apples. so I was sick for {days} days.\".format(10, days = 3))"
   ]
  },
  {
   "cell_type": "code",
   "execution_count": 44,
   "id": "06281248-aa4c-41c3-a67d-82c288edf506",
   "metadata": {},
   "outputs": [
    {
     "name": "stdout",
     "output_type": "stream",
     "text": [
      "        hi\n",
      "hi        \n",
      "    hi    \n"
     ]
    }
   ],
   "source": [
    "print(\"{0:>10}\".format(\"hi\"))\n",
    "print(\"{0:<10}\".format(\"hi\"))\n",
    "print(\"{0:^10}\".format(\"hi\"))"
   ]
  },
  {
   "cell_type": "code",
   "execution_count": 45,
   "id": "94ec7db3-7beb-4352-9dd2-54b1a8c625a6",
   "metadata": {},
   "outputs": [
    {
     "name": "stdout",
     "output_type": "stream",
     "text": [
      "****hi****\n"
     ]
    }
   ],
   "source": [
    "print(\"{0:*^10}\".format(\"hi\"))"
   ]
  },
  {
   "cell_type": "code",
   "execution_count": 51,
   "id": "b8729660-c9dc-4ffc-80d1-4fb86a859a12",
   "metadata": {},
   "outputs": [
    {
     "name": "stdout",
     "output_type": "stream",
     "text": [
      "3.1416\n",
      "    3.1416\n",
      "3.1416    \n"
     ]
    }
   ],
   "source": [
    "pi = 3.141592\n",
    "print(\"{0:0.4f}\".format(pi))\n",
    "print(\"{0:10.4f}\".format(pi))\n",
    "print(\"{0:<10.4f}\".format(pi))"
   ]
  },
  {
   "cell_type": "code",
   "execution_count": 52,
   "id": "65b78420-bc71-41dd-98c4-80f9eb38c024",
   "metadata": {},
   "outputs": [
    {
     "name": "stdout",
     "output_type": "stream",
     "text": [
      "중괄호는 { 과 } 입니다.\n"
     ]
    }
   ],
   "source": [
    "print(\"{0}는 {{ 과 }} 입니다.\".format(\"중괄호\"))"
   ]
  },
  {
   "cell_type": "code",
   "execution_count": 59,
   "id": "fcecae74-f1f4-4edf-929d-7eb0c343e2da",
   "metadata": {},
   "outputs": [
    {
     "name": "stdout",
     "output_type": "stream",
     "text": [
      "7b\n",
      "01111011\n",
      "173\n"
     ]
    }
   ],
   "source": [
    "print(\"{0:x}\".format(123))\n",
    "print(\"{0:0>8b}\".format(123))\n",
    "print(\"{0:o}\".format(123))"
   ]
  },
  {
   "cell_type": "markdown",
   "id": "12d652da-ec90-4a3d-b685-51472a975e88",
   "metadata": {},
   "source": [
    "### f문자열 포매팅"
   ]
  },
  {
   "cell_type": "code",
   "execution_count": 61,
   "id": "110a705e-ec86-40df-b86b-38c3674cbc67",
   "metadata": {},
   "outputs": [
    {
     "name": "stdout",
     "output_type": "stream",
     "text": [
      "제 이름은 정희성이고, 나이는 27입니다\n",
      "내년에는 28살 됨\n"
     ]
    }
   ],
   "source": [
    "name = \"정희성\"\n",
    "age = 27\n",
    "\n",
    "print(f\"제 이름은 {name}이고, 나이는 {age}입니다\")\n",
    "print(f\"내년에는 {age + 1 }살 됨\")"
   ]
  },
  {
   "cell_type": "code",
   "execution_count": 67,
   "id": "67d83f08-c098-4484-83c0-ad6168432da5",
   "metadata": {},
   "outputs": [
    {
     "name": "stdout",
     "output_type": "stream",
     "text": [
      "제 이름은 정희성이고, 나이는 27입니다. 성별은 male입니동\n"
     ]
    }
   ],
   "source": [
    "d = {'name':\"정희성\",'age':27,'gen':'male'}\n",
    "print(f\"제 이름은 {d['name']}이고, 나이는 {d['age']}입니다. 성별은 {d['gen']}입니동\")"
   ]
  },
  {
   "cell_type": "code",
   "execution_count": 74,
   "id": "2f8c5e54-7b3d-499a-aef4-65e8934f4663",
   "metadata": {},
   "outputs": [
    {
     "name": "stdout",
     "output_type": "stream",
     "text": [
      "hi        \n",
      "        hi\n",
      "    hi    \n",
      "ㅋㅋㅋㅋhiㅋㅋㅋㅋ\n"
     ]
    }
   ],
   "source": [
    "print(f\"{\"hi\":<10}\")\n",
    "print(f\"{\"hi\":>10}\")\n",
    "print(f\"{\"hi\":^10}\")\n",
    "print(f\"{\"hi\":ㅋ^10}\")"
   ]
  },
  {
   "cell_type": "code",
   "execution_count": 79,
   "id": "205c2766-09b2-4c23-9760-90392ac63d48",
   "metadata": {},
   "outputs": [
    {
     "name": "stdout",
     "output_type": "stream",
     "text": [
      "3.1416\n",
      "    3.1416\n"
     ]
    }
   ],
   "source": [
    "y = 3.141592\n",
    "\n",
    "print(f\"{y:.4f}\")\n",
    "print(f\"{y:10.4f}\")"
   ]
  },
  {
   "cell_type": "code",
   "execution_count": 84,
   "id": "f2689ea7-4766-4baf-bc30-9d9b190f07c6",
   "metadata": {},
   "outputs": [
    {
     "name": "stdout",
     "output_type": "stream",
     "text": [
      "!!!python!!!\n",
      "!!!python!!!\n"
     ]
    }
   ],
   "source": [
    "# !!!python!!! 출력\n",
    "print(f\"{'python':!^12}\")\n",
    "print(\"{0:!^12}\".format(\"python\"))"
   ]
  },
  {
   "cell_type": "markdown",
   "id": "522af4fa-14bb-4866-915d-656ab5cb651c",
   "metadata": {},
   "source": [
    "### 문자열 관련 함수들"
   ]
  },
  {
   "cell_type": "code",
   "execution_count": 85,
   "id": "944cfd8f-be0d-4b63-b2cb-29fd3512028b",
   "metadata": {},
   "outputs": [
    {
     "name": "stdout",
     "output_type": "stream",
     "text": [
      "Collecting jedi-language-serverNote: you may need to restart the kernel to use updated packages.\n",
      "\n",
      "  Downloading jedi_language_server-0.43.1-py3-none-any.whl.metadata (19 kB)\n",
      "Collecting cattrs>=23.1.2 (from jedi-language-server)\n",
      "  Downloading cattrs-24.1.2-py3-none-any.whl.metadata (8.4 kB)\n",
      "Collecting docstring-to-markdown==0.* (from jedi-language-server)\n",
      "  Downloading docstring_to_markdown-0.15-py3-none-any.whl.metadata (2.0 kB)\n",
      "Requirement already satisfied: jedi<0.20.0,>=0.19.2 in c:\\users\\admin\\appdata\\local\\programs\\python\\python313\\lib\\site-packages (from jedi-language-server) (0.19.2)\n",
      "Collecting lsprotocol>=2023.0.1 (from jedi-language-server)\n",
      "  Downloading lsprotocol-2023.0.1-py3-none-any.whl.metadata (2.2 kB)\n",
      "Collecting pygls<2.0.0,>=1.1.0 (from jedi-language-server)\n",
      "  Downloading pygls-1.3.1-py3-none-any.whl.metadata (4.7 kB)\n",
      "Requirement already satisfied: attrs>=23.1.0 in c:\\users\\admin\\appdata\\local\\programs\\python\\python313\\lib\\site-packages (from cattrs>=23.1.2->jedi-language-server) (25.1.0)\n",
      "Requirement already satisfied: parso<0.9.0,>=0.8.4 in c:\\users\\admin\\appdata\\local\\programs\\python\\python313\\lib\\site-packages (from jedi<0.20.0,>=0.19.2->jedi-language-server) (0.8.4)\n",
      "Downloading jedi_language_server-0.43.1-py3-none-any.whl (27 kB)\n",
      "Downloading docstring_to_markdown-0.15-py3-none-any.whl (21 kB)\n",
      "Downloading cattrs-24.1.2-py3-none-any.whl (66 kB)\n",
      "Downloading lsprotocol-2023.0.1-py3-none-any.whl (70 kB)\n",
      "Downloading pygls-1.3.1-py3-none-any.whl (56 kB)\n",
      "Installing collected packages: docstring-to-markdown, cattrs, lsprotocol, pygls, jedi-language-server\n",
      "Successfully installed cattrs-24.1.2 docstring-to-markdown-0.15 jedi-language-server-0.43.1 lsprotocol-2023.0.1 pygls-1.3.1\n"
     ]
    },
    {
     "name": "stderr",
     "output_type": "stream",
     "text": [
      "\n",
      "[notice] A new release of pip is available: 24.3.1 -> 25.0\n",
      "[notice] To update, run: python.exe -m pip install --upgrade pip\n"
     ]
    }
   ],
   "source": []
  },
  {
   "cell_type": "code",
   "execution_count": 86,
   "id": "07d64b6b-0dd8-4a02-8bad-baba75607313",
   "metadata": {},
   "outputs": [
    {
     "data": {
      "text/plain": [
       "2"
      ]
     },
     "execution_count": 86,
     "metadata": {},
     "output_type": "execute_result"
    }
   ],
   "source": [
    "a = \"hobby\"\n",
    "a.count('b')"
   ]
  },
  {
   "cell_type": "code",
   "execution_count": 88,
   "id": "300126d5-abd7-458d-9805-b279fb5e131b",
   "metadata": {},
   "outputs": [
    {
     "data": {
      "text/plain": [
       "-1"
      ]
     },
     "execution_count": 88,
     "metadata": {},
     "output_type": "execute_result"
    }
   ],
   "source": [
    "import requests\n",
    "url = 'https://www.melon.com/chart/index.htm'\n",
    "res = requests.get(url).text\n",
    "res.find('황가람')"
   ]
  },
  {
   "cell_type": "code",
   "execution_count": 89,
   "id": "8a2266e1-cdd2-41e9-b316-9ab6d0d55326",
   "metadata": {},
   "outputs": [
    {
     "name": "stdout",
     "output_type": "stream",
     "text": [
      "Requirement already satisfied: jedi-language-server in c:\\users\\admin\\appdata\\local\\programs\\python\\python313\\lib\\site-packages (0.43.1)\n",
      "Requirement already satisfied: cattrs>=23.1.2 in c:\\users\\admin\\appdata\\local\\programs\\python\\python313\\lib\\site-packages (from jedi-language-server) (24.1.2)\n",
      "Requirement already satisfied: docstring-to-markdown==0.* in c:\\users\\admin\\appdata\\local\\programs\\python\\python313\\lib\\site-packages (from jedi-language-server) (0.15)\n",
      "Requirement already satisfied: jedi<0.20.0,>=0.19.2 in c:\\users\\admin\\appdata\\local\\programs\\python\\python313\\lib\\site-packages (from jedi-language-server) (0.19.2)\n",
      "Requirement already satisfied: lsprotocol>=2023.0.1 in c:\\users\\admin\\appdata\\local\\programs\\python\\python313\\lib\\site-packages (from jedi-language-server) (2023.0.1)\n",
      "Requirement already satisfied: pygls<2.0.0,>=1.1.0 in c:\\users\\admin\\appdata\\local\\programs\\python\\python313\\lib\\site-packages (from jedi-language-server) (1.3.1)\n",
      "Requirement already satisfied: attrs>=23.1.0 in c:\\users\\admin\\appdata\\local\\programs\\python\\python313\\lib\\site-packages (from cattrs>=23.1.2->jedi-language-server) (25.1.0)\n",
      "Requirement already satisfied: parso<0.9.0,>=0.8.4 in c:\\users\\admin\\appdata\\local\\programs\\python\\python313\\lib\\site-packages (from jedi<0.20.0,>=0.19.2->jedi-language-server) (0.8.4)\n",
      "Note: you may need to restart the kernel to use updated packages.\n"
     ]
    },
    {
     "name": "stderr",
     "output_type": "stream",
     "text": [
      "\n",
      "[notice] A new release of pip is available: 24.3.1 -> 25.0\n",
      "[notice] To update, run: python.exe -m pip install --upgrade pip\n"
     ]
    }
   ],
   "source": [
    "pip install -U jedi-language-server"
   ]
  },
  {
   "cell_type": "code",
   "execution_count": 100,
   "id": "1a34484a-b2f6-4876-9adb-b28f9ffe4d58",
   "metadata": {},
   "outputs": [
    {
     "name": "stdout",
     "output_type": "stream",
     "text": [
      "toxic till the end\n"
     ]
    }
   ],
   "source": [
    "import requests\n",
    "url = 'https://music.apple.com/kr/playlist/%EC%98%A4%EB%8A%98%EC%9D%98-top-100-%EB%8C%80%ED%95%9C%EB%AF%BC%EA%B5%AD/pl.d3d10c32fbc540b38e266367dc8cb00c' \n",
    "res = requests.get(url)\n",
    "# print(res.text.find('toxic till the end'))\n",
    "result = res.text[41529:41547]\n",
    "print(result)"
   ]
  },
  {
   "cell_type": "code",
   "execution_count": 103,
   "id": "80f10563-b077-489f-b91a-3e58111100f9",
   "metadata": {},
   "outputs": [
    {
     "name": "stdout",
     "output_type": "stream",
     "text": [
      "a,b,c,d,e,f,g\n"
     ]
    }
   ],
   "source": [
    "print(\",\".join('abcdefg'))"
   ]
  },
  {
   "cell_type": "code",
   "execution_count": 105,
   "id": "4f883780-2cf7-4417-851a-d29cea5a9b9c",
   "metadata": {},
   "outputs": [
    {
     "name": "stdout",
     "output_type": "stream",
     "text": [
      "a*b*c*d\n"
     ]
    }
   ],
   "source": [
    "print(\"*\".join(['a','b','c','d']))"
   ]
  },
  {
   "cell_type": "code",
   "execution_count": 110,
   "id": "1c2895ad-da7c-4267-bf9a-1685e8c9f1a0",
   "metadata": {},
   "outputs": [
    {
     "data": {
      "text/plain": [
       "'     HI      '"
      ]
     },
     "execution_count": 110,
     "metadata": {},
     "output_type": "execute_result"
    }
   ],
   "source": [
    "a = \"     Hi      \"\n",
    "\n",
    "a.upper()"
   ]
  },
  {
   "cell_type": "code",
   "execution_count": 107,
   "id": "ee99d5f5-2c77-4039-a6e3-39caaac1e6ab",
   "metadata": {},
   "outputs": [
    {
     "data": {
      "text/plain": [
       "'hi'"
      ]
     },
     "execution_count": 107,
     "metadata": {},
     "output_type": "execute_result"
    }
   ],
   "source": [
    "a.lower()"
   ]
  },
  {
   "cell_type": "code",
   "execution_count": 109,
   "id": "427f0b66-fbfc-489c-8e90-180e44e47343",
   "metadata": {},
   "outputs": [
    {
     "name": "stdout",
     "output_type": "stream",
     "text": [
      "Life is Egg LIFE IS EGG life is egg\n"
     ]
    }
   ],
   "source": [
    "v = \"Life is Egg\"\n",
    "\n",
    "UpperC = v.upper()\n",
    "LowerC = v.lower()\n",
    "\n",
    "print(v, UpperC, LowerC)"
   ]
  },
  {
   "cell_type": "code",
   "execution_count": 114,
   "id": "f637c2ff-3e46-4baf-92c7-f08454b6f08f",
   "metadata": {},
   "outputs": [
    {
     "name": "stdout",
     "output_type": "stream",
     "text": [
      "Hi      \n",
      "     Hi\n",
      "Hi\n"
     ]
    }
   ],
   "source": [
    "print(a.lstrip())\n",
    "print(a.rstrip())\n",
    "print(a.strip())"
   ]
  },
  {
   "cell_type": "code",
   "execution_count": 115,
   "id": "e49f6f1f-2597-4987-9ee3-08e4f962b773",
   "metadata": {},
   "outputs": [
    {
     "name": "stdout",
     "output_type": "stream",
     "text": [
      "Life is beautiful\n"
     ]
    }
   ],
   "source": [
    "print(v.replace(\"Egg\",\"beautiful\"))"
   ]
  },
  {
   "cell_type": "code",
   "execution_count": 121,
   "id": "433d2e54-e651-4bff-b21a-2706100e5bf5",
   "metadata": {},
   "outputs": [
    {
     "name": "stdout",
     "output_type": "stream",
     "text": [
      "         hi         \n",
      " hi\n",
      " hi         \n",
      "          hi\n"
     ]
    }
   ],
   "source": [
    "f = f\"{\"hi\":^20}\" + '\\n'\n",
    "f1 = f.strip() + '\\n'\n",
    "f2 = f.lstrip()\n",
    "f3 = f.rstrip()\n",
    "print(f, f1, f2, f3)"
   ]
  },
  {
   "cell_type": "code",
   "execution_count": 128,
   "id": "2bee153b-cfce-49b7-b40a-9e3be73f011a",
   "metadata": {},
   "outputs": [
    {
     "name": "stdout",
     "output_type": "stream",
     "text": [
      "['Life', 'is', 'Egg']\n",
      "Life is Egg\n"
     ]
    }
   ],
   "source": [
    "arr = v.split()\n",
    "print(arr)\n",
    "\n",
    "arr1 = \" \".join(arr)\n",
    "print(arr1)"
   ]
  },
  {
   "cell_type": "code",
   "execution_count": 134,
   "id": "fa02ea9d-3861-4afc-9056-c21d985c38e3",
   "metadata": {},
   "outputs": [
    {
     "name": "stdout",
     "output_type": "stream",
     "text": [
      "a=b=c=d=q=w=e=t=y\n",
      "['a', 'b', 'c', 'd', 'q', 'w', 'e', 't', 'y']\n",
      "abcdqwety\n"
     ]
    }
   ],
   "source": [
    "ex = \"abcdqwety\"\n",
    "ex_join = \"=\".join(ex)\n",
    "print(ex_join)\n",
    "\n",
    "ex_split = ex_join.split(\"=\")\n",
    "print(ex_split)\n",
    "\n",
    "ex_replace = ex_join.replace(\"=\",\"\")\n",
    "print(ex_replace)"
   ]
  },
  {
   "cell_type": "code",
   "execution_count": null,
   "id": "fb2f751b-c2b5-4348-95cb-cccd575dec03",
   "metadata": {},
   "outputs": [],
   "source": []
  }
 ],
 "metadata": {
  "kernelspec": {
   "display_name": "Python 3 (ipykernel)",
   "language": "python",
   "name": "python3"
  },
  "language_info": {
   "codemirror_mode": {
    "name": "ipython",
    "version": 3
   },
   "file_extension": ".py",
   "mimetype": "text/x-python",
   "name": "python",
   "nbconvert_exporter": "python",
   "pygments_lexer": "ipython3",
   "version": "3.13.1"
  }
 },
 "nbformat": 4,
 "nbformat_minor": 5
}
