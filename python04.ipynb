{
 "cells": [
  {
   "cell_type": "markdown",
   "id": "aff4707b-c5f4-4493-a8a1-589b0a254601",
   "metadata": {},
   "source": [
    "# 함수"
   ]
  },
  {
   "cell_type": "code",
   "execution_count": 1,
   "id": "5e8c2234-f4c0-4f52-8055-2f852a789281",
   "metadata": {},
   "outputs": [],
   "source": [
    "def 덧셈(a, b):\n",
    "    return a + b\n"
   ]
  },
  {
   "cell_type": "code",
   "execution_count": 2,
   "id": "7f1777ce-d9b1-4449-b32e-b9e0d77c3e53",
   "metadata": {},
   "outputs": [
    {
     "name": "stdout",
     "output_type": "stream",
     "text": [
      "7\n"
     ]
    }
   ],
   "source": [
    "c = 덧셈(3,4)\n",
    "print(c)"
   ]
  },
  {
   "cell_type": "code",
   "execution_count": 14,
   "id": "6e777829-cd66-4c8d-b17e-dd0b8fbb9354",
   "metadata": {},
   "outputs": [
    {
     "name": "stdout",
     "output_type": "stream",
     "text": [
      "2단\n",
      "2 * 1 = 2\n",
      "2 * 2 = 4\n",
      "2 * 3 = 6\n",
      "2 * 4 = 8\n",
      "2 * 5 = 10\n",
      "2 * 6 = 12\n",
      "2 * 7 = 14\n",
      "2 * 8 = 16\n",
      "2 * 9 = 18\n",
      "\n"
     ]
    }
   ],
   "source": [
    "def gugu(end):\n",
    "    data = ''\n",
    "    for i in range(2, end + 1):\n",
    "        print(f\"{i}단\")\n",
    "        for j in range(1, 10):\n",
    "            data += f\"{i} * {j} = {j * i}\\n\"\n",
    "    return data\n",
    "\n",
    "print(gugu(2))\n"
   ]
  },
  {
   "cell_type": "markdown",
   "id": "e4b5fc22-5dfa-4b32-b6b4-6bb94dcb655a",
   "metadata": {},
   "source": [
    "## "
   ]
  },
  {
   "cell_type": "markdown",
   "id": "1cee1fe2-7770-476d-a819-a82d3fe67cb9",
   "metadata": {},
   "source": [
    "### 일반적인 함수"
   ]
  },
  {
   "cell_type": "code",
   "execution_count": 4,
   "id": "27549d04-4185-4b5f-b34d-6df8f971c450",
   "metadata": {},
   "outputs": [
    {
     "data": {
      "text/plain": [
       "165"
      ]
     },
     "execution_count": 4,
     "metadata": {},
     "output_type": "execute_result"
    }
   ],
   "source": [
    "def add(a,b):\n",
    "    result =  a + b\n",
    "    return result\n",
    "\n",
    "add(77,88)"
   ]
  },
  {
   "cell_type": "code",
   "execution_count": 5,
   "id": "f60f0045-2d35-446a-aa00-d6509f577cd3",
   "metadata": {},
   "outputs": [
    {
     "data": {
      "text/plain": [
       "'hi'"
      ]
     },
     "execution_count": 5,
     "metadata": {},
     "output_type": "execute_result"
    }
   ],
   "source": [
    "def say():\n",
    "    return 'hi'\n",
    "\n",
    "say()"
   ]
  },
  {
   "cell_type": "code",
   "execution_count": 9,
   "id": "be5efd28-de86-42ac-9026-b9ba4adef18f",
   "metadata": {},
   "outputs": [
    {
     "name": "stdout",
     "output_type": "stream",
     "text": [
      "11,44의 합은 55 입니다\n"
     ]
    }
   ],
   "source": [
    "def add(a,b):\n",
    "    print(\"%d,%d의 합은 %d 입니다\" %(a,b,a+b))\n",
    "add(11,44)"
   ]
  },
  {
   "cell_type": "code",
   "execution_count": 20,
   "id": "67dd0dc7-cd93-4b73-aa0e-c6b86cbaa5e7",
   "metadata": {},
   "outputs": [
    {
     "name": "stdout",
     "output_type": "stream",
     "text": [
      "ㅂㅇ~          "
     ]
    }
   ],
   "source": [
    "import time\n",
    "def disp():\n",
    "    print(\"안녕~\\r\",end=\"\")\n",
    "    time.sleep(1)\n",
    "    print(\"입력x, 리턴 x\\r\",end=\"\")\n",
    "    time.sleep(1)\n",
    "    print(\"ㅂㅇ~          \",end=\"\")\n",
    "    time.sleep(1)\n",
    "\n",
    "disp()"
   ]
  },
  {
   "cell_type": "code",
   "execution_count": 26,
   "id": "e0fb22fa-3573-45b7-81ee-16d75067cccd",
   "metadata": {},
   "outputs": [],
   "source": [
    "def sub(a, b):\n",
    "    return a - b"
   ]
  },
  {
   "cell_type": "code",
   "execution_count": 28,
   "id": "e07f5c73-920d-4ca6-a3ae-57c64cc2f41e",
   "metadata": {},
   "outputs": [
    {
     "name": "stdout",
     "output_type": "stream",
     "text": [
      "4\n"
     ]
    }
   ],
   "source": [
    "result = sub(a=7, b=3)\n",
    "print(result)"
   ]
  },
  {
   "cell_type": "code",
   "execution_count": 34,
   "id": "f25142d1-4635-4a99-a73e-d9cfb870e654",
   "metadata": {},
   "outputs": [
    {
     "name": "stdout",
     "output_type": "stream",
     "text": [
      "Requirement already satisfied: matplotlib in c:\\users\\admin\\appdata\\local\\programs\\python\\python313\\lib\\site-packages (3.10.0)\n",
      "Requirement already satisfied: contourpy>=1.0.1 in c:\\users\\admin\\appdata\\local\\programs\\python\\python313\\lib\\site-packages (from matplotlib) (1.3.1)\n",
      "Requirement already satisfied: cycler>=0.10 in c:\\users\\admin\\appdata\\local\\programs\\python\\python313\\lib\\site-packages (from matplotlib) (0.12.1)\n",
      "Requirement already satisfied: fonttools>=4.22.0 in c:\\users\\admin\\appdata\\local\\programs\\python\\python313\\lib\\site-packages (from matplotlib) (4.56.0)\n",
      "Requirement already satisfied: kiwisolver>=1.3.1 in c:\\users\\admin\\appdata\\local\\programs\\python\\python313\\lib\\site-packages (from matplotlib) (1.4.8)\n",
      "Requirement already satisfied: numpy>=1.23 in c:\\users\\admin\\appdata\\local\\programs\\python\\python313\\lib\\site-packages (from matplotlib) (2.2.2)\n",
      "Requirement already satisfied: packaging>=20.0 in c:\\users\\admin\\appdata\\local\\programs\\python\\python313\\lib\\site-packages (from matplotlib) (24.2)\n",
      "Requirement already satisfied: pillow>=8 in c:\\users\\admin\\appdata\\local\\programs\\python\\python313\\lib\\site-packages (from matplotlib) (11.1.0)\n",
      "Requirement already satisfied: pyparsing>=2.3.1 in c:\\users\\admin\\appdata\\local\\programs\\python\\python313\\lib\\site-packages (from matplotlib) (3.2.1)\n",
      "Requirement already satisfied: python-dateutil>=2.7 in c:\\users\\admin\\appdata\\local\\programs\\python\\python313\\lib\\site-packages (from matplotlib) (2.9.0.post0)\n",
      "Requirement already satisfied: six>=1.5 in c:\\users\\admin\\appdata\\local\\programs\\python\\python313\\lib\\site-packages (from python-dateutil>=2.7->matplotlib) (1.17.0)\n"
     ]
    },
    {
     "name": "stderr",
     "output_type": "stream",
     "text": [
      "\n",
      "[notice] A new release of pip is available: 25.0 -> 25.0.1\n",
      "[notice] To update, run: python.exe -m pip install --upgrade pip\n"
     ]
    }
   ],
   "source": [
    "!pip install matplotlib"
   ]
  },
  {
   "cell_type": "code",
   "execution_count": 45,
   "id": "d41ac177-07b8-4ac3-9aeb-ec988dac4656",
   "metadata": {},
   "outputs": [
    {
     "name": "stdout",
     "output_type": "stream",
     "text": [
      "1의 갯수 : 16515\n",
      "1의 확률 : 16.52% \n",
      "\n",
      "2의 갯수 : 16605\n",
      "2의 확률 : 16.61% \n",
      "\n",
      "3의 갯수 : 16661\n",
      "3의 확률 : 16.66% \n",
      "\n",
      "4의 갯수 : 16788\n",
      "4의 확률 : 16.79% \n",
      "\n",
      "5의 갯수 : 16654\n",
      "5의 확률 : 16.65% \n",
      "\n",
      "6의 갯수 : 16777\n",
      "6의 확률 : 16.78% \n",
      "\n",
      "가장 많이 나온 숫자: 4\n"
     ]
    },
    {
     "data": {
      "image/png": "[encoded data removed]",
      "text/plain": [
       "<Figure size 640x480 with 1 Axes>"
      ]
     },
     "metadata": {},
     "output_type": "display_data"
    }
   ],
   "source": [
    "import random\n",
    "import matplotlib.pyplot as plt\n",
    "\n",
    "def dice(try_num = 100000):\n",
    "    box = []\n",
    "    count_sum = []\n",
    "    while len(box) < try_num:\n",
    "        num = random.randint(1,6)\n",
    "        box.append(num)\n",
    "    \n",
    "    if try_num == len(box):\n",
    "        for i in range(1,7):\n",
    "            print(f\"{i}의 갯수 : {box.count(i)}\")\n",
    "            print(f\"{i}의 확률 : {box.count(i)/try_num * 100:.2f}% \\n\")\n",
    "            count_sum.append(box.count(i))\n",
    "    else:\n",
    "        print(\"🤦‍♂️\")\n",
    "\n",
    "    print(f\"가장 많이 나온 숫자: {count_sum.index(max(count_sum)) + 1}\")\n",
    "    plt.bar(range(1,7),count_sum,color=['orange','skyblue'])\n",
    "    plt.show()\n",
    "dice()\n"
   ]
  },
  {
   "cell_type": "code",
   "execution_count": 47,
   "id": "95bc5511-5687-4321-bd4b-22b586f84f9c",
   "metadata": {},
   "outputs": [
    {
     "name": "stdout",
     "output_type": "stream",
     "text": [
      "3\n"
     ]
    }
   ],
   "source": [
    "def add_many(*args):\n",
    "    result = 0\n",
    "    for i in args:\n",
    "        result += i\n",
    "    return result\n",
    "\n",
    "print(add_many(1,2))"
   ]
  },
  {
   "cell_type": "code",
   "execution_count": 69,
   "id": "2b5f988f-5ea0-41ce-93a3-44272c9a09eb",
   "metadata": {},
   "outputs": [
    {
     "name": "stdout",
     "output_type": "stream",
     "text": [
      "하고자 하는 연산을 넣어주세요 (덧셈: add, 뺄셈: sub, 곱셈: mul, 나눗셈: div)\n"
     ]
    },
    {
     "data": {
      "text/plain": [
       "0.00011111111111111112"
      ]
     },
     "execution_count": 69,
     "metadata": {},
     "output_type": "execute_result"
    }
   ],
   "source": [
    "def operation(choice, *args):\n",
    "    print(\"하고자 하는 연산을 넣어주세요 (덧셈: add, 뺄셈: sub, 곱셈: mul, 나눗셈: div)\")\n",
    "    oper = ['add', 'sub', 'mul', 'div']\n",
    "    if choice in oper:\n",
    "        result = 0\n",
    "        if choice == oper[0]:\n",
    "            for i in args:\n",
    "                result += i\n",
    "        elif choice == oper[1]:\n",
    "            for i in args:\n",
    "                result = args[0] - sum(args[1:])\n",
    "        elif choice == oper[2]:\n",
    "            result = 1\n",
    "            for i in args:\n",
    "                result *= i\n",
    "        else:\n",
    "            result = 1\n",
    "            for i in args:\n",
    "                result /= i\n",
    "        return result\n",
    "    else:\n",
    "        print('다시 입력해주소')\n",
    "operation('div',300,3,10)"
   ]
  },
  {
   "cell_type": "code",
   "execution_count": 72,
   "id": "d474258a-6596-42aa-9ee8-d77622b70274",
   "metadata": {},
   "outputs": [
    {
     "name": "stdout",
     "output_type": "stream",
     "text": [
      "{'a': 1, 'b': 2, 'c': 3}\n"
     ]
    }
   ],
   "source": [
    "def print_kwargs(**kwargs):\n",
    "    print(kwargs)\n",
    "print_kwargs(a=1,b=2,c=3)"
   ]
  },
  {
   "cell_type": "code",
   "execution_count": 74,
   "id": "be0544cf-b011-46f6-b45e-4d7802e6962b",
   "metadata": {},
   "outputs": [
    {
     "name": "stdout",
     "output_type": "stream",
     "text": [
      "35 286\n"
     ]
    }
   ],
   "source": [
    "def test(a,b):\n",
    "    return a+b, a*b\n",
    "add_result, mul_result = test(13,22)\n",
    "print(add_result,mul_result) #튜플"
   ]
  },
  {
   "cell_type": "code",
   "execution_count": 76,
   "id": "376f3b23-6636-40f1-a46a-e5b95091160c",
   "metadata": {},
   "outputs": [
    {
     "name": "stdout",
     "output_type": "stream",
     "text": [
      "내 별명 야호\n"
     ]
    }
   ],
   "source": [
    "def say_nick(nick):\n",
    "    if nick == \"바보\":\n",
    "        return\n",
    "    print(\"내 별명 %s\" %nick)\n",
    "\n",
    "say_nick('야호')"
   ]
  },
  {
   "cell_type": "code",
   "execution_count": null,
   "id": "88434936-b2fd-455a-97ee-801578c5d864",
   "metadata": {},
   "outputs": [],
   "source": []
  }
 ],
 "metadata": {
  "kernelspec": {
   "display_name": "Python 3 (ipykernel)",
   "language": "python",
   "name": "python3"
  },
  "language_info": {
   "codemirror_mode": {
    "name": "ipython",
    "version": 3
   },
   "file_extension": ".py",
   "mimetype": "text/x-python",
   "name": "python",
   "nbconvert_exporter": "python",
   "pygments_lexer": "ipython3",
   "version": "3.13.1"
  }
 },
 "nbformat": 4,
 "nbformat_minor": 5
}
