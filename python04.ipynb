{
 "cells": [
  {
   "cell_type": "markdown",
   "id": "aff4707b-c5f4-4493-a8a1-589b0a254601",
   "metadata": {},
   "source": [
    "# 함수"
   ]
  },
  {
   "cell_type": "code",
   "execution_count": 1,
   "id": "5e8c2234-f4c0-4f52-8055-2f852a789281",
   "metadata": {},
   "outputs": [],
   "source": [
    "def 덧셈(a, b):\n",
    "    return a + b\n"
   ]
  },
  {
   "cell_type": "code",
   "execution_count": 2,
   "id": "7f1777ce-d9b1-4449-b32e-b9e0d77c3e53",
   "metadata": {},
   "outputs": [
    {
     "name": "stdout",
     "output_type": "stream",
     "text": [
      "7\n"
     ]
    }
   ],
   "source": [
    "c = 덧셈(3,4)\n",
    "print(c)"
   ]
  },
  {
   "cell_type": "code",
   "execution_count": 3,
   "id": "6e777829-cd66-4c8d-b17e-dd0b8fbb9354",
   "metadata": {},
   "outputs": [
    {
     "name": "stdout",
     "output_type": "stream",
     "text": [
      "2단\n",
      "2 * 1 = 2\n",
      "2 * 2 = 4\n",
      "2 * 3 = 6\n",
      "2 * 4 = 8\n",
      "2 * 5 = 10\n",
      "2 * 6 = 12\n",
      "2 * 7 = 14\n",
      "2 * 8 = 16\n",
      "2 * 9 = 18\n",
      "\n"
     ]
    }
   ],
   "source": [
    "def gugu(end):\n",
    "    data = ''\n",
    "    for i in range(2, end + 1):\n",
    "        print(f\"{i}단\")\n",
    "        for j in range(1, 10):\n",
    "            data += f\"{i} * {j} = {j * i}\\n\"\n",
    "    return data\n",
    "\n",
    "print(gugu(2))\n"
   ]
  },
  {
   "cell_type": "markdown",
   "id": "e4b5fc22-5dfa-4b32-b6b4-6bb94dcb655a",
   "metadata": {},
   "source": [
    "## "
   ]
  },
  {
   "cell_type": "markdown",
   "id": "1cee1fe2-7770-476d-a819-a82d3fe67cb9",
   "metadata": {},
   "source": [
    "### 일반적인 함수"
   ]
  },
  {
   "cell_type": "code",
   "execution_count": 4,
   "id": "27549d04-4185-4b5f-b34d-6df8f971c450",
   "metadata": {},
   "outputs": [
    {
     "data": {
      "text/plain": [
       "165"
      ]
     },
     "execution_count": 4,
     "metadata": {},
     "output_type": "execute_result"
    }
   ],
   "source": [
    "def add(a,b):\n",
    "    result =  a + b\n",
    "    return result\n",
    "\n",
    "add(77,88)"
   ]
  },
  {
   "cell_type": "code",
   "execution_count": 5,
   "id": "f60f0045-2d35-446a-aa00-d6509f577cd3",
   "metadata": {},
   "outputs": [
    {
     "data": {
      "text/plain": [
       "'hi'"
      ]
     },
     "execution_count": 5,
     "metadata": {},
     "output_type": "execute_result"
    }
   ],
   "source": [
    "def say():\n",
    "    return 'hi'\n",
    "\n",
    "say()"
   ]
  },
  {
   "cell_type": "code",
   "execution_count": 6,
   "id": "be5efd28-de86-42ac-9026-b9ba4adef18f",
   "metadata": {},
   "outputs": [
    {
     "name": "stdout",
     "output_type": "stream",
     "text": [
      "11,44의 합은 55 입니다\n"
     ]
    }
   ],
   "source": [
    "def add(a,b):\n",
    "    print(\"%d,%d의 합은 %d 입니다\" %(a,b,a+b))\n",
    "add(11,44)"
   ]
  },
  {
   "cell_type": "code",
   "execution_count": 7,
   "id": "67dd0dc7-cd93-4b73-aa0e-c6b86cbaa5e7",
   "metadata": {},
   "outputs": [
    {
     "name": "stdout",
     "output_type": "stream",
     "text": [
      "ㅂㅇ~          "
     ]
    }
   ],
   "source": [
    "import time\n",
    "def disp():\n",
    "    print(\"안녕~\\r\",end=\"\")\n",
    "    time.sleep(1)\n",
    "    print(\"입력x, 리턴 x\\r\",end=\"\")\n",
    "    time.sleep(1)\n",
    "    print(\"ㅂㅇ~          \",end=\"\")\n",
    "    time.sleep(1)\n",
    "\n",
    "disp()"
   ]
  },
  {
   "cell_type": "code",
   "execution_count": 8,
   "id": "e0fb22fa-3573-45b7-81ee-16d75067cccd",
   "metadata": {},
   "outputs": [],
   "source": [
    "def sub(a, b):\n",
    "    return a - b"
   ]
  },
  {
   "cell_type": "code",
   "execution_count": 9,
   "id": "e07f5c73-920d-4ca6-a3ae-57c64cc2f41e",
   "metadata": {},
   "outputs": [
    {
     "name": "stdout",
     "output_type": "stream",
     "text": [
      "4\n"
     ]
    }
   ],
   "source": [
    "result = sub(a=7, b=3)\n",
    "print(result)"
   ]
  },
  {
   "cell_type": "code",
   "execution_count": 10,
   "id": "f25142d1-4635-4a99-a73e-d9cfb870e654",
   "metadata": {},
   "outputs": [
    {
     "name": "stdout",
     "output_type": "stream",
     "text": [
      "Requirement already satisfied: matplotlib in c:\\users\\admin\\appdata\\local\\programs\\python\\python313\\lib\\site-packages (3.10.0)\n",
      "Requirement already satisfied: contourpy>=1.0.1 in c:\\users\\admin\\appdata\\local\\programs\\python\\python313\\lib\\site-packages (from matplotlib) (1.3.1)\n",
      "Requirement already satisfied: cycler>=0.10 in c:\\users\\admin\\appdata\\local\\programs\\python\\python313\\lib\\site-packages (from matplotlib) (0.12.1)\n",
      "Requirement already satisfied: fonttools>=4.22.0 in c:\\users\\admin\\appdata\\local\\programs\\python\\python313\\lib\\site-packages (from matplotlib) (4.56.0)\n",
      "Requirement already satisfied: kiwisolver>=1.3.1 in c:\\users\\admin\\appdata\\local\\programs\\python\\python313\\lib\\site-packages (from matplotlib) (1.4.8)\n",
      "Requirement already satisfied: numpy>=1.23 in c:\\users\\admin\\appdata\\local\\programs\\python\\python313\\lib\\site-packages (from matplotlib) (2.2.2)\n",
      "Requirement already satisfied: packaging>=20.0 in c:\\users\\admin\\appdata\\local\\programs\\python\\python313\\lib\\site-packages (from matplotlib) (24.2)\n",
      "Requirement already satisfied: pillow>=8 in c:\\users\\admin\\appdata\\local\\programs\\python\\python313\\lib\\site-packages (from matplotlib) (11.1.0)\n",
      "Requirement already satisfied: pyparsing>=2.3.1 in c:\\users\\admin\\appdata\\local\\programs\\python\\python313\\lib\\site-packages (from matplotlib) (3.2.1)\n",
      "Requirement already satisfied: python-dateutil>=2.7 in c:\\users\\admin\\appdata\\local\\programs\\python\\python313\\lib\\site-packages (from matplotlib) (2.9.0.post0)\n",
      "Requirement already satisfied: six>=1.5 in c:\\users\\admin\\appdata\\local\\programs\\python\\python313\\lib\\site-packages (from python-dateutil>=2.7->matplotlib) (1.17.0)\n"
     ]
    },
    {
     "name": "stderr",
     "output_type": "stream",
     "text": [
      "\n",
      "[notice] A new release of pip is available: 25.0 -> 25.0.1\n",
      "[notice] To update, run: python.exe -m pip install --upgrade pip\n"
     ]
    }
   ],
   "source": [
    "!pip install matplotlib"
   ]
  },
  {
   "cell_type": "code",
   "execution_count": 11,
   "id": "d41ac177-07b8-4ac3-9aeb-ec988dac4656",
   "metadata": {},
   "outputs": [
    {
     "name": "stdout",
     "output_type": "stream",
     "text": [
      "1의 갯수 : 16665\n",
      "1의 확률 : 16.66% \n",
      "\n",
      "2의 갯수 : 16547\n",
      "2의 확률 : 16.55% \n",
      "\n",
      "3의 갯수 : 16554\n",
      "3의 확률 : 16.55% \n",
      "\n",
      "4의 갯수 : 16652\n",
      "4의 확률 : 16.65% \n",
      "\n",
      "5의 갯수 : 16904\n",
      "5의 확률 : 16.90% \n",
      "\n",
      "6의 갯수 : 16678\n",
      "6의 확률 : 16.68% \n",
      "\n",
      "가장 많이 나온 숫자: 5\n"
     ]
    },
    {
     "data": {
      "image/png": "[encoded data removed]",
      "text/plain": [
       "<Figure size 640x480 with 1 Axes>"
      ]
     },
     "metadata": {},
     "output_type": "display_data"
    }
   ],
   "source": [
    "import random\n",
    "import matplotlib.pyplot as plt\n",
    "\n",
    "def dice(try_num = 100000):\n",
    "    box = []\n",
    "    count_sum = []\n",
    "    while len(box) < try_num:\n",
    "        num = random.randint(1,6)\n",
    "        box.append(num)\n",
    "    \n",
    "    if try_num == len(box):\n",
    "        for i in range(1,7):\n",
    "            print(f\"{i}의 갯수 : {box.count(i)}\")\n",
    "            print(f\"{i}의 확률 : {box.count(i)/try_num * 100:.2f}% \\n\")\n",
    "            count_sum.append(box.count(i))\n",
    "    else:\n",
    "        print(\"🤦‍♂️\")\n",
    "\n",
    "    print(f\"가장 많이 나온 숫자: {count_sum.index(max(count_sum)) + 1}\")\n",
    "    plt.bar(range(1,7),count_sum,color=['orange','skyblue'])\n",
    "    plt.show()\n",
    "dice()\n"
   ]
  },
  {
   "cell_type": "code",
   "execution_count": 12,
   "id": "95bc5511-5687-4321-bd4b-22b586f84f9c",
   "metadata": {},
   "outputs": [
    {
     "name": "stdout",
     "output_type": "stream",
     "text": [
      "3\n"
     ]
    }
   ],
   "source": [
    "def add_many(*args):\n",
    "    result = 0\n",
    "    for i in args:\n",
    "        result += i\n",
    "    return result\n",
    "\n",
    "print(add_many(1,2))"
   ]
  },
  {
   "cell_type": "code",
   "execution_count": 13,
   "id": "2b5f988f-5ea0-41ce-93a3-44272c9a09eb",
   "metadata": {},
   "outputs": [
    {
     "name": "stdout",
     "output_type": "stream",
     "text": [
      "하고자 하는 연산을 넣어주세요 (덧셈: add, 뺄셈: sub, 곱셈: mul, 나눗셈: div)\n"
     ]
    },
    {
     "data": {
      "text/plain": [
       "0.00011111111111111112"
      ]
     },
     "execution_count": 13,
     "metadata": {},
     "output_type": "execute_result"
    }
   ],
   "source": [
    "def operation(choice, *args):\n",
    "    print(\"하고자 하는 연산을 넣어주세요 (덧셈: add, 뺄셈: sub, 곱셈: mul, 나눗셈: div)\")\n",
    "    oper = ['add', 'sub', 'mul', 'div']\n",
    "    if choice in oper:\n",
    "        result = 0\n",
    "        if choice == oper[0]:\n",
    "            for i in args:\n",
    "                result += i\n",
    "        elif choice == oper[1]:\n",
    "            for i in args:\n",
    "                result = args[0] - sum(args[1:])\n",
    "        elif choice == oper[2]:\n",
    "            result = 1\n",
    "            for i in args:\n",
    "                result *= i\n",
    "        else:\n",
    "            result = 1\n",
    "            for i in args:\n",
    "                result /= i\n",
    "        return result\n",
    "    else:\n",
    "        print('다시 입력해주소')\n",
    "operation('div',300,3,10)"
   ]
  },
  {
   "cell_type": "code",
   "execution_count": 14,
   "id": "d474258a-6596-42aa-9ee8-d77622b70274",
   "metadata": {},
   "outputs": [
    {
     "name": "stdout",
     "output_type": "stream",
     "text": [
      "{'a': 1, 'b': 2, 'c': 3}\n"
     ]
    }
   ],
   "source": [
    "def print_kwargs(**kwargs):\n",
    "    print(kwargs)\n",
    "print_kwargs(a=1,b=2,c=3)"
   ]
  },
  {
   "cell_type": "code",
   "execution_count": 15,
   "id": "be0544cf-b011-46f6-b45e-4d7802e6962b",
   "metadata": {},
   "outputs": [
    {
     "name": "stdout",
     "output_type": "stream",
     "text": [
      "35 286\n"
     ]
    }
   ],
   "source": [
    "def test(a,b):\n",
    "    return a+b, a*b\n",
    "add_result, mul_result = test(13,22)\n",
    "print(add_result,mul_result) #튜플"
   ]
  },
  {
   "cell_type": "code",
   "execution_count": 16,
   "id": "376f3b23-6636-40f1-a46a-e5b95091160c",
   "metadata": {},
   "outputs": [
    {
     "name": "stdout",
     "output_type": "stream",
     "text": [
      "내 별명 야호\n"
     ]
    }
   ],
   "source": [
    "def say_nick(nick):\n",
    "    if nick == \"바보\":\n",
    "        return\n",
    "    print(\"내 별명 %s\" %nick)\n",
    "\n",
    "say_nick('야호')"
   ]
  },
  {
   "cell_type": "markdown",
   "id": "a0ffafb1-9b63-4459-8577-756efcc6afe9",
   "metadata": {},
   "source": [
    "## 함수 안에서 선언한 변수의 효력 범위"
   ]
  },
  {
   "cell_type": "code",
   "execution_count": 17,
   "id": "318b9d9d-e1e5-4c05-bf0d-40dc640e7943",
   "metadata": {},
   "outputs": [],
   "source": [
    "a = 1"
   ]
  },
  {
   "cell_type": "code",
   "execution_count": 18,
   "id": "35e732ea-fb42-4e10-8038-c6c21f0769b1",
   "metadata": {},
   "outputs": [
    {
     "name": "stdout",
     "output_type": "stream",
     "text": [
      "2\n",
      "1\n"
     ]
    }
   ],
   "source": [
    "def test1(a):\n",
    "    a = a + 1\n",
    "    return a\n",
    "print(test1(a))\n",
    "print(a)"
   ]
  },
  {
   "cell_type": "code",
   "execution_count": 19,
   "id": "b2872cc6-104c-4816-9327-7bfdee6c27c1",
   "metadata": {},
   "outputs": [
    {
     "name": "stdout",
     "output_type": "stream",
     "text": [
      "None\n"
     ]
    },
    {
     "ename": "NameError",
     "evalue": "name 'b' is not defined",
     "output_type": "error",
     "traceback": [
      "\u001b[1;31m---------------------------------------------------------------------------\u001b[0m",
      "\u001b[1;31mNameError\u001b[0m                                 Traceback (most recent call last)",
      "Cell \u001b[1;32mIn[19], line 4\u001b[0m\n\u001b[0;32m      2\u001b[0m     b \u001b[38;5;241m=\u001b[39m b \u001b[38;5;241m+\u001b[39m \u001b[38;5;241m1\u001b[39m\n\u001b[0;32m      3\u001b[0m \u001b[38;5;28mprint\u001b[39m(test2(\u001b[38;5;241m3\u001b[39m))\n\u001b[1;32m----> 4\u001b[0m \u001b[38;5;28mprint\u001b[39m(\u001b[43mb\u001b[49m)\n",
      "\u001b[1;31mNameError\u001b[0m: name 'b' is not defined"
     ]
    }
   ],
   "source": [
    "\n",
    "def test2(b):\n",
    "    b = b + 1\n",
    "print(test2(3))\n",
    "print(b)"
   ]
  },
  {
   "cell_type": "code",
   "execution_count": null,
   "id": "2f70a92a-8075-4006-afcb-eada457b9ab4",
   "metadata": {},
   "outputs": [],
   "source": [
    "\n",
    "def test3(c):\n",
    "    c = c + 1\n",
    "    return c\n",
    "c = test3(c)\n",
    "print(c)"
   ]
  },
  {
   "cell_type": "code",
   "execution_count": null,
   "id": "27bc5eb1-e6d3-4983-ae4b-e6d3e3d7739e",
   "metadata": {},
   "outputs": [],
   "source": [
    "d = 1\n",
    "def test4():\n",
    "    global d\n",
    "    d = d + 1\n",
    "test4()\n",
    "print(d)"
   ]
  },
  {
   "cell_type": "markdown",
   "id": "5ad25663-c6c7-49be-9004-b4dd0559b4bc",
   "metadata": {},
   "source": [
    "## lambda 예약어 (익명함수)"
   ]
  },
  {
   "cell_type": "code",
   "execution_count": null,
   "id": "6b3dbcac-25bb-40e7-9b15-2f57084a17a3",
   "metadata": {},
   "outputs": [],
   "source": [
    "def test(a,b):\n",
    "    return a + b\n",
    "    \n",
    "add = lambda a,b: a + b\n",
    "add(3,4)"
   ]
  },
  {
   "cell_type": "code",
   "execution_count": null,
   "id": "7cb87bdd-dc47-4866-9e5b-561c1b6c1084",
   "metadata": {},
   "outputs": [],
   "source": [
    "a1 = [x for x in range(10)]\n",
    "print(a1)"
   ]
  },
  {
   "cell_type": "code",
   "execution_count": null,
   "id": "204dee99-a811-4527-8af2-9a556a7eb053",
   "metadata": {},
   "outputs": [],
   "source": [
    "a2 = [(lambda x : x * 2)(x) for x in range(10)]\n",
    "print(a2)"
   ]
  },
  {
   "cell_type": "code",
   "execution_count": null,
   "id": "26ebf0a6-3893-4232-b712-3ddd6a0b80cc",
   "metadata": {},
   "outputs": [],
   "source": [
    "p = list(map(lambda x : x**2,a1))\n",
    "print(p)"
   ]
  },
  {
   "cell_type": "markdown",
   "id": "8b566918-5cdf-45db-89d2-2d36371aae82",
   "metadata": {},
   "source": [
    "# 파일 읽고 쓰기"
   ]
  },
  {
   "cell_type": "markdown",
   "id": "660365b8-9b41-4b95-9f20-89a0b8add615",
   "metadata": {},
   "source": [
    "## 파일 생성하기"
   ]
  },
  {
   "cell_type": "code",
   "execution_count": null,
   "id": "28ffa50f-5b32-40ff-9dfc-243f0fd2d219",
   "metadata": {},
   "outputs": [],
   "source": [
    "f = open(\"새파일생성.txt\",\"w\")\n",
    "f.close()"
   ]
  },
  {
   "cell_type": "code",
   "execution_count": null,
   "id": "9a1f23cb-83a0-4cce-8ecd-4ab5bb6c64ff",
   "metadata": {},
   "outputs": [],
   "source": [
    "path = \"./testfile/\"\n",
    "f = open(path + \"새파일생성3.txt\", \"w\")\n",
    "f.close()"
   ]
  },
  {
   "cell_type": "code",
   "execution_count": null,
   "id": "902b678e-e1b2-462f-ada8-03412dd264c2",
   "metadata": {},
   "outputs": [],
   "source": [
    "path = \"./testfile/\"\n",
    "f = open(path + \"새파일생성4.txt\", \"w\", encoding=\"utf-8\")\n",
    "for i in range(10):\n",
    "    f.write(f\"{i+1}번째 ㅎㅇㅎㅇㅎㅇㅎㅇㅎㅇ\\n\")\n",
    "f.close()"
   ]
  },
  {
   "cell_type": "code",
   "execution_count": null,
   "id": "89466f8f-f074-4459-be02-d40ac059dc26",
   "metadata": {},
   "outputs": [],
   "source": [
    "path = \"./testfile/\"\n",
    "f = open(path + \"lotto.txt\", \"w\", encoding=\"utf-8\")\n",
    "try_num = 10\n",
    "lotto = []\n",
    "lotto_box = []\n",
    "while len(lotto_box) < try_num:\n",
    "    while len(lotto) < 6 :\n",
    "        random_number = random.randint(1,45)\n",
    "        if random_number not in lotto:\n",
    "            lotto.append(random_number)\n",
    "    lotto.sort()\n",
    "    lotto_box.append(lotto)\n",
    "    lotto = []\n",
    "\n",
    "for i in range(try_num):\n",
    "    f.write(f\"{i + 1}번째 추천 : {lotto_box[i]}\\n\")\n",
    "f.close()"
   ]
  },
  {
   "cell_type": "code",
   "execution_count": null,
   "id": "b79bbf2b-99cc-4aee-ac47-f0c91d61408b",
   "metadata": {},
   "outputs": [],
   "source": [
    "# 구구단 파일\n",
    "path = \"./testfile/\"\n",
    "f = open(path + \"구구단.txt\",\"w\",encoding=\"utf-8\")\n",
    "for i in range(2,10):\n",
    "    f.write(f\"=========={i}단==========\\n\")\n",
    "    for j in range(1,10):\n",
    "        f.write(f\"{i} * {j} = {i * j}\\n\")\n",
    "f.close()"
   ]
  },
  {
   "cell_type": "markdown",
   "id": "7418f161-ee36-435a-ba94-7e5a78ff3925",
   "metadata": {},
   "source": [
    "## 파일 읽기"
   ]
  },
  {
   "cell_type": "code",
   "execution_count": null,
   "id": "e5b48f08-48a1-4d63-a4d7-0b2cf54ef485",
   "metadata": {},
   "outputs": [],
   "source": [
    "path = \"./testfile/\"\n",
    "f = open(path + \"lotto.txt\",\"r\",encoding='utf-8')\n",
    "while True:\n",
    "    line = f.readline()\n",
    "    if not line: break\n",
    "    print(line)\n",
    "f.close()"
   ]
  },
  {
   "cell_type": "code",
   "execution_count": null,
   "id": "c55ec931-6a50-4e78-a5da-f1152a82e694",
   "metadata": {},
   "outputs": [],
   "source": [
    "def diary(name):\n",
    "    f = open(f\"./testfile/{name}.txt\", \"a\",encoding='utf-8')\n",
    "    while 1:\n",
    "        inp = input(\"아무거나 써라\")\n",
    "        if inp == \"stop\" : break\n",
    "        f.write(inp + \"\\n\")\n",
    "    f.close()"
   ]
  },
  {
   "cell_type": "code",
   "execution_count": null,
   "id": "ead993c1-2413-492d-aec5-1d1dc9424f53",
   "metadata": {},
   "outputs": [],
   "source": [
    "diary(\"20250211 일기\")"
   ]
  },
  {
   "cell_type": "code",
   "execution_count": null,
   "id": "864caa7a-b9a3-4f4c-8c16-a229d25c6a5c",
   "metadata": {},
   "outputs": [],
   "source": [
    "f = open(\"./testfile/lotto.txt\",\"r\",encoding='utf-8')\n",
    "lines = f.readlines()\n",
    "# print(lines)\n",
    "for i in lines:\n",
    "    print(i,end='')\n",
    "f.close()"
   ]
  },
  {
   "cell_type": "code",
   "execution_count": null,
   "id": "6353eb76-64ae-451b-80fe-d9894242cd6f",
   "metadata": {},
   "outputs": [],
   "source": [
    "f = open(\"./testfile/lotto.txt\",\"r\",encoding='utf-8')\n",
    "lines = f.readlines()\n",
    "for i in lines:\n",
    "    i = i.strip()\n",
    "    print(i)\n",
    "f.close()"
   ]
  },
  {
   "cell_type": "code",
   "execution_count": null,
   "id": "1ec98052-da9e-4075-8f4b-1b8efc42f396",
   "metadata": {},
   "outputs": [],
   "source": [
    "f = open(\"./testfile/lotto.txt\",\"r\",encoding='utf-8')\n",
    "lines = f.read()\n",
    "print(lines)\n",
    "f.close()"
   ]
  },
  {
   "cell_type": "code",
   "execution_count": null,
   "id": "e24fbcfd-28d1-4251-9cd8-ac9aa648b237",
   "metadata": {},
   "outputs": [],
   "source": [
    "with open(\"./testfile/lotto.txt\",\"r\",encoding='utf-8') as f:\n",
    "    lines = f.readlines()\n",
    "    for i in lines:\n",
    "        i = i.strip()\n",
    "        print(i)"
   ]
  },
  {
   "cell_type": "code",
   "execution_count": null,
   "id": "b129c801-32ec-4dcd-8893-64a258558e7a",
   "metadata": {},
   "outputs": [],
   "source": [
    "with open(\"./testfile/foo.txt\",\"w\") as f:\n",
    "    f.write(\"Life is too short, you need python\")"
   ]
  },
  {
   "cell_type": "markdown",
   "id": "d9e6602a-c43f-4f5e-82e1-a957d28be379",
   "metadata": {},
   "source": [
    "## 프로그램의 입출력"
   ]
  },
  {
   "cell_type": "code",
   "execution_count": null,
   "id": "0463bc67-2279-47e6-bfea-c1ed5f428df4",
   "metadata": {},
   "outputs": [],
   "source": [
    "import sys\n",
    "\n",
    "args = sys.argv\n",
    "\n",
    "for i in args:\n",
    "    print(i)"
   ]
  },
  {
   "cell_type": "code",
   "execution_count": 26,
   "id": "bf9f9724-18b0-428b-9c4f-b10aec75d14f",
   "metadata": {},
   "outputs": [
    {
     "name": "stdin",
     "output_type": "stream",
     "text": [
      "회사 주식 알려드림 셀트리온\n"
     ]
    },
    {
     "name": "stdout",
     "output_type": "stream",
     "text": [
      "셀트리온 : 179,700원\n"
     ]
    }
   ],
   "source": [
    "import requests\n",
    "import sys\n",
    "\n",
    "req = requests.get(\"https://finance.naver.com/sise/sise_market_sum.naver\")\n",
    "html = req.text\n",
    "\n",
    "args = sys.argv[1:]\n",
    "\n",
    "def stock_price(a):\n",
    "    find_stock = html.find(a)\n",
    "    find_index = html[find_stock:find_stock + 100].find('<td class=\"number\">')\n",
    "    find_price = html[find_stock:find_stock + 100][find_index:50]\n",
    "    replace_price = int(find_price.replace('<td class=\"number\">',\"\").replace('</td>',\"\").replace(\"\\n\", \"\").replace(\"\t\", \"\").replace(\",\",\"\"))\n",
    "    return replace_price\n",
    "\n",
    "inp = args[0]\n",
    "stockPrice = stock_price(inp)\n",
    "print(f\"{inp} : {stockPrice:,}원\")\n"
   ]
  },
  {
   "cell_type": "code",
   "execution_count": null,
   "id": "6b867bd0-11a8-4187-843f-a599118100f1",
   "metadata": {},
   "outputs": [],
   "source": []
  }
 ],
 "metadata": {
  "kernelspec": {
   "display_name": "Python 3 (ipykernel)",
   "language": "python",
   "name": "python3"
  },
  "language_info": {
   "codemirror_mode": {
    "name": "ipython",
    "version": 3
   },
   "file_extension": ".py",
   "mimetype": "text/x-python",
   "name": "python",
   "nbconvert_exporter": "python",
   "pygments_lexer": "ipython3",
   "version": "3.13.1"
  }
 },
 "nbformat": 4,
 "nbformat_minor": 5
}
