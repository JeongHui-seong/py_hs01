{
 "cells": [
  {
   "cell_type": "markdown",
   "id": "1e09c4d4-feb8-44e5-94d7-6ee7620b02a7",
   "metadata": {},
   "source": [
    "# 제어문"
   ]
  },
  {
   "cell_type": "markdown",
   "id": "9e710c45-b6c4-4063-8aac-93c59535cdb1",
   "metadata": {},
   "source": [
    "## if문"
   ]
  },
  {
   "cell_type": "code",
   "execution_count": 1,
   "id": "81e88bd3-a6e8-470c-826b-f66ce5a4e67b",
   "metadata": {},
   "outputs": [
    {
     "name": "stdout",
     "output_type": "stream",
     "text": [
      "True\n"
     ]
    }
   ],
   "source": [
    "if True :\n",
    "    print(\"True\")\n",
    "if False :\n",
    "    print(\"zzz\")"
   ]
  },
  {
   "cell_type": "code",
   "execution_count": 2,
   "id": "8badac2c-163c-4777-bb66-22778b7fb0b4",
   "metadata": {},
   "outputs": [
    {
     "name": "stdout",
     "output_type": "stream",
     "text": [
      "9\n",
      "8\n",
      "7\n",
      "6\n",
      "5\n",
      "4\n",
      "3\n",
      "2\n",
      "1\n",
      "0\n"
     ]
    }
   ],
   "source": [
    "num = 10\n",
    "while num:\n",
    "    num -= 1\n",
    "    print(num)"
   ]
  },
  {
   "cell_type": "code",
   "execution_count": 3,
   "id": "224a069d-82bc-47aa-a6c3-bee93dfcd963",
   "metadata": {},
   "outputs": [
    {
     "name": "stdin",
     "output_type": "stream",
     "text": [
      "얼마있냐 123\n"
     ]
    },
    {
     "name": "stdout",
     "output_type": "stream",
     "text": [
      "걸어가라\n"
     ]
    }
   ],
   "source": [
    "inp1 = int(input('얼마있냐'))\n",
    "\n",
    "if inp1 >= 3000:\n",
    "    print('택시타라')\n",
    "else:\n",
    "    print('걸어가라')"
   ]
  },
  {
   "cell_type": "code",
   "execution_count": 4,
   "id": "734170c6-162f-465d-9220-85e689f4722c",
   "metadata": {},
   "outputs": [
    {
     "name": "stdout",
     "output_type": "stream",
     "text": [
      "\n",
      " True\n",
      "False\n",
      "False\n",
      "False\n",
      "\n",
      " True\n",
      "True\n",
      "True\n",
      "False\n",
      "\n",
      " True\n",
      "False\n"
     ]
    }
   ],
   "source": [
    "# And\n",
    "print('\\n',True and True)\n",
    "print(True and False)\n",
    "print(False and True)\n",
    "print(False and False)\n",
    "# Or\n",
    "print('\\n',True or True)\n",
    "print(True or False)\n",
    "print(False or True)\n",
    "print(False or False)\n",
    "# Not\n",
    "print('\\n',True)\n",
    "print(not True)"
   ]
  },
  {
   "cell_type": "code",
   "execution_count": 5,
   "id": "3f1ba37c-96c3-4f5d-adf8-3f5d7730dbad",
   "metadata": {},
   "outputs": [
    {
     "name": "stdout",
     "output_type": "stream",
     "text": [
      "만납시다\n"
     ]
    }
   ],
   "source": [
    "이상형 = True\n",
    "똑똑 = True\n",
    "\n",
    "if 이상형 and 똑똑:\n",
    "    print(\"만납시다\")\n",
    "else:\n",
    "    print(\"만나지 맙시다\")"
   ]
  },
  {
   "cell_type": "code",
   "execution_count": 6,
   "id": "905432ce-e6cc-4510-a09c-935309c9ab88",
   "metadata": {},
   "outputs": [
    {
     "name": "stdout",
     "output_type": "stream",
     "text": [
      "만납시다\n"
     ]
    }
   ],
   "source": [
    "이상형 = False\n",
    "똑똑 = True\n",
    "\n",
    "if 이상형 or 똑똑:\n",
    "    print(\"만납시다\")\n",
    "else:\n",
    "    print(\"만나지 맙시다\")"
   ]
  },
  {
   "cell_type": "code",
   "execution_count": 7,
   "id": "aa2ba751-537b-4ceb-8dc4-da82d5b1ea40",
   "metadata": {},
   "outputs": [
    {
     "name": "stdout",
     "output_type": "stream",
     "text": [
      "bye\n"
     ]
    }
   ],
   "source": [
    "주사 = True\n",
    "\n",
    "if not 주사:\n",
    "    print('good')\n",
    "else:\n",
    "    print('bye')"
   ]
  },
  {
   "cell_type": "code",
   "execution_count": 8,
   "id": "10a0d1d4-234e-4783-85fa-3c2490fe9648",
   "metadata": {},
   "outputs": [
    {
     "name": "stdout",
     "output_type": "stream",
     "text": [
      "택시 ㄱㄱ\n"
     ]
    }
   ],
   "source": [
    "money = 2000\n",
    "card = True\n",
    "\n",
    "if money >= 3000 or card:\n",
    "    print(\"택시 ㄱㄱ\")\n",
    "else:\n",
    "    print(\"뚜벅이\")"
   ]
  },
  {
   "cell_type": "code",
   "execution_count": 9,
   "id": "b1b8c946-3ced-4281-a133-e06e11370fca",
   "metadata": {},
   "outputs": [
    {
     "name": "stdout",
     "output_type": "stream",
     "text": [
      "Bㅎㅇㅎㅇ\n",
      "Cㅎㅇㅎㅇ\n"
     ]
    }
   ],
   "source": [
    "me = 'Python'\n",
    "compA = ['Java', 'Css', 'HTML', 'Javascript', 'C', 'MySQL']\n",
    "compB = ['Java', 'Python', 'Javascript', 'C', 'MySQL']\n",
    "compC = ['Java', 'Python', 'C', 'MySQL']\n",
    "\n",
    "if me in compA:\n",
    "    print('Aㅎㅇㅎㅇ')\n",
    "if me in compB:\n",
    "    print('Bㅎㅇㅎㅇ')\n",
    "if me in compC:\n",
    "    print('Cㅎㅇㅎㅇ')\n"
   ]
  },
  {
   "cell_type": "code",
   "execution_count": 10,
   "id": "37b9ef01-400c-4208-97f0-0e211c895589",
   "metadata": {},
   "outputs": [
    {
     "name": "stdin",
     "output_type": "stream",
     "text": [
      "몇 점임 123\n"
     ]
    },
    {
     "name": "stdout",
     "output_type": "stream",
     "text": [
      "다시.\n",
      "\n"
     ]
    }
   ],
   "source": [
    "score = int(input('몇 점임'))\n",
    "grade = ''\n",
    "if 0 <= score <= 100:\n",
    "    if score >= 90:\n",
    "        grade = 'A'\n",
    "    elif score >= 80:\n",
    "        grade = 'B'\n",
    "    elif score >= 70:\n",
    "        grade = 'C'\n",
    "    elif score >= 60:\n",
    "        grade = 'D'\n",
    "    else:\n",
    "        grade = 'F'\n",
    "else:\n",
    "    print('다시.')\n",
    "print(f'{grade}')\n"
   ]
  },
  {
   "cell_type": "markdown",
   "id": "55478c85-0caa-403c-9f56-8894183b255b",
   "metadata": {},
   "source": [
    "degree = int(input(\"몇 도임\"))\n",
    "season = \"\"\n",
    "\n",
    "if degree >= 25:\n",
    "    season = \"여름\"\n",
    "elif degree >= 15:\n",
    "    season = \"봄\"\n",
    "elif degree >= 10:\n",
    "    season = \"가을\"\n",
    "else:\n",
    "    season = \"겨울\"\n",
    "print(season)"
   ]
  },
  {
   "cell_type": "markdown",
   "id": "ddbcd062-5a2e-478b-bc60-692a2111dd67",
   "metadata": {},
   "source": [
    "## while문"
   ]
  },
  {
   "cell_type": "code",
   "execution_count": 11,
   "id": "2a1333aa-4e5f-4079-8d2c-458113eca685",
   "metadata": {},
   "outputs": [
    {
     "name": "stdout",
     "output_type": "stream",
     "text": [
      "나무를 1번 찍었습니다.\n",
      "나무를 2번 찍었습니다.\n",
      "나무를 3번 찍었습니다.\n",
      "나무를 4번 찍었습니다.\n",
      "나무를 5번 찍었습니다.\n",
      "나무를 6번 찍었습니다.\n",
      "나무를 7번 찍었습니다.\n",
      "나무를 8번 찍었습니다.\n",
      "나무를 9번 찍었습니다.\n",
      "나무를 10번 찍었습니다.\n",
      "나무 넘어가유\n"
     ]
    }
   ],
   "source": [
    "treehit = 0\n",
    "while treehit < 10:\n",
    "    treehit += 1\n",
    "    print(\"나무를 %d번 찍었습니다.\" %treehit)\n",
    "    if treehit == 10:\n",
    "        print('나무 넘어가유')\n",
    "        "
   ]
  },
  {
   "cell_type": "code",
   "execution_count": 12,
   "id": "2bbc237e-e178-4b68-8d2d-4358ad194690",
   "metadata": {},
   "outputs": [
    {
     "name": "stdout",
     "output_type": "stream",
     "text": [
      "나무를 1번 찍었습니다.\n",
      "나무를 2번 찍었습니다.\n",
      "나무를 3번 찍었습니다.\n",
      "나무를 4번 찍었습니다.\n",
      "나무를 5번 찍었습니다.\n",
      "나무를 6번 찍었습니다.\n",
      "나무를 7번 찍었습니다.\n",
      "나무를 8번 찍었습니다.\n",
      "나무를 9번 찍었습니다.\n",
      "나무를 10번 찍었습니다.\n",
      "나무 넘어가유\n"
     ]
    }
   ],
   "source": [
    "treehit = 10\n",
    "while treehit:\n",
    "    print(f\"나무를 {11 - treehit}번 찍었습니다.\")\n",
    "    treehit -= 1\n",
    "print('나무 넘어가유')"
   ]
  },
  {
   "cell_type": "code",
   "execution_count": 13,
   "id": "12bbd5d3-871f-4f8a-9a53-a1d0461f1f03",
   "metadata": {},
   "outputs": [
    {
     "name": "stdout",
     "output_type": "stream",
     "text": [
      "\n",
      "    1. Add\n",
      "    2. Del\n",
      "    3. List\n",
      "    4. Quit\n",
      "\n"
     ]
    },
    {
     "name": "stdin",
     "output_type": "stream",
     "text": [
      " 4\n"
     ]
    }
   ],
   "source": [
    "prompt = \"\"\"\n",
    "    1. Add\n",
    "    2. Del\n",
    "    3. List\n",
    "    4. Quit\n",
    "\"\"\"\n",
    "\n",
    "number = 0\n",
    "while number != 4:\n",
    "    print(prompt)\n",
    "    number = int(input())"
   ]
  },
  {
   "cell_type": "code",
   "execution_count": 14,
   "id": "090e60d6-8b76-4ef0-90be-2f259a45dc52",
   "metadata": {},
   "outputs": [],
   "source": [
    "import random\n",
    "\n",
    "box = []\n",
    "try_num = 100000\n",
    "count_sum = []"
   ]
  },
  {
   "cell_type": "code",
   "execution_count": 15,
   "id": "00074c0a-ec0a-4079-a894-35f5981a43f1",
   "metadata": {},
   "outputs": [
    {
     "name": "stdout",
     "output_type": "stream",
     "text": [
      "1의 갯수 : 16634\n",
      "1의 확률 : 16.63% \n",
      "\n",
      "2의 갯수 : 16691\n",
      "2의 확률 : 16.69% \n",
      "\n",
      "3의 갯수 : 16695\n",
      "3의 확률 : 16.70% \n",
      "\n",
      "4의 갯수 : 16832\n",
      "4의 확률 : 16.83% \n",
      "\n",
      "5의 갯수 : 16686\n",
      "5의 확률 : 16.69% \n",
      "\n",
      "6의 갯수 : 16462\n",
      "6의 확률 : 16.46% \n",
      "\n",
      "가장 많이 나온 숫자: 4\n"
     ]
    }
   ],
   "source": [
    "while len(box) < try_num:\n",
    "    num = random.randint(1,6)\n",
    "    box.append(num)\n",
    "\n",
    "if try_num == len(box):\n",
    "    for i in range(1,7):\n",
    "        print(f\"{i}의 갯수 : {box.count(i)}\")\n",
    "        print(f\"{i}의 확률 : {box.count(i)/try_num * 100:.2f}% \\n\")\n",
    "        count_sum.append(box.count(i))\n",
    "else:\n",
    "    print(\"🤦‍♂️\")\n",
    "\n",
    "print(f\"가장 많이 나온 숫자: {count_sum.index(max(count_sum)) + 1}\")"
   ]
  },
  {
   "cell_type": "markdown",
   "id": "4b293cd1-5ab4-4200-b47d-b1d3a52f4038",
   "metadata": {},
   "source": [
    "## for 반복문"
   ]
  },
  {
   "cell_type": "code",
   "execution_count": 16,
   "id": "33f78aea-6b53-4481-a78d-c2d182206a0a",
   "metadata": {},
   "outputs": [
    {
     "ename": "NameError",
     "evalue": "name 'test_list' is not defined",
     "output_type": "error",
     "traceback": [
      "\u001b[1;31m---------------------------------------------------------------------------\u001b[0m",
      "\u001b[1;31mNameError\u001b[0m                                 Traceback (most recent call last)",
      "Cell \u001b[1;32mIn[16], line 2\u001b[0m\n\u001b[0;32m      1\u001b[0m text_list \u001b[38;5;241m=\u001b[39m [\u001b[38;5;124m'\u001b[39m\u001b[38;5;124mone\u001b[39m\u001b[38;5;124m'\u001b[39m, \u001b[38;5;124m'\u001b[39m\u001b[38;5;124mtwo\u001b[39m\u001b[38;5;124m'\u001b[39m, \u001b[38;5;124m'\u001b[39m\u001b[38;5;124mthree\u001b[39m\u001b[38;5;124m'\u001b[39m]\n\u001b[1;32m----> 2\u001b[0m \u001b[38;5;28;01mfor\u001b[39;00m i \u001b[38;5;129;01min\u001b[39;00m \u001b[43mtest_list\u001b[49m:\n\u001b[0;32m      3\u001b[0m     \u001b[38;5;28mprint\u001b[39m(i)\n",
      "\u001b[1;31mNameError\u001b[0m: name 'test_list' is not defined"
     ]
    }
   ],
   "source": [
    "text_list = ['one', 'two', 'three']\n",
    "for i in test_list:\n",
    "    print(i)"
   ]
  },
  {
   "cell_type": "code",
   "execution_count": null,
   "id": "a0d440ab-0b89-489d-a235-b030eeb14ad0",
   "metadata": {},
   "outputs": [],
   "source": [
    "a = [(1,2),(3,4),(5,6)]\n",
    "for (first, last) in a:\n",
    "    print(first + last)"
   ]
  },
  {
   "cell_type": "code",
   "execution_count": null,
   "id": "bb551bc0-5405-4b07-ae56-bf6296b271ef",
   "metadata": {},
   "outputs": [],
   "source": [
    "marks = [90, 25, 67, 45, 80]\n",
    "number = 0\n",
    "\n",
    "for mark in marks:\n",
    "    number += 1\n",
    "    if mark >= 60:\n",
    "        print(f\"{number}번 학생 합격\")\n",
    "    else:\n",
    "        print(f\"{number}번 학생 불합격\")"
   ]
  },
  {
   "cell_type": "code",
   "execution_count": null,
   "id": "841ee423-aa5f-4992-be21-4a5dfcf1fe5d",
   "metadata": {},
   "outputs": [],
   "source": [
    "marks = [90, 25, 67, 45, 80]\n",
    "number = 0\n",
    "\n",
    "for mark in marks:\n",
    "    number += 1\n",
    "    if mark < 60:\n",
    "        continue\n",
    "    print(f\"{number}번 학생 ㅊㅋㅊㅋ\")"
   ]
  },
  {
   "cell_type": "code",
   "execution_count": null,
   "id": "47001f90-ab77-4d17-aa7c-a680b059b907",
   "metadata": {},
   "outputs": [],
   "source": [
    "for i in range(10):\n",
    "    if i % 2 == 0:\n",
    "        continue\n",
    "    print(i)"
   ]
  },
  {
   "cell_type": "code",
   "execution_count": null,
   "id": "d9be0d2f-a7c3-415c-80d4-051e9f2ab858",
   "metadata": {},
   "outputs": [],
   "source": [
    "coffee = 2"
   ]
  },
  {
   "cell_type": "code",
   "execution_count": null,
   "id": "5de4ff88-97c5-432c-90ec-730699c632b1",
   "metadata": {},
   "outputs": [],
   "source": [
    "if coffee > 0:\n",
    "    money = int(input('돈 넣어'))\n",
    "    if money > 300:\n",
    "        print(f\"거스름돈 {money - 300} 커피 받아라\")\n",
    "        coffee -= 1\n",
    "    elif money == 300:\n",
    "        print(\"커피받으삼\")\n",
    "        coffee -= 1\n",
    "    else:\n",
    "        print(\"돈 더 넣어라\")\n",
    "else:\n",
    "    print(\"커피없음 가라\")"
   ]
  },
  {
   "cell_type": "code",
   "execution_count": null,
   "id": "13f57a03-8ab5-42e5-8119-56329c2bd51a",
   "metadata": {},
   "outputs": [],
   "source": [
    "sum = 0\n",
    "for i in range(1,11):\n",
    "    sum = sum + i\n",
    "print(sum)\n",
    "\n"
   ]
  },
  {
   "cell_type": "code",
   "execution_count": null,
   "id": "d2352997-bd5d-42ba-adb0-1e8bf564cca7",
   "metadata": {},
   "outputs": [],
   "source": [
    "sum = 0\n",
    "for i in range(1,131):\n",
    "    sum = sum + i\n",
    "print(sum)"
   ]
  },
  {
   "cell_type": "code",
   "execution_count": null,
   "id": "919b8b50-d2f3-4d1f-9bcb-787df0291092",
   "metadata": {},
   "outputs": [],
   "source": [
    "marks = [90, 25, 67, 45, 80]\n",
    "for i in range(len(marks)):\n",
    "    if marks[i] < 60:\n",
    "        continue\n",
    "    print(f\"{i+1}번 학생 ㅊㅋㅊㅋ\")"
   ]
  },
  {
   "cell_type": "code",
   "execution_count": null,
   "id": "1676a696-a5ce-4e65-a1a5-5a3e73474450",
   "metadata": {},
   "outputs": [],
   "source": [
    "import calendar\n",
    "c = calendar.TextCalendar(calendar.SUNDAY)\n",
    "print(c.formatmonth(2025,2))"
   ]
  },
  {
   "cell_type": "markdown",
   "id": "f5069ce8-02e8-4654-927a-6e30385b3221",
   "metadata": {},
   "source": [
    "### range 함수"
   ]
  },
  {
   "cell_type": "code",
   "execution_count": null,
   "id": "c32cc89e-6135-4219-bdd3-1e03bddc90cc",
   "metadata": {},
   "outputs": [],
   "source": [
    "import time as t\n",
    "for x in range(11):\n",
    "    print(\"|\", end='')\n",
    "    t.sleep(1)"
   ]
  },
  {
   "cell_type": "code",
   "execution_count": null,
   "id": "0a4e0e3c-da73-4c17-b4fe-459ec27b7001",
   "metadata": {},
   "outputs": [],
   "source": [
    "\n",
    "\n",
    "lt = []\n",
    "tp = []\n",
    "length = 10000000\n",
    "for l in range(length):\n",
    "    lt.append(l)\n",
    "for t in range(length):\n",
    "    tp.append(t)\n",
    "tp = tuple(tp)\n",
    "\n",
    "print(type(lt))\n",
    "print(type(tp))\n",
    "\n"
   ]
  },
  {
   "cell_type": "code",
   "execution_count": null,
   "id": "1099ed41-d83b-42e0-9020-33745fb58594",
   "metadata": {},
   "outputs": [],
   "source": [
    "import time\n",
    "start = time.time()\n",
    "print(start)\n",
    "\n",
    "for x in lt:\n",
    "    a = [1,2,3,4,5]\n",
    "\n",
    "print(time.time() - start)"
   ]
  },
  {
   "cell_type": "code",
   "execution_count": null,
   "id": "def10a54-2dc5-41df-bbea-d6f97e63cfd0",
   "metadata": {},
   "outputs": [],
   "source": [
    "start = time.time()\n",
    "print(start)\n",
    "\n",
    "for y in tp:\n",
    "    b = (1,2,3,4,5)\n",
    "\n",
    "print(time.time() - start)"
   ]
  },
  {
   "cell_type": "code",
   "execution_count": null,
   "id": "aff42e03-4124-4d7a-849e-d66fc39e0fc9",
   "metadata": {},
   "outputs": [],
   "source": [
    "!pip -V"
   ]
  },
  {
   "cell_type": "code",
   "execution_count": null,
   "id": "7a123e25-1003-4753-9a50-cce398d62041",
   "metadata": {},
   "outputs": [],
   "source": [
    "!pip install tqdm"
   ]
  },
  {
   "cell_type": "code",
   "execution_count": null,
   "id": "8170f0d0-9c44-451d-b769-029c18fb79b4",
   "metadata": {},
   "outputs": [],
   "source": [
    "!python.exe -m pip install --upgrade pip"
   ]
  },
  {
   "cell_type": "code",
   "execution_count": null,
   "id": "f9a49433-c3d9-4470-b8db-a00e9c9eb219",
   "metadata": {},
   "outputs": [],
   "source": [
    "import tqdm\n",
    "import time\n",
    "\n",
    "for x in tqdm.tqdm(range(100)):\n",
    "    pass\n",
    "    time.sleep(0.1)"
   ]
  },
  {
   "cell_type": "code",
   "execution_count": null,
   "id": "35b64334-0df4-4392-957e-68794e6d318f",
   "metadata": {},
   "outputs": [],
   "source": [
    "import requests\n",
    "from bs4 import BeautifulSoup\n",
    "\n",
    "url = 'https://api.bithumb.com/public/ticker/ALL_KRW'\n",
    "response = requests.get(url).json()\n",
    "\n",
    "op = int(response['data']['BTC']['opening_price'])\n",
    "cp = int(response['data']['BTC']['closing_price'])\n",
    "max_p = int(response['data']['BTC']['max_price'])\n",
    "min_p = int(response['data']['BTC']['min_price'])\n",
    "change = max_p - min_p"
   ]
  },
  {
   "cell_type": "code",
   "execution_count": null,
   "id": "3d379f91-62ed-4ab6-a646-78cfb3266c0f",
   "metadata": {},
   "outputs": [],
   "source": [
    "import requests\n",
    "from bs4 import BeautifulSoup\n",
    "\n",
    "url = 'https://api.bithumb.com/v1/candles/minutes/1?market=KRW-BTC&count=1'\n",
    "response = requests.get(url).json()\n",
    "current_price = int(response[0]['trade_price'])\n",
    "\n",
    "if (op + change) > max_p:\n",
    "    print(f\"최대가 : {max_p:,}원\\n최소가 : {min_p:,}원\\n시작가 : {op:,}원\\n변화폭 : {change:,}원\\n현재가 : {current_price:,}원\\n상승장임 익절 ㄱㄱ\")\n",
    "else:\n",
    "    print(f\"최대가 : {max_p:,}원\\n최소가 : {min_p:,}원\\n시작가 : {op:,}원\\n변화폭 : {change:,}원\\n현재가 : {current_price:,}원\\n하락장임 손절 ㄱㄱ\")"
   ]
  },
  {
   "cell_type": "code",
   "execution_count": null,
   "id": "bc4d4378-6c2d-4315-81e2-64b40908b8fb",
   "metadata": {},
   "outputs": [],
   "source": [
    "for i in range (2,10):\n",
    "    print(f\"{i}단\")\n",
    "    for j in range(1, 10):\n",
    "        print(f\"{i} * {j} = {j * i}\")\n"
   ]
  },
  {
   "cell_type": "code",
   "execution_count": null,
   "id": "e194960d-7b58-4aef-a077-8a207fafd0a0",
   "metadata": {},
   "outputs": [],
   "source": [
    "# Q1\n",
    "print(\"answer : shirt\")"
   ]
  },
  {
   "cell_type": "code",
   "execution_count": null,
   "id": "be667af6-c50c-4fc0-96fd-9cfbe1f081e4",
   "metadata": {},
   "outputs": [],
   "source": [
    "# Q2\n",
    "result = 0\n",
    "i = 1\n",
    "while i <= 1000:\n",
    "    if i % 3 == 0:\n",
    "        result += i\n",
    "    i += 1\n",
    "\n",
    "print(result)"
   ]
  },
  {
   "cell_type": "code",
   "execution_count": null,
   "id": "cd2dd396-0afa-4aaa-91ce-f315dac5deff",
   "metadata": {},
   "outputs": [],
   "source": [
    "# Q3\n",
    "i = 0\n",
    "while True:\n",
    "    i += 1\n",
    "    if i > 5 : break\n",
    "    print('*' * i)"
   ]
  },
  {
   "cell_type": "code",
   "execution_count": null,
   "id": "b2645897-eb23-4c0d-88e3-b620451dba2b",
   "metadata": {},
   "outputs": [],
   "source": [
    "# Q4\n",
    "for i in range(1,101):\n",
    "    print(i)"
   ]
  },
  {
   "cell_type": "code",
   "execution_count": null,
   "id": "f1c58e1e-e5cf-48d3-b3e9-5f70eedf9307",
   "metadata": {},
   "outputs": [],
   "source": [
    "# Q5\n",
    "A = [70, 60, 55, 75, 95, 90, 80, 80, 85, 100]\n",
    "total = 0\n",
    "for score in A:\n",
    "    total += score\n",
    "average = total / len(A)\n",
    "print(average)"
   ]
  },
  {
   "cell_type": "code",
   "execution_count": null,
   "id": "6b74c09b-a92d-42c2-a8f2-1159fa98a04c",
   "metadata": {},
   "outputs": [],
   "source": [
    "# Q6\n",
    "numbers = [1,2,3,4,5]\n",
    "result = [n * 2 for n in numbers if n % 2 == 1]\n",
    "print(result)\n"
   ]
  },
  {
   "cell_type": "markdown",
   "id": "e10f46a6-8d2b-49a9-b655-57f02bed96c9",
   "metadata": {},
   "source": [
    "### 리스트 컴프리헨션"
   ]
  },
  {
   "cell_type": "code",
   "execution_count": null,
   "id": "36da1d04-4fbe-40e7-9f95-2acea6020195",
   "metadata": {},
   "outputs": [],
   "source": [
    "a = [1,2,3,4]\n",
    "result = []\n",
    "for num in a:\n",
    "    result.append(num * 3)\n",
    "\n",
    "print(result)"
   ]
  },
  {
   "cell_type": "code",
   "execution_count": null,
   "id": "54d03b51-45e6-4cb5-965f-1487c1a2e1c3",
   "metadata": {},
   "outputs": [],
   "source": [
    "a = [1,2,3,4]\n",
    "result = [num * 3 for num in a]\n",
    "print(result)"
   ]
  },
  {
   "cell_type": "code",
   "execution_count": null,
   "id": "470b5897-e4f0-4c1f-9c49-693d691e1b34",
   "metadata": {},
   "outputs": [],
   "source": [
    "a = [x * 3 for x in range(10) if x % 2 == 0]\n",
    "print(a)"
   ]
  },
  {
   "cell_type": "code",
   "execution_count": null,
   "id": "3db2df25-eaf5-44cb-8957-f04d00ce5177",
   "metadata": {},
   "outputs": [],
   "source": [
    "result = [i * j for i in range(2, 10) for j in range(1, 10)]\n",
    "print(result)"
   ]
  },
  {
   "cell_type": "code",
   "execution_count": 29,
   "id": "650f5c42-8b21-445d-872c-43d104c77f74",
   "metadata": {},
   "outputs": [
    {
     "name": "stdout",
     "output_type": "stream",
     "text": [
      "==============================\n",
      "1번 : 13295번, 확률 : 13.30%\n",
      "2번 : 13121번, 확률 : 13.12%\n",
      "3번 : 13394번, 확률 : 13.39%\n",
      "4번 : 13221번, 확률 : 13.22%\n",
      "5번 : 13230번, 확률 : 13.23%\n",
      "6번 : 13196번, 확률 : 13.20%\n",
      "7번 : 13170번, 확률 : 13.17%\n",
      "8번 : 13209번, 확률 : 13.21%\n",
      "9번 : 13281번, 확률 : 13.28%\n",
      "10번 : 13271번, 확률 : 13.27%\n",
      "11번 : 13199번, 확률 : 13.20%\n",
      "12번 : 13362번, 확률 : 13.36%\n",
      "13번 : 13442번, 확률 : 13.44%\n",
      "14번 : 13282번, 확률 : 13.28%\n",
      "15번 : 13376번, 확률 : 13.38%\n",
      "16번 : 13493번, 확률 : 13.49%\n",
      "17번 : 12993번, 확률 : 12.99%\n",
      "18번 : 13518번, 확률 : 13.52%\n",
      "19번 : 13284번, 확률 : 13.28%\n",
      "20번 : 13176번, 확률 : 13.18%\n",
      "21번 : 13212번, 확률 : 13.21%\n",
      "22번 : 13444번, 확률 : 13.44%\n",
      "23번 : 13282번, 확률 : 13.28%\n",
      "24번 : 13365번, 확률 : 13.36%\n",
      "25번 : 13270번, 확률 : 13.27%\n",
      "26번 : 13448번, 확률 : 13.45%\n",
      "27번 : 13369번, 확률 : 13.37%\n",
      "28번 : 13291번, 확률 : 13.29%\n",
      "29번 : 13593번, 확률 : 13.59%\n",
      "30번 : 13457번, 확률 : 13.46%\n",
      "31번 : 13368번, 확률 : 13.37%\n",
      "32번 : 13504번, 확률 : 13.50%\n",
      "33번 : 13268번, 확률 : 13.27%\n",
      "34번 : 13260번, 확률 : 13.26%\n",
      "35번 : 13498번, 확률 : 13.50%\n",
      "36번 : 13442번, 확률 : 13.44%\n",
      "37번 : 13532번, 확률 : 13.53%\n",
      "38번 : 13542번, 확률 : 13.54%\n",
      "39번 : 13352번, 확률 : 13.35%\n",
      "40번 : 13241번, 확률 : 13.24%\n",
      "41번 : 13279번, 확률 : 13.28%\n",
      "42번 : 13352번, 확률 : 13.35%\n",
      "43번 : 13413번, 확률 : 13.41%\n",
      "44번 : 13446번, 확률 : 13.45%\n",
      "45번 : 13259번, 확률 : 13.26%\n",
      "==============================\n",
      "추천 숫자 3개:29번,38번,37번\n"
     ]
    }
   ],
   "source": [
    "import random\n",
    "\n",
    "lotto = []\n",
    "lotto_box = []\n",
    "try_num = 100000\n",
    "\n",
    "while len(lotto_bFox) < try_num:\n",
    "    while len(lotto) < 6 :\n",
    "        random_number = random.randint(1,45)\n",
    "        if random_number not in lotto:\n",
    "            lotto.append(random_number)\n",
    "    lotto.sort()\n",
    "    lotto_box.append(lotto)\n",
    "    lotto = []\n",
    "\n",
    "count = []\n",
    "count_box = []\n",
    "\n",
    "for j in range(try_num):\n",
    "    for i in range(1,46):\n",
    "        count.append(lotto_box[j].count(i))\n",
    "    count_box.append(count)\n",
    "    count = []\n",
    "\n",
    "index_num = []\n",
    "for i in range(45):\n",
    "    index_num.append(0)\n",
    "\n",
    "for i in range(try_num):\n",
    "    for j in range(45):\n",
    "        if count_box[i][j] == 1:\n",
    "            index_num[j] += 1\n",
    "\n",
    "copy_indexNum = sorted(index_num,reverse=True)\n",
    "      \n",
    "print('=' * 30)\n",
    "for i in range(45):\n",
    "    print(f\"{i + 1}번 : {index_num[i]}번, 확률 : {index_num[i]/try_num*100:.2f}%\")\n",
    "print('=' * 30)\n",
    "print(f\"추천 숫자 3개:{index_num.index(copy_indexNum[0]) + 1}번,{index_num.index(copy_indexNum[1]) + 1}번,{index_num.index(copy_indexNum[2]) + 1}번\")\n"
   ]
  },
  {
   "cell_type": "code",
   "execution_count": 45,
   "id": "bc9c4e4f-ae46-42e2-9a16-0eaa57fa9ee7",
   "metadata": {},
   "outputs": [
    {
     "name": "stdin",
     "output_type": "stream",
     "text": [
      "숫자 넣어보셈 102300\n"
     ]
    },
    {
     "name": "stdout",
     "output_type": "stream",
     "text": [
      "5만원 : 2장\n",
      "만원 : 0장\n",
      "5천원 : 0장\n",
      "천원 : 2장\n",
      "5백원 : 0장\n",
      "백원 : 3장\n",
      "50원 : 0개\n",
      "10원 : 0개\n"
     ]
    }
   ],
   "source": [
    "# 3670원 >> 1000원 3장 500원 1개 100원 1개 50원 1개 10원 2개\n",
    "input_money = int(input('숫자 넣어보셈'))\n",
    "\n",
    "if input_money / 50000 > 0:\n",
    "    print(f\"5만원 : {input_money // 50000}장\")\n",
    "    input_money = input_money - (input_money // 50000) * 50000\n",
    "else:\n",
    "    print(\"5만원 : 0장\")\n",
    "if input_money / 10000 > 0:\n",
    "    print(f\"만원 : {input_money // 10000}장\")\n",
    "    input_money = input_money - (input_money // 10000) * 10000\n",
    "else:\n",
    "    print(\"만원 : 0장\")\n",
    "if input_money / 5000 > 0:\n",
    "    print(f\"5천원 : {input_money // 5000}장\")\n",
    "    input_money = input_money - (input_money // 5000) * 5000\n",
    "else:\n",
    "    print(\"5천원 : 0장\")\n",
    "if input_money / 1000 > 0:\n",
    "    print(f\"천원 : {input_money // 1000}장\")\n",
    "    input_money = input_money - (input_money // 1000) * 1000\n",
    "else:\n",
    "    print(\"천원 : 0장\")\n",
    "if input_money / 500 > 0:\n",
    "    print(f\"5백원 : {input_money // 500}장\")\n",
    "    input_money = input_money - (input_money // 500) * 500\n",
    "else:\n",
    "    print(\"5백원 : 0개\")\n",
    "if input_money / 100 > 0:\n",
    "    print(f\"백원 : {input_money // 100}장\")\n",
    "    input_money = input_money - (input_money // 100) * 100\n",
    "else:\n",
    "    print(\"백원 : 0개\")\n",
    "if input_money / 50 > 0:\n",
    "    print(f\"50원 : {input_money // 50}장\")\n",
    "    input_money = input_money - (input_money // 50) * 50\n",
    "else:\n",
    "    print(\"50원 : 0개\")\n",
    "if input_money / 10 > 0:\n",
    "    print(f\"10원 : {input_money // 10}장\")\n",
    "    input_money = input_money - (input_money // 10) * 10\n",
    "else:\n",
    "    print(\"10원 : 0개\")"
   ]
  },
  {
   "cell_type": "code",
   "execution_count": 60,
   "id": "924dee62-75fc-41f0-9774-a9d7750b33db",
   "metadata": {},
   "outputs": [
    {
     "name": "stdout",
     "output_type": "stream",
     "text": [
      "[11, 22, 33]\n"
     ]
    }
   ],
   "source": [
    "arr1 = [33,11,22]\n",
    "\n",
    "if arr1[0] > arr1[1]:\n",
    "    arr1[0], arr1[1] = arr1[1], arr1[0]\n",
    "if arr1[0] > arr1[2]:\n",
    "    arr1[0], arr1[2] = arr1[2], arr1[0]\n",
    "if arr1[1] > arr1[2]:\n",
    "    arr1[1], arr1[2] = arr1[2], arr1[1]\n",
    "\n",
    "print(arr1)"
   ]
  },
  {
   "cell_type": "code",
   "execution_count": 65,
   "id": "3a9ac7bb-3910-4fdb-8741-bf45ce8fd2f3",
   "metadata": {},
   "outputs": [
    {
     "name": "stdout",
     "output_type": "stream",
     "text": [
      "[11, 22, 33, 44]\n"
     ]
    }
   ],
   "source": [
    "arr2 = [33,11,22,44]\n",
    "\n",
    "if arr2[0] > arr2[1]:\n",
    "    arr2[0], arr2[1] = arr2[1], arr2[0]\n",
    "if arr2[0] > arr2[2]:\n",
    "    arr2[0], arr2[2] = arr2[2], arr2[0]\n",
    "if arr2[0] > arr2[3]:\n",
    "    arr2[0], arr2[3] = arr2[3], arr2[0]\n",
    "if arr2[1] > arr2[2]:\n",
    "    arr2[1], arr2[2] = arr2[2], arr2[1]\n",
    "if arr2[1] > arr2[3]:\n",
    "    arr2[1], arr2[3] = arr2[3], arr2[1]\n",
    "if arr2[2] > arr2[3]:\n",
    "    arr2[2], arr2[3] = arr2[3], arr2[2]\n",
    "\n",
    "print(arr2)"
   ]
  },
  {
   "cell_type": "code",
   "execution_count": 67,
   "id": "d18f28f7-9ad3-4e8d-ae10-4a4059d3d9f4",
   "metadata": {},
   "outputs": [
    {
     "name": "stdout",
     "output_type": "stream",
     "text": [
      "33\n"
     ]
    }
   ],
   "source": [
    "arr3 = [33,11,22]\n",
    "\n",
    "max_num1 = 0\n",
    "if arr3[0] > arr3[1]:\n",
    "    max_num1 = arr3[0]\n",
    "else:\n",
    "    max_num1 = arr3[1]\n",
    "if arr3[0] > arr3[2]:\n",
    "    max_num1 = arr3[0]\n",
    "else:\n",
    "    max_num1 = arr3[2]\n",
    "if arr3[1] > arr3[2]:\n",
    "    max_num1 = arr3[1]\n",
    "else:\n",
    "    max_num1 = arr3[2]\n",
    "\n",
    "print(max_num)"
   ]
  },
  {
   "cell_type": "code",
   "execution_count": 74,
   "id": "04ba3826-476d-4b06-9ba5-9ce192716633",
   "metadata": {},
   "outputs": [
    {
     "name": "stdout",
     "output_type": "stream",
     "text": [
      "44\n"
     ]
    }
   ],
   "source": [
    "arr4 = [33,11,22,44]\n",
    "\n",
    "max_num2 = 0\n",
    "if arr4[0] > arr4[1]:\n",
    "    max_num2 = arr4[0]\n",
    "else:\n",
    "    max_num2 = arr4[1]\n",
    "if arr4[0] > arr4[2]:\n",
    "    max_num2 = arr4[0]\n",
    "else:\n",
    "    max_num2 = arr4[2]\n",
    "if arr4[0] > arr4[3]:\n",
    "    max_num2 = arr4[0]\n",
    "else:\n",
    "    max_num2 = arr4[3]\n",
    "if arr4[1] > arr4[2]:\n",
    "    max_num2 = arr4[1]\n",
    "else:\n",
    "    max_num2 = arr4[2]\n",
    "if arr4[1] > arr4[3]:\n",
    "    max_num2 = arr4[1]\n",
    "else:\n",
    "    max_num2 = arr4[3]\n",
    "if arr4[2] > arr4[3]:\n",
    "    max_num2 = arr4[2]\n",
    "else:\n",
    "    max_num2 = arr4[3]\n",
    "\n",
    "print(max_num2)"
   ]
  },
  {
   "cell_type": "code",
   "execution_count": 84,
   "id": "68a15d8d-0d20-44f4-af81-cc10fbe7ecfd",
   "metadata": {},
   "outputs": [],
   "source": [
    "import random\n",
    "rsp = ['가위', '바위', '보']\n",
    "result = []"
   ]
  },
  {
   "cell_type": "code",
   "execution_count": 95,
   "id": "9e6a9eb0-5fa7-4a1b-af59-107d97cfe1ae",
   "metadata": {},
   "outputs": [
    {
     "name": "stdin",
     "output_type": "stream",
     "text": [
      "가위, 바위, 보 보\n"
     ]
    },
    {
     "name": "stdout",
     "output_type": "stream",
     "text": [
      "==============================\n",
      "컴퓨터: 가위,\n",
      "당신: 보\n",
      "당신 짐\n",
      "------------------------------\n",
      "당신 승률 37%\n",
      "컴퓨터 승률 37%\n",
      "무승부 비율 25%\n",
      "==============================\n"
     ]
    }
   ],
   "source": [
    "computer = random.choice(rsp)\n",
    "\n",
    "person = input('가위, 바위, 보')\n",
    "\n",
    "if person in rsp:\n",
    "    print(\"=\" * 30)\n",
    "    if computer == rsp[0]:\n",
    "        if person == rsp[0]:\n",
    "            print(f\"컴퓨터: {rsp[0]},\\n당신: {rsp[0]}\\n비김\\n{\"-\" * 30}\")\n",
    "            result.append(2)\n",
    "        elif person == rsp[1]:\n",
    "            print(f\"컴퓨터: {rsp[0]},\\n당신: {rsp[1]}\\n당신 이김\\n{\"-\" * 30}\")\n",
    "            result.append(0)\n",
    "        else:\n",
    "            print(f\"컴퓨터: {rsp[0]},\\n당신: {rsp[2]}\\n당신 짐\\n{\"-\" * 30}\")\n",
    "            result.append(1)\n",
    "    elif computer == rsp[1]:\n",
    "        if person == rsp[0]:\n",
    "            print(f\"컴퓨터: {rsp[1]},\\n당신: {rsp[0]}\\n당신 짐\\n{\"-\" * 30}\")\n",
    "            result.append(1)\n",
    "        elif person == rsp[1]:\n",
    "            print(f\"컴퓨터: {rsp[1]},\\n당신: {rsp[1]}\\n비김\\n{\"-\" * 30}\")\n",
    "            result.append(2)\n",
    "        else:\n",
    "            print(f\"컴퓨터: {rsp[1]},\\n당신: {rsp[2]}\\n당신 이김\\n{\"-\" * 30}\")\n",
    "            result.append(0)\n",
    "    else:\n",
    "        if person == rsp[0]:\n",
    "            print(f\"컴퓨터: {rsp[2]},\\n당신: {rsp[0]}\\n당신 이김\\n{\"-\" * 30}\")\n",
    "            result.append(0)\n",
    "        elif person == rsp[1]:\n",
    "            print(f\"컴퓨터: {rsp[2]},\\n당신: {rsp[1]}\\n당신 짐\\n{\"-\" * 30}\")\n",
    "            result.append(2)\n",
    "        else:\n",
    "            print(f\"컴퓨터: {rsp[2]},\\n당신: {rsp[2]}\\n비김\\n{\"-\" * 30}\")\n",
    "            result.append(0)\n",
    "    print(f\"당신 승률 {int(result.count(0)/len(result) * 100)}%\\n컴퓨터 승률 {int(result.count(1)/len(result) * 100)}%\\n무승부 비율 {int(result.count(2)/len(result) * 100)}%\")\n",
    "    print(\"=\" * 30)\n",
    "else:\n",
    "    print('가위 바위 보 중에 내라')\n"
   ]
  },
  {
   "cell_type": "code",
   "execution_count": null,
   "id": "c298ec0c-5b6a-472e-b7b7-b0e0880726e1",
   "metadata": {},
   "outputs": [],
   "source": []
  }
 ],
 "metadata": {
  "kernelspec": {
   "display_name": "Python 3 (ipykernel)",
   "language": "python",
   "name": "python3"
  },
  "language_info": {
   "codemirror_mode": {
    "name": "ipython",
    "version": 3
   },
   "file_extension": ".py",
   "mimetype": "text/x-python",
   "name": "python",
   "nbconvert_exporter": "python",
   "pygments_lexer": "ipython3",
   "version": "3.13.1"
  }
 },
 "nbformat": 4,
 "nbformat_minor": 5
}
