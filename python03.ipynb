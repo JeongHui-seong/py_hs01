{
 "cells": [
  {
   "cell_type": "markdown",
   "id": "1e09c4d4-feb8-44e5-94d7-6ee7620b02a7",
   "metadata": {},
   "source": [
    "# 제어문"
   ]
  },
  {
   "cell_type": "markdown",
   "id": "9e710c45-b6c4-4063-8aac-93c59535cdb1",
   "metadata": {},
   "source": [
    "## if문"
   ]
  },
  {
   "cell_type": "code",
   "execution_count": 11,
   "id": "81e88bd3-a6e8-470c-826b-f66ce5a4e67b",
   "metadata": {},
   "outputs": [
    {
     "name": "stdout",
     "output_type": "stream",
     "text": [
      "True\n"
     ]
    }
   ],
   "source": [
    "if True :\n",
    "    print(\"True\")\n",
    "if False :\n",
    "    print(\"zzz\")"
   ]
  },
  {
   "cell_type": "code",
   "execution_count": 18,
   "id": "8badac2c-163c-4777-bb66-22778b7fb0b4",
   "metadata": {},
   "outputs": [
    {
     "name": "stdout",
     "output_type": "stream",
     "text": [
      "9\n",
      "8\n",
      "7\n",
      "6\n",
      "5\n",
      "4\n",
      "3\n",
      "2\n",
      "1\n",
      "0\n"
     ]
    }
   ],
   "source": [
    "num = 10\n",
    "while num:\n",
    "    num -= 1\n",
    "    print(num)"
   ]
  },
  {
   "cell_type": "code",
   "execution_count": 22,
   "id": "224a069d-82bc-47aa-a6c3-bee93dfcd963",
   "metadata": {},
   "outputs": [
    {
     "name": "stdin",
     "output_type": "stream",
     "text": [
      "얼마있냐 12345\n"
     ]
    },
    {
     "name": "stdout",
     "output_type": "stream",
     "text": [
      "택시타라\n"
     ]
    }
   ],
   "source": [
    "inp1 = int(input('얼마있냐'))\n",
    "\n",
    "if inp1 >= 3000:\n",
    "    print('택시타라')\n",
    "else:\n",
    "    print('걸어가라')"
   ]
  },
  {
   "cell_type": "code",
   "execution_count": 24,
   "id": "734170c6-162f-465d-9220-85e689f4722c",
   "metadata": {},
   "outputs": [
    {
     "name": "stdout",
     "output_type": "stream",
     "text": [
      "\n",
      " True\n",
      "False\n",
      "False\n",
      "False\n",
      "\n",
      " True\n",
      "True\n",
      "True\n",
      "False\n",
      "\n",
      " True\n",
      "False\n"
     ]
    }
   ],
   "source": [
    "# And\n",
    "print('\\n',True and True)\n",
    "print(True and False)\n",
    "print(False and True)\n",
    "print(False and False)\n",
    "# Or\n",
    "print('\\n',True or True)\n",
    "print(True or False)\n",
    "print(False or True)\n",
    "print(False or False)\n",
    "# Not\n",
    "print('\\n',True)\n",
    "print(not True)"
   ]
  },
  {
   "cell_type": "code",
   "execution_count": 26,
   "id": "3f1ba37c-96c3-4f5d-adf8-3f5d7730dbad",
   "metadata": {},
   "outputs": [
    {
     "name": "stdout",
     "output_type": "stream",
     "text": [
      "만납시다\n"
     ]
    }
   ],
   "source": [
    "이상형 = True\n",
    "똑똑 = True\n",
    "\n",
    "if 이상형 and 똑똑:\n",
    "    print(\"만납시다\")\n",
    "else:\n",
    "    print(\"만나지 맙시다\")"
   ]
  },
  {
   "cell_type": "code",
   "execution_count": 27,
   "id": "905432ce-e6cc-4510-a09c-935309c9ab88",
   "metadata": {},
   "outputs": [
    {
     "name": "stdout",
     "output_type": "stream",
     "text": [
      "만납시다\n"
     ]
    }
   ],
   "source": [
    "이상형 = False\n",
    "똑똑 = True\n",
    "\n",
    "if 이상형 or 똑똑:\n",
    "    print(\"만납시다\")\n",
    "else:\n",
    "    print(\"만나지 맙시다\")"
   ]
  },
  {
   "cell_type": "code",
   "execution_count": 30,
   "id": "aa2ba751-537b-4ceb-8dc4-da82d5b1ea40",
   "metadata": {},
   "outputs": [
    {
     "name": "stdout",
     "output_type": "stream",
     "text": [
      "bye\n"
     ]
    }
   ],
   "source": [
    "주사 = True\n",
    "\n",
    "if not 주사:\n",
    "    print('good')\n",
    "else:\n",
    "    print('bye')"
   ]
  },
  {
   "cell_type": "code",
   "execution_count": 31,
   "id": "10a0d1d4-234e-4783-85fa-3c2490fe9648",
   "metadata": {},
   "outputs": [
    {
     "name": "stdout",
     "output_type": "stream",
     "text": [
      "택시 ㄱㄱ\n"
     ]
    }
   ],
   "source": [
    "money = 2000\n",
    "card = True\n",
    "\n",
    "if money >= 3000 or card:\n",
    "    print(\"택시 ㄱㄱ\")\n",
    "else:\n",
    "    print(\"뚜벅이\")"
   ]
  },
  {
   "cell_type": "code",
   "execution_count": 34,
   "id": "b1b8c946-3ced-4281-a133-e06e11370fca",
   "metadata": {},
   "outputs": [
    {
     "name": "stdout",
     "output_type": "stream",
     "text": [
      "Bㅎㅇㅎㅇ\n",
      "Cㅎㅇㅎㅇ\n"
     ]
    }
   ],
   "source": [
    "me = 'Python'\n",
    "compA = ['Java', 'Css', 'HTML', 'Javascript', 'C', 'MySQL']\n",
    "compB = ['Java', 'Python', 'Javascript', 'C', 'MySQL']\n",
    "compC = ['Java', 'Python', 'C', 'MySQL']\n",
    "\n",
    "if me in compA:\n",
    "    print('Aㅎㅇㅎㅇ')\n",
    "if me in compB:\n",
    "    print('Bㅎㅇㅎㅇ')\n",
    "if me in compC:\n",
    "    print('Cㅎㅇㅎㅇ')\n"
   ]
  },
  {
   "cell_type": "code",
   "execution_count": 45,
   "id": "37b9ef01-400c-4208-97f0-0e211c895589",
   "metadata": {},
   "outputs": [
    {
     "name": "stdin",
     "output_type": "stream",
     "text": [
      "몇 점임 12\n"
     ]
    },
    {
     "name": "stdout",
     "output_type": "stream",
     "text": [
      "F\n"
     ]
    }
   ],
   "source": [
    "score = int(input('몇 점임'))\n",
    "grade = ''\n",
    "if 0 <= score <= 100:\n",
    "    if score >= 90:\n",
    "        grade = 'A'\n",
    "    elif score >= 80:\n",
    "        grade = 'B'\n",
    "    elif score >= 70:\n",
    "        grade = 'C'\n",
    "    elif score >= 60:\n",
    "        grade = 'D'\n",
    "    else:\n",
    "        grade = 'F'\n",
    "else:\n",
    "    print('다시.')\n",
    "print(f'{grade}')\n"
   ]
  },
  {
   "cell_type": "code",
   "execution_count": 51,
   "id": "2da62d22-30e2-4264-b66a-3b0a71cd71dd",
   "metadata": {},
   "outputs": [
    {
     "name": "stdin",
     "output_type": "stream",
     "text": [
      "몇 도임 9\n"
     ]
    },
    {
     "name": "stdout",
     "output_type": "stream",
     "text": [
      "겨울\n"
     ]
    }
   ],
   "source": [
    "degree = int(input(\"몇 도임\"))\n",
    "season = \"\"\n",
    "\n",
    "if degree >= 25:\n",
    "    season = \"여름\"\n",
    "elif degree >= 15:\n",
    "    season = \"봄\"\n",
    "elif degree >= 10:\n",
    "    season = \"가을\"\n",
    "else:\n",
    "    season = \"겨울\"\n",
    "print(season)"
   ]
  },
  {
   "cell_type": "markdown",
   "id": "ddbcd062-5a2e-478b-bc60-692a2111dd67",
   "metadata": {},
   "source": [
    "## while문"
   ]
  },
  {
   "cell_type": "code",
   "execution_count": 52,
   "id": "2a1333aa-4e5f-4079-8d2c-458113eca685",
   "metadata": {},
   "outputs": [
    {
     "name": "stdout",
     "output_type": "stream",
     "text": [
      "나무를 1번 찍었습니다.\n",
      "나무를 2번 찍었습니다.\n",
      "나무를 3번 찍었습니다.\n",
      "나무를 4번 찍었습니다.\n",
      "나무를 5번 찍었습니다.\n",
      "나무를 6번 찍었습니다.\n",
      "나무를 7번 찍었습니다.\n",
      "나무를 8번 찍었습니다.\n",
      "나무를 9번 찍었습니다.\n",
      "나무를 10번 찍었습니다.\n",
      "나무 넘어가유\n"
     ]
    }
   ],
   "source": [
    "treehit = 0\n",
    "while treehit < 10:\n",
    "    treehit += 1\n",
    "    print(\"나무를 %d번 찍었습니다.\" %treehit)\n",
    "    if treehit == 10:\n",
    "        print('나무 넘어가유')\n",
    "        "
   ]
  },
  {
   "cell_type": "code",
   "execution_count": 55,
   "id": "2bbc237e-e178-4b68-8d2d-4358ad194690",
   "metadata": {},
   "outputs": [
    {
     "name": "stdout",
     "output_type": "stream",
     "text": [
      "나무를 1번 찍었습니다.\n",
      "나무를 2번 찍었습니다.\n",
      "나무를 3번 찍었습니다.\n",
      "나무를 4번 찍었습니다.\n",
      "나무를 5번 찍었습니다.\n",
      "나무를 6번 찍었습니다.\n",
      "나무를 7번 찍었습니다.\n",
      "나무를 8번 찍었습니다.\n",
      "나무를 9번 찍었습니다.\n",
      "나무를 10번 찍었습니다.\n",
      "나무 넘어가유\n"
     ]
    }
   ],
   "source": [
    "treehit = 10\n",
    "while treehit:\n",
    "    print(f\"나무를 {11 - treehit}번 찍었습니다.\")\n",
    "    treehit -= 1\n",
    "print('나무 넘어가유')"
   ]
  },
  {
   "cell_type": "code",
   "execution_count": 57,
   "id": "12bbd5d3-871f-4f8a-9a53-a1d0461f1f03",
   "metadata": {},
   "outputs": [
    {
     "name": "stdout",
     "output_type": "stream",
     "text": [
      "\n",
      "    1. Add\n",
      "    2. Del\n",
      "    3. List\n",
      "    4. Quit\n",
      "\n"
     ]
    },
    {
     "name": "stdin",
     "output_type": "stream",
     "text": [
      " 1\n"
     ]
    },
    {
     "name": "stdout",
     "output_type": "stream",
     "text": [
      "\n",
      "    1. Add\n",
      "    2. Del\n",
      "    3. List\n",
      "    4. Quit\n",
      "\n"
     ]
    },
    {
     "name": "stdin",
     "output_type": "stream",
     "text": [
      " 4\n"
     ]
    }
   ],
   "source": [
    "prompt = \"\"\"\n",
    "    1. Add\n",
    "    2. Del\n",
    "    3. List\n",
    "    4. Quit\n",
    "\"\"\"\n",
    "\n",
    "number = 0\n",
    "while number != 4:\n",
    "    print(prompt)\n",
    "    number = int(input())"
   ]
  },
  {
   "cell_type": "code",
   "execution_count": 142,
   "id": "090e60d6-8b76-4ef0-90be-2f259a45dc52",
   "metadata": {},
   "outputs": [],
   "source": [
    "import random\n",
    "\n",
    "box = []\n",
    "try_num = 100000\n",
    "count_sum = []"
   ]
  },
  {
   "cell_type": "code",
   "execution_count": 144,
   "id": "00074c0a-ec0a-4079-a894-35f5981a43f1",
   "metadata": {},
   "outputs": [
    {
     "name": "stdout",
     "output_type": "stream",
     "text": [
      "1의 갯수 : 16604\n",
      "1의 확률 : 16.60% \n",
      "\n",
      "2의 갯수 : 16770\n",
      "2의 확률 : 16.77% \n",
      "\n",
      "3의 갯수 : 16789\n",
      "3의 확률 : 16.79% \n",
      "\n",
      "4의 갯수 : 16704\n",
      "4의 확률 : 16.70% \n",
      "\n",
      "5의 갯수 : 16386\n",
      "5의 확률 : 16.39% \n",
      "\n",
      "6의 갯수 : 16747\n",
      "6의 확률 : 16.75% \n",
      "\n",
      "가장 많이 나온 숫자: 3\n"
     ]
    }
   ],
   "source": [
    "while len(box) < try_num:\n",
    "    num = random.randint(1,6)\n",
    "    box.append(num)\n",
    "\n",
    "if try_num == len(box):\n",
    "    for i in range(1,7):\n",
    "        print(f\"{i}의 갯수 : {box.count(i)}\")\n",
    "        print(f\"{i}의 확률 : {box.count(i)/try_num * 100:.2f}% \\n\")\n",
    "        count_sum.append(box.count(i))\n",
    "else:\n",
    "    print(\"🤦‍♂️\")\n",
    "\n",
    "print(f\"가장 많이 나온 숫자: {count_sum.index(max(count_sum)) + 1}\")"
   ]
  },
  {
   "cell_type": "markdown",
   "id": "4b293cd1-5ab4-4200-b47d-b1d3a52f4038",
   "metadata": {},
   "source": [
    "## for 반복문"
   ]
  },
  {
   "cell_type": "code",
   "execution_count": 127,
   "id": "33f78aea-6b53-4481-a78d-c2d182206a0a",
   "metadata": {},
   "outputs": [
    {
     "name": "stdout",
     "output_type": "stream",
     "text": [
      "one\n",
      "two\n",
      "three\n"
     ]
    }
   ],
   "source": [
    "text_list = ['one', 'two', 'three']\n",
    "for i in test_list:\n",
    "    print(i)"
   ]
  },
  {
   "cell_type": "code",
   "execution_count": 137,
   "id": "a0d440ab-0b89-489d-a235-b030eeb14ad0",
   "metadata": {},
   "outputs": [
    {
     "name": "stdout",
     "output_type": "stream",
     "text": [
      "3\n",
      "7\n",
      "11\n"
     ]
    }
   ],
   "source": [
    "a = [(1,2),(3,4),(5,6)]\n",
    "for (first, last) in a:\n",
    "    print(first + last)"
   ]
  },
  {
   "cell_type": "code",
   "execution_count": 145,
   "id": "bb551bc0-5405-4b07-ae56-bf6296b271ef",
   "metadata": {},
   "outputs": [
    {
     "name": "stdout",
     "output_type": "stream",
     "text": [
      "1번 학생 합격\n",
      "2번 학생 불합격\n",
      "3번 학생 합격\n",
      "4번 학생 불합격\n",
      "5번 학생 합격\n"
     ]
    }
   ],
   "source": [
    "marks = [90, 25, 67, 45, 80]\n",
    "number = 0\n",
    "\n",
    "for mark in marks:\n",
    "    number += 1\n",
    "    if mark >= 60:\n",
    "        print(f\"{number}번 학생 합격\")\n",
    "    else:\n",
    "        print(f\"{number}번 학생 불합격\")"
   ]
  },
  {
   "cell_type": "code",
   "execution_count": 146,
   "id": "841ee423-aa5f-4992-be21-4a5dfcf1fe5d",
   "metadata": {},
   "outputs": [
    {
     "name": "stdout",
     "output_type": "stream",
     "text": [
      "1번 학생 ㅊㅋㅊㅋ\n",
      "3번 학생 ㅊㅋㅊㅋ\n",
      "5번 학생 ㅊㅋㅊㅋ\n"
     ]
    }
   ],
   "source": [
    "marks = [90, 25, 67, 45, 80]\n",
    "number = 0\n",
    "\n",
    "for mark in marks:\n",
    "    number += 1\n",
    "    if mark < 60:\n",
    "        continue\n",
    "    print(f\"{number}번 학생 ㅊㅋㅊㅋ\")"
   ]
  },
  {
   "cell_type": "code",
   "execution_count": 147,
   "id": "47001f90-ab77-4d17-aa7c-a680b059b907",
   "metadata": {},
   "outputs": [
    {
     "name": "stdout",
     "output_type": "stream",
     "text": [
      "1\n",
      "3\n",
      "5\n",
      "7\n",
      "9\n"
     ]
    }
   ],
   "source": [
    "for i in range(10):\n",
    "    if i % 2 == 0:\n",
    "        continue\n",
    "    print(i)"
   ]
  },
  {
   "cell_type": "code",
   "execution_count": 157,
   "id": "d9be0d2f-a7c3-415c-80d4-051e9f2ab858",
   "metadata": {},
   "outputs": [],
   "source": [
    "coffee = 2"
   ]
  },
  {
   "cell_type": "code",
   "execution_count": 163,
   "id": "5de4ff88-97c5-432c-90ec-730699c632b1",
   "metadata": {},
   "outputs": [
    {
     "name": "stdout",
     "output_type": "stream",
     "text": [
      "커피없음 가라\n"
     ]
    }
   ],
   "source": [
    "if coffee > 0:\n",
    "    money = int(input('돈 넣어'))\n",
    "    if money > 300:\n",
    "        print(f\"거스름돈 {money - 300} 커피 받아라\")\n",
    "        coffee -= 1\n",
    "    elif money == 300:\n",
    "        print(\"커피받으삼\")\n",
    "        coffee -= 1\n",
    "    else:\n",
    "        print(\"돈 더 넣어라\")\n",
    "else:\n",
    "    print(\"커피없음 가라\")"
   ]
  },
  {
   "cell_type": "code",
   "execution_count": 176,
   "id": "13f57a03-8ab5-42e5-8119-56329c2bd51a",
   "metadata": {},
   "outputs": [
    {
     "name": "stdout",
     "output_type": "stream",
     "text": [
      "55\n"
     ]
    }
   ],
   "source": [
    "sum = 0\n",
    "for i in range(1,11):\n",
    "    sum = sum + i\n",
    "print(sum)\n",
    "\n"
   ]
  },
  {
   "cell_type": "code",
   "execution_count": 177,
   "id": "d2352997-bd5d-42ba-adb0-1e8bf564cca7",
   "metadata": {},
   "outputs": [
    {
     "name": "stdout",
     "output_type": "stream",
     "text": [
      "8515\n"
     ]
    }
   ],
   "source": [
    "sum = 0\n",
    "for i in range(1,131):\n",
    "    sum = sum + i\n",
    "print(sum)"
   ]
  },
  {
   "cell_type": "code",
   "execution_count": 180,
   "id": "919b8b50-d2f3-4d1f-9bcb-787df0291092",
   "metadata": {},
   "outputs": [
    {
     "name": "stdout",
     "output_type": "stream",
     "text": [
      "1번 학생 ㅊㅋㅊㅋ\n",
      "3번 학생 ㅊㅋㅊㅋ\n",
      "5번 학생 ㅊㅋㅊㅋ\n"
     ]
    }
   ],
   "source": [
    "marks = [90, 25, 67, 45, 80]\n",
    "for i in range(len(marks)):\n",
    "    if marks[i] < 60:\n",
    "        continue\n",
    "    print(f\"{i+1}번 학생 ㅊㅋㅊㅋ\")"
   ]
  },
  {
   "cell_type": "code",
   "execution_count": 182,
   "id": "1676a696-a5ce-4e65-a1a5-5a3e73474450",
   "metadata": {},
   "outputs": [
    {
     "name": "stdout",
     "output_type": "stream",
     "text": [
      "   February 2025\n",
      "Su Mo Tu We Th Fr Sa\n",
      "                   1\n",
      " 2  3  4  5  6  7  8\n",
      " 9 10 11 12 13 14 15\n",
      "16 17 18 19 20 21 22\n",
      "23 24 25 26 27 28\n",
      "\n"
     ]
    }
   ],
   "source": [
    "import calendar\n",
    "c = calendar.TextCalendar(calendar.SUNDAY)\n",
    "print(c.formatmonth(2025,2))"
   ]
  },
  {
   "cell_type": "markdown",
   "id": "f5069ce8-02e8-4654-927a-6e30385b3221",
   "metadata": {},
   "source": [
    "### range 함수"
   ]
  },
  {
   "cell_type": "code",
   "execution_count": 189,
   "id": "c32cc89e-6135-4219-bdd3-1e03bddc90cc",
   "metadata": {},
   "outputs": [
    {
     "name": "stdout",
     "output_type": "stream",
     "text": [
      "|||||||||||"
     ]
    }
   ],
   "source": [
    "import time as t\n",
    "for x in range(11):\n",
    "    print(\"|\", end='')\n",
    "    t.sleep(1)"
   ]
  },
  {
   "cell_type": "code",
   "execution_count": 202,
   "id": "0a4e0e3c-da73-4c17-b4fe-459ec27b7001",
   "metadata": {},
   "outputs": [
    {
     "name": "stdout",
     "output_type": "stream",
     "text": [
      "1738904967.8530762\n",
      "<class 'list'>\n",
      "<class 'tuple'>\n",
      "1.7944564819335938\n"
     ]
    }
   ],
   "source": [
    "\n",
    "\n",
    "lt = []\n",
    "tp = []\n",
    "length = 10000000\n",
    "for l in range(length):\n",
    "    lt.append(l)\n",
    "for t in range(length):\n",
    "    tp.append(t)\n",
    "tp = tuple(tp)\n",
    "\n",
    "print(type(lt))\n",
    "print(type(tp))\n",
    "\n"
   ]
  },
  {
   "cell_type": "code",
   "execution_count": 209,
   "id": "1099ed41-d83b-42e0-9020-33745fb58594",
   "metadata": {},
   "outputs": [
    {
     "name": "stdout",
     "output_type": "stream",
     "text": [
      "1738905175.7761042\n",
      "0.7997736930847168\n"
     ]
    }
   ],
   "source": [
    "import time\n",
    "start = time.time()\n",
    "print(start)\n",
    "\n",
    "for x in lt:\n",
    "    a = [1,2,3,4,5]\n",
    "\n",
    "print(time.time() - start)"
   ]
  },
  {
   "cell_type": "code",
   "execution_count": 210,
   "id": "def10a54-2dc5-41df-bbea-d6f97e63cfd0",
   "metadata": {},
   "outputs": [
    {
     "name": "stdout",
     "output_type": "stream",
     "text": [
      "1738905176.9846926\n",
      "0.40306520462036133\n"
     ]
    }
   ],
   "source": [
    "start = time.time()\n",
    "print(start)\n",
    "\n",
    "for y in tp:\n",
    "    b = (1,2,3,4,5)\n",
    "\n",
    "print(time.time() - start)"
   ]
  },
  {
   "cell_type": "code",
   "execution_count": 212,
   "id": "aff42e03-4124-4d7a-849e-d66fc39e0fc9",
   "metadata": {},
   "outputs": [
    {
     "name": "stdout",
     "output_type": "stream",
     "text": [
      "pip 24.3.1 from C:\\Users\\Admin\\AppData\\Local\\Programs\\Python\\Python313\\Lib\\site-packages\\pip (python 3.13)\n",
      "\n"
     ]
    }
   ],
   "source": [
    "!pip -V"
   ]
  },
  {
   "cell_type": "code",
   "execution_count": 213,
   "id": "7a123e25-1003-4753-9a50-cce398d62041",
   "metadata": {},
   "outputs": [
    {
     "name": "stdout",
     "output_type": "stream",
     "text": [
      "Collecting tqdm\n",
      "  Downloading tqdm-4.67.1-py3-none-any.whl.metadata (57 kB)\n",
      "Requirement already satisfied: colorama in c:\\users\\admin\\appdata\\local\\programs\\python\\python313\\lib\\site-packages (from tqdm) (0.4.6)\n",
      "Downloading tqdm-4.67.1-py3-none-any.whl (78 kB)\n",
      "Installing collected packages: tqdm\n",
      "Successfully installed tqdm-4.67.1\n"
     ]
    },
    {
     "name": "stderr",
     "output_type": "stream",
     "text": [
      "\n",
      "[notice] A new release of pip is available: 24.3.1 -> 25.0\n",
      "[notice] To update, run: python.exe -m pip install --upgrade pip\n"
     ]
    }
   ],
   "source": [
    "!pip install tqdm"
   ]
  },
  {
   "cell_type": "code",
   "execution_count": 214,
   "id": "8170f0d0-9c44-451d-b769-029c18fb79b4",
   "metadata": {},
   "outputs": [
    {
     "name": "stdout",
     "output_type": "stream",
     "text": [
      "Requirement already satisfied: pip in c:\\users\\admin\\appdata\\local\\programs\\python\\python313\\lib\\site-packages (24.3.1)\n",
      "Collecting pip\n",
      "  Downloading pip-25.0-py3-none-any.whl.metadata (3.7 kB)\n",
      "Downloading pip-25.0-py3-none-any.whl (1.8 MB)\n",
      "   ---------------------------------------- 0.0/1.8 MB ? eta -:--:--\n",
      "   ---------------------------------------- 1.8/1.8 MB 36.5 MB/s eta 0:00:00\n",
      "Installing collected packages: pip\n",
      "  Attempting uninstall: pip\n",
      "    Found existing installation: pip 24.3.1\n",
      "    Uninstalling pip-24.3.1:\n",
      "      Successfully uninstalled pip-24.3.1\n",
      "Successfully installed pip-25.0\n"
     ]
    }
   ],
   "source": [
    "!python.exe -m pip install --upgrade pip"
   ]
  },
  {
   "cell_type": "code",
   "execution_count": 219,
   "id": "f9a49433-c3d9-4470-b8db-a00e9c9eb219",
   "metadata": {},
   "outputs": [
    {
     "name": "stderr",
     "output_type": "stream",
     "text": [
      "100%|████████████████████████████████████████████████████████████████████████████████| 100/100 [00:10<00:00,  9.76it/s]\n"
     ]
    }
   ],
   "source": [
    "import tqdm\n",
    "import time\n",
    "\n",
    "for x in tqdm.tqdm(range(100)):\n",
    "    pass\n",
    "    time.sleep(0.1)"
   ]
  },
  {
   "cell_type": "code",
   "execution_count": 252,
   "id": "35b64334-0df4-4392-957e-68794e6d318f",
   "metadata": {},
   "outputs": [
    {
     "name": "stdout",
     "output_type": "stream",
     "text": [
      "최대가 : 152817000\n",
      "최소가 : 149809000\n",
      "시작가 : 152630000\n",
      "변화폭 : 3008000\n",
      "상승장임 익절 ㄱㄱ\n"
     ]
    }
   ],
   "source": [
    "import requests\n",
    "from bs4 import BeautifulSoup\n",
    "\n",
    "url = 'https://api.bithumb.com/public/ticker/ALL_KRW'\n",
    "response = requests.get(url).json()\n",
    "\n",
    "op = int(response['data']['BTC']['opening_price'])\n",
    "cp = int(response['data']['BTC']['closing_price'])\n",
    "max_p = int(response['data']['BTC']['max_price'])\n",
    "min_p = int(response['data']['BTC']['min_price'])\n",
    "change = max_p - min_p"
   ]
  },
  {
   "cell_type": "code",
   "execution_count": 256,
   "id": "3d379f91-62ed-4ab6-a646-78cfb3266c0f",
   "metadata": {},
   "outputs": [
    {
     "name": "stdout",
     "output_type": "stream",
     "text": [
      "최대가 : 152,817,000원\n",
      "최소가 : 149,809,000원\n",
      "시작가 : 152,630,000원\n",
      "변화폭 : 3,008,000원\n",
      "현재가 : 149,959,000원\n",
      "상승장임 익절 ㄱㄱ\n"
     ]
    }
   ],
   "source": [
    "import requests\n",
    "from bs4 import BeautifulSoup\n",
    "\n",
    "url = 'https://api.bithumb.com/v1/candles/minutes/1?market=KRW-BTC&count=1'\n",
    "response = requests.get(url).json()\n",
    "current_price = int(response[0]['trade_price'])\n",
    "\n",
    "if (op + change) > max_p:\n",
    "    print(f\"최대가 : {max_p:,}원\\n최소가 : {min_p:,}원\\n시작가 : {op:,}원\\n변화폭 : {change:,}원\\n현재가 : {current_price:,}원\\n상승장임 익절 ㄱㄱ\")\n",
    "else:\n",
    "    print(f\"최대가 : {max_p:,}원\\n최소가 : {min_p:,}원\\n시작가 : {op:,}원\\n변화폭 : {change:,}원\\n현재가 : {current_price:,}원\\n하락장임 손절 ㄱㄱ\")"
   ]
  },
  {
   "cell_type": "code",
   "execution_count": 278,
   "id": "bc4d4378-6c2d-4315-81e2-64b40908b8fb",
   "metadata": {},
   "outputs": [
    {
     "name": "stdout",
     "output_type": "stream",
     "text": [
      "2단\n",
      "2 * 1 = 2\n",
      "2 * 2 = 4\n",
      "2 * 3 = 6\n",
      "2 * 4 = 8\n",
      "2 * 5 = 10\n",
      "2 * 6 = 12\n",
      "2 * 7 = 14\n",
      "2 * 8 = 16\n",
      "2 * 9 = 18\n",
      "3단\n",
      "3 * 1 = 3\n",
      "3 * 2 = 6\n",
      "3 * 3 = 9\n",
      "3 * 4 = 12\n",
      "3 * 5 = 15\n",
      "3 * 6 = 18\n",
      "3 * 7 = 21\n",
      "3 * 8 = 24\n",
      "3 * 9 = 27\n",
      "4단\n",
      "4 * 1 = 4\n",
      "4 * 2 = 8\n",
      "4 * 3 = 12\n",
      "4 * 4 = 16\n",
      "4 * 5 = 20\n",
      "4 * 6 = 24\n",
      "4 * 7 = 28\n",
      "4 * 8 = 32\n",
      "4 * 9 = 36\n",
      "5단\n",
      "5 * 1 = 5\n",
      "5 * 2 = 10\n",
      "5 * 3 = 15\n",
      "5 * 4 = 20\n",
      "5 * 5 = 25\n",
      "5 * 6 = 30\n",
      "5 * 7 = 35\n",
      "5 * 8 = 40\n",
      "5 * 9 = 45\n",
      "6단\n",
      "6 * 1 = 6\n",
      "6 * 2 = 12\n",
      "6 * 3 = 18\n",
      "6 * 4 = 24\n",
      "6 * 5 = 30\n",
      "6 * 6 = 36\n",
      "6 * 7 = 42\n",
      "6 * 8 = 48\n",
      "6 * 9 = 54\n",
      "7단\n",
      "7 * 1 = 7\n",
      "7 * 2 = 14\n",
      "7 * 3 = 21\n",
      "7 * 4 = 28\n",
      "7 * 5 = 35\n",
      "7 * 6 = 42\n",
      "7 * 7 = 49\n",
      "7 * 8 = 56\n",
      "7 * 9 = 63\n",
      "8단\n",
      "8 * 1 = 8\n",
      "8 * 2 = 16\n",
      "8 * 3 = 24\n",
      "8 * 4 = 32\n",
      "8 * 5 = 40\n",
      "8 * 6 = 48\n",
      "8 * 7 = 56\n",
      "8 * 8 = 64\n",
      "8 * 9 = 72\n",
      "9단\n",
      "9 * 1 = 9\n",
      "9 * 2 = 18\n",
      "9 * 3 = 27\n",
      "9 * 4 = 36\n",
      "9 * 5 = 45\n",
      "9 * 6 = 54\n",
      "9 * 7 = 63\n",
      "9 * 8 = 72\n",
      "9 * 9 = 81\n"
     ]
    }
   ],
   "source": [
    "for i in range (2,10):\n",
    "    print(f\"{i}단\")\n",
    "    for j in range(1, 10):\n",
    "        print(f\"{i} * {j} = {j * i}\")\n"
   ]
  },
  {
   "cell_type": "code",
   "execution_count": null,
   "id": "e194960d-7b58-4aef-a077-8a207fafd0a0",
   "metadata": {},
   "outputs": [],
   "source": [
    "# Q1\n",
    "print(\"answer : shirt\")"
   ]
  },
  {
   "cell_type": "code",
   "execution_count": 268,
   "id": "be667af6-c50c-4fc0-96fd-9cfbe1f081e4",
   "metadata": {},
   "outputs": [
    {
     "name": "stdout",
     "output_type": "stream",
     "text": [
      "166833\n"
     ]
    }
   ],
   "source": [
    "# Q2\n",
    "result = 0\n",
    "i = 1\n",
    "while i <= 1000:\n",
    "    if i % 3 == 0:\n",
    "        result += i\n",
    "    i += 1\n",
    "\n",
    "print(result)"
   ]
  },
  {
   "cell_type": "code",
   "execution_count": 270,
   "id": "cd2dd396-0afa-4aaa-91ce-f315dac5deff",
   "metadata": {},
   "outputs": [
    {
     "name": "stdout",
     "output_type": "stream",
     "text": [
      "*\n",
      "**\n",
      "***\n",
      "****\n",
      "*****\n"
     ]
    }
   ],
   "source": [
    "# Q3\n",
    "i = 0\n",
    "while True:\n",
    "    i += 1\n",
    "    if i > 5 : break\n",
    "    print('*' * i)"
   ]
  },
  {
   "cell_type": "code",
   "execution_count": 271,
   "id": "b2645897-eb23-4c0d-88e3-b620451dba2b",
   "metadata": {},
   "outputs": [
    {
     "name": "stdout",
     "output_type": "stream",
     "text": [
      "1\n",
      "2\n",
      "3\n",
      "4\n",
      "5\n",
      "6\n",
      "7\n",
      "8\n",
      "9\n",
      "10\n",
      "11\n",
      "12\n",
      "13\n",
      "14\n",
      "15\n",
      "16\n",
      "17\n",
      "18\n",
      "19\n",
      "20\n",
      "21\n",
      "22\n",
      "23\n",
      "24\n",
      "25\n",
      "26\n",
      "27\n",
      "28\n",
      "29\n",
      "30\n",
      "31\n",
      "32\n",
      "33\n",
      "34\n",
      "35\n",
      "36\n",
      "37\n",
      "38\n",
      "39\n",
      "40\n",
      "41\n",
      "42\n",
      "43\n",
      "44\n",
      "45\n",
      "46\n",
      "47\n",
      "48\n",
      "49\n",
      "50\n",
      "51\n",
      "52\n",
      "53\n",
      "54\n",
      "55\n",
      "56\n",
      "57\n",
      "58\n",
      "59\n",
      "60\n",
      "61\n",
      "62\n",
      "63\n",
      "64\n",
      "65\n",
      "66\n",
      "67\n",
      "68\n",
      "69\n",
      "70\n",
      "71\n",
      "72\n",
      "73\n",
      "74\n",
      "75\n",
      "76\n",
      "77\n",
      "78\n",
      "79\n",
      "80\n",
      "81\n",
      "82\n",
      "83\n",
      "84\n",
      "85\n",
      "86\n",
      "87\n",
      "88\n",
      "89\n",
      "90\n",
      "91\n",
      "92\n",
      "93\n",
      "94\n",
      "95\n",
      "96\n",
      "97\n",
      "98\n",
      "99\n",
      "100\n"
     ]
    }
   ],
   "source": [
    "# Q4\n",
    "for i in range(1,101):\n",
    "    print(i)"
   ]
  },
  {
   "cell_type": "code",
   "execution_count": 272,
   "id": "f1c58e1e-e5cf-48d3-b3e9-5f70eedf9307",
   "metadata": {},
   "outputs": [
    {
     "name": "stdout",
     "output_type": "stream",
     "text": [
      "79.0\n"
     ]
    }
   ],
   "source": [
    "# Q5\n",
    "A = [70, 60, 55, 75, 95, 90, 80, 80, 85, 100]\n",
    "total = 0\n",
    "for score in A:\n",
    "    total += score\n",
    "average = total / len(A)\n",
    "print(average)"
   ]
  },
  {
   "cell_type": "code",
   "execution_count": 275,
   "id": "6b74c09b-a92d-42c2-a8f2-1159fa98a04c",
   "metadata": {},
   "outputs": [
    {
     "name": "stdout",
     "output_type": "stream",
     "text": [
      "[2, 6, 10]\n"
     ]
    }
   ],
   "source": [
    "# Q6\n",
    "numbers = [1,2,3,4,5]\n",
    "result = [n * 2 for n in numbers if n % 2 == 1]\n",
    "print(result)\n"
   ]
  },
  {
   "cell_type": "markdown",
   "id": "e10f46a6-8d2b-49a9-b655-57f02bed96c9",
   "metadata": {},
   "source": [
    "### 리스트 컴프리헨션"
   ]
  },
  {
   "cell_type": "code",
   "execution_count": 281,
   "id": "36da1d04-4fbe-40e7-9f95-2acea6020195",
   "metadata": {},
   "outputs": [
    {
     "name": "stdout",
     "output_type": "stream",
     "text": [
      "[3, 6, 9, 12]\n"
     ]
    }
   ],
   "source": [
    "a = [1,2,3,4]\n",
    "result = []\n",
    "for num in a:\n",
    "    result.append(num * 3)\n",
    "\n",
    "print(result)"
   ]
  },
  {
   "cell_type": "code",
   "execution_count": 283,
   "id": "54d03b51-45e6-4cb5-965f-1487c1a2e1c3",
   "metadata": {},
   "outputs": [
    {
     "name": "stdout",
     "output_type": "stream",
     "text": [
      "[3, 6, 9, 12]\n"
     ]
    }
   ],
   "source": [
    "a = [1,2,3,4]\n",
    "result = [num * 3 for num in a]\n",
    "print(result)"
   ]
  },
  {
   "cell_type": "code",
   "execution_count": 286,
   "id": "470b5897-e4f0-4c1f-9c49-693d691e1b34",
   "metadata": {},
   "outputs": [
    {
     "name": "stdout",
     "output_type": "stream",
     "text": [
      "[0, 6, 12, 18, 24]\n"
     ]
    }
   ],
   "source": [
    "a = [x * 3 for x in range(10) if x % 2 == 0]\n",
    "print(a)"
   ]
  },
  {
   "cell_type": "code",
   "execution_count": 288,
   "id": "3db2df25-eaf5-44cb-8957-f04d00ce5177",
   "metadata": {},
   "outputs": [
    {
     "name": "stdout",
     "output_type": "stream",
     "text": [
      "[2, 4, 6, 8, 10, 12, 14, 16, 18, 3, 6, 9, 12, 15, 18, 21, 24, 27, 4, 8, 12, 16, 20, 24, 28, 32, 36, 5, 10, 15, 20, 25, 30, 35, 40, 45, 6, 12, 18, 24, 30, 36, 42, 48, 54, 7, 14, 21, 28, 35, 42, 49, 56, 63, 8, 16, 24, 32, 40, 48, 56, 64, 72, 9, 18, 27, 36, 45, 54, 63, 72, 81]\n"
     ]
    }
   ],
   "source": [
    "result = [i * j for i in range(2, 10) for j in range(1, 10)]\n",
    "print(result)"
   ]
  },
  {
   "cell_type": "code",
   "execution_count": 349,
   "id": "650f5c42-8b21-445d-872c-43d104c77f74",
   "metadata": {},
   "outputs": [
    {
     "name": "stdout",
     "output_type": "stream",
     "text": [
      "None\n"
     ]
    }
   ],
   "source": [
    "import random\n",
    "\n",
    "lotto = []\n",
    "for i in range(6):\n",
    "    random_number = random.randint(1,46)\n",
    "    if random_number not in lotto:\n",
    "        lotto.append(random_number)\n",
    "lotto.sort()"
   ]
  },
  {
   "cell_type": "code",
   "execution_count": null,
   "id": "bc9c4e4f-ae46-42e2-9a16-0eaa57fa9ee7",
   "metadata": {},
   "outputs": [],
   "source": []
  },
  {
   "cell_type": "code",
   "execution_count": null,
   "id": "924dee62-75fc-41f0-9774-a9d7750b33db",
   "metadata": {},
   "outputs": [],
   "source": []
  }
 ],
 "metadata": {
  "kernelspec": {
   "display_name": "Python 3 (ipykernel)",
   "language": "python",
   "name": "python3"
  },
  "language_info": {
   "codemirror_mode": {
    "name": "ipython",
    "version": 3
   },
   "file_extension": ".py",
   "mimetype": "text/x-python",
   "name": "python",
   "nbconvert_exporter": "python",
   "pygments_lexer": "ipython3",
   "version": "3.13.1"
  }
 },
 "nbformat": 4,
 "nbformat_minor": 5
}
