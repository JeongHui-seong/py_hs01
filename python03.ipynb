{
 "cells": [
  {
   "cell_type": "markdown",
   "id": "1e09c4d4-feb8-44e5-94d7-6ee7620b02a7",
   "metadata": {},
   "source": [
    "# 제어문"
   ]
  },
  {
   "cell_type": "markdown",
   "id": "9e710c45-b6c4-4063-8aac-93c59535cdb1",
   "metadata": {},
   "source": [
    "## if문"
   ]
  },
  {
   "cell_type": "code",
   "execution_count": 11,
   "id": "81e88bd3-a6e8-470c-826b-f66ce5a4e67b",
   "metadata": {},
   "outputs": [
    {
     "name": "stdout",
     "output_type": "stream",
     "text": [
      "True\n"
     ]
    }
   ],
   "source": [
    "if True :\n",
    "    print(\"True\")\n",
    "if False :\n",
    "    print(\"zzz\")"
   ]
  },
  {
   "cell_type": "code",
   "execution_count": 18,
   "id": "8badac2c-163c-4777-bb66-22778b7fb0b4",
   "metadata": {},
   "outputs": [
    {
     "name": "stdout",
     "output_type": "stream",
     "text": [
      "9\n",
      "8\n",
      "7\n",
      "6\n",
      "5\n",
      "4\n",
      "3\n",
      "2\n",
      "1\n",
      "0\n"
     ]
    }
   ],
   "source": [
    "num = 10\n",
    "while num:\n",
    "    num -= 1\n",
    "    print(num)"
   ]
  },
  {
   "cell_type": "code",
   "execution_count": 22,
   "id": "224a069d-82bc-47aa-a6c3-bee93dfcd963",
   "metadata": {},
   "outputs": [
    {
     "name": "stdin",
     "output_type": "stream",
     "text": [
      "얼마있냐 12345\n"
     ]
    },
    {
     "name": "stdout",
     "output_type": "stream",
     "text": [
      "택시타라\n"
     ]
    }
   ],
   "source": [
    "inp1 = int(input('얼마있냐'))\n",
    "\n",
    "if inp1 >= 3000:\n",
    "    print('택시타라')\n",
    "else:\n",
    "    print('걸어가라')"
   ]
  },
  {
   "cell_type": "code",
   "execution_count": 24,
   "id": "734170c6-162f-465d-9220-85e689f4722c",
   "metadata": {},
   "outputs": [
    {
     "name": "stdout",
     "output_type": "stream",
     "text": [
      "\n",
      " True\n",
      "False\n",
      "False\n",
      "False\n",
      "\n",
      " True\n",
      "True\n",
      "True\n",
      "False\n",
      "\n",
      " True\n",
      "False\n"
     ]
    }
   ],
   "source": [
    "# And\n",
    "print('\\n',True and True)\n",
    "print(True and False)\n",
    "print(False and True)\n",
    "print(False and False)\n",
    "# Or\n",
    "print('\\n',True or True)\n",
    "print(True or False)\n",
    "print(False or True)\n",
    "print(False or False)\n",
    "# Not\n",
    "print('\\n',True)\n",
    "print(not True)"
   ]
  },
  {
   "cell_type": "code",
   "execution_count": 26,
   "id": "3f1ba37c-96c3-4f5d-adf8-3f5d7730dbad",
   "metadata": {},
   "outputs": [
    {
     "name": "stdout",
     "output_type": "stream",
     "text": [
      "만납시다\n"
     ]
    }
   ],
   "source": [
    "이상형 = True\n",
    "똑똑 = True\n",
    "\n",
    "if 이상형 and 똑똑:\n",
    "    print(\"만납시다\")\n",
    "else:\n",
    "    print(\"만나지 맙시다\")"
   ]
  },
  {
   "cell_type": "code",
   "execution_count": 27,
   "id": "905432ce-e6cc-4510-a09c-935309c9ab88",
   "metadata": {},
   "outputs": [
    {
     "name": "stdout",
     "output_type": "stream",
     "text": [
      "만납시다\n"
     ]
    }
   ],
   "source": [
    "이상형 = False\n",
    "똑똑 = True\n",
    "\n",
    "if 이상형 or 똑똑:\n",
    "    print(\"만납시다\")\n",
    "else:\n",
    "    print(\"만나지 맙시다\")"
   ]
  },
  {
   "cell_type": "code",
   "execution_count": 30,
   "id": "aa2ba751-537b-4ceb-8dc4-da82d5b1ea40",
   "metadata": {},
   "outputs": [
    {
     "name": "stdout",
     "output_type": "stream",
     "text": [
      "bye\n"
     ]
    }
   ],
   "source": [
    "주사 = True\n",
    "\n",
    "if not 주사:\n",
    "    print('good')\n",
    "else:\n",
    "    print('bye')"
   ]
  },
  {
   "cell_type": "code",
   "execution_count": 31,
   "id": "10a0d1d4-234e-4783-85fa-3c2490fe9648",
   "metadata": {},
   "outputs": [
    {
     "name": "stdout",
     "output_type": "stream",
     "text": [
      "택시 ㄱㄱ\n"
     ]
    }
   ],
   "source": [
    "money = 2000\n",
    "card = True\n",
    "\n",
    "if money >= 3000 or card:\n",
    "    print(\"택시 ㄱㄱ\")\n",
    "else:\n",
    "    print(\"뚜벅이\")"
   ]
  },
  {
   "cell_type": "code",
   "execution_count": 34,
   "id": "b1b8c946-3ced-4281-a133-e06e11370fca",
   "metadata": {},
   "outputs": [
    {
     "name": "stdout",
     "output_type": "stream",
     "text": [
      "Bㅎㅇㅎㅇ\n",
      "Cㅎㅇㅎㅇ\n"
     ]
    }
   ],
   "source": [
    "me = 'Python'\n",
    "compA = ['Java', 'Css', 'HTML', 'Javascript', 'C', 'MySQL']\n",
    "compB = ['Java', 'Python', 'Javascript', 'C', 'MySQL']\n",
    "compC = ['Java', 'Python', 'C', 'MySQL']\n",
    "\n",
    "if me in compA:\n",
    "    print('Aㅎㅇㅎㅇ')\n",
    "if me in compB:\n",
    "    print('Bㅎㅇㅎㅇ')\n",
    "if me in compC:\n",
    "    print('Cㅎㅇㅎㅇ')\n"
   ]
  },
  {
   "cell_type": "code",
   "execution_count": 45,
   "id": "37b9ef01-400c-4208-97f0-0e211c895589",
   "metadata": {},
   "outputs": [
    {
     "name": "stdin",
     "output_type": "stream",
     "text": [
      "몇 점임 12\n"
     ]
    },
    {
     "name": "stdout",
     "output_type": "stream",
     "text": [
      "F\n"
     ]
    }
   ],
   "source": [
    "score = int(input('몇 점임'))\n",
    "grade = ''\n",
    "if 0 <= score <= 100:\n",
    "    if score >= 90:\n",
    "        grade = 'A'\n",
    "    elif score >= 80:\n",
    "        grade = 'B'\n",
    "    elif score >= 70:\n",
    "        grade = 'C'\n",
    "    elif score >= 60:\n",
    "        grade = 'D'\n",
    "    else:\n",
    "        grade = 'F'\n",
    "else:\n",
    "    print('다시.')\n",
    "print(f'{grade}')\n"
   ]
  },
  {
   "cell_type": "code",
   "execution_count": 51,
   "id": "2da62d22-30e2-4264-b66a-3b0a71cd71dd",
   "metadata": {},
   "outputs": [
    {
     "name": "stdin",
     "output_type": "stream",
     "text": [
      "몇 도임 9\n"
     ]
    },
    {
     "name": "stdout",
     "output_type": "stream",
     "text": [
      "겨울\n"
     ]
    }
   ],
   "source": [
    "degree = int(input(\"몇 도임\"))\n",
    "season = \"\"\n",
    "\n",
    "if degree >= 25:\n",
    "    season = \"여름\"\n",
    "elif degree >= 15:\n",
    "    season = \"봄\"\n",
    "elif degree >= 10:\n",
    "    season = \"가을\"\n",
    "else:\n",
    "    season = \"겨울\"\n",
    "print(season)"
   ]
  },
  {
   "cell_type": "markdown",
   "id": "ddbcd062-5a2e-478b-bc60-692a2111dd67",
   "metadata": {},
   "source": [
    "## while문"
   ]
  },
  {
   "cell_type": "code",
   "execution_count": 52,
   "id": "2a1333aa-4e5f-4079-8d2c-458113eca685",
   "metadata": {},
   "outputs": [
    {
     "name": "stdout",
     "output_type": "stream",
     "text": [
      "나무를 1번 찍었습니다.\n",
      "나무를 2번 찍었습니다.\n",
      "나무를 3번 찍었습니다.\n",
      "나무를 4번 찍었습니다.\n",
      "나무를 5번 찍었습니다.\n",
      "나무를 6번 찍었습니다.\n",
      "나무를 7번 찍었습니다.\n",
      "나무를 8번 찍었습니다.\n",
      "나무를 9번 찍었습니다.\n",
      "나무를 10번 찍었습니다.\n",
      "나무 넘어가유\n"
     ]
    }
   ],
   "source": [
    "treehit = 0\n",
    "while treehit < 10:\n",
    "    treehit += 1\n",
    "    print(\"나무를 %d번 찍었습니다.\" %treehit)\n",
    "    if treehit == 10:\n",
    "        print('나무 넘어가유')\n",
    "        "
   ]
  },
  {
   "cell_type": "code",
   "execution_count": 55,
   "id": "2bbc237e-e178-4b68-8d2d-4358ad194690",
   "metadata": {},
   "outputs": [
    {
     "name": "stdout",
     "output_type": "stream",
     "text": [
      "나무를 1번 찍었습니다.\n",
      "나무를 2번 찍었습니다.\n",
      "나무를 3번 찍었습니다.\n",
      "나무를 4번 찍었습니다.\n",
      "나무를 5번 찍었습니다.\n",
      "나무를 6번 찍었습니다.\n",
      "나무를 7번 찍었습니다.\n",
      "나무를 8번 찍었습니다.\n",
      "나무를 9번 찍었습니다.\n",
      "나무를 10번 찍었습니다.\n",
      "나무 넘어가유\n"
     ]
    }
   ],
   "source": [
    "treehit = 10\n",
    "while treehit:\n",
    "    print(f\"나무를 {11 - treehit}번 찍었습니다.\")\n",
    "    treehit -= 1\n",
    "print('나무 넘어가유')"
   ]
  },
  {
   "cell_type": "code",
   "execution_count": 57,
   "id": "12bbd5d3-871f-4f8a-9a53-a1d0461f1f03",
   "metadata": {},
   "outputs": [
    {
     "name": "stdout",
     "output_type": "stream",
     "text": [
      "\n",
      "    1. Add\n",
      "    2. Del\n",
      "    3. List\n",
      "    4. Quit\n",
      "\n"
     ]
    },
    {
     "name": "stdin",
     "output_type": "stream",
     "text": [
      " 1\n"
     ]
    },
    {
     "name": "stdout",
     "output_type": "stream",
     "text": [
      "\n",
      "    1. Add\n",
      "    2. Del\n",
      "    3. List\n",
      "    4. Quit\n",
      "\n"
     ]
    },
    {
     "name": "stdin",
     "output_type": "stream",
     "text": [
      " 4\n"
     ]
    }
   ],
   "source": [
    "prompt = \"\"\"\n",
    "    1. Add\n",
    "    2. Del\n",
    "    3. List\n",
    "    4. Quit\n",
    "\"\"\"\n",
    "\n",
    "number = 0\n",
    "while number != 4:\n",
    "    print(prompt)\n",
    "    number = int(input())"
   ]
  },
  {
   "cell_type": "code",
   "execution_count": null,
   "id": "633ab26f-9647-40b3-a226-7d077f865947",
   "metadata": {},
   "outputs": [],
   "source": []
  }
 ],
 "metadata": {
  "kernelspec": {
   "display_name": "Python 3 (ipykernel)",
   "language": "python",
   "name": "python3"
  },
  "language_info": {
   "codemirror_mode": {
    "name": "ipython",
    "version": 3
   },
   "file_extension": ".py",
   "mimetype": "text/x-python",
   "name": "python",
   "nbconvert_exporter": "python",
   "pygments_lexer": "ipython3",
   "version": "3.13.1"
  }
 },
 "nbformat": 4,
 "nbformat_minor": 5
}
