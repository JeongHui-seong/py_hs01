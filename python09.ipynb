{
 "cells": [
  {
   "cell_type": "code",
   "execution_count": 25,
   "id": "9017f072-d567-4851-b131-ae9372a1d131",
   "metadata": {},
   "outputs": [
    {
     "name": "stdout",
     "output_type": "stream",
     "text": [
      "## NumPy 필수 함수 3가지 (핵심 요약)\n",
      "\n",
      "1.  **`np.array()`**: 리스트, 튜플 등을 NumPy 배열로 변환. NumPy 연산의 기본 단위 생성.\n",
      "    *   예시: `arr = np.array([1, 2, 3])`\n",
      "2.  **`np.reshape()`**: 배열의 형태를 변경. 데이터는 유지하고 차원 구조만 바꿈.\n",
      "    *   예시: `arr.reshape(3, 1)` (1차원 배열을 3x1 2차원 배열로)\n",
      "3.  **`np.sum()`**: 배열 요소의 합 계산. 전체 합 또는 특정 축 방향 합 계산 가능.\n",
      "    *   예시: `np.sum(arr)` (배열 모든 요소 합), `np.sum(arr, axis=0)` (열 방향 합)\n",
      "## NumPy 필수 함수 3가지 (핵심 요약)\n",
      "\n",
      "1.  **`np.array()`**: 리스트, 튜플 등을 NumPy 배열로 변환. NumPy 연산의 기본 단위 생성.\n",
      "    *   예시: `arr = np.array([1, 2, 3])`\n",
      "2.  **`np.reshape()`**: 배열의 형태를 변경. 데이터는 유지하고 차원 구조만 바꿈.\n",
      "    *   예시: `arr.reshape(3, 1)` (1차원 배열을 3x1 2차원 배열로)\n",
      "3.  **`np.sum()`**: 배열 요소의 합 계산. 전체 합 또는 특정 축 방향 합 계산 가능.\n",
      "    *   예시: `np.sum(arr)` (배열 모든 요소 합), `np.sum(arr, axis=0)` (열 방향 합)\n"
     ]
    }
   ],
   "source": [
    "from google import genai\n",
    "\n",
    "def genaiai(text):\n",
    "    client = genai.Client(api_key=\"\")\n",
    "    \n",
    "    response = client.models.generate_content(\n",
    "        model=\"gemini-2.0-flash\",\n",
    "        contents=text + \"단, 깔끔한 형식으로 보기 편하게 짧게 요약해줘. 그리고 특수 문자는 좀 생력해줘.\",\n",
    "    )\n",
    "    print(response.text)\n",
    "    return response.text"
   ]
  },
  {
   "cell_type": "code",
   "execution_count": null,
   "id": "73bb5835-b7d5-423e-ac20-8fc4e0ff4d94",
   "metadata": {},
   "outputs": [],
   "source": []
  },
  {
   "cell_type": "code",
   "execution_count": null,
   "id": "dadc0c05-d974-4c84-9ab5-bc72e42bdeb7",
   "metadata": {},
   "outputs": [],
   "source": []
  }
 ],
 "metadata": {
  "kernelspec": {
   "display_name": "Python 3 (ipykernel)",
   "language": "python",
   "name": "python3"
  },
  "language_info": {
   "codemirror_mode": {
    "name": "ipython",
    "version": 3
   },
   "file_extension": ".py",
   "mimetype": "text/x-python",
   "name": "python",
   "nbconvert_exporter": "python",
   "pygments_lexer": "ipython3",
   "version": "3.13.1"
  }
 },
 "nbformat": 4,
 "nbformat_minor": 5
}
