{
 "cells": [
  {
   "cell_type": "markdown",
   "id": "dce0d753-e9e7-4280-94ee-132915d0e887",
   "metadata": {},
   "source": [
    "# 내장함수"
   ]
  },
  {
   "cell_type": "code",
   "execution_count": 3,
   "id": "86618250-fb79-4300-b3c0-b36992fc1df7",
   "metadata": {},
   "outputs": [
    {
     "name": "stdout",
     "output_type": "stream",
     "text": [
      "3\n",
      "1.2\n"
     ]
    }
   ],
   "source": [
    "print(abs(-3))\n",
    "print(abs(1.2))"
   ]
  },
  {
   "cell_type": "code",
   "execution_count": 15,
   "id": "3f735774-f6e4-4f9c-b096-c587b22c823b",
   "metadata": {},
   "outputs": [
    {
     "name": "stdout",
     "output_type": "stream",
     "text": [
      "False\n",
      "True\n"
     ]
    }
   ],
   "source": [
    "print(all([11,22,0,44,55]))\n",
    "print(all(\"\"))"
   ]
  },
  {
   "cell_type": "code",
   "execution_count": 13,
   "id": "28f3c71b-4b05-40f2-8676-5e74ec6488ae",
   "metadata": {},
   "outputs": [
    {
     "name": "stdout",
     "output_type": "stream",
     "text": [
      "True\n",
      "False\n",
      "False\n"
     ]
    }
   ],
   "source": [
    "print(any([1,2,3,0]))\n",
    "print(any([0, \"\"]))\n",
    "print(any([]))"
   ]
  },
  {
   "cell_type": "code",
   "execution_count": 18,
   "id": "54ee4fc1-1aa4-4dfb-86b2-2e013a91741f",
   "metadata": {},
   "outputs": [
    {
     "data": {
      "text/plain": [
       "'A'"
      ]
     },
     "execution_count": 18,
     "metadata": {},
     "output_type": "execute_result"
    }
   ],
   "source": [
    "chr(65)"
   ]
  },
  {
   "cell_type": "code",
   "execution_count": 19,
   "id": "f9772373-5168-47a5-b3d2-c276e78b967d",
   "metadata": {},
   "outputs": [
    {
     "data": {
      "text/plain": [
       "44032"
      ]
     },
     "execution_count": 19,
     "metadata": {},
     "output_type": "execute_result"
    }
   ],
   "source": [
    "ord('가')"
   ]
  },
  {
   "cell_type": "code",
   "execution_count": 69,
   "id": "78aa58b7-4e3b-489a-8559-52ecf6926c80",
   "metadata": {},
   "outputs": [
    {
     "name": "stdout",
     "output_type": "stream",
     "text": [
      "ABCDEFGHIJKLMNOPQRSTUVWXYZ\n",
      "\n",
      "zyxwvutsrqponmlkjihgfedcba\n",
      "\n",
      "A1\tA2\tA3\tA4\tA5\tA6\tA7\tA8\tA9\tA10\tB1\tB2\tB3\tB4\tB5\tB6\tB7\tB8\tB9\tB10\tC1\tC2\tC3\tC4\tC5\tC6\tC7\tC8\tC9\tC10\t"
     ]
    }
   ],
   "source": [
    "#Q1\n",
    "for i in range(26):\n",
    "    print(chr(i+65),end='')\n",
    "print('\\n')\n",
    "\n",
    "#Q2\n",
    "list = []\n",
    "\n",
    "for i in range(26):\n",
    "    list.append(chr(i+97))\n",
    "list = sorted(list,reverse=True)\n",
    "\n",
    "for i in list:\n",
    "    print(i,end='')\n",
    "    \n",
    "print('\\n')\n",
    "#Q3\n",
    "for i in range(3):\n",
    "    for j in range(1,11):\n",
    "        print(chr(i+65) + str(j) + '\\t',end='')"
   ]
  },
  {
   "cell_type": "code",
   "execution_count": 101,
   "id": "b5f468c5-541c-4b8c-87f3-815b0127fe2f",
   "metadata": {},
   "outputs": [],
   "source": [
    "class Ascii:\n",
    "    def __init__(self, num):\n",
    "        self.num = num\n",
    "\n",
    "    def q1(self):\n",
    "        for i in range(self.num):\n",
    "            print(chr(i + 65),end='')\n",
    "        print('\\n')\n",
    "\n",
    "    def q2(self):\n",
    "        list = []\n",
    "        \n",
    "        for i in range(self.num):\n",
    "            list.append(chr(i+97))\n",
    "        list = sorted(list,reverse=True)\n",
    "        \n",
    "        for i in list:\n",
    "            print(i,end='')\n",
    "        print('\\n')\n",
    "        \n",
    "    def q3(self):\n",
    "        for i in range(3):\n",
    "            print('\\n')\n",
    "            for j in range(1,11):\n",
    "                print(chr(i+65) + str(j) + '\\t',end='')"
   ]
  },
  {
   "cell_type": "code",
   "execution_count": 102,
   "id": "5ffadcfd-6001-48b1-a335-109865564be0",
   "metadata": {},
   "outputs": [
    {
     "name": "stdout",
     "output_type": "stream",
     "text": [
      "ABCDEFGHIJKLMNOPQRSTUVWXYZ\n",
      "\n",
      "zyxwvutsrqponmlkjihgfedcba\n",
      "\n",
      "\n",
      "\n",
      "A1\tA2\tA3\tA4\tA5\tA6\tA7\tA8\tA9\tA10\t\n",
      "\n",
      "B1\tB2\tB3\tB4\tB5\tB6\tB7\tB8\tB9\tB10\t\n",
      "\n",
      "C1\tC2\tC3\tC4\tC5\tC6\tC7\tC8\tC9\tC10\t"
     ]
    }
   ],
   "source": [
    "ascii = Ascii(26)\n",
    "ascii.q1()\n",
    "ascii.q2()\n",
    "ascii.q3()"
   ]
  },
  {
   "cell_type": "code",
   "execution_count": 3,
   "id": "6ab7f485-0f23-4f34-b771-d46019024e43",
   "metadata": {},
   "outputs": [],
   "source": [
    "class Ascii:\n",
    "    def __init__(self):\n",
    "        self.result = 0\n",
    "    \n",
    "    def ex1():\n",
    "        for i in range(65, 91):\n",
    "            print(chr(i),end = ' ')\n",
    "    def ex2():\n",
    "        for j in range(122,96,-1):\n",
    "            print(chr(j),end='')\n",
    "    def ex3():\n",
    "        for i in range(3):\n",
    "            print('\\n')\n",
    "            for j in range(1,11):\n",
    "                print(chr(i+65) + str(j) + '\\t',end='')"
   ]
  },
  {
   "cell_type": "code",
   "execution_count": 5,
   "id": "f6a84780-648c-466c-b4cb-eb9fc764a2ba",
   "metadata": {},
   "outputs": [
    {
     "name": "stdout",
     "output_type": "stream",
     "text": [
      "A B C D E F G H I J K L M N O P Q R S T U V W X Y Z zyxwvutsrqponmlkjihgfedcba\n",
      "\n",
      "A1\tA2\tA3\tA4\tA5\tA6\tA7\tA8\tA9\tA10\t\n",
      "\n",
      "B1\tB2\tB3\tB4\tB5\tB6\tB7\tB8\tB9\tB10\t\n",
      "\n",
      "C1\tC2\tC3\tC4\tC5\tC6\tC7\tC8\tC9\tC10\t"
     ]
    }
   ],
   "source": [
    "a = Ascii\n",
    "a.ex1()\n",
    "a.ex2()\n",
    "a.ex3()"
   ]
  },
  {
   "cell_type": "code",
   "execution_count": 9,
   "id": "d40d25c7-aeb7-4eb3-85d9-eaae8451abc8",
   "metadata": {},
   "outputs": [
    {
     "name": "stdin",
     "output_type": "stream",
     "text": [
      "기분 한문장 요약 ㄱㄱ 싫어해 화난다 근데 좋아 사랑해\n"
     ]
    },
    {
     "name": "stdout",
     "output_type": "stream",
     "text": [
      "['좋아', '사랑해']\n",
      "Soso\n"
     ]
    }
   ],
   "source": [
    "positive_words = [\"좋아\", \"행복\", \"멋져\", \"최고\", \"사랑해\"]\n",
    "negative_words = [\"싫어\", \"화나\", \"짜증\", \"별로\", \"나빠\"]\n",
    "\n",
    "inp = input(\"기분 한문장 요약 ㄱㄱ\")\n",
    "pos = [p for p in positive_words if p in inp]\n",
    "neg = [n for n in positive_words if n in inp]\n",
    "\n",
    "if len(pos) > len(neg):\n",
    "    print(\"good\")\n",
    "elif len(pos) < len(neg):\n",
    "    print(\"Bad\")\n",
    "else:\n",
    "    print(\"Soso\")"
   ]
  },
  {
   "cell_type": "code",
   "execution_count": 9,
   "id": "2b26e1d5-f0ea-4f1c-a1e4-20a6d9cec380",
   "metadata": {},
   "outputs": [
    {
     "name": "stdin",
     "output_type": "stream",
     "text": [
      "기분 한문장 요약 ㄱㄱ 좋아 행복해 화나 짜증나 별로야 최고야 사랑해\n"
     ]
    },
    {
     "name": "stdout",
     "output_type": "stream",
     "text": [
      "['좋다', '행복하다', '화나다', '짜증나다', '별로', '야', '최고', '야', '사랑', '하다'] ['좋다', '최고', '사랑'] ['화나다', '별로']\n",
      "good\n"
     ]
    }
   ],
   "source": [
    "from konlpy.tag import Okt\n",
    "\n",
    "okt = Okt()\n",
    "\n",
    "positive_words = [\"좋다\", \"행복\", \"멋지다\", \"최고\", \"사랑\"]\n",
    "negative_words = [\"싫다\", \"화나다\", \"짜증\", \"별로\", \"나쁘다\"]\n",
    "\n",
    "inp = input(\"기분 한문장 요약 ㄱㄱ\")\n",
    "\n",
    "words = okt.morphs(inp, stem=True)\n",
    "\n",
    "pos = [p for p in words if p in positive_words]\n",
    "neg = [n for n in words if n in negative_words]\n",
    "\n",
    "print(words, pos, neg)\n",
    "\n",
    "if len(pos) > len(neg):\n",
    "    print(\"good\")\n",
    "elif len(pos) < len(neg):\n",
    "    print(\"Bad\")\n",
    "else:\n",
    "    print(\"Soso\")"
   ]
  },
  {
   "cell_type": "code",
   "execution_count": null,
   "id": "eed41847-8c68-4733-a017-726b8b1d45bd",
   "metadata": {},
   "outputs": [],
   "source": [
    "# !pip install konlpy"
   ]
  },
  {
   "cell_type": "code",
   "execution_count": null,
   "id": "7c2d934d-279c-4118-9d28-6f75fffceb05",
   "metadata": {},
   "outputs": [],
   "source": []
  }
 ],
 "metadata": {
  "kernelspec": {
   "display_name": "Python 3 (ipykernel)",
   "language": "python",
   "name": "python3"
  },
  "language_info": {
   "codemirror_mode": {
    "name": "ipython",
    "version": 3
   },
   "file_extension": ".py",
   "mimetype": "text/x-python",
   "name": "python",
   "nbconvert_exporter": "python",
   "pygments_lexer": "ipython3",
   "version": "3.13.1"
  }
 },
 "nbformat": 4,
 "nbformat_minor": 5
}
