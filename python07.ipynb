{
 "cells": [
  {
   "cell_type": "markdown",
   "id": "dce0d753-e9e7-4280-94ee-132915d0e887",
   "metadata": {},
   "source": [
    "# 내장함수"
   ]
  },
  {
   "cell_type": "code",
   "execution_count": 3,
   "id": "86618250-fb79-4300-b3c0-b36992fc1df7",
   "metadata": {},
   "outputs": [
    {
     "name": "stdout",
     "output_type": "stream",
     "text": [
      "3\n",
      "1.2\n"
     ]
    }
   ],
   "source": [
    "print(abs(-3))\n",
    "print(abs(1.2))"
   ]
  },
  {
   "cell_type": "code",
   "execution_count": 15,
   "id": "3f735774-f6e4-4f9c-b096-c587b22c823b",
   "metadata": {},
   "outputs": [
    {
     "name": "stdout",
     "output_type": "stream",
     "text": [
      "False\n",
      "True\n"
     ]
    }
   ],
   "source": [
    "print(all([11,22,0,44,55]))\n",
    "print(all(\"\"))"
   ]
  },
  {
   "cell_type": "code",
   "execution_count": 13,
   "id": "28f3c71b-4b05-40f2-8676-5e74ec6488ae",
   "metadata": {},
   "outputs": [
    {
     "name": "stdout",
     "output_type": "stream",
     "text": [
      "True\n",
      "False\n",
      "False\n"
     ]
    }
   ],
   "source": [
    "print(any([1,2,3,0]))\n",
    "print(any([0, \"\"]))\n",
    "print(any([]))"
   ]
  },
  {
   "cell_type": "code",
   "execution_count": 18,
   "id": "54ee4fc1-1aa4-4dfb-86b2-2e013a91741f",
   "metadata": {},
   "outputs": [
    {
     "data": {
      "text/plain": [
       "'A'"
      ]
     },
     "execution_count": 18,
     "metadata": {},
     "output_type": "execute_result"
    }
   ],
   "source": [
    "chr(65)"
   ]
  },
  {
   "cell_type": "code",
   "execution_count": 19,
   "id": "f9772373-5168-47a5-b3d2-c276e78b967d",
   "metadata": {},
   "outputs": [
    {
     "data": {
      "text/plain": [
       "44032"
      ]
     },
     "execution_count": 19,
     "metadata": {},
     "output_type": "execute_result"
    }
   ],
   "source": [
    "ord('가')"
   ]
  },
  {
   "cell_type": "code",
   "execution_count": 69,
   "id": "78aa58b7-4e3b-489a-8559-52ecf6926c80",
   "metadata": {},
   "outputs": [
    {
     "name": "stdout",
     "output_type": "stream",
     "text": [
      "ABCDEFGHIJKLMNOPQRSTUVWXYZ\n",
      "\n",
      "zyxwvutsrqponmlkjihgfedcba\n",
      "\n",
      "A1\tA2\tA3\tA4\tA5\tA6\tA7\tA8\tA9\tA10\tB1\tB2\tB3\tB4\tB5\tB6\tB7\tB8\tB9\tB10\tC1\tC2\tC3\tC4\tC5\tC6\tC7\tC8\tC9\tC10\t"
     ]
    }
   ],
   "source": [
    "#Q1\n",
    "for i in range(26):\n",
    "    print(chr(i+65),end='')\n",
    "print('\\n')\n",
    "\n",
    "#Q2\n",
    "list = []\n",
    "\n",
    "for i in range(26):\n",
    "    list.append(chr(i+97))\n",
    "list = sorted(list,reverse=True)\n",
    "\n",
    "for i in list:\n",
    "    print(i,end='')\n",
    "    \n",
    "print('\\n')\n",
    "#Q3\n",
    "for i in range(3):\n",
    "    for j in range(1,11):\n",
    "        print(chr(i+65) + str(j) + '\\t',end='')"
   ]
  },
  {
   "cell_type": "code",
   "execution_count": 101,
   "id": "b5f468c5-541c-4b8c-87f3-815b0127fe2f",
   "metadata": {},
   "outputs": [],
   "source": [
    "class Ascii:\n",
    "    def __init__(self, num):\n",
    "        self.num = num\n",
    "\n",
    "    def q1(self):\n",
    "        for i in range(self.num):\n",
    "            print(chr(i + 65),end='')\n",
    "        print('\\n')\n",
    "\n",
    "    def q2(self):\n",
    "        list = []\n",
    "        \n",
    "        for i in range(self.num):\n",
    "            list.append(chr(i+97))\n",
    "        list = sorted(list,reverse=True)\n",
    "        \n",
    "        for i in list:\n",
    "            print(i,end='')\n",
    "        print('\\n')\n",
    "        \n",
    "    def q3(self):\n",
    "        for i in range(3):\n",
    "            print('\\n')\n",
    "            for j in range(1,11):\n",
    "                print(chr(i+65) + str(j) + '\\t',end='')"
   ]
  },
  {
   "cell_type": "code",
   "execution_count": 102,
   "id": "5ffadcfd-6001-48b1-a335-109865564be0",
   "metadata": {},
   "outputs": [
    {
     "name": "stdout",
     "output_type": "stream",
     "text": [
      "ABCDEFGHIJKLMNOPQRSTUVWXYZ\n",
      "\n",
      "zyxwvutsrqponmlkjihgfedcba\n",
      "\n",
      "\n",
      "\n",
      "A1\tA2\tA3\tA4\tA5\tA6\tA7\tA8\tA9\tA10\t\n",
      "\n",
      "B1\tB2\tB3\tB4\tB5\tB6\tB7\tB8\tB9\tB10\t\n",
      "\n",
      "C1\tC2\tC3\tC4\tC5\tC6\tC7\tC8\tC9\tC10\t"
     ]
    }
   ],
   "source": [
    "ascii = Ascii(26)\n",
    "ascii.q1()\n",
    "ascii.q2()\n",
    "ascii.q3()"
   ]
  },
  {
   "cell_type": "code",
   "execution_count": 3,
   "id": "6ab7f485-0f23-4f34-b771-d46019024e43",
   "metadata": {},
   "outputs": [],
   "source": [
    "class Ascii:\n",
    "    def __init__(self):\n",
    "        self.result = 0\n",
    "    \n",
    "    def ex1():\n",
    "        for i in range(65, 91):\n",
    "            print(chr(i),end = ' ')\n",
    "    def ex2():\n",
    "        for j in range(122,96,-1):\n",
    "            print(chr(j),end='')\n",
    "    def ex3():\n",
    "        for i in range(3):\n",
    "            print('\\n')\n",
    "            for j in range(1,11):\n",
    "                print(chr(i+65) + str(j) + '\\t',end='')"
   ]
  },
  {
   "cell_type": "code",
   "execution_count": 5,
   "id": "f6a84780-648c-466c-b4cb-eb9fc764a2ba",
   "metadata": {},
   "outputs": [
    {
     "name": "stdout",
     "output_type": "stream",
     "text": [
      "A B C D E F G H I J K L M N O P Q R S T U V W X Y Z zyxwvutsrqponmlkjihgfedcba\n",
      "\n",
      "A1\tA2\tA3\tA4\tA5\tA6\tA7\tA8\tA9\tA10\t\n",
      "\n",
      "B1\tB2\tB3\tB4\tB5\tB6\tB7\tB8\tB9\tB10\t\n",
      "\n",
      "C1\tC2\tC3\tC4\tC5\tC6\tC7\tC8\tC9\tC10\t"
     ]
    }
   ],
   "source": [
    "a = Ascii\n",
    "a.ex1()\n",
    "a.ex2()\n",
    "a.ex3()"
   ]
  },
  {
   "cell_type": "code",
   "execution_count": 9,
   "id": "d40d25c7-aeb7-4eb3-85d9-eaae8451abc8",
   "metadata": {},
   "outputs": [
    {
     "name": "stdin",
     "output_type": "stream",
     "text": [
      "기분 한문장 요약 ㄱㄱ 싫어해 화난다 근데 좋아 사랑해\n"
     ]
    },
    {
     "name": "stdout",
     "output_type": "stream",
     "text": [
      "['좋아', '사랑해']\n",
      "Soso\n"
     ]
    }
   ],
   "source": [
    "positive_words = [\"좋아\", \"행복\", \"멋져\", \"최고\", \"사랑해\"]\n",
    "negative_words = [\"싫어\", \"화나\", \"짜증\", \"별로\", \"나빠\"]\n",
    "\n",
    "inp = input(\"기분 한문장 요약 ㄱㄱ\")\n",
    "pos = [p for p in positive_words if p in inp]\n",
    "neg = [n for n in positive_words if n in inp]\n",
    "\n",
    "if len(pos) > len(neg):\n",
    "    print(\"good\")\n",
    "elif len(pos) < len(neg):\n",
    "    print(\"Bad\")\n",
    "else:\n",
    "    print(\"Soso\")"
   ]
  },
  {
   "cell_type": "code",
   "execution_count": 1,
   "id": "2b26e1d5-f0ea-4f1c-a1e4-20a6d9cec380",
   "metadata": {},
   "outputs": [
    {
     "name": "stdin",
     "output_type": "stream",
     "text": [
      "기분 한문장 요약 ㄱㄱ asdasdasd\n"
     ]
    },
    {
     "name": "stdout",
     "output_type": "stream",
     "text": [
      "['asdasdasd'] [] []\n",
      "Soso\n"
     ]
    }
   ],
   "source": [
    "from konlpy.tag import Okt\n",
    "\n",
    "okt = Okt()\n",
    "\n",
    "positive_words = [\"좋다\", \"행복\", \"멋지다\", \"최고\", \"사랑\"]\n",
    "negative_words = [\"싫다\", \"화나다\", \"짜증\", \"별로\", \"나쁘다\"]\n",
    "\n",
    "inp = input(\"기분 한문장 요약 ㄱㄱ\")\n",
    "\n",
    "words = okt.morphs(inp, stem=True)\n",
    "\n",
    "pos = [p for p in words if p in positive_words]\n",
    "neg = [n for n in words if n in negative_words]\n",
    "\n",
    "print(words, pos, neg)\n",
    "\n",
    "if len(pos) > len(neg):\n",
    "    print(\"good\")\n",
    "elif len(pos) < len(neg):\n",
    "    print(\"Bad\")\n",
    "else:\n",
    "    print(\"Soso\")"
   ]
  },
  {
   "cell_type": "code",
   "execution_count": null,
   "id": "eed41847-8c68-4733-a017-726b8b1d45bd",
   "metadata": {},
   "outputs": [],
   "source": [
    "# !pip install konlpy"
   ]
  },
  {
   "cell_type": "code",
   "execution_count": 3,
   "id": "7c2d934d-279c-4118-9d28-6f75fffceb05",
   "metadata": {},
   "outputs": [
    {
     "data": {
      "text/plain": [
       "['__class__',\n",
       " '__class_getitem__',\n",
       " '__contains__',\n",
       " '__delattr__',\n",
       " '__delitem__',\n",
       " '__dir__',\n",
       " '__doc__',\n",
       " '__eq__',\n",
       " '__format__',\n",
       " '__ge__',\n",
       " '__getattribute__',\n",
       " '__getitem__',\n",
       " '__getstate__',\n",
       " '__gt__',\n",
       " '__hash__',\n",
       " '__init__',\n",
       " '__init_subclass__',\n",
       " '__ior__',\n",
       " '__iter__',\n",
       " '__le__',\n",
       " '__len__',\n",
       " '__lt__',\n",
       " '__ne__',\n",
       " '__new__',\n",
       " '__or__',\n",
       " '__reduce__',\n",
       " '__reduce_ex__',\n",
       " '__repr__',\n",
       " '__reversed__',\n",
       " '__ror__',\n",
       " '__setattr__',\n",
       " '__setitem__',\n",
       " '__sizeof__',\n",
       " '__str__',\n",
       " '__subclasshook__',\n",
       " 'clear',\n",
       " 'copy',\n",
       " 'fromkeys',\n",
       " 'get',\n",
       " 'items',\n",
       " 'keys',\n",
       " 'pop',\n",
       " 'popitem',\n",
       " 'setdefault',\n",
       " 'update',\n",
       " 'values']"
      ]
     },
     "execution_count": 3,
     "metadata": {},
     "output_type": "execute_result"
    }
   ],
   "source": [
    "dir(dict)"
   ]
  },
  {
   "cell_type": "code",
   "execution_count": 4,
   "id": "4a491f64-cbb1-4618-bfd6-e28ee4a356fe",
   "metadata": {},
   "outputs": [
    {
     "name": "stdout",
     "output_type": "stream",
     "text": [
      "(4, 1)\n",
      "4\n",
      "1\n"
     ]
    }
   ],
   "source": [
    "print(divmod(13,3))\n",
    "print(13//3)\n",
    "print(13%3)"
   ]
  },
  {
   "cell_type": "code",
   "execution_count": 8,
   "id": "725c2138-e683-4d7c-869e-b950d5a277f5",
   "metadata": {},
   "outputs": [
    {
     "name": "stdout",
     "output_type": "stream",
     "text": [
      "0 apple\n",
      "1 banana\n",
      "2 kiwi\n",
      "3 cherry\n",
      "4 mango\n"
     ]
    }
   ],
   "source": [
    "fruit = [\"apple\",\"banana\",\"kiwi\",\"cherry\",\"mango\"]\n",
    "for i,f in enumerate(fruit):\n",
    "    print(i, f)"
   ]
  },
  {
   "cell_type": "code",
   "execution_count": 9,
   "id": "6fe12060-3644-4b6e-98af-9195896e6174",
   "metadata": {},
   "outputs": [
    {
     "data": {
      "text/plain": [
       "3"
      ]
     },
     "execution_count": 9,
     "metadata": {},
     "output_type": "execute_result"
    }
   ],
   "source": [
    "eval('1 + 2')"
   ]
  },
  {
   "cell_type": "code",
   "execution_count": 10,
   "id": "8ef15758-55b3-47ac-b3d5-9cb243b7a62c",
   "metadata": {},
   "outputs": [
    {
     "name": "stdout",
     "output_type": "stream",
     "text": [
      "[1, 2, 6]\n"
     ]
    }
   ],
   "source": [
    "def positive(l):\n",
    "    result = []\n",
    "    for i in l:\n",
    "        if i > 0:\n",
    "            result.append(i)\n",
    "    return result\n",
    "\n",
    "print(positive([1,-1,2,0,-5,6]))"
   ]
  },
  {
   "cell_type": "code",
   "execution_count": 11,
   "id": "aa296633-ee2b-4915-bb81-b2ef1ac75b85",
   "metadata": {},
   "outputs": [
    {
     "name": "stdout",
     "output_type": "stream",
     "text": [
      "[1, 2, 6]\n"
     ]
    }
   ],
   "source": [
    "def positive(x):\n",
    "    return x > 0\n",
    "\n",
    "print(list(filter(positive,[1,-3,2,0,-5,6])))"
   ]
  },
  {
   "cell_type": "code",
   "execution_count": 12,
   "id": "d934d5db-bdff-4dec-8070-687032d6d623",
   "metadata": {},
   "outputs": [
    {
     "data": {
      "text/plain": [
       "[1, 2, 6]"
      ]
     },
     "execution_count": 12,
     "metadata": {},
     "output_type": "execute_result"
    }
   ],
   "source": [
    "list(filter(lambda x : x > 0, [1,-3,2,0,-5,6]))"
   ]
  },
  {
   "cell_type": "code",
   "execution_count": 21,
   "id": "97131493-6e0e-4e2e-bb3a-1cd22e7486a4",
   "metadata": {},
   "outputs": [
    {
     "name": "stdout",
     "output_type": "stream",
     "text": [
      "[3]\n"
     ]
    }
   ],
   "source": [
    "def positive(y):\n",
    "    return [i for i in y if i > 0]\n",
    "print(positive((3,-1)))"
   ]
  },
  {
   "cell_type": "code",
   "execution_count": 25,
   "id": "db7b280c-a85c-48c0-8b0c-b8be97027615",
   "metadata": {},
   "outputs": [
    {
     "name": "stdout",
     "output_type": "stream",
     "text": [
      "140723370656744\n",
      "140723370656744\n",
      "140723370656744\n",
      "True\n"
     ]
    }
   ],
   "source": [
    "a = 3\n",
    "print(id(3))\n",
    "print(id(a))\n",
    "b = a\n",
    "print(id(b))\n",
    "print(all([id(3) == id(a), id(a) == id(b), id(b) == id(3)]))"
   ]
  },
  {
   "cell_type": "code",
   "execution_count": 26,
   "id": "ae3f42dc-f7ee-4890-9d63-6e2db7ac610b",
   "metadata": {},
   "outputs": [
    {
     "data": {
      "text/plain": [
       "9"
      ]
     },
     "execution_count": 26,
     "metadata": {},
     "output_type": "execute_result"
    }
   ],
   "source": [
    "int('11', 8)"
   ]
  },
  {
   "cell_type": "code",
   "execution_count": 27,
   "id": "17d80e1d-b239-4fb2-bd1f-354126e2d298",
   "metadata": {},
   "outputs": [
    {
     "data": {
      "text/plain": [
       "True"
      ]
     },
     "execution_count": 27,
     "metadata": {},
     "output_type": "execute_result"
    }
   ],
   "source": [
    "class Person : pass\n",
    "\n",
    "a = Person()\n",
    "isinstance(a, Person)"
   ]
  },
  {
   "cell_type": "code",
   "execution_count": 28,
   "id": "78c58bc7-81af-4c32-867e-bb4d25c14b69",
   "metadata": {},
   "outputs": [
    {
     "name": "stdout",
     "output_type": "stream",
     "text": [
      "[2, 4, 6, 8]\n"
     ]
    }
   ],
   "source": [
    "def two_items(n1):\n",
    "    result = []\n",
    "    for n in n1:\n",
    "        result.append(n * 2)\n",
    "    return result\n",
    "\n",
    "result = two_items([1,2,3,4])\n",
    "print(result)"
   ]
  },
  {
   "cell_type": "code",
   "execution_count": 29,
   "id": "80341d93-86d0-458b-8f72-0955cdae4f54",
   "metadata": {},
   "outputs": [
    {
     "name": "stdout",
     "output_type": "stream",
     "text": [
      "[2, 4, 6, 8]\n"
     ]
    }
   ],
   "source": [
    "def two_times(num):\n",
    "    return [n * 2 for n in num]\n",
    "\n",
    "print(two_times([1,2,3,4]))"
   ]
  },
  {
   "cell_type": "code",
   "execution_count": 30,
   "id": "79f14dda-f8ba-4c0b-8485-0a4246db6bd3",
   "metadata": {},
   "outputs": [
    {
     "data": {
      "text/plain": [
       "[2, 4, 6, 8]"
      ]
     },
     "execution_count": 30,
     "metadata": {},
     "output_type": "execute_result"
    }
   ],
   "source": [
    "def two_times(x):\n",
    "    return x * 2\n",
    "\n",
    "list(map(two_times, [1,2,3,4]))"
   ]
  },
  {
   "cell_type": "code",
   "execution_count": 31,
   "id": "a6e75a76-bfaa-4152-867d-934795adcf6f",
   "metadata": {},
   "outputs": [
    {
     "data": {
      "text/plain": [
       "[2, 4, 6, 8]"
      ]
     },
     "execution_count": 31,
     "metadata": {},
     "output_type": "execute_result"
    }
   ],
   "source": [
    "list(map(lambda x : x * 2, [1,2,3,4]))"
   ]
  },
  {
   "cell_type": "code",
   "execution_count": 36,
   "id": "e99a042c-3c56-4b4e-bcf1-13a32d64991a",
   "metadata": {},
   "outputs": [
    {
     "name": "stdout",
     "output_type": "stream",
     "text": [
      "[1, 3, 5]\n",
      "[2, 4, 6]\n",
      "[11, 12, 13, 14, 15, 16]\n",
      "[1, 4, 9, 16, 25, 36]\n",
      "[11, 24, 39, 56, 75, 96]\n"
     ]
    }
   ],
   "source": [
    "li = [1,2,3,4,5,6]\n",
    "def odd(x):\n",
    "    return x%2 !=0\n",
    "def even(x):\n",
    "    return x %2 ==0\n",
    "def add(x):\n",
    "    return x + 10\n",
    "def mul(x):\n",
    "    return x * x\n",
    "def addmul(x):\n",
    "    return (x + 10) * x\n",
    "\n",
    "print(list(filter(odd,li)))\n",
    "print(list(filter(even,li)))\n",
    "print(list(map(add,li)))\n",
    "print(list(map(mul,li)))\n",
    "print(list(map(addmul,li)))"
   ]
  },
  {
   "cell_type": "code",
   "execution_count": 37,
   "id": "c94abc75-e17f-4ea8-8598-faacf8ca562b",
   "metadata": {},
   "outputs": [
    {
     "name": "stdout",
     "output_type": "stream",
     "text": [
      "2187\n"
     ]
    }
   ],
   "source": [
    "print(pow(3,7))"
   ]
  },
  {
   "cell_type": "code",
   "execution_count": 40,
   "id": "ea8f8a23-af1d-4cbd-a722-b5992b693431",
   "metadata": {},
   "outputs": [
    {
     "name": "stdout",
     "output_type": "stream",
     "text": [
      "[6, 6, 6, 6, 6, 6, 6]\n",
      "140723370656840 140723370656840\n"
     ]
    }
   ],
   "source": [
    "ss = sorted([6,6,6,6,6,6,6])\n",
    "print(ss)\n",
    "\n",
    "print(id(ss[0]),id(ss[1]))"
   ]
  },
  {
   "cell_type": "code",
   "execution_count": 42,
   "id": "0b6a6c59-fabf-423b-bcdb-fe9bb441baf9",
   "metadata": {},
   "outputs": [
    {
     "name": "stdout",
     "output_type": "stream",
     "text": [
      "<class 'tuple'>\n"
     ]
    }
   ],
   "source": [
    "aa = list(zip(\"abc\",\"def\"))\n",
    "print(type(aa[0]))"
   ]
  },
  {
   "cell_type": "code",
   "execution_count": 44,
   "id": "7ac40e51-432b-4c01-940a-0d6ec65bee58",
   "metadata": {},
   "outputs": [
    {
     "name": "stdout",
     "output_type": "stream",
     "text": [
      "('a', 'd', 'b', 'e')\n"
     ]
    }
   ],
   "source": [
    "bb = aa[0] + aa[1]\n",
    "print(bb)"
   ]
  },
  {
   "cell_type": "markdown",
   "id": "46d81c7b-03a3-4ec8-8b32-053fec9a5515",
   "metadata": {},
   "source": [
    "# 표준 라이브러리"
   ]
  },
  {
   "cell_type": "markdown",
   "id": "b39a02ec-72cf-44a0-86eb-cbaa9346335f",
   "metadata": {},
   "source": [
    "## datetime.date"
   ]
  },
  {
   "cell_type": "code",
   "execution_count": 54,
   "id": "95789e35-ebb3-446a-a120-4849d44338b2",
   "metadata": {},
   "outputs": [
    {
     "name": "stdout",
     "output_type": "stream",
     "text": [
      "전체 수업 일수:  172 일\n",
      "남은 수업 일수:  157 일\n",
      "지난 수업 일수:  15 일\n"
     ]
    }
   ],
   "source": [
    "import datetime\n",
    "\n",
    "day1 = datetime.date(2025,2,3)\n",
    "day2 = datetime.date(2025,7,25)\n",
    "diff = day2 - day1\n",
    "print(\"전체 수업 일수: \",diff.days,\"일\")\n",
    "\n",
    "diff2 = day2 - datetime.datetime.now().date()\n",
    "print(\"남은 수업 일수: \",diff2.days,\"일\")\n",
    "\n",
    "print(\"지난 수업 일수: \",abs(diff2.days - diff.days),\"일\")"
   ]
  },
  {
   "cell_type": "code",
   "execution_count": 57,
   "id": "d8b20d44-6d1b-4108-b6bb-63de00c4a838",
   "metadata": {},
   "outputs": [
    {
     "name": "stdout",
     "output_type": "stream",
     "text": [
      "일요일\n"
     ]
    },
    {
     "data": {
      "text/plain": [
       "7"
      ]
     },
     "execution_count": 57,
     "metadata": {},
     "output_type": "execute_result"
    }
   ],
   "source": [
    "days = ['월','화','수','목','금','토','일']\n",
    "day = datetime.date(2020,2,2)\n",
    "print(days[day.weekday()] + \"요일\")\n",
    "day.isoweekday()"
   ]
  },
  {
   "cell_type": "code",
   "execution_count": 27,
   "id": "b7417148-ac7b-4893-bb1f-92212080a66e",
   "metadata": {},
   "outputs": [],
   "source": [
    "import datetime\n",
    "\n",
    "def birthday():\n",
    "    inp = input(\"주민번호 앞자리 입력 ㄱㄱ\")\n",
    "    while len(inp) != 6:\n",
    "        print(\"큰일났음 다시 입력해주삼\")\n",
    "        inp = input(\"주민번호 앞자리 입력 ㄱㄱ\")  \n",
    "    \n",
    "    month = inp[2:4]\n",
    "    if month[0] == \"0\":\n",
    "        month[0].replace(\"0\",\"\")\n",
    "    date = inp[4:]\n",
    "    if date[0] == \"0\":\n",
    "        date[0].replace(\"0\",\"\")\n",
    "    birthday = datetime.date(2025,int(month),int(date))\n",
    "    today = datetime.datetime.now().date()\n",
    "        \n",
    "    birthday_diff = today - birthday\n",
    "    days = ['월','화','수','목','금','토','일']\n",
    "    birthday_days = birthday.weekday()\n",
    "        \n",
    "    if birthday_diff.days < 0:\n",
    "        print(f\"생일 {days[birthday_days]}요일이네 {abs(birthday_diff.days)}일 남았다 미리 ㅊㅊㅊㅊ\")\n",
    "    elif birthday_diff.days > 0:\n",
    "        print(f\"생일 {days[birthday_days]}요일이었네 {abs(birthday_diff.days)}일 지났네\")\n",
    "    else:\n",
    "        print(\"오늘 생일임? ㅊㅊㅊㅊ\")\n"
   ]
  },
  {
   "cell_type": "code",
   "execution_count": 30,
   "id": "1a5d1a21-20fe-4309-b7f0-96cbca66cfba",
   "metadata": {},
   "outputs": [
    {
     "name": "stdin",
     "output_type": "stream",
     "text": [
      "주민번호 앞자리 입력 ㄱㄱ 011010\n"
     ]
    },
    {
     "name": "stdout",
     "output_type": "stream",
     "text": [
      "생일 금요일이네 234일 남았다 미리 ㅊㅊㅊㅊ\n"
     ]
    }
   ],
   "source": [
    "birthday()"
   ]
  },
  {
   "cell_type": "code",
   "execution_count": 4,
   "id": "5d31912c-1427-4464-8cfb-13942038d93b",
   "metadata": {},
   "outputs": [
    {
     "name": "stdin",
     "output_type": "stream",
     "text": [
      "주민번호 앞자리 입력 ㄱㄱ 101010\n"
     ]
    },
    {
     "name": "stdout",
     "output_type": "stream",
     "text": [
      "생일 금요일이네 234일 남았다 미리 ㅊㅊㅊㅊ\n",
      "어린이날은 월요일입니다. 현재 어린이날까지 76 일 남았습니다.\n",
      "어버이날까지 79일 남았습니다. 어버이날은 목요일 입니다.\n",
      "크리스마스까지 310일 남았습니다.\n",
      "크리스마스는 목요일 입니다.\n",
      "2025-07-25 수료 후 추석까지 73일 남고, 추석 당일은 월요일 입니다.\n"
     ]
    }
   ],
   "source": [
    "import sys\n",
    "\n",
    "sys.path # 현재 시스템에 import되는 경로 확인\n",
    "sys.path.append(\"D:\\\\JHS\\\\team1\\\\team_5\\\\date\") # 현재 시스템에 import되는 경로 추가\n",
    "sys.path # 현재 시스템에 import되는 경로 확인\n",
    "\n",
    "import 계산_1 as a1\n",
    "import 계산_2 as a2\n",
    "import 계산_3 as a3\n",
    "import 계산_4 as a4\n",
    "import 계산_5 as a5\n",
    "\n",
    "a1.birthday()\n",
    "a2.childrens()\n",
    "a3.pday()\n",
    "a4.xmas()\n",
    "a5.chuseok()"
   ]
  },
  {
   "cell_type": "markdown",
   "id": "b00123c8-2423-4cf2-819e-5507fb3d1a2e",
   "metadata": {},
   "source": [
    "## time"
   ]
  },
  {
   "cell_type": "code",
   "execution_count": null,
   "id": "69cbf5b9-ee5c-4ee4-854c-8d19191a8a9c",
   "metadata": {},
   "outputs": [],
   "source": [
    "import time\n",
    "\n",
    "time.time()\n",
    "\n",
    "tt = time.localtime(time.time())\n",
    "tt.tm_year\n",
    "\n",
    "time.asctime(tt)\n",
    "\n",
    "time.ctime()\n",
    "\n",
    "time.strftime('%a',tt)\n",
    "\n",
    "for i in range(10):\n",
    "    print(i, end='\\r')\n",
    "    time.sleep(1)"
   ]
  },
  {
   "cell_type": "markdown",
   "id": "15191da9-9714-44b2-b81c-1479486bd11e",
   "metadata": {},
   "source": [
    "## math"
   ]
  },
  {
   "cell_type": "code",
   "execution_count": 20,
   "id": "29e63df8-35f4-4b36-965e-d6cde61e482b",
   "metadata": {},
   "outputs": [
    {
     "name": "stdout",
     "output_type": "stream",
     "text": [
      "3.141592653589793\n",
      "20\n",
      "75\n"
     ]
    }
   ],
   "source": [
    "import math\n",
    "\n",
    "print(math.pi)\n",
    "print(math.gcd(60,100,80))\n",
    "print(math.lcm(15,25))"
   ]
  },
  {
   "cell_type": "markdown",
   "id": "f82768ae-d93e-4e38-91d0-42181eb772d9",
   "metadata": {},
   "source": [
    "## random"
   ]
  },
  {
   "cell_type": "code",
   "execution_count": 37,
   "id": "b1cbdfe0-823f-4c9a-9cd3-f2452e53a5f7",
   "metadata": {},
   "outputs": [
    {
     "name": "stdout",
     "output_type": "stream",
     "text": [
      "0.20098528119578518\n",
      "8\n",
      "44\n",
      "[12, 16, 8, 19, 15, 7, 3, 11, 10, 20, 17, 5, 2, 6, 1, 4, 14, 18, 13, 9] 20\n",
      "{1, 2, 3, 4, 5, 6, 7, 8, 9, 10, 11, 12, 13, 14, 15, 16, 17, 18, 19, 20} 20\n"
     ]
    }
   ],
   "source": [
    "import random\n",
    "\n",
    "print(random.random())\n",
    "print(random.randint(1,10))\n",
    "\n",
    "data = [11,22,33,44,55,66]\n",
    "print(random.choice(data))\n",
    "\n",
    "li = list(range(1,21))\n",
    "arr = []\n",
    "for n in random.sample(li,len(li)):\n",
    "    arr.append(n)\n",
    "print(arr,len(arr))\n",
    "arr = set(arr)\n",
    "print(arr,len(arr))"
   ]
  },
  {
   "cell_type": "code",
   "execution_count": 11,
   "id": "6b7ba334-909f-4a71-b25f-d8577b327ae1",
   "metadata": {},
   "outputs": [],
   "source": [
    "#06-3\n",
    "def get_total_page(게시물총갯수,보여줄페이지수):\n",
    "    if 게시물총갯수%보여줄페이지수 == 0:\n",
    "        필요한페이지수 = (게시물총갯수//보여줄페이지수)\n",
    "    else:\n",
    "        필요한페이지수 = (게시물총갯수//보여줄페이지수) + 1\n",
    "    return 필요한페이지수"
   ]
  },
  {
   "cell_type": "code",
   "execution_count": 12,
   "id": "3b2f9470-f8f3-4291-bea6-ec8f7f7ca29b",
   "metadata": {},
   "outputs": [
    {
     "data": {
      "text/plain": [
       "1"
      ]
     },
     "execution_count": 12,
     "metadata": {},
     "output_type": "execute_result"
    }
   ],
   "source": [
    "get_total_page(5,10)"
   ]
  },
  {
   "cell_type": "code",
   "execution_count": 13,
   "id": "44b09c2a-ea4e-424d-a24d-cd633c535319",
   "metadata": {},
   "outputs": [
    {
     "data": {
      "text/plain": [
       "2"
      ]
     },
     "execution_count": 13,
     "metadata": {},
     "output_type": "execute_result"
    }
   ],
   "source": [
    "get_total_page(15,10)"
   ]
  },
  {
   "cell_type": "code",
   "execution_count": 14,
   "id": "ca3ab44b-a806-48e7-bc2d-91eae99a0a65",
   "metadata": {},
   "outputs": [
    {
     "data": {
      "text/plain": [
       "3"
      ]
     },
     "execution_count": 14,
     "metadata": {},
     "output_type": "execute_result"
    }
   ],
   "source": [
    "get_total_page(25,10)"
   ]
  },
  {
   "cell_type": "code",
   "execution_count": 15,
   "id": "fc1a9cec-5b58-4141-bf7a-313c39ae7f1c",
   "metadata": {},
   "outputs": [
    {
     "data": {
      "text/plain": [
       "3"
      ]
     },
     "execution_count": 15,
     "metadata": {},
     "output_type": "execute_result"
    }
   ],
   "source": [
    "get_total_page(30,10)"
   ]
  },
  {
   "cell_type": "code",
   "execution_count": null,
   "id": "b81acf9a-5135-451a-aae1-b849b99828da",
   "metadata": {},
   "outputs": [],
   "source": []
  }
 ],
 "metadata": {
  "kernelspec": {
   "display_name": "Python 3 (ipykernel)",
   "language": "python",
   "name": "python3"
  },
  "language_info": {
   "codemirror_mode": {
    "name": "ipython",
    "version": 3
   },
   "file_extension": ".py",
   "mimetype": "text/x-python",
   "name": "python",
   "nbconvert_exporter": "python",
   "pygments_lexer": "ipython3",
   "version": "3.13.1"
  }
 },
 "nbformat": 4,
 "nbformat_minor": 5
}
