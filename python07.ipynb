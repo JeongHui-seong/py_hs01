{
 "cells": [
  {
   "cell_type": "markdown",
   "id": "dce0d753-e9e7-4280-94ee-132915d0e887",
   "metadata": {},
   "source": [
    "# 내장함수"
   ]
  },
  {
   "cell_type": "code",
   "execution_count": 3,
   "id": "86618250-fb79-4300-b3c0-b36992fc1df7",
   "metadata": {},
   "outputs": [
    {
     "name": "stdout",
     "output_type": "stream",
     "text": [
      "3\n",
      "1.2\n"
     ]
    }
   ],
   "source": [
    "print(abs(-3))\n",
    "print(abs(1.2))"
   ]
  },
  {
   "cell_type": "code",
   "execution_count": 15,
   "id": "3f735774-f6e4-4f9c-b096-c587b22c823b",
   "metadata": {},
   "outputs": [
    {
     "name": "stdout",
     "output_type": "stream",
     "text": [
      "False\n",
      "True\n"
     ]
    }
   ],
   "source": [
    "print(all([11,22,0,44,55]))\n",
    "print(all(\"\"))"
   ]
  },
  {
   "cell_type": "code",
   "execution_count": 13,
   "id": "28f3c71b-4b05-40f2-8676-5e74ec6488ae",
   "metadata": {},
   "outputs": [
    {
     "name": "stdout",
     "output_type": "stream",
     "text": [
      "True\n",
      "False\n",
      "False\n"
     ]
    }
   ],
   "source": [
    "print(any([1,2,3,0]))\n",
    "print(any([0, \"\"]))\n",
    "print(any([]))"
   ]
  },
  {
   "cell_type": "code",
   "execution_count": 18,
   "id": "54ee4fc1-1aa4-4dfb-86b2-2e013a91741f",
   "metadata": {},
   "outputs": [
    {
     "data": {
      "text/plain": [
       "'A'"
      ]
     },
     "execution_count": 18,
     "metadata": {},
     "output_type": "execute_result"
    }
   ],
   "source": [
    "chr(65)"
   ]
  },
  {
   "cell_type": "code",
   "execution_count": 19,
   "id": "f9772373-5168-47a5-b3d2-c276e78b967d",
   "metadata": {},
   "outputs": [
    {
     "data": {
      "text/plain": [
       "44032"
      ]
     },
     "execution_count": 19,
     "metadata": {},
     "output_type": "execute_result"
    }
   ],
   "source": [
    "ord('가')"
   ]
  },
  {
   "cell_type": "code",
   "execution_count": 69,
   "id": "78aa58b7-4e3b-489a-8559-52ecf6926c80",
   "metadata": {},
   "outputs": [
    {
     "name": "stdout",
     "output_type": "stream",
     "text": [
      "ABCDEFGHIJKLMNOPQRSTUVWXYZ\n",
      "\n",
      "zyxwvutsrqponmlkjihgfedcba\n",
      "\n",
      "A1\tA2\tA3\tA4\tA5\tA6\tA7\tA8\tA9\tA10\tB1\tB2\tB3\tB4\tB5\tB6\tB7\tB8\tB9\tB10\tC1\tC2\tC3\tC4\tC5\tC6\tC7\tC8\tC9\tC10\t"
     ]
    }
   ],
   "source": [
    "#Q1\n",
    "for i in range(26):\n",
    "    print(chr(i+65),end='')\n",
    "print('\\n')\n",
    "\n",
    "#Q2\n",
    "list = []\n",
    "\n",
    "for i in range(26):\n",
    "    list.append(chr(i+97))\n",
    "list = sorted(list,reverse=True)\n",
    "\n",
    "for i in list:\n",
    "    print(i,end='')\n",
    "    \n",
    "print('\\n')\n",
    "#Q3\n",
    "for i in range(3):\n",
    "    for j in range(1,11):\n",
    "        print(chr(i+65) + str(j) + '\\t',end='')"
   ]
  },
  {
   "cell_type": "code",
   "execution_count": 101,
   "id": "b5f468c5-541c-4b8c-87f3-815b0127fe2f",
   "metadata": {},
   "outputs": [],
   "source": [
    "class Ascii:\n",
    "    def __init__(self, num):\n",
    "        self.num = num\n",
    "\n",
    "    def q1(self):\n",
    "        for i in range(self.num):\n",
    "            print(chr(i + 65),end='')\n",
    "        print('\\n')\n",
    "\n",
    "    def q2(self):\n",
    "        list = []\n",
    "        \n",
    "        for i in range(self.num):\n",
    "            list.append(chr(i+97))\n",
    "        list = sorted(list,reverse=True)\n",
    "        \n",
    "        for i in list:\n",
    "            print(i,end='')\n",
    "        print('\\n')\n",
    "        \n",
    "    def q3(self):\n",
    "        for i in range(3):\n",
    "            print('\\n')\n",
    "            for j in range(1,11):\n",
    "                print(chr(i+65) + str(j) + '\\t',end='')"
   ]
  },
  {
   "cell_type": "code",
   "execution_count": 102,
   "id": "5ffadcfd-6001-48b1-a335-109865564be0",
   "metadata": {},
   "outputs": [
    {
     "name": "stdout",
     "output_type": "stream",
     "text": [
      "ABCDEFGHIJKLMNOPQRSTUVWXYZ\n",
      "\n",
      "zyxwvutsrqponmlkjihgfedcba\n",
      "\n",
      "\n",
      "\n",
      "A1\tA2\tA3\tA4\tA5\tA6\tA7\tA8\tA9\tA10\t\n",
      "\n",
      "B1\tB2\tB3\tB4\tB5\tB6\tB7\tB8\tB9\tB10\t\n",
      "\n",
      "C1\tC2\tC3\tC4\tC5\tC6\tC7\tC8\tC9\tC10\t"
     ]
    }
   ],
   "source": [
    "ascii = Ascii(26)\n",
    "ascii.q1()\n",
    "ascii.q2()\n",
    "ascii.q3()"
   ]
  },
  {
   "cell_type": "code",
   "execution_count": 3,
   "id": "6ab7f485-0f23-4f34-b771-d46019024e43",
   "metadata": {},
   "outputs": [],
   "source": [
    "class Ascii:\n",
    "    def __init__(self):\n",
    "        self.result = 0\n",
    "    \n",
    "    def ex1():\n",
    "        for i in range(65, 91):\n",
    "            print(chr(i),end = ' ')\n",
    "    def ex2():\n",
    "        for j in range(122,96,-1):\n",
    "            print(chr(j),end='')\n",
    "    def ex3():\n",
    "        for i in range(3):\n",
    "            print('\\n')\n",
    "            for j in range(1,11):\n",
    "                print(chr(i+65) + str(j) + '\\t',end='')"
   ]
  },
  {
   "cell_type": "code",
   "execution_count": 5,
   "id": "f6a84780-648c-466c-b4cb-eb9fc764a2ba",
   "metadata": {},
   "outputs": [
    {
     "name": "stdout",
     "output_type": "stream",
     "text": [
      "A B C D E F G H I J K L M N O P Q R S T U V W X Y Z zyxwvutsrqponmlkjihgfedcba\n",
      "\n",
      "A1\tA2\tA3\tA4\tA5\tA6\tA7\tA8\tA9\tA10\t\n",
      "\n",
      "B1\tB2\tB3\tB4\tB5\tB6\tB7\tB8\tB9\tB10\t\n",
      "\n",
      "C1\tC2\tC3\tC4\tC5\tC6\tC7\tC8\tC9\tC10\t"
     ]
    }
   ],
   "source": [
    "a = Ascii\n",
    "a.ex1()\n",
    "a.ex2()\n",
    "a.ex3()"
   ]
  },
  {
   "cell_type": "code",
   "execution_count": 9,
   "id": "d40d25c7-aeb7-4eb3-85d9-eaae8451abc8",
   "metadata": {},
   "outputs": [
    {
     "name": "stdin",
     "output_type": "stream",
     "text": [
      "기분 한문장 요약 ㄱㄱ 싫어해 화난다 근데 좋아 사랑해\n"
     ]
    },
    {
     "name": "stdout",
     "output_type": "stream",
     "text": [
      "['좋아', '사랑해']\n",
      "Soso\n"
     ]
    }
   ],
   "source": [
    "positive_words = [\"좋아\", \"행복\", \"멋져\", \"최고\", \"사랑해\"]\n",
    "negative_words = [\"싫어\", \"화나\", \"짜증\", \"별로\", \"나빠\"]\n",
    "\n",
    "inp = input(\"기분 한문장 요약 ㄱㄱ\")\n",
    "pos = [p for p in positive_words if p in inp]\n",
    "neg = [n for n in positive_words if n in inp]\n",
    "\n",
    "if len(pos) > len(neg):\n",
    "    print(\"good\")\n",
    "elif len(pos) < len(neg):\n",
    "    print(\"Bad\")\n",
    "else:\n",
    "    print(\"Soso\")"
   ]
  },
  {
   "cell_type": "code",
   "execution_count": 1,
   "id": "2b26e1d5-f0ea-4f1c-a1e4-20a6d9cec380",
   "metadata": {},
   "outputs": [
    {
     "ename": "JVMNotFoundException",
     "evalue": "No JVM shared library file (jvm.dll) found. Try setting up the JAVA_HOME environment variable properly.",
     "output_type": "error",
     "traceback": [
      "\u001b[1;31m---------------------------------------------------------------------------\u001b[0m",
      "\u001b[1;31mJVMNotFoundException\u001b[0m                      Traceback (most recent call last)",
      "Cell \u001b[1;32mIn[1], line 3\u001b[0m\n\u001b[0;32m      1\u001b[0m \u001b[38;5;28;01mfrom\u001b[39;00m\u001b[38;5;250m \u001b[39m\u001b[38;5;21;01mkonlpy\u001b[39;00m\u001b[38;5;21;01m.\u001b[39;00m\u001b[38;5;21;01mtag\u001b[39;00m\u001b[38;5;250m \u001b[39m\u001b[38;5;28;01mimport\u001b[39;00m Okt\n\u001b[1;32m----> 3\u001b[0m okt \u001b[38;5;241m=\u001b[39m \u001b[43mOkt\u001b[49m\u001b[43m(\u001b[49m\u001b[43m)\u001b[49m\n\u001b[0;32m      5\u001b[0m positive_words \u001b[38;5;241m=\u001b[39m [\u001b[38;5;124m\"\u001b[39m\u001b[38;5;124m좋아\u001b[39m\u001b[38;5;124m\"\u001b[39m, \u001b[38;5;124m\"\u001b[39m\u001b[38;5;124m행복\u001b[39m\u001b[38;5;124m\"\u001b[39m, \u001b[38;5;124m\"\u001b[39m\u001b[38;5;124m멋져\u001b[39m\u001b[38;5;124m\"\u001b[39m, \u001b[38;5;124m\"\u001b[39m\u001b[38;5;124m최고\u001b[39m\u001b[38;5;124m\"\u001b[39m, \u001b[38;5;124m\"\u001b[39m\u001b[38;5;124m사랑해\u001b[39m\u001b[38;5;124m\"\u001b[39m]\n\u001b[0;32m      6\u001b[0m negative_words \u001b[38;5;241m=\u001b[39m [\u001b[38;5;124m\"\u001b[39m\u001b[38;5;124m싫어\u001b[39m\u001b[38;5;124m\"\u001b[39m, \u001b[38;5;124m\"\u001b[39m\u001b[38;5;124m화나\u001b[39m\u001b[38;5;124m\"\u001b[39m, \u001b[38;5;124m\"\u001b[39m\u001b[38;5;124m짜증\u001b[39m\u001b[38;5;124m\"\u001b[39m, \u001b[38;5;124m\"\u001b[39m\u001b[38;5;124m별로\u001b[39m\u001b[38;5;124m\"\u001b[39m, \u001b[38;5;124m\"\u001b[39m\u001b[38;5;124m나빠\u001b[39m\u001b[38;5;124m\"\u001b[39m]\n",
      "File \u001b[1;32m~\\AppData\\Local\\Programs\\Python\\Python313\\Lib\\site-packages\\konlpy\\tag\\_okt.py:51\u001b[0m, in \u001b[0;36mOkt.__init__\u001b[1;34m(self, jvmpath, max_heap_size)\u001b[0m\n\u001b[0;32m     49\u001b[0m \u001b[38;5;28;01mdef\u001b[39;00m\u001b[38;5;250m \u001b[39m\u001b[38;5;21m__init__\u001b[39m(\u001b[38;5;28mself\u001b[39m, jvmpath\u001b[38;5;241m=\u001b[39m\u001b[38;5;28;01mNone\u001b[39;00m, max_heap_size\u001b[38;5;241m=\u001b[39m\u001b[38;5;241m1024\u001b[39m):\n\u001b[0;32m     50\u001b[0m     \u001b[38;5;28;01mif\u001b[39;00m \u001b[38;5;129;01mnot\u001b[39;00m jpype\u001b[38;5;241m.\u001b[39misJVMStarted():\n\u001b[1;32m---> 51\u001b[0m         \u001b[43mjvm\u001b[49m\u001b[38;5;241;43m.\u001b[39;49m\u001b[43minit_jvm\u001b[49m\u001b[43m(\u001b[49m\u001b[43mjvmpath\u001b[49m\u001b[43m,\u001b[49m\u001b[43m \u001b[49m\u001b[43mmax_heap_size\u001b[49m\u001b[43m)\u001b[49m\n\u001b[0;32m     53\u001b[0m     oktJavaPackage \u001b[38;5;241m=\u001b[39m jpype\u001b[38;5;241m.\u001b[39mJPackage(\u001b[38;5;124m'\u001b[39m\u001b[38;5;124mkr.lucypark.okt\u001b[39m\u001b[38;5;124m'\u001b[39m)\n\u001b[0;32m     54\u001b[0m     OktInterfaceJavaClass \u001b[38;5;241m=\u001b[39m oktJavaPackage\u001b[38;5;241m.\u001b[39mOktInterface\n",
      "File \u001b[1;32m~\\AppData\\Local\\Programs\\Python\\Python313\\Lib\\site-packages\\konlpy\\jvm.py:55\u001b[0m, in \u001b[0;36minit_jvm\u001b[1;34m(jvmpath, max_heap_size)\u001b[0m\n\u001b[0;32m     52\u001b[0m args \u001b[38;5;241m=\u001b[39m [javadir, os\u001b[38;5;241m.\u001b[39msep]\n\u001b[0;32m     53\u001b[0m classpath \u001b[38;5;241m=\u001b[39m [f\u001b[38;5;241m.\u001b[39mformat(\u001b[38;5;241m*\u001b[39margs) \u001b[38;5;28;01mfor\u001b[39;00m f \u001b[38;5;129;01min\u001b[39;00m folder_suffix]\n\u001b[1;32m---> 55\u001b[0m jvmpath \u001b[38;5;241m=\u001b[39m jvmpath \u001b[38;5;129;01mor\u001b[39;00m \u001b[43mjpype\u001b[49m\u001b[38;5;241;43m.\u001b[39;49m\u001b[43mgetDefaultJVMPath\u001b[49m\u001b[43m(\u001b[49m\u001b[43m)\u001b[49m\n\u001b[0;32m     57\u001b[0m \u001b[38;5;66;03m# NOTE: Temporary patch for Issue #76. Erase when possible.\u001b[39;00m\n\u001b[0;32m     58\u001b[0m \u001b[38;5;28;01mif\u001b[39;00m sys\u001b[38;5;241m.\u001b[39mplatform \u001b[38;5;241m==\u001b[39m \u001b[38;5;124m'\u001b[39m\u001b[38;5;124mdarwin\u001b[39m\u001b[38;5;124m'\u001b[39m\\\n\u001b[0;32m     59\u001b[0m         \u001b[38;5;129;01mand\u001b[39;00m jvmpath\u001b[38;5;241m.\u001b[39mfind(\u001b[38;5;124m'\u001b[39m\u001b[38;5;124m1.8.0\u001b[39m\u001b[38;5;124m'\u001b[39m) \u001b[38;5;241m>\u001b[39m \u001b[38;5;241m0\u001b[39m\\\n\u001b[0;32m     60\u001b[0m         \u001b[38;5;129;01mand\u001b[39;00m jvmpath\u001b[38;5;241m.\u001b[39mendswith(\u001b[38;5;124m'\u001b[39m\u001b[38;5;124mlibjvm.dylib\u001b[39m\u001b[38;5;124m'\u001b[39m):\n",
      "File \u001b[1;32m~\\AppData\\Local\\Programs\\Python\\Python313\\Lib\\site-packages\\jpype\\_jvmfinder.py:70\u001b[0m, in \u001b[0;36mgetDefaultJVMPath\u001b[1;34m()\u001b[0m\n\u001b[0;32m     68\u001b[0m \u001b[38;5;28;01melse\u001b[39;00m:\n\u001b[0;32m     69\u001b[0m     finder \u001b[38;5;241m=\u001b[39m LinuxJVMFinder()\n\u001b[1;32m---> 70\u001b[0m \u001b[38;5;28;01mreturn\u001b[39;00m \u001b[43mfinder\u001b[49m\u001b[38;5;241;43m.\u001b[39;49m\u001b[43mget_jvm_path\u001b[49m\u001b[43m(\u001b[49m\u001b[43m)\u001b[49m\n",
      "File \u001b[1;32m~\\AppData\\Local\\Programs\\Python\\Python313\\Lib\\site-packages\\jpype\\_jvmfinder.py:204\u001b[0m, in \u001b[0;36mJVMFinder.get_jvm_path\u001b[1;34m(self)\u001b[0m\n\u001b[0;32m    202\u001b[0m \u001b[38;5;28;01mif\u001b[39;00m jvm_notsupport_ext \u001b[38;5;129;01mis\u001b[39;00m \u001b[38;5;129;01mnot\u001b[39;00m \u001b[38;5;28;01mNone\u001b[39;00m:\n\u001b[0;32m    203\u001b[0m     \u001b[38;5;28;01mraise\u001b[39;00m jvm_notsupport_ext\n\u001b[1;32m--> 204\u001b[0m \u001b[38;5;28;01mraise\u001b[39;00m JVMNotFoundException(\u001b[38;5;124m\"\u001b[39m\u001b[38;5;124mNo JVM shared library file (\u001b[39m\u001b[38;5;132;01m{0}\u001b[39;00m\u001b[38;5;124m) \u001b[39m\u001b[38;5;124m\"\u001b[39m\n\u001b[0;32m    205\u001b[0m                            \u001b[38;5;124m\"\u001b[39m\u001b[38;5;124mfound. Try setting up the JAVA_HOME \u001b[39m\u001b[38;5;124m\"\u001b[39m\n\u001b[0;32m    206\u001b[0m                            \u001b[38;5;124m\"\u001b[39m\u001b[38;5;124menvironment variable properly.\u001b[39m\u001b[38;5;124m\"\u001b[39m\n\u001b[0;32m    207\u001b[0m                            \u001b[38;5;241m.\u001b[39mformat(\u001b[38;5;28mself\u001b[39m\u001b[38;5;241m.\u001b[39m_libfile))\n",
      "\u001b[1;31mJVMNotFoundException\u001b[0m: No JVM shared library file (jvm.dll) found. Try setting up the JAVA_HOME environment variable properly."
     ]
    }
   ],
   "source": [
    "from konlpy.tag import Okt\n",
    "\n",
    "okt = Okt()\n",
    "\n",
    "positive_words = [\"좋아\", \"행복\", \"멋져\", \"최고\", \"사랑해\"]\n",
    "negative_words = [\"싫어\", \"화나\", \"짜증\", \"별로\", \"나빠\"]\n",
    "\n",
    "inp = input(\"기분 한문장 요약 ㄱㄱ\")\n",
    "\n",
    "words = okt.morphs(inp, stem=True)\n",
    "print(words)"
   ]
  },
  {
   "cell_type": "code",
   "execution_count": null,
   "id": "eed41847-8c68-4733-a017-726b8b1d45bd",
   "metadata": {},
   "outputs": [],
   "source": [
    "# !pip install konlpy"
   ]
  },
  {
   "cell_type": "code",
   "execution_count": null,
   "id": "7c2d934d-279c-4118-9d28-6f75fffceb05",
   "metadata": {},
   "outputs": [],
   "source": []
  }
 ],
 "metadata": {
  "kernelspec": {
   "display_name": "Python 3 (ipykernel)",
   "language": "python",
   "name": "python3"
  },
  "language_info": {
   "codemirror_mode": {
    "name": "ipython",
    "version": 3
   },
   "file_extension": ".py",
   "mimetype": "text/x-python",
   "name": "python",
   "nbconvert_exporter": "python",
   "pygments_lexer": "ipython3",
   "version": "3.13.1"
  }
 },
 "nbformat": 4,
 "nbformat_minor": 5
}
