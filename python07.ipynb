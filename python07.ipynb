{
 "cells": [
  {
   "cell_type": "markdown",
   "id": "dce0d753-e9e7-4280-94ee-132915d0e887",
   "metadata": {},
   "source": [
    "# 내장함수"
   ]
  },
  {
   "cell_type": "code",
   "execution_count": 3,
   "id": "86618250-fb79-4300-b3c0-b36992fc1df7",
   "metadata": {},
   "outputs": [
    {
     "name": "stdout",
     "output_type": "stream",
     "text": [
      "3\n",
      "1.2\n"
     ]
    }
   ],
   "source": [
    "print(abs(-3))\n",
    "print(abs(1.2))"
   ]
  },
  {
   "cell_type": "code",
   "execution_count": 15,
   "id": "3f735774-f6e4-4f9c-b096-c587b22c823b",
   "metadata": {},
   "outputs": [
    {
     "name": "stdout",
     "output_type": "stream",
     "text": [
      "False\n",
      "True\n"
     ]
    }
   ],
   "source": [
    "print(all([11,22,0,44,55]))\n",
    "print(all(\"\"))"
   ]
  },
  {
   "cell_type": "code",
   "execution_count": 13,
   "id": "28f3c71b-4b05-40f2-8676-5e74ec6488ae",
   "metadata": {},
   "outputs": [
    {
     "name": "stdout",
     "output_type": "stream",
     "text": [
      "True\n",
      "False\n",
      "False\n"
     ]
    }
   ],
   "source": [
    "print(any([1,2,3,0]))\n",
    "print(any([0, \"\"]))\n",
    "print(any([]))"
   ]
  },
  {
   "cell_type": "code",
   "execution_count": 18,
   "id": "54ee4fc1-1aa4-4dfb-86b2-2e013a91741f",
   "metadata": {},
   "outputs": [
    {
     "data": {
      "text/plain": [
       "'A'"
      ]
     },
     "execution_count": 18,
     "metadata": {},
     "output_type": "execute_result"
    }
   ],
   "source": [
    "chr(65)"
   ]
  },
  {
   "cell_type": "code",
   "execution_count": 19,
   "id": "f9772373-5168-47a5-b3d2-c276e78b967d",
   "metadata": {},
   "outputs": [
    {
     "data": {
      "text/plain": [
       "44032"
      ]
     },
     "execution_count": 19,
     "metadata": {},
     "output_type": "execute_result"
    }
   ],
   "source": [
    "ord('가')"
   ]
  },
  {
   "cell_type": "code",
   "execution_count": 69,
   "id": "78aa58b7-4e3b-489a-8559-52ecf6926c80",
   "metadata": {},
   "outputs": [
    {
     "name": "stdout",
     "output_type": "stream",
     "text": [
      "ABCDEFGHIJKLMNOPQRSTUVWXYZ\n",
      "\n",
      "zyxwvutsrqponmlkjihgfedcba\n",
      "\n",
      "A1\tA2\tA3\tA4\tA5\tA6\tA7\tA8\tA9\tA10\tB1\tB2\tB3\tB4\tB5\tB6\tB7\tB8\tB9\tB10\tC1\tC2\tC3\tC4\tC5\tC6\tC7\tC8\tC9\tC10\t"
     ]
    }
   ],
   "source": [
    "#Q1\n",
    "for i in range(26):\n",
    "    print(chr(i+65),end='')\n",
    "print('\\n')\n",
    "\n",
    "#Q2\n",
    "list = []\n",
    "\n",
    "for i in range(26):\n",
    "    list.append(chr(i+97))\n",
    "list = sorted(list,reverse=True)\n",
    "\n",
    "for i in list:\n",
    "    print(i,end='')\n",
    "    \n",
    "print('\\n')\n",
    "#Q3\n",
    "for i in range(3):\n",
    "    for j in range(1,11):\n",
    "        print(chr(i+65) + str(j) + '\\t',end='')"
   ]
  },
  {
   "cell_type": "code",
   "execution_count": 101,
   "id": "b5f468c5-541c-4b8c-87f3-815b0127fe2f",
   "metadata": {},
   "outputs": [],
   "source": [
    "class Ascii:\n",
    "    def __init__(self, num):\n",
    "        self.num = num\n",
    "\n",
    "    def q1(self):\n",
    "        for i in range(self.num):\n",
    "            print(chr(i + 65),end='')\n",
    "        print('\\n')\n",
    "\n",
    "    def q2(self):\n",
    "        list = []\n",
    "        \n",
    "        for i in range(self.num):\n",
    "            list.append(chr(i+97))\n",
    "        list = sorted(list,reverse=True)\n",
    "        \n",
    "        for i in list:\n",
    "            print(i,end='')\n",
    "        print('\\n')\n",
    "        \n",
    "    def q3(self):\n",
    "        for i in range(3):\n",
    "            print('\\n')\n",
    "            for j in range(1,11):\n",
    "                print(chr(i+65) + str(j) + '\\t',end='')"
   ]
  },
  {
   "cell_type": "code",
   "execution_count": 102,
   "id": "5ffadcfd-6001-48b1-a335-109865564be0",
   "metadata": {},
   "outputs": [
    {
     "name": "stdout",
     "output_type": "stream",
     "text": [
      "ABCDEFGHIJKLMNOPQRSTUVWXYZ\n",
      "\n",
      "zyxwvutsrqponmlkjihgfedcba\n",
      "\n",
      "\n",
      "\n",
      "A1\tA2\tA3\tA4\tA5\tA6\tA7\tA8\tA9\tA10\t\n",
      "\n",
      "B1\tB2\tB3\tB4\tB5\tB6\tB7\tB8\tB9\tB10\t\n",
      "\n",
      "C1\tC2\tC3\tC4\tC5\tC6\tC7\tC8\tC9\tC10\t"
     ]
    }
   ],
   "source": [
    "ascii = Ascii(26)\n",
    "ascii.q1()\n",
    "ascii.q2()\n",
    "ascii.q3()"
   ]
  },
  {
   "cell_type": "code",
   "execution_count": 3,
   "id": "6ab7f485-0f23-4f34-b771-d46019024e43",
   "metadata": {},
   "outputs": [],
   "source": [
    "class Ascii:\n",
    "    def __init__(self):\n",
    "        self.result = 0\n",
    "    \n",
    "    def ex1():\n",
    "        for i in range(65, 91):\n",
    "            print(chr(i),end = ' ')\n",
    "    def ex2():\n",
    "        for j in range(122,96,-1):\n",
    "            print(chr(j),end='')\n",
    "    def ex3():\n",
    "        for i in range(3):\n",
    "            print('\\n')\n",
    "            for j in range(1,11):\n",
    "                print(chr(i+65) + str(j) + '\\t',end='')"
   ]
  },
  {
   "cell_type": "code",
   "execution_count": 5,
   "id": "f6a84780-648c-466c-b4cb-eb9fc764a2ba",
   "metadata": {},
   "outputs": [
    {
     "name": "stdout",
     "output_type": "stream",
     "text": [
      "A B C D E F G H I J K L M N O P Q R S T U V W X Y Z zyxwvutsrqponmlkjihgfedcba\n",
      "\n",
      "A1\tA2\tA3\tA4\tA5\tA6\tA7\tA8\tA9\tA10\t\n",
      "\n",
      "B1\tB2\tB3\tB4\tB5\tB6\tB7\tB8\tB9\tB10\t\n",
      "\n",
      "C1\tC2\tC3\tC4\tC5\tC6\tC7\tC8\tC9\tC10\t"
     ]
    }
   ],
   "source": [
    "a = Ascii\n",
    "a.ex1()\n",
    "a.ex2()\n",
    "a.ex3()"
   ]
  },
  {
   "cell_type": "code",
   "execution_count": 9,
   "id": "d40d25c7-aeb7-4eb3-85d9-eaae8451abc8",
   "metadata": {},
   "outputs": [
    {
     "name": "stdin",
     "output_type": "stream",
     "text": [
      "기분 한문장 요약 ㄱㄱ 싫어해 화난다 근데 좋아 사랑해\n"
     ]
    },
    {
     "name": "stdout",
     "output_type": "stream",
     "text": [
      "['좋아', '사랑해']\n",
      "Soso\n"
     ]
    }
   ],
   "source": [
    "positive_words = [\"좋아\", \"행복\", \"멋져\", \"최고\", \"사랑해\"]\n",
    "negative_words = [\"싫어\", \"화나\", \"짜증\", \"별로\", \"나빠\"]\n",
    "\n",
    "inp = input(\"기분 한문장 요약 ㄱㄱ\")\n",
    "pos = [p for p in positive_words if p in inp]\n",
    "neg = [n for n in positive_words if n in inp]\n",
    "\n",
    "if len(pos) > len(neg):\n",
    "    print(\"good\")\n",
    "elif len(pos) < len(neg):\n",
    "    print(\"Bad\")\n",
    "else:\n",
    "    print(\"Soso\")"
   ]
  },
  {
   "cell_type": "code",
   "execution_count": 1,
   "id": "2b26e1d5-f0ea-4f1c-a1e4-20a6d9cec380",
   "metadata": {},
   "outputs": [
    {
     "name": "stdin",
     "output_type": "stream",
     "text": [
      "기분 한문장 요약 ㄱㄱ asdasdasd\n"
     ]
    },
    {
     "name": "stdout",
     "output_type": "stream",
     "text": [
      "['asdasdasd'] [] []\n",
      "Soso\n"
     ]
    }
   ],
   "source": [
    "from konlpy.tag import Okt\n",
    "\n",
    "okt = Okt()\n",
    "\n",
    "positive_words = [\"좋다\", \"행복\", \"멋지다\", \"최고\", \"사랑\"]\n",
    "negative_words = [\"싫다\", \"화나다\", \"짜증\", \"별로\", \"나쁘다\"]\n",
    "\n",
    "inp = input(\"기분 한문장 요약 ㄱㄱ\")\n",
    "\n",
    "words = okt.morphs(inp, stem=True)\n",
    "\n",
    "pos = [p for p in words if p in positive_words]\n",
    "neg = [n for n in words if n in negative_words]\n",
    "\n",
    "print(words, pos, neg)\n",
    "\n",
    "if len(pos) > len(neg):\n",
    "    print(\"good\")\n",
    "elif len(pos) < len(neg):\n",
    "    print(\"Bad\")\n",
    "else:\n",
    "    print(\"Soso\")"
   ]
  },
  {
   "cell_type": "code",
   "execution_count": null,
   "id": "eed41847-8c68-4733-a017-726b8b1d45bd",
   "metadata": {},
   "outputs": [],
   "source": [
    "# !pip install konlpy"
   ]
  },
  {
   "cell_type": "code",
   "execution_count": 3,
   "id": "7c2d934d-279c-4118-9d28-6f75fffceb05",
   "metadata": {},
   "outputs": [
    {
     "data": {
      "text/plain": [
       "['__class__',\n",
       " '__class_getitem__',\n",
       " '__contains__',\n",
       " '__delattr__',\n",
       " '__delitem__',\n",
       " '__dir__',\n",
       " '__doc__',\n",
       " '__eq__',\n",
       " '__format__',\n",
       " '__ge__',\n",
       " '__getattribute__',\n",
       " '__getitem__',\n",
       " '__getstate__',\n",
       " '__gt__',\n",
       " '__hash__',\n",
       " '__init__',\n",
       " '__init_subclass__',\n",
       " '__ior__',\n",
       " '__iter__',\n",
       " '__le__',\n",
       " '__len__',\n",
       " '__lt__',\n",
       " '__ne__',\n",
       " '__new__',\n",
       " '__or__',\n",
       " '__reduce__',\n",
       " '__reduce_ex__',\n",
       " '__repr__',\n",
       " '__reversed__',\n",
       " '__ror__',\n",
       " '__setattr__',\n",
       " '__setitem__',\n",
       " '__sizeof__',\n",
       " '__str__',\n",
       " '__subclasshook__',\n",
       " 'clear',\n",
       " 'copy',\n",
       " 'fromkeys',\n",
       " 'get',\n",
       " 'items',\n",
       " 'keys',\n",
       " 'pop',\n",
       " 'popitem',\n",
       " 'setdefault',\n",
       " 'update',\n",
       " 'values']"
      ]
     },
     "execution_count": 3,
     "metadata": {},
     "output_type": "execute_result"
    }
   ],
   "source": [
    "dir(dict)"
   ]
  },
  {
   "cell_type": "code",
   "execution_count": 4,
   "id": "4a491f64-cbb1-4618-bfd6-e28ee4a356fe",
   "metadata": {},
   "outputs": [
    {
     "name": "stdout",
     "output_type": "stream",
     "text": [
      "(4, 1)\n",
      "4\n",
      "1\n"
     ]
    }
   ],
   "source": [
    "print(divmod(13,3))\n",
    "print(13//3)\n",
    "print(13%3)"
   ]
  },
  {
   "cell_type": "code",
   "execution_count": 8,
   "id": "725c2138-e683-4d7c-869e-b950d5a277f5",
   "metadata": {},
   "outputs": [
    {
     "name": "stdout",
     "output_type": "stream",
     "text": [
      "0 apple\n",
      "1 banana\n",
      "2 kiwi\n",
      "3 cherry\n",
      "4 mango\n"
     ]
    }
   ],
   "source": [
    "fruit = [\"apple\",\"banana\",\"kiwi\",\"cherry\",\"mango\"]\n",
    "for i,f in enumerate(fruit):\n",
    "    print(i, f)"
   ]
  },
  {
   "cell_type": "code",
   "execution_count": 9,
   "id": "6fe12060-3644-4b6e-98af-9195896e6174",
   "metadata": {},
   "outputs": [
    {
     "data": {
      "text/plain": [
       "3"
      ]
     },
     "execution_count": 9,
     "metadata": {},
     "output_type": "execute_result"
    }
   ],
   "source": [
    "eval('1 + 2')"
   ]
  },
  {
   "cell_type": "code",
   "execution_count": 10,
   "id": "8ef15758-55b3-47ac-b3d5-9cb243b7a62c",
   "metadata": {},
   "outputs": [
    {
     "name": "stdout",
     "output_type": "stream",
     "text": [
      "[1, 2, 6]\n"
     ]
    }
   ],
   "source": [
    "def positive(l):\n",
    "    result = []\n",
    "    for i in l:\n",
    "        if i > 0:\n",
    "            result.append(i)\n",
    "    return result\n",
    "\n",
    "print(positive([1,-1,2,0,-5,6]))"
   ]
  },
  {
   "cell_type": "code",
   "execution_count": 11,
   "id": "aa296633-ee2b-4915-bb81-b2ef1ac75b85",
   "metadata": {},
   "outputs": [
    {
     "name": "stdout",
     "output_type": "stream",
     "text": [
      "[1, 2, 6]\n"
     ]
    }
   ],
   "source": [
    "def positive(x):\n",
    "    return x > 0\n",
    "\n",
    "print(list(filter(positive,[1,-3,2,0,-5,6])))"
   ]
  },
  {
   "cell_type": "code",
   "execution_count": 12,
   "id": "d934d5db-bdff-4dec-8070-687032d6d623",
   "metadata": {},
   "outputs": [
    {
     "data": {
      "text/plain": [
       "[1, 2, 6]"
      ]
     },
     "execution_count": 12,
     "metadata": {},
     "output_type": "execute_result"
    }
   ],
   "source": [
    "list(filter(lambda x : x > 0, [1,-3,2,0,-5,6]))"
   ]
  },
  {
   "cell_type": "code",
   "execution_count": 21,
   "id": "97131493-6e0e-4e2e-bb3a-1cd22e7486a4",
   "metadata": {},
   "outputs": [
    {
     "name": "stdout",
     "output_type": "stream",
     "text": [
      "[3]\n"
     ]
    }
   ],
   "source": [
    "def positive(y):\n",
    "    return [i for i in y if i > 0]\n",
    "print(positive((3,-1)))"
   ]
  },
  {
   "cell_type": "code",
   "execution_count": 25,
   "id": "db7b280c-a85c-48c0-8b0c-b8be97027615",
   "metadata": {},
   "outputs": [
    {
     "name": "stdout",
     "output_type": "stream",
     "text": [
      "140723370656744\n",
      "140723370656744\n",
      "140723370656744\n",
      "True\n"
     ]
    }
   ],
   "source": [
    "a = 3\n",
    "print(id(3))\n",
    "print(id(a))\n",
    "b = a\n",
    "print(id(b))\n",
    "print(all([id(3) == id(a), id(a) == id(b), id(b) == id(3)]))"
   ]
  },
  {
   "cell_type": "code",
   "execution_count": 26,
   "id": "ae3f42dc-f7ee-4890-9d63-6e2db7ac610b",
   "metadata": {},
   "outputs": [
    {
     "data": {
      "text/plain": [
       "9"
      ]
     },
     "execution_count": 26,
     "metadata": {},
     "output_type": "execute_result"
    }
   ],
   "source": [
    "int('11', 8)"
   ]
  },
  {
   "cell_type": "code",
   "execution_count": 27,
   "id": "17d80e1d-b239-4fb2-bd1f-354126e2d298",
   "metadata": {},
   "outputs": [
    {
     "data": {
      "text/plain": [
       "True"
      ]
     },
     "execution_count": 27,
     "metadata": {},
     "output_type": "execute_result"
    }
   ],
   "source": [
    "class Person : pass\n",
    "\n",
    "a = Person()\n",
    "isinstance(a, Person)"
   ]
  },
  {
   "cell_type": "code",
   "execution_count": 28,
   "id": "78c58bc7-81af-4c32-867e-bb4d25c14b69",
   "metadata": {},
   "outputs": [
    {
     "name": "stdout",
     "output_type": "stream",
     "text": [
      "[2, 4, 6, 8]\n"
     ]
    }
   ],
   "source": [
    "def two_items(n1):\n",
    "    result = []\n",
    "    for n in n1:\n",
    "        result.append(n * 2)\n",
    "    return result\n",
    "\n",
    "result = two_items([1,2,3,4])\n",
    "print(result)"
   ]
  },
  {
   "cell_type": "code",
   "execution_count": 29,
   "id": "80341d93-86d0-458b-8f72-0955cdae4f54",
   "metadata": {},
   "outputs": [
    {
     "name": "stdout",
     "output_type": "stream",
     "text": [
      "[2, 4, 6, 8]\n"
     ]
    }
   ],
   "source": [
    "def two_times(num):\n",
    "    return [n * 2 for n in num]\n",
    "\n",
    "print(two_times([1,2,3,4]))"
   ]
  },
  {
   "cell_type": "code",
   "execution_count": 30,
   "id": "79f14dda-f8ba-4c0b-8485-0a4246db6bd3",
   "metadata": {},
   "outputs": [
    {
     "data": {
      "text/plain": [
       "[2, 4, 6, 8]"
      ]
     },
     "execution_count": 30,
     "metadata": {},
     "output_type": "execute_result"
    }
   ],
   "source": [
    "def two_times(x):\n",
    "    return x * 2\n",
    "\n",
    "list(map(two_times, [1,2,3,4]))"
   ]
  },
  {
   "cell_type": "code",
   "execution_count": 31,
   "id": "a6e75a76-bfaa-4152-867d-934795adcf6f",
   "metadata": {},
   "outputs": [
    {
     "data": {
      "text/plain": [
       "[2, 4, 6, 8]"
      ]
     },
     "execution_count": 31,
     "metadata": {},
     "output_type": "execute_result"
    }
   ],
   "source": [
    "list(map(lambda x : x * 2, [1,2,3,4]))"
   ]
  },
  {
   "cell_type": "code",
   "execution_count": 36,
   "id": "e99a042c-3c56-4b4e-bcf1-13a32d64991a",
   "metadata": {},
   "outputs": [
    {
     "name": "stdout",
     "output_type": "stream",
     "text": [
      "[1, 3, 5]\n",
      "[2, 4, 6]\n",
      "[11, 12, 13, 14, 15, 16]\n",
      "[1, 4, 9, 16, 25, 36]\n",
      "[11, 24, 39, 56, 75, 96]\n"
     ]
    }
   ],
   "source": [
    "li = [1,2,3,4,5,6]\n",
    "def odd(x):\n",
    "    return x%2 !=0\n",
    "def even(x):\n",
    "    return x %2 ==0\n",
    "def add(x):\n",
    "    return x + 10\n",
    "def mul(x):\n",
    "    return x * x\n",
    "def addmul(x):\n",
    "    return (x + 10) * x\n",
    "\n",
    "print(list(filter(odd,li)))\n",
    "print(list(filter(even,li)))\n",
    "print(list(map(add,li)))\n",
    "print(list(map(mul,li)))\n",
    "print(list(map(addmul,li)))"
   ]
  },
  {
   "cell_type": "code",
   "execution_count": 37,
   "id": "c94abc75-e17f-4ea8-8598-faacf8ca562b",
   "metadata": {},
   "outputs": [
    {
     "name": "stdout",
     "output_type": "stream",
     "text": [
      "2187\n"
     ]
    }
   ],
   "source": [
    "print(pow(3,7))"
   ]
  },
  {
   "cell_type": "code",
   "execution_count": 40,
   "id": "ea8f8a23-af1d-4cbd-a722-b5992b693431",
   "metadata": {},
   "outputs": [
    {
     "name": "stdout",
     "output_type": "stream",
     "text": [
      "[6, 6, 6, 6, 6, 6, 6]\n",
      "140723370656840 140723370656840\n"
     ]
    }
   ],
   "source": [
    "ss = sorted([6,6,6,6,6,6,6])\n",
    "print(ss)\n",
    "\n",
    "print(id(ss[0]),id(ss[1]))"
   ]
  },
  {
   "cell_type": "code",
   "execution_count": 42,
   "id": "0b6a6c59-fabf-423b-bcdb-fe9bb441baf9",
   "metadata": {},
   "outputs": [
    {
     "name": "stdout",
     "output_type": "stream",
     "text": [
      "<class 'tuple'>\n"
     ]
    }
   ],
   "source": [
    "aa = list(zip(\"abc\",\"def\"))\n",
    "print(type(aa[0]))"
   ]
  },
  {
   "cell_type": "code",
   "execution_count": 44,
   "id": "7ac40e51-432b-4c01-940a-0d6ec65bee58",
   "metadata": {},
   "outputs": [
    {
     "name": "stdout",
     "output_type": "stream",
     "text": [
      "('a', 'd', 'b', 'e')\n"
     ]
    }
   ],
   "source": [
    "bb = aa[0] + aa[1]\n",
    "print(bb)"
   ]
  },
  {
   "cell_type": "markdown",
   "id": "46d81c7b-03a3-4ec8-8b32-053fec9a5515",
   "metadata": {},
   "source": [
    "# 표준 라이브러리"
   ]
  },
  {
   "cell_type": "markdown",
   "id": "b39a02ec-72cf-44a0-86eb-cbaa9346335f",
   "metadata": {},
   "source": [
    "## datetime.date"
   ]
  },
  {
   "cell_type": "code",
   "execution_count": 54,
   "id": "95789e35-ebb3-446a-a120-4849d44338b2",
   "metadata": {},
   "outputs": [
    {
     "name": "stdout",
     "output_type": "stream",
     "text": [
      "전체 수업 일수:  172 일\n",
      "남은 수업 일수:  157 일\n",
      "지난 수업 일수:  15 일\n"
     ]
    }
   ],
   "source": [
    "import datetime\n",
    "\n",
    "day1 = datetime.date(2025,2,3)\n",
    "day2 = datetime.date(2025,7,25)\n",
    "diff = day2 - day1\n",
    "print(\"전체 수업 일수: \",diff.days,\"일\")\n",
    "\n",
    "diff2 = day2 - datetime.datetime.now().date()\n",
    "print(\"남은 수업 일수: \",diff2.days,\"일\")\n",
    "\n",
    "print(\"지난 수업 일수: \",abs(diff2.days - diff.days),\"일\")"
   ]
  },
  {
   "cell_type": "code",
   "execution_count": 57,
   "id": "d8b20d44-6d1b-4108-b6bb-63de00c4a838",
   "metadata": {},
   "outputs": [
    {
     "name": "stdout",
     "output_type": "stream",
     "text": [
      "일요일\n"
     ]
    },
    {
     "data": {
      "text/plain": [
       "7"
      ]
     },
     "execution_count": 57,
     "metadata": {},
     "output_type": "execute_result"
    }
   ],
   "source": [
    "days = ['월','화','수','목','금','토','일']\n",
    "day = datetime.date(2020,2,2)\n",
    "print(days[day.weekday()] + \"요일\")\n",
    "day.isoweekday()"
   ]
  },
  {
   "cell_type": "code",
   "execution_count": 27,
   "id": "b7417148-ac7b-4893-bb1f-92212080a66e",
   "metadata": {},
   "outputs": [],
   "source": [
    "import datetime\n",
    "\n",
    "def birthday():\n",
    "    inp = input(\"주민번호 앞자리 입력 ㄱㄱ\")\n",
    "    while len(inp) != 6:\n",
    "        print(\"큰일났음 다시 입력해주삼\")\n",
    "        inp = input(\"주민번호 앞자리 입력 ㄱㄱ\")  \n",
    "    \n",
    "    month = inp[2:4]\n",
    "    if month[0] == \"0\":\n",
    "        month[0].replace(\"0\",\"\")\n",
    "    date = inp[4:]\n",
    "    if date[0] == \"0\":\n",
    "        date[0].replace(\"0\",\"\")\n",
    "    birthday = datetime.date(2025,int(month),int(date))\n",
    "    today = datetime.datetime.now().date()\n",
    "        \n",
    "    birthday_diff = today - birthday\n",
    "    days = ['월','화','수','목','금','토','일']\n",
    "    birthday_days = birthday.weekday()\n",
    "        \n",
    "    if birthday_diff.days < 0:\n",
    "        print(f\"생일 {days[birthday_days]}요일이네 {abs(birthday_diff.days)}일 남았다 미리 ㅊㅊㅊㅊ\")\n",
    "    elif birthday_diff.days > 0:\n",
    "        print(f\"생일 {days[birthday_days]}요일이었네 {abs(birthday_diff.days)}일 지났네\")\n",
    "    else:\n",
    "        print(\"오늘 생일임? ㅊㅊㅊㅊ\")\n"
   ]
  },
  {
   "cell_type": "code",
   "execution_count": 30,
   "id": "1a5d1a21-20fe-4309-b7f0-96cbca66cfba",
   "metadata": {},
   "outputs": [
    {
     "name": "stdin",
     "output_type": "stream",
     "text": [
      "주민번호 앞자리 입력 ㄱㄱ 011010\n"
     ]
    },
    {
     "name": "stdout",
     "output_type": "stream",
     "text": [
      "생일 금요일이네 234일 남았다 미리 ㅊㅊㅊㅊ\n"
     ]
    }
   ],
   "source": [
    "birthday()"
   ]
  },
  {
   "cell_type": "code",
   "execution_count": 4,
   "id": "5d31912c-1427-4464-8cfb-13942038d93b",
   "metadata": {},
   "outputs": [
    {
     "name": "stdin",
     "output_type": "stream",
     "text": [
      "주민번호 앞자리 입력 ㄱㄱ 101010\n"
     ]
    },
    {
     "name": "stdout",
     "output_type": "stream",
     "text": [
      "생일 금요일이네 234일 남았다 미리 ㅊㅊㅊㅊ\n",
      "어린이날은 월요일입니다. 현재 어린이날까지 76 일 남았습니다.\n",
      "어버이날까지 79일 남았습니다. 어버이날은 목요일 입니다.\n",
      "크리스마스까지 310일 남았습니다.\n",
      "크리스마스는 목요일 입니다.\n",
      "2025-07-25 수료 후 추석까지 73일 남고, 추석 당일은 월요일 입니다.\n"
     ]
    }
   ],
   "source": [
    "import sys\n",
    "\n",
    "sys.path # 현재 시스템에 import되는 경로 확인\n",
    "sys.path.append(\"D:\\\\JHS\\\\team1\\\\team_5\\\\date\") # 현재 시스템에 import되는 경로 추가\n",
    "sys.path # 현재 시스템에 import되는 경로 확인\n",
    "\n",
    "import 계산_1 as a1\n",
    "import 계산_2 as a2\n",
    "import 계산_3 as a3\n",
    "import 계산_4 as a4\n",
    "import 계산_5 as a5\n",
    "\n",
    "a1.birthday()\n",
    "a2.childrens()\n",
    "a3.pday()\n",
    "a4.xmas()\n",
    "a5.chuseok()"
   ]
  },
  {
   "cell_type": "markdown",
   "id": "b00123c8-2423-4cf2-819e-5507fb3d1a2e",
   "metadata": {},
   "source": [
    "## time"
   ]
  },
  {
   "cell_type": "code",
   "execution_count": 1,
   "id": "69cbf5b9-ee5c-4ee4-854c-8d19191a8a9c",
   "metadata": {},
   "outputs": [
    {
     "name": "stdout",
     "output_type": "stream",
     "text": [
      "9"
     ]
    }
   ],
   "source": [
    "import time\n",
    "\n",
    "time.time()\n",
    "\n",
    "tt = time.localtime(time.time())\n",
    "tt.tm_year\n",
    "\n",
    "time.asctime(tt)\n",
    "\n",
    "time.ctime()\n",
    "\n",
    "time.strftime('%a',tt)\n",
    "\n",
    "for i in range(10):\n",
    "    print(i, end='\\r')\n",
    "    time.sleep(1)"
   ]
  },
  {
   "cell_type": "markdown",
   "id": "15191da9-9714-44b2-b81c-1479486bd11e",
   "metadata": {},
   "source": [
    "## math"
   ]
  },
  {
   "cell_type": "code",
   "execution_count": 20,
   "id": "29e63df8-35f4-4b36-965e-d6cde61e482b",
   "metadata": {},
   "outputs": [
    {
     "name": "stdout",
     "output_type": "stream",
     "text": [
      "3.141592653589793\n",
      "20\n",
      "75\n"
     ]
    }
   ],
   "source": [
    "import math\n",
    "\n",
    "print(math.pi)\n",
    "print(math.gcd(60,100,80))\n",
    "print(math.lcm(15,25))"
   ]
  },
  {
   "cell_type": "markdown",
   "id": "f82768ae-d93e-4e38-91d0-42181eb772d9",
   "metadata": {},
   "source": [
    "## random"
   ]
  },
  {
   "cell_type": "code",
   "execution_count": 37,
   "id": "b1cbdfe0-823f-4c9a-9cd3-f2452e53a5f7",
   "metadata": {},
   "outputs": [
    {
     "name": "stdout",
     "output_type": "stream",
     "text": [
      "0.20098528119578518\n",
      "8\n",
      "44\n",
      "[12, 16, 8, 19, 15, 7, 3, 11, 10, 20, 17, 5, 2, 6, 1, 4, 14, 18, 13, 9] 20\n",
      "{1, 2, 3, 4, 5, 6, 7, 8, 9, 10, 11, 12, 13, 14, 15, 16, 17, 18, 19, 20} 20\n"
     ]
    }
   ],
   "source": [
    "import random\n",
    "\n",
    "print(random.random())\n",
    "print(random.randint(1,10))\n",
    "\n",
    "data = [11,22,33,44,55,66]\n",
    "print(random.choice(data))\n",
    "\n",
    "li = list(range(1,21))\n",
    "arr = []\n",
    "for n in random.sample(li,len(li)):\n",
    "    arr.append(n)\n",
    "print(arr,len(arr))\n",
    "arr = set(arr)\n",
    "print(arr,len(arr))"
   ]
  },
  {
   "cell_type": "code",
   "execution_count": 11,
   "id": "6b7ba334-909f-4a71-b25f-d8577b327ae1",
   "metadata": {},
   "outputs": [],
   "source": [
    "#06-3\n",
    "def get_total_page(게시물총갯수,보여줄페이지수):\n",
    "    if 게시물총갯수%보여줄페이지수 == 0:\n",
    "        필요한페이지수 = (게시물총갯수//보여줄페이지수)\n",
    "    else:\n",
    "        필요한페이지수 = (게시물총갯수//보여줄페이지수) + 1\n",
    "    return 필요한페이지수"
   ]
  },
  {
   "cell_type": "code",
   "execution_count": 12,
   "id": "3b2f9470-f8f3-4291-bea6-ec8f7f7ca29b",
   "metadata": {},
   "outputs": [
    {
     "data": {
      "text/plain": [
       "1"
      ]
     },
     "execution_count": 12,
     "metadata": {},
     "output_type": "execute_result"
    }
   ],
   "source": [
    "get_total_page(5,10)"
   ]
  },
  {
   "cell_type": "code",
   "execution_count": 13,
   "id": "44b09c2a-ea4e-424d-a24d-cd633c535319",
   "metadata": {},
   "outputs": [
    {
     "data": {
      "text/plain": [
       "2"
      ]
     },
     "execution_count": 13,
     "metadata": {},
     "output_type": "execute_result"
    }
   ],
   "source": [
    "get_total_page(15,10)"
   ]
  },
  {
   "cell_type": "code",
   "execution_count": 14,
   "id": "ca3ab44b-a806-48e7-bc2d-91eae99a0a65",
   "metadata": {},
   "outputs": [
    {
     "data": {
      "text/plain": [
       "3"
      ]
     },
     "execution_count": 14,
     "metadata": {},
     "output_type": "execute_result"
    }
   ],
   "source": [
    "get_total_page(25,10)"
   ]
  },
  {
   "cell_type": "code",
   "execution_count": 15,
   "id": "fc1a9cec-5b58-4141-bf7a-313c39ae7f1c",
   "metadata": {},
   "outputs": [
    {
     "data": {
      "text/plain": [
       "3"
      ]
     },
     "execution_count": 15,
     "metadata": {},
     "output_type": "execute_result"
    }
   ],
   "source": [
    "get_total_page(30,10)"
   ]
  },
  {
   "cell_type": "code",
   "execution_count": 2,
   "id": "b81acf9a-5135-451a-aae1-b849b99828da",
   "metadata": {},
   "outputs": [
    {
     "name": "stdout",
     "output_type": "stream",
     "text": [
      "['C:\\\\Users\\\\Admin\\\\AppData\\\\Local\\\\Programs\\\\Python\\\\Python313\\\\Lib\\\\site-packages\\\\ipykernel_launcher.py', '-f', 'C:\\\\Users\\\\Admin\\\\AppData\\\\Roaming\\\\jupyter\\\\runtime\\\\kernel-c68c2616-946a-41bf-8e74-a93d855677f5.json']\n"
     ]
    }
   ],
   "source": [
    "\n",
    "import sys\n",
    "\n",
    "# src = 'a.txt'\n",
    "# dst = 'b.txt'\n",
    "\n",
    "src = sys.argv[1]\n",
    "dst = sys.argv[2]\n",
    "\n",
    "print(sys.argv)\n",
    "\n",
    "try:\n",
    "    f = open(src, 'r')\n",
    "    tab_content = f.read()\n",
    "    \n",
    "except FileNotFoundError as e:\n",
    "    print(f'{src}는 존재하지 않는 파일입니다')\n",
    "\n",
    "finally:\n",
    "    f.close()\n",
    "\n",
    "tab_content = tab_content.replace('\\t', '    ')\n",
    "\n",
    "f = open(dst, 'w')\n",
    "f.write(tab_content)\n",
    "\n",
    "f.close()\n",
    "\n",
    "print('\\n완료되었습니다.\\n')\n"
   ]
  },
  {
   "cell_type": "markdown",
   "id": "75ac4f07-1d35-4dba-8783-78062c6ab36f",
   "metadata": {},
   "source": [
    "## itertools"
   ]
  },
  {
   "cell_type": "code",
   "execution_count": 5,
   "id": "188a3c55-dac3-407e-a490-ac6d8e1c82c5",
   "metadata": {},
   "outputs": [
    {
     "name": "stdout",
     "output_type": "stream",
     "text": [
      "[('한민서', '사탕'), ('황지민', '초콜릿'), ('이영철', '젤리'), ('이광수', '물티슈'), ('김승민', '물티슈')]\n"
     ]
    }
   ],
   "source": [
    "import itertools\n",
    "\n",
    "students = ['한민서', '황지민', '이영철', '이광수', '김승민']\n",
    "snacks = ['사탕', '초콜릿', '젤리']\n",
    "\n",
    "# result = zip(students, snacks)\n",
    "result = itertools.zip_longest(students,snacks, fillvalue=\"물티슈\")\n",
    "print(list(result))"
   ]
  },
  {
   "cell_type": "code",
   "execution_count": 6,
   "id": "978f41e8-565b-4b92-b8eb-8ba0ca1aaa00",
   "metadata": {},
   "outputs": [
    {
     "data": {
      "text/plain": [
       "[('1', '2'), ('1', '3'), ('2', '1'), ('2', '3'), ('3', '1'), ('3', '2')]"
      ]
     },
     "execution_count": 6,
     "metadata": {},
     "output_type": "execute_result"
    }
   ],
   "source": [
    "list(itertools.permutations(['1','2','3'],2))"
   ]
  },
  {
   "cell_type": "code",
   "execution_count": 7,
   "id": "4512f48e-6480-4caa-b22a-7e386b80a5b5",
   "metadata": {},
   "outputs": [
    {
     "data": {
      "text/plain": [
       "[('1', '2'), ('1', '3'), ('2', '3')]"
      ]
     },
     "execution_count": 7,
     "metadata": {},
     "output_type": "execute_result"
    }
   ],
   "source": [
    "list(itertools.combinations(['1','2','3'],2))"
   ]
  },
  {
   "cell_type": "code",
   "execution_count": 13,
   "id": "5beb1721-ea55-4323-8ab6-b9cff7a6394b",
   "metadata": {},
   "outputs": [
    {
     "name": "stdout",
     "output_type": "stream",
     "text": [
      "8145060\n",
      "(1, 2, 3, 4, 5, 6)\n",
      "(1, 2, 3, 4, 5, 7)\n",
      "(1, 2, 3, 4, 5, 8)\n",
      "(1, 2, 3, 4, 5, 9)\n",
      "(1, 2, 3, 4, 5, 10)\n",
      "(1, 2, 3, 4, 5, 11)\n",
      "(1, 2, 3, 4, 5, 12)\n",
      "(1, 2, 3, 4, 5, 13)\n",
      "(1, 2, 3, 4, 5, 14)\n",
      "(1, 2, 3, 4, 5, 15)\n",
      "(1, 2, 3, 4, 5, 16)\n",
      "(1, 2, 3, 4, 5, 17)\n",
      "(1, 2, 3, 4, 5, 18)\n",
      "(1, 2, 3, 4, 5, 19)\n",
      "(1, 2, 3, 4, 5, 20)\n",
      "(1, 2, 3, 4, 5, 21)\n",
      "(1, 2, 3, 4, 5, 22)\n",
      "(1, 2, 3, 4, 5, 23)\n",
      "(1, 2, 3, 4, 5, 24)\n",
      "(1, 2, 3, 4, 5, 25)\n"
     ]
    }
   ],
   "source": [
    "lotto = list(itertools.combinations(range(1,46),6))\n",
    "print(len(lotto))\n",
    "for num in lotto[:20]:\n",
    "    print(num)"
   ]
  },
  {
   "cell_type": "code",
   "execution_count": 14,
   "id": "96cbae5c-ebef-45e8-8c9d-3bb7f2193108",
   "metadata": {},
   "outputs": [
    {
     "name": "stdout",
     "output_type": "stream",
     "text": [
      "15\n"
     ]
    }
   ],
   "source": [
    "import functools\n",
    "\n",
    "data = [1,2,3,4,5]\n",
    "result = functools.reduce(lambda x, y: x + y, data)\n",
    "print(result)"
   ]
  },
  {
   "cell_type": "code",
   "execution_count": 16,
   "id": "5a851e47-a979-4b24-a061-5961b0faf62e",
   "metadata": {},
   "outputs": [
    {
     "name": "stdout",
     "output_type": "stream",
     "text": [
      "8\n"
     ]
    }
   ],
   "source": [
    "num_list = [3,2,8,1,6,7]\n",
    "result = functools.reduce(lambda x , y : x if x > y else y, num_list)\n",
    "print(result)"
   ]
  },
  {
   "cell_type": "code",
   "execution_count": 18,
   "id": "b612ba4d-14c9-4a07-adcb-71ef5b66aa3b",
   "metadata": {},
   "outputs": [
    {
     "name": "stdout",
     "output_type": "stream",
     "text": [
      "['-f', 'C:\\\\Users\\\\Admin\\\\AppData\\\\Roaming\\\\jupyter\\\\runtime\\\\kernel-c68c2616-946a-41bf-8e74-a93d855677f5.json']\n"
     ]
    }
   ],
   "source": [
    "import sys\n",
    "\n",
    "argv = sys.argv[1:]\n",
    "print(argv)"
   ]
  },
  {
   "cell_type": "code",
   "execution_count": 25,
   "id": "448876ea-a668-4514-9f43-8ccf6a5f4c57",
   "metadata": {},
   "outputs": [
    {
     "name": "stdout",
     "output_type": "stream",
     "text": [
      "[('sally', 17, 'B'), ('jane', 22, 'A'), ('dave', 32, 'B')]\n"
     ]
    }
   ],
   "source": [
    "from operator import itemgetter\n",
    "\n",
    "students = [\n",
    "    (\"jane\", 22, 'A'),\n",
    "    (\"dave\", 32, 'B'),\n",
    "    (\"sally\", 17, 'B')\n",
    "]\n",
    "\n",
    "result = sorted(students, key = itemgetter(1))\n",
    "print(result)"
   ]
  },
  {
   "cell_type": "code",
   "execution_count": 26,
   "id": "a1617d90-a68f-482e-8dfb-b2ea7eaa340f",
   "metadata": {},
   "outputs": [
    {
     "name": "stdout",
     "output_type": "stream",
     "text": [
      "[{'name': 'dave', 'age': 32, 'grade': 'B'}, {'name': 'jane', 'age': 22, 'grade': 'A'}, {'name': 'sally', 'age': 17, 'grade': 'B'}]\n"
     ]
    }
   ],
   "source": [
    "students = [\n",
    "    {\"name\": \"jane\", \"age\":22,\"grade\":'A'},\n",
    "    {\"name\": \"dave\", \"age\":32,\"grade\":'B'},\n",
    "    {\"name\": \"sally\", \"age\":17,\"grade\":'B'} \n",
    "]\n",
    "\n",
    "result = sorted(students,key=itemgetter(\"name\"))\n",
    "print(result)"
   ]
  },
  {
   "cell_type": "code",
   "execution_count": 27,
   "id": "101255eb-5440-40eb-9538-b7adecfa97cc",
   "metadata": {},
   "outputs": [
    {
     "name": "stdout",
     "output_type": "stream",
     "text": [
      "[{'name': 'jane', 'age': 22, 'grade': 'A'}, {'name': 'dave', 'age': 32, 'grade': 'B'}, {'name': 'sally', 'age': 17, 'grade': 'B'}]\n"
     ]
    }
   ],
   "source": [
    "name = [\"jane\", \"dave\", \"sally\"]\n",
    "age = [22, 32, 17]\n",
    "grade = ['A','B','B']\n",
    "\n",
    "students = []\n",
    "for n, a, g in zip(name, age, grade):\n",
    "    students.append({\"name\":n,\"age\":a,\"grade\":g})\n",
    "\n",
    "print(students)"
   ]
  },
  {
   "cell_type": "code",
   "execution_count": 28,
   "id": "91f86636-d1c8-4ee3-a7e6-c11086a6c509",
   "metadata": {},
   "outputs": [
    {
     "name": "stdout",
     "output_type": "stream",
     "text": [
      "[{'name': 'jane', 'age': 22, 'grade': 'A'}, {'name': 'dave', 'age': 32, 'grade': 'B'}, {'name': 'sally', 'age': 17, 'grade': 'B'}]\n"
     ]
    }
   ],
   "source": [
    "students = [{\"name\":n, \"age\":a, \"grade\":g} for n, a, g in zip(name, age, grade)]\n",
    "print(students)"
   ]
  },
  {
   "cell_type": "code",
   "execution_count": 31,
   "id": "249db3d2-b968-4f39-98cf-dc9dbe4544ee",
   "metadata": {},
   "outputs": [
    {
     "name": "stdout",
     "output_type": "stream",
     "text": [
      "[<__main__.Student object at 0x000002634961E990>, <__main__.Student object at 0x0000026349802900>, <__main__.Student object at 0x0000026349E7EAD0>]\n"
     ]
    }
   ],
   "source": [
    "from operator import attrgetter\n",
    "\n",
    "class Student:\n",
    "    def __init__(self, name, age, grade):\n",
    "        self.name = name\n",
    "        self.age = age\n",
    "        self.grade = grade\n",
    "\n",
    "students = [\n",
    "    Student(\"jane\", 22, 'A'),\n",
    "    Student(\"dave\", 32, 'B'),\n",
    "    Student(\"sally\", 17, 'B')\n",
    "]\n",
    "result = sorted(students,key=attrgetter('age'))\n",
    "print(result)"
   ]
  },
  {
   "cell_type": "code",
   "execution_count": 1,
   "id": "db72f78e-f6b4-43c7-92df-45b0103d2003",
   "metadata": {},
   "outputs": [
    {
     "name": "stdout",
     "output_type": "stream",
     "text": [
      "29145\n",
      "29147\n",
      "29149\n",
      "29151\n",
      "29153\n"
     ]
    }
   ],
   "source": [
    "import shutil\n",
    "import time\n",
    "\n",
    "for n in range(5):\n",
    "    timestamp = str(time.time())[5:10]\n",
    "    shutil.copy(\"a.txt\",f\"./backup/a.txt_{timestamp}.bak\")\n",
    "    time.sleep(2)\n"
   ]
  },
  {
   "cell_type": "code",
   "execution_count": 4,
   "id": "521058fd-eb60-4714-9f8e-de5d7a344819",
   "metadata": {},
   "outputs": [
    {
     "data": {
      "text/plain": [
       "['./backup\\\\a.txt_29145.bak',\n",
       " './backup\\\\a.txt_29147.bak',\n",
       " './backup\\\\a.txt_29149.bak',\n",
       " './backup\\\\a.txt_29151.bak',\n",
       " './backup\\\\a.txt_29153.bak']"
      ]
     },
     "execution_count": 4,
     "metadata": {},
     "output_type": "execute_result"
    }
   ],
   "source": [
    "import glob\n",
    "glob.glob(\"./backup/*\")"
   ]
  },
  {
   "cell_type": "code",
   "execution_count": 1,
   "id": "af716c32-d5a2-4a02-8527-8da9ddf3df10",
   "metadata": {},
   "outputs": [],
   "source": [
    "import pickle\n",
    "f = open(\"test.txt\", \"wb\")\n",
    "data = {1: \"python\", 2: \"you need\"}\n",
    "pickle.dump(data,f)\n",
    "f.close()"
   ]
  },
  {
   "cell_type": "code",
   "execution_count": 2,
   "id": "456d9acc-ef91-4694-84b4-b7bed5dfb040",
   "metadata": {},
   "outputs": [
    {
     "name": "stdout",
     "output_type": "stream",
     "text": [
      "{1: 'python', 2: 'you need'}\n"
     ]
    }
   ],
   "source": [
    "f = open('test.txt', \"rb\")\n",
    "data = pickle.load(f)\n",
    "f.close()\n",
    "print(data)"
   ]
  },
  {
   "cell_type": "markdown",
   "id": "1ee49edf-d230-40e5-8a1d-5cd0f77bd4dd",
   "metadata": {},
   "source": [
    "## OS"
   ]
  },
  {
   "cell_type": "code",
   "execution_count": 4,
   "id": "071771b8-dde2-4218-b6bf-cbad6f9bdb77",
   "metadata": {},
   "outputs": [
    {
     "data": {
      "text/plain": [
       "'C:\\\\Program Files (x86)\\\\Common Files\\\\Oracle\\\\Java\\\\java8path;C:\\\\Program Files (x86)\\\\Common Files\\\\Oracle\\\\Java\\\\javapath;C:\\\\WINDOWS\\\\system32;C:\\\\WINDOWS;C:\\\\WINDOWS\\\\System32\\\\Wbem;C:\\\\WINDOWS\\\\System32\\\\WindowsPowerShell\\\\v1.0\\\\;C:\\\\WINDOWS\\\\System32\\\\OpenSSH\\\\;C:\\\\Program Files (x86)\\\\NVIDIA Corporation\\\\PhysX\\\\Common;C:\\\\Program Files\\\\Bandizip\\\\;C:\\\\Program Files\\\\Git\\\\cmd;C:\\\\Users\\\\Admin\\\\AppData\\\\Local\\\\Programs\\\\Python\\\\Python313\\\\Scripts\\\\;C:\\\\Users\\\\Admin\\\\AppData\\\\Local\\\\Programs\\\\Python\\\\Python313\\\\;C:\\\\Users\\\\Admin\\\\AppData\\\\Local\\\\Programs\\\\Python\\\\Launcher\\\\;C:\\\\Users\\\\Admin\\\\AppData\\\\Local\\\\Microsoft\\\\WindowsApps;C:\\\\Program Files (x86)\\\\Brackets\\\\;C:\\\\Users\\\\Admin\\\\AppData\\\\Local\\\\Programs\\\\Microsoft VS Code\\\\bin;'"
      ]
     },
     "execution_count": 4,
     "metadata": {},
     "output_type": "execute_result"
    }
   ],
   "source": [
    "import os\n",
    "os.environ['PATH'] #환경 변숫값 알고 싶을 때)"
   ]
  },
  {
   "cell_type": "code",
   "execution_count": 5,
   "id": "a1d75749-e87a-4805-a12d-54cb64d4d282",
   "metadata": {},
   "outputs": [
    {
     "data": {
      "text/plain": [
       "'C:\\\\WINDOWS'"
      ]
     },
     "execution_count": 5,
     "metadata": {},
     "output_type": "execute_result"
    }
   ],
   "source": [
    "os.chdir(\"C:WINDOWS\") #디렉터리 위치 변경\n",
    "os.getcwd() #디렉터리 위치 돌려받기"
   ]
  },
  {
   "cell_type": "code",
   "execution_count": 6,
   "id": "5086a9fb-2370-4f26-9722-b9874357815c",
   "metadata": {},
   "outputs": [
    {
     "data": {
      "text/plain": [
       "0"
      ]
     },
     "execution_count": 6,
     "metadata": {},
     "output_type": "execute_result"
    }
   ],
   "source": [
    "os.system(\"dir\") #있으면 0, 없으면 1"
   ]
  },
  {
   "cell_type": "code",
   "execution_count": 8,
   "id": "7f70495f-fcfb-498d-8f04-9617cb89a4a6",
   "metadata": {},
   "outputs": [
    {
     "data": {
      "text/plain": [
       "'Python 3.13.1\\n'"
      ]
     },
     "execution_count": 8,
     "metadata": {},
     "output_type": "execute_result"
    }
   ],
   "source": [
    "f = os.popen(\"python -V\")\n",
    "f.read()"
   ]
  },
  {
   "cell_type": "code",
   "execution_count": 19,
   "id": "70440330-fabf-40dd-b9a9-b562b7aca682",
   "metadata": {},
   "outputs": [],
   "source": [
    "def what(what):\n",
    "    if not os.system(what):\n",
    "        f = os.popen(f\"{what} -V\")\n",
    "        print(f.read())\n",
    "    else:\n",
    "        print('없음')"
   ]
  },
  {
   "cell_type": "code",
   "execution_count": 20,
   "id": "62c61547-fb63-48c5-8250-e207065c6b8a",
   "metadata": {},
   "outputs": [
    {
     "name": "stdout",
     "output_type": "stream",
     "text": [
      "Python 3.13.1\n",
      "\n"
     ]
    }
   ],
   "source": [
    "what(\"python\")"
   ]
  },
  {
   "cell_type": "code",
   "execution_count": 1,
   "id": "a33570cf-7881-498a-b62d-8227ae5c3b5c",
   "metadata": {},
   "outputs": [
    {
     "ename": "FileNotFoundError",
     "evalue": "[WinError 2] 지정된 파일을 찾을 수 없습니다: 'b.txt'",
     "output_type": "error",
     "traceback": [
      "\u001b[1;31m---------------------------------------------------------------------------\u001b[0m",
      "\u001b[1;31mFileNotFoundError\u001b[0m                         Traceback (most recent call last)",
      "Cell \u001b[1;32mIn[1], line 5\u001b[0m\n\u001b[0;32m      3\u001b[0m \u001b[38;5;28;01mwith\u001b[39;00m zipfile\u001b[38;5;241m.\u001b[39mZipFile(\u001b[38;5;124m'\u001b[39m\u001b[38;5;124mmytext.zip\u001b[39m\u001b[38;5;124m'\u001b[39m, \u001b[38;5;124m'\u001b[39m\u001b[38;5;124mw\u001b[39m\u001b[38;5;124m'\u001b[39m) \u001b[38;5;28;01mas\u001b[39;00m myzip:\n\u001b[0;32m      4\u001b[0m     myzip\u001b[38;5;241m.\u001b[39mwrite(\u001b[38;5;124m'\u001b[39m\u001b[38;5;124ma.txt\u001b[39m\u001b[38;5;124m'\u001b[39m)\n\u001b[1;32m----> 5\u001b[0m     \u001b[43mmyzip\u001b[49m\u001b[38;5;241;43m.\u001b[39;49m\u001b[43mwrite\u001b[49m\u001b[43m(\u001b[49m\u001b[38;5;124;43m'\u001b[39;49m\u001b[38;5;124;43mb.txt\u001b[39;49m\u001b[38;5;124;43m'\u001b[39;49m\u001b[43m)\u001b[49m\n\u001b[0;32m      6\u001b[0m     myzip\u001b[38;5;241m.\u001b[39mwrite(\u001b[38;5;124m'\u001b[39m\u001b[38;5;124mc.txt\u001b[39m\u001b[38;5;124m'\u001b[39m)\n",
      "File \u001b[1;32m~\\AppData\\Local\\Programs\\Python\\Python313\\Lib\\zipfile\\__init__.py:1876\u001b[0m, in \u001b[0;36mZipFile.write\u001b[1;34m(self, filename, arcname, compress_type, compresslevel)\u001b[0m\n\u001b[0;32m   1871\u001b[0m \u001b[38;5;28;01mif\u001b[39;00m \u001b[38;5;28mself\u001b[39m\u001b[38;5;241m.\u001b[39m_writing:\n\u001b[0;32m   1872\u001b[0m     \u001b[38;5;28;01mraise\u001b[39;00m \u001b[38;5;167;01mValueError\u001b[39;00m(\n\u001b[0;32m   1873\u001b[0m         \u001b[38;5;124m\"\u001b[39m\u001b[38;5;124mCan\u001b[39m\u001b[38;5;124m'\u001b[39m\u001b[38;5;124mt write to ZIP archive while an open writing handle exists\u001b[39m\u001b[38;5;124m\"\u001b[39m\n\u001b[0;32m   1874\u001b[0m     )\n\u001b[1;32m-> 1876\u001b[0m zinfo \u001b[38;5;241m=\u001b[39m \u001b[43mZipInfo\u001b[49m\u001b[38;5;241;43m.\u001b[39;49m\u001b[43mfrom_file\u001b[49m\u001b[43m(\u001b[49m\u001b[43mfilename\u001b[49m\u001b[43m,\u001b[49m\u001b[43m \u001b[49m\u001b[43marcname\u001b[49m\u001b[43m,\u001b[49m\n\u001b[0;32m   1877\u001b[0m \u001b[43m                          \u001b[49m\u001b[43mstrict_timestamps\u001b[49m\u001b[38;5;241;43m=\u001b[39;49m\u001b[38;5;28;43mself\u001b[39;49m\u001b[38;5;241;43m.\u001b[39;49m\u001b[43m_strict_timestamps\u001b[49m\u001b[43m)\u001b[49m\n\u001b[0;32m   1879\u001b[0m \u001b[38;5;28;01mif\u001b[39;00m zinfo\u001b[38;5;241m.\u001b[39mis_dir():\n\u001b[0;32m   1880\u001b[0m     zinfo\u001b[38;5;241m.\u001b[39mcompress_size \u001b[38;5;241m=\u001b[39m \u001b[38;5;241m0\u001b[39m\n",
      "File \u001b[1;32m~\\AppData\\Local\\Programs\\Python\\Python313\\Lib\\zipfile\\__init__.py:580\u001b[0m, in \u001b[0;36mZipInfo.from_file\u001b[1;34m(cls, filename, arcname, strict_timestamps)\u001b[0m\n\u001b[0;32m    578\u001b[0m \u001b[38;5;28;01mif\u001b[39;00m \u001b[38;5;28misinstance\u001b[39m(filename, os\u001b[38;5;241m.\u001b[39mPathLike):\n\u001b[0;32m    579\u001b[0m     filename \u001b[38;5;241m=\u001b[39m os\u001b[38;5;241m.\u001b[39mfspath(filename)\n\u001b[1;32m--> 580\u001b[0m st \u001b[38;5;241m=\u001b[39m \u001b[43mos\u001b[49m\u001b[38;5;241;43m.\u001b[39;49m\u001b[43mstat\u001b[49m\u001b[43m(\u001b[49m\u001b[43mfilename\u001b[49m\u001b[43m)\u001b[49m\n\u001b[0;32m    581\u001b[0m isdir \u001b[38;5;241m=\u001b[39m stat\u001b[38;5;241m.\u001b[39mS_ISDIR(st\u001b[38;5;241m.\u001b[39mst_mode)\n\u001b[0;32m    582\u001b[0m mtime \u001b[38;5;241m=\u001b[39m time\u001b[38;5;241m.\u001b[39mlocaltime(st\u001b[38;5;241m.\u001b[39mst_mtime)\n",
      "\u001b[1;31mFileNotFoundError\u001b[0m: [WinError 2] 지정된 파일을 찾을 수 없습니다: 'b.txt'"
     ]
    }
   ],
   "source": [
    "# import zipfile\n",
    "\n",
    "# with zipfile.ZipFile('mytext.zip', 'w') as myzip: #파일이 미리 존재해야함\n",
    "#     myzip.write('a.txt')\n",
    "#     myzip.write('b.txt')\n",
    "#     myzip.write('c.txt')\n",
    "\n",
    "# with zipfile.ZipFile('mytext.zip') as myzip:\n",
    "    # myzip.extractall() #모두 압축 해제\n",
    "    # myzip.extract(파일) 특정 파일만 해제"
   ]
  },
  {
   "cell_type": "code",
   "execution_count": 2,
   "id": "4161f7f7-3441-4e20-931f-0d620408cf2c",
   "metadata": {},
   "outputs": [],
   "source": [
    "import time\n",
    "\n",
    "def long_task():\n",
    "    for i in range(5):\n",
    "        time.sleep(1)\n",
    "        print(\"working:%s\\n\" %i)"
   ]
  },
  {
   "cell_type": "code",
   "execution_count": 3,
   "id": "4bcf3128-8805-4a1a-ab93-0720ea29f458",
   "metadata": {},
   "outputs": [
    {
     "name": "stdout",
     "output_type": "stream",
     "text": [
      "working:0\n",
      "\n",
      "working:1\n",
      "\n",
      "working:2\n",
      "\n",
      "working:3\n",
      "\n",
      "working:4\n",
      "\n"
     ]
    }
   ],
   "source": [
    "long_task()"
   ]
  },
  {
   "cell_type": "code",
   "execution_count": 4,
   "id": "94f6c396-cea8-4f5a-83c1-1274e5e7ab44",
   "metadata": {},
   "outputs": [
    {
     "name": "stdout",
     "output_type": "stream",
     "text": [
      "Start\n",
      "\n",
      "working:0\n",
      "\n",
      "working:1\n",
      "\n",
      "working:2\n",
      "\n",
      "working:3\n",
      "\n",
      "working:4\n",
      "\n",
      "working:0\n",
      "\n",
      "working:1\n",
      "\n",
      "working:2\n",
      "\n",
      "working:3\n",
      "\n",
      "working:4\n",
      "\n",
      "working:0\n",
      "\n",
      "working:1\n",
      "\n",
      "working:2\n",
      "\n",
      "working:3\n",
      "\n",
      "working:4\n",
      "\n",
      "working:0\n",
      "\n",
      "working:1\n",
      "\n",
      "working:2\n",
      "\n",
      "working:3\n",
      "\n",
      "working:4\n",
      "\n",
      "working:0\n",
      "\n",
      "working:1\n",
      "\n",
      "working:2\n",
      "\n",
      "working:3\n",
      "\n",
      "working:4\n",
      "\n",
      "End\n",
      "\n"
     ]
    }
   ],
   "source": [
    "print(\"Start\\n\")\n",
    "\n",
    "for i in range(5):\n",
    "    long_task()\n",
    "\n",
    "print(\"End\\n\")"
   ]
  },
  {
   "cell_type": "code",
   "execution_count": 6,
   "id": "c514d4cf-2117-43be-8900-c82917a62f0e",
   "metadata": {},
   "outputs": [
    {
     "name": "stdout",
     "output_type": "stream",
     "text": [
      "Start\n",
      "\n",
      "working:0\n",
      "working:0\n",
      "\n",
      "working:0\n",
      "\n",
      "working:0\n",
      "\n",
      "working:0\n",
      "\n",
      "\n",
      "working:1\n",
      "\n",
      "working:1\n",
      "\n",
      "working:1\n",
      "\n",
      "working:1\n",
      "\n",
      "working:1\n",
      "\n",
      "working:2\n",
      "working:2\n",
      "\n",
      "working:2\n",
      "\n",
      "working:2\n",
      "\n",
      "working:2\n",
      "\n",
      "\n",
      "working:3\n",
      "\n",
      "working:3\n",
      "\n",
      "working:3\n",
      "\n",
      "working:3\n",
      "\n",
      "working:3\n",
      "\n",
      "working:4\n",
      "working:4\n",
      "\n",
      "working:4\n",
      "\n",
      "working:4\n",
      "\n",
      "working:4\n",
      "\n",
      "\n",
      "End\n",
      "\n"
     ]
    }
   ],
   "source": [
    "import time\n",
    "import threading\n",
    "\n",
    "def long_task():\n",
    "    for i in range(5):\n",
    "        time.sleep(1)\n",
    "        print(\"working:%s\\n\" %i)\n",
    "\n",
    "print(\"Start\\n\")\n",
    "\n",
    "threads = []\n",
    "for i in range(5): #스레드 생성\n",
    "    t = threading.Thread(target=long_task)\n",
    "    threads.append(t)\n",
    "\n",
    "for t in threads: #스레드 실행\n",
    "    t.start()\n",
    "\n",
    "for t in threads: #스레드가 종료될 때까지 대기\n",
    "    t.join()\n",
    "    \n",
    "print(\"End\\n\")"
   ]
  },
  {
   "cell_type": "code",
   "execution_count": 9,
   "id": "909a47ed-3112-453d-9b73-5197875649ee",
   "metadata": {},
   "outputs": [],
   "source": [
    "import tempfile\n",
    "filename = tempfile.mkstemp() #파일 만들기\n",
    "filename\n",
    "\n",
    "f = tempfile.TemporaryFile() #파일 지우기\n",
    "f.close()"
   ]
  },
  {
   "cell_type": "code",
   "execution_count": 11,
   "id": "1d665c6a-bbfc-4755-98b7-6124c7b03e71",
   "metadata": {},
   "outputs": [
    {
     "name": "stdout",
     "output_type": "stream",
     "text": [
      "오류\n",
      "Traceback (most recent call last):\n",
      "  File \"C:\\Users\\Admin\\AppData\\Local\\Temp\\ipykernel_3372\\554022025.py\", line 11, in main\n",
      "    b()\n",
      "    ~^^\n",
      "  File \"C:\\Users\\Admin\\AppData\\Local\\Temp\\ipykernel_3372\\554022025.py\", line 7, in b\n",
      "    a()\n",
      "    ~^^\n",
      "  File \"C:\\Users\\Admin\\AppData\\Local\\Temp\\ipykernel_3372\\554022025.py\", line 4, in a\n",
      "    return 1 / 0\n",
      "           ~~^~~\n",
      "ZeroDivisionError: division by zero\n",
      "\n"
     ]
    }
   ],
   "source": [
    "import traceback\n",
    "\n",
    "def a():\n",
    "    return 1 / 0\n",
    "\n",
    "def b():\n",
    "    a()\n",
    "\n",
    "def main():\n",
    "    try:\n",
    "        b()\n",
    "    except:\n",
    "        print(\"오류\")\n",
    "        print(traceback.format_exc())\n",
    "\n",
    "main()"
   ]
  },
  {
   "cell_type": "code",
   "execution_count": null,
   "id": "814706d2-b289-4a27-b935-aab779a88147",
   "metadata": {},
   "outputs": [],
   "source": [
    "{\n",
    "    \"name\": \"홍길동\",\n",
    "    \"birth\": \"0525\",\n",
    "    \"age\": 30\n",
    "}\n",
    "\n",
    "# https://jsonplaceholder.typicode.com/todos"
   ]
  },
  {
   "cell_type": "code",
   "execution_count": null,
   "id": "bacd328e-975a-47f8-a56d-e6bc3c8a95fc",
   "metadata": {},
   "outputs": [],
   "source": [
    "import requests\n",
    "import json\n",
    "\n",
    "url = \"https://jsonplaceholder.typicode.com/todos\"\n",
    "data = requests.get(url).json()[0] #requests 내장 함수 .json\n",
    "data[\"test\"] = \"한글\"\n",
    "\n",
    "with open('todo.json','w') as f:\n",
    "    json.dump(data,f)\n",
    "\n",
    "with open('todo.json') as f:\n",
    "    data = json.load(f)\n",
    "\n",
    "print(data)\n",
    "\n",
    "json.dumps(data) #한글은 아스키코드로 출력 출력할 때 json.loads로 해야 해석됨"
   ]
  },
  {
   "cell_type": "code",
   "execution_count": 30,
   "id": "f82be967-0e37-4001-b85c-67b8b39a6b37",
   "metadata": {},
   "outputs": [],
   "source": [
    "import urllib.request\n",
    "\n",
    "def get_wikidocs(page):\n",
    "    resource = 'https://wikidocs.net/{}'.format(page)\n",
    "    with urllib.request.urlopen(resource) as s:\n",
    "        with open('wikidocs_%s.html' %page, 'wb') as f:\n",
    "            f.write(s.read())"
   ]
  },
  {
   "cell_type": "code",
   "execution_count": 31,
   "id": "51d5a4ef-851c-4bd9-9649-a8893a8d62d5",
   "metadata": {},
   "outputs": [
    {
     "data": {
      "text/plain": [
       "True"
      ]
     },
     "execution_count": 31,
     "metadata": {},
     "output_type": "execute_result"
    }
   ],
   "source": [
    "import webbrowser\n",
    "\n",
    "webbrowser.open_new('http://python.org')"
   ]
  },
  {
   "cell_type": "code",
   "execution_count": 37,
   "id": "12859f36-9979-43e3-b3bc-d3f220c99327",
   "metadata": {},
   "outputs": [],
   "source": [
    "import urllib.request\n",
    "import time\n",
    "\n",
    "def get_posts(page):\n",
    "    resource = f\"https://jsonplaceholder.typicode.com/posts/{page}\"\n",
    "    with urllib.request.urlopen(resource) as s:\n",
    "        with open(f'./data/posts{page}.html', 'wb') as f:\n",
    "            f.write(s.read())\n",
    "\n",
    "for n in range(1,10):\n",
    "    get_posts(n)\n",
    "    time.sleep(0.5)"
   ]
  },
  {
   "cell_type": "code",
   "execution_count": 63,
   "id": "9b7cf540-cfcf-418c-b985-7feae7a60db0",
   "metadata": {},
   "outputs": [
    {
     "data": {
      "text/plain": [
       "[{'name': '송미숙',\n",
       "  'address': '인천광역시 금천구 석촌호수가 629',\n",
       "  'company': '(주) 김',\n",
       "  'phone': '064-796-8218'},\n",
       " {'name': '김수진',\n",
       "  'address': '경상남도 안양시 만안구 석촌호수0가 28 (상호박리)',\n",
       "  'company': '김김이',\n",
       "  'phone': '043-270-7758'},\n",
       " {'name': '김수빈',\n",
       "  'address': '서울특별시 동대문구 영동대3길 202-73',\n",
       "  'company': '(유) 최배김',\n",
       "  'phone': '033-406-2861'},\n",
       " {'name': '윤정남',\n",
       "  'address': '대구광역시 중랑구 삼성길 지하116 (성수김읍)',\n",
       "  'company': '손박이',\n",
       "  'phone': '044-210-4150'},\n",
       " {'name': '최상호',\n",
       "  'address': '전라남도 여주시 잠실길 127-71',\n",
       "  'company': '(주) 김김송',\n",
       "  'phone': '043-845-5918'},\n",
       " {'name': '박영미',\n",
       "  'address': '광주광역시 구로구 학동가 123',\n",
       "  'company': '유한회사 박김이',\n",
       "  'phone': '032-220-7640'},\n",
       " {'name': '박상철',\n",
       "  'address': '대구광역시 중랑구 학동로 624-50 (서윤이이동)',\n",
       "  'company': '(유) 박',\n",
       "  'phone': '052-731-8324'},\n",
       " {'name': '박은경',\n",
       "  'address': '제주특별자치도 수원시 장안구 가락거리 91 (승민김유마을)',\n",
       "  'company': '김황최',\n",
       "  'phone': '042-068-8821'},\n",
       " {'name': '이은정',\n",
       "  'address': '부산광역시 노원구 봉은사91로 지하104',\n",
       "  'company': '홍장김',\n",
       "  'phone': '053-137-0075'},\n",
       " {'name': '노명자',\n",
       "  'address': '서울특별시 강남구 가락493거리 722',\n",
       "  'company': '김권손',\n",
       "  'phone': '011-235-9936'}]"
      ]
     },
     "execution_count": 63,
     "metadata": {},
     "output_type": "execute_result"
    }
   ],
   "source": [
    "from faker import Faker\n",
    "fake = Faker('ko-KR')\n",
    "[{\"name\":fake.name(),\"address\":fake.address(),\"company\":fake.company(),\"phone\":fake.phone_number()} for n in range(10)]"
   ]
  },
  {
   "cell_type": "code",
   "execution_count": null,
   "id": "84f70f39-9f36-4f4c-9fc9-e916f1f1245f",
   "metadata": {},
   "outputs": [],
   "source": []
  },
  {
   "cell_type": "code",
   "execution_count": null,
   "id": "a0961776-d5cb-4fe0-bce5-07a5f8c24d1c",
   "metadata": {},
   "outputs": [],
   "source": []
  },
  {
   "cell_type": "code",
   "execution_count": null,
   "id": "3d4bc2cf-9687-4b6c-95f7-716fe06fc97f",
   "metadata": {},
   "outputs": [],
   "source": []
  },
  {
   "cell_type": "code",
   "execution_count": null,
   "id": "4bcf94ed-78a7-4f0d-9802-7a363cb4e657",
   "metadata": {},
   "outputs": [],
   "source": []
  }
 ],
 "metadata": {
  "kernelspec": {
   "display_name": "Python 3 (ipykernel)",
   "language": "python",
   "name": "python3"
  },
  "language_info": {
   "codemirror_mode": {
    "name": "ipython",
    "version": 3
   },
   "file_extension": ".py",
   "mimetype": "text/x-python",
   "name": "python",
   "nbconvert_exporter": "python",
   "pygments_lexer": "ipython3",
   "version": "3.13.1"
  }
 },
 "nbformat": 4,
 "nbformat_minor": 5
}
