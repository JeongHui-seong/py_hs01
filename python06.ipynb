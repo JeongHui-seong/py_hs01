{
 "cells": [
  {
   "cell_type": "markdown",
   "id": "2a12ce98-22f9-4294-af0b-bab5431da8b9",
   "metadata": {},
   "source": [
    "# 모듈"
   ]
  },
  {
   "cell_type": "markdown",
   "id": "703c2a88-97bb-4564-95d0-3241c0a6203a",
   "metadata": {},
   "source": [
    "## 모듈 만들기"
   ]
  },
  {
   "cell_type": "code",
   "execution_count": 1,
   "id": "b06ce66d-005c-4981-a917-b9c0b2c497be",
   "metadata": {},
   "outputs": [],
   "source": [
    "# def add(a,b):\n",
    "#     return a + b\n",
    "# def sub(a,b):\n",
    "#     return a - b"
   ]
  },
  {
   "cell_type": "code",
   "execution_count": 2,
   "id": "cc12de8c-87f9-41d4-bd4c-768cfa3fbf32",
   "metadata": {},
   "outputs": [
    {
     "name": "stdout",
     "output_type": "stream",
     "text": [
      "5\n",
      "2\n",
      "3\n",
      "1\n"
     ]
    }
   ],
   "source": [
    "import mod1\n",
    "print(mod1.add(1,2))\n",
    "print(mod1.sub(2,1))"
   ]
  },
  {
   "cell_type": "code",
   "execution_count": 3,
   "id": "646ef6ab-c911-4553-a4fa-14a434e66869",
   "metadata": {},
   "outputs": [],
   "source": [
    "with open(\"mod2.py\",\"w\",encoding=\"utf-8\") as f:\n",
    "    data = \"\"\"def mul(a,b):\n",
    "    return a * b\n",
    "def div(a,b):\n",
    "    return a / b\"\"\"\n",
    "    f.write(data)"
   ]
  },
  {
   "cell_type": "code",
   "execution_count": 4,
   "id": "4ee44a47-c92f-46ed-850b-5b309c726cd5",
   "metadata": {},
   "outputs": [
    {
     "name": "stdout",
     "output_type": "stream",
     "text": [
      "12\n",
      "0.75\n"
     ]
    }
   ],
   "source": [
    "import mod2\n",
    "print(mod2.mul(3,4))\n",
    "print(mod2.div(3,4))"
   ]
  },
  {
   "cell_type": "code",
   "execution_count": 5,
   "id": "9e99c702-2a32-460d-ab69-ed23892d99f6",
   "metadata": {},
   "outputs": [
    {
     "name": "stdout",
     "output_type": "stream",
     "text": [
      "3\n",
      "1\n",
      "12\n",
      "0.75\n"
     ]
    }
   ],
   "source": [
    "import mod1, mod2\n",
    "print(mod1.add(1,2))\n",
    "print(mod1.sub(2,1))\n",
    "print(mod2.mul(3,4))\n",
    "print(mod2.div(3,4))"
   ]
  },
  {
   "cell_type": "markdown",
   "id": "b7e12360-9ec8-4fdd-b39a-9b2f8fb52f58",
   "metadata": {},
   "source": [
    "## `__main__` 의 의미"
   ]
  },
  {
   "cell_type": "code",
   "execution_count": 2,
   "id": "e5a231a7-12db-4dfe-90aa-e81422ce64d4",
   "metadata": {},
   "outputs": [],
   "source": [
    "with open(\"mod1.py\", \"a\", encoding=\"utf-8\") as f:\n",
    "    text = \"\"\"\n",
    "\n",
    "print(add(1, 4))\n",
    "print(sub(4,2))\n",
    "\"\"\"\n",
    "    f.write(text)"
   ]
  },
  {
   "cell_type": "code",
   "execution_count": 3,
   "id": "ce373cbe-e956-49eb-8e61-f0e963920a16",
   "metadata": {},
   "outputs": [
    {
     "name": "stdout",
     "output_type": "stream",
     "text": [
      "Microsoft Windows [Version 10.0.26100.3194]\n",
      "(c) Microsoft Corporation. All rights reserved.\n",
      "\n",
      "HS\\jup>python mod1.py\n",
      "���� ����\n",
      "5\n",
      "2\n",
      "\n",
      "D:\\JHS\\jup>"
     ]
    }
   ],
   "source": [
    "%%cmd\n",
    "python mod1.py"
   ]
  },
  {
   "cell_type": "code",
   "execution_count": 4,
   "id": "e288487b-4916-43a5-8fac-32b1d7956243",
   "metadata": {},
   "outputs": [],
   "source": [
    "import mod1"
   ]
  },
  {
   "cell_type": "code",
   "execution_count": 5,
   "id": "91ebcdd5-b3e0-4020-8b95-a15f534eceb8",
   "metadata": {},
   "outputs": [
    {
     "data": {
      "text/plain": [
       "['__builtins__',\n",
       " '__cached__',\n",
       " '__doc__',\n",
       " '__file__',\n",
       " '__loader__',\n",
       " '__name__',\n",
       " '__package__',\n",
       " '__spec__',\n",
       " 'add',\n",
       " 'sub']"
      ]
     },
     "execution_count": 5,
     "metadata": {},
     "output_type": "execute_result"
    }
   ],
   "source": [
    "dir(mod1)"
   ]
  },
  {
   "cell_type": "code",
   "execution_count": 6,
   "id": "771ae1f7-8ee2-4842-a7e6-9ab65ac849e1",
   "metadata": {},
   "outputs": [],
   "source": [
    "with open(\"mod1.py\",\"a\") as f:\n",
    "    content = \"\"\"\n",
    "\n",
    "print(__name__)\n",
    "\n",
    "\"\"\"\n",
    "    f.write(content)"
   ]
  },
  {
   "cell_type": "code",
   "execution_count": 7,
   "id": "d4ee4a6b-c2c9-4341-9940-5321b4c9ec6e",
   "metadata": {},
   "outputs": [],
   "source": [
    "import mod1"
   ]
  },
  {
   "cell_type": "code",
   "execution_count": 8,
   "id": "15b1b1c5-0314-40a0-9ad7-c501cb46b259",
   "metadata": {},
   "outputs": [],
   "source": [
    "with open(\"stock1.py\",\"w\",encoding=\"utf-8\") as f:\n",
    "    data = \"\"\"\n",
    "import requests\n",
    "\n",
    "def findStock():\n",
    "    url = \"https://finance.naver.com/sise/sise_market_sum.naver\"\n",
    "    req = requests.get(url)\n",
    "    \n",
    "    inp = input(\"주식 가격 알려드림 \")\n",
    "    find_text_index = req.text.find(f'class=\"tltle\">{inp}')\n",
    "    \n",
    "    if find_text_index == -1:\n",
    "        print('그런 주식 없음 돌아가')\n",
    "    else:\n",
    "        find_price = req.text[find_text_index + 31:find_text_index + 71]\n",
    "        replace_price = int(find_price.replace('<td class=\"number\">',\"\").replace('</td>',\"\").replace(\"\\\\n\",\"\").replace(\"\t\",\"\").replace(\",\",\"\").replace(\"<\",\"\").replace(\">\",\"\").replace(\"t\",\"\").replace(\"d\",\"\"))\n",
    "        print(f\"{inp}의 가격 : {replace_price:,}원\") \n",
    "\n",
    "if __name__ == \"__main__\":\n",
    "    findStock()\n",
    "    \"\"\"\n",
    "    f.write(data)\n"
   ]
  },
  {
   "cell_type": "code",
   "execution_count": 1,
   "id": "00282c14-f60e-4ddf-b314-e920b22105b7",
   "metadata": {},
   "outputs": [],
   "source": [
    "import stock1"
   ]
  },
  {
   "cell_type": "code",
   "execution_count": 6,
   "id": "e210af46-7e2d-4f5e-8df1-49c2851e0529",
   "metadata": {},
   "outputs": [
    {
     "name": "stdout",
     "output_type": "stream",
     "text": [
      "Microsoft Windows [Version 10.0.26100.3194]\n",
      "(c) Microsoft Corporation. All rights reserved.\n",
      "\n",
      "HS\\jup>python\n",
      "\n",
      "D:\\JHS\\jup>"
     ]
    }
   ],
   "source": []
  },
  {
   "cell_type": "code",
   "execution_count": 13,
   "id": "f621cded-3d8e-4ca8-87c4-d8193f8d782d",
   "metadata": {},
   "outputs": [
    {
     "name": "stdin",
     "output_type": "stream",
     "text": [
      "주식 가격 알려드림 asd\n"
     ]
    },
    {
     "name": "stdout",
     "output_type": "stream",
     "text": [
      "그런 주식 없음 돌아가\n"
     ]
    }
   ],
   "source": []
  },
  {
   "cell_type": "markdown",
   "id": "cab433cd-536b-4d3f-a884-3f3659b598ec",
   "metadata": {},
   "source": [
    "## 클래스나 변수등을 포함한 모듈"
   ]
  },
  {
   "cell_type": "code",
   "execution_count": 1,
   "id": "5977870a-ff01-4eea-90db-d7eb4f9cd976",
   "metadata": {},
   "outputs": [
    {
     "name": "stdout",
     "output_type": "stream",
     "text": [
      "3.141592\n",
      "314.1592\n",
      "7.5415920000000005\n"
     ]
    }
   ],
   "source": [
    "with open(\"mod3.py\",\"w\") as f:\n",
    "    text = \"\"\"\n",
    "PI = 3.141592\n",
    "\n",
    "class Math:\n",
    "    def solv(self, r):\n",
    "        return PI * (r**2)\n",
    "\n",
    "def add(a,b):\n",
    "    return a + b\n",
    "    \n",
    "\"\"\"\n",
    "    f.write(text)\n",
    "\n",
    "import mod3\n",
    "\n",
    "print(mod3.PI)\n",
    "\n",
    "a = mod3.Math()\n",
    "print(a.solv(10))\n",
    "\n",
    "print(mod3.add(mod3.PI,4.4))"
   ]
  },
  {
   "cell_type": "markdown",
   "id": "d60280bc-7f0f-4e9f-8737-79a9ba163e19",
   "metadata": {},
   "source": [
    "## 다른 디렉터리에서 모듈 불러오기"
   ]
  },
  {
   "cell_type": "code",
   "execution_count": 1,
   "id": "d1ff55fc-33d8-42bc-846f-f5aaf2309102",
   "metadata": {},
   "outputs": [
    {
     "data": {
      "text/plain": [
       "['C:\\\\Users\\\\Admin\\\\AppData\\\\Local\\\\Programs\\\\Python\\\\Python313\\\\python313.zip',\n",
       " 'C:\\\\Users\\\\Admin\\\\AppData\\\\Local\\\\Programs\\\\Python\\\\Python313\\\\DLLs',\n",
       " 'C:\\\\Users\\\\Admin\\\\AppData\\\\Local\\\\Programs\\\\Python\\\\Python313\\\\Lib',\n",
       " 'C:\\\\Users\\\\Admin\\\\AppData\\\\Local\\\\Programs\\\\Python\\\\Python313',\n",
       " '',\n",
       " 'C:\\\\Users\\\\Admin\\\\AppData\\\\Local\\\\Programs\\\\Python\\\\Python313\\\\Lib\\\\site-packages',\n",
       " 'C:\\\\Users\\\\Admin\\\\AppData\\\\Local\\\\Programs\\\\Python\\\\Python313\\\\Lib\\\\site-packages\\\\win32',\n",
       " 'C:\\\\Users\\\\Admin\\\\AppData\\\\Local\\\\Programs\\\\Python\\\\Python313\\\\Lib\\\\site-packages\\\\win32\\\\lib',\n",
       " 'C:\\\\Users\\\\Admin\\\\AppData\\\\Local\\\\Programs\\\\Python\\\\Python313\\\\Lib\\\\site-packages\\\\Pythonwin']"
      ]
     },
     "execution_count": 1,
     "metadata": {},
     "output_type": "execute_result"
    }
   ],
   "source": [
    "import sys\n",
    "sys.path"
   ]
  },
  {
   "cell_type": "code",
   "execution_count": 8,
   "id": "bf5b4957-0d3e-425d-8550-1a9e6b81b3fa",
   "metadata": {},
   "outputs": [],
   "source": [
    "sys.path.append(\"D:\\\\jhs\\\\jup\\\\mymod\")\n",
    "sys.path"
   ]
  },
  {
   "cell_type": "code",
   "execution_count": 1,
   "id": "9a6229e0-3386-4007-8436-bfb4dda0add7",
   "metadata": {},
   "outputs": [
    {
     "name": "stdout",
     "output_type": "stream",
     "text": [
      "Collecting python-dotenv\n",
      "  Downloading python_dotenv-1.0.1-py3-none-any.whl.metadata (23 kB)\n",
      "Downloading python_dotenv-1.0.1-py3-none-any.whl (19 kB)\n",
      "Installing collected packages: python-dotenv\n",
      "Successfully installed python-dotenv-1.0.1\n"
     ]
    },
    {
     "name": "stderr",
     "output_type": "stream",
     "text": [
      "\n",
      "[notice] A new release of pip is available: 25.0 -> 25.0.1\n",
      "[notice] To update, run: python.exe -m pip install --upgrade pip\n"
     ]
    }
   ],
   "source": [
    "!pip install python-dotenv"
   ]
  },
  {
   "cell_type": "code",
   "execution_count": 5,
   "id": "fc19e2dd-37ab-4b66-9c2e-1992fb78d07a",
   "metadata": {},
   "outputs": [
    {
     "name": "stdout",
     "output_type": "stream",
     "text": [
      "myphone01012345678\n",
      "https:\\\\www.google.com\n"
     ]
    }
   ],
   "source": [
    "from dotenv import load_dotenv\n",
    "import os\n",
    "\n",
    "load_dotenv()\n",
    "\n",
    "SKEY = os.getenv(\"SECRET_KEY\")\n",
    "print(SKEY)\n",
    "DEBUG = os.getenv(\"DEBUG\")\n",
    "print(DEBUG)"
   ]
  },
  {
   "cell_type": "code",
   "execution_count": null,
   "id": "4015c61a-a0f9-4076-82ad-ba6cbb9169f4",
   "metadata": {},
   "outputs": [],
   "source": []
  }
 ],
 "metadata": {
  "kernelspec": {
   "display_name": "Python 3 (ipykernel)",
   "language": "python",
   "name": "python3"
  },
  "language_info": {
   "codemirror_mode": {
    "name": "ipython",
    "version": 3
   },
   "file_extension": ".py",
   "mimetype": "text/x-python",
   "name": "python",
   "nbconvert_exporter": "python",
   "pygments_lexer": "ipython3",
   "version": "3.13.1"
  }
 },
 "nbformat": 4,
 "nbformat_minor": 5
}
