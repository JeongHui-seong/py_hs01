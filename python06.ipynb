{
 "cells": [
  {
   "cell_type": "markdown",
   "id": "2a12ce98-22f9-4294-af0b-bab5431da8b9",
   "metadata": {},
   "source": [
    "# 모듈"
   ]
  },
  {
   "cell_type": "markdown",
   "id": "703c2a88-97bb-4564-95d0-3241c0a6203a",
   "metadata": {},
   "source": [
    "## 모듈 만들기"
   ]
  },
  {
   "cell_type": "code",
   "execution_count": 1,
   "id": "b06ce66d-005c-4981-a917-b9c0b2c497be",
   "metadata": {},
   "outputs": [],
   "source": [
    "# def add(a,b):\n",
    "#     return a + b\n",
    "# def sub(a,b):\n",
    "#     return a - b"
   ]
  },
  {
   "cell_type": "code",
   "execution_count": 2,
   "id": "cc12de8c-87f9-41d4-bd4c-768cfa3fbf32",
   "metadata": {},
   "outputs": [
    {
     "name": "stdout",
     "output_type": "stream",
     "text": [
      "5\n",
      "2\n",
      "3\n",
      "1\n"
     ]
    }
   ],
   "source": [
    "import mod1\n",
    "print(mod1.add(1,2))\n",
    "print(mod1.sub(2,1))"
   ]
  },
  {
   "cell_type": "code",
   "execution_count": 3,
   "id": "646ef6ab-c911-4553-a4fa-14a434e66869",
   "metadata": {},
   "outputs": [],
   "source": [
    "with open(\"mod2.py\",\"w\",encoding=\"utf-8\") as f:\n",
    "    data = \"\"\"def mul(a,b):\n",
    "    return a * b\n",
    "def div(a,b):\n",
    "    return a / b\"\"\"\n",
    "    f.write(data)"
   ]
  },
  {
   "cell_type": "code",
   "execution_count": 4,
   "id": "4ee44a47-c92f-46ed-850b-5b309c726cd5",
   "metadata": {},
   "outputs": [
    {
     "name": "stdout",
     "output_type": "stream",
     "text": [
      "12\n",
      "0.75\n"
     ]
    }
   ],
   "source": [
    "import mod2\n",
    "print(mod2.mul(3,4))\n",
    "print(mod2.div(3,4))"
   ]
  },
  {
   "cell_type": "code",
   "execution_count": 5,
   "id": "9e99c702-2a32-460d-ab69-ed23892d99f6",
   "metadata": {},
   "outputs": [
    {
     "name": "stdout",
     "output_type": "stream",
     "text": [
      "3\n",
      "1\n",
      "12\n",
      "0.75\n"
     ]
    }
   ],
   "source": [
    "import mod1, mod2\n",
    "print(mod1.add(1,2))\n",
    "print(mod1.sub(2,1))\n",
    "print(mod2.mul(3,4))\n",
    "print(mod2.div(3,4))"
   ]
  },
  {
   "cell_type": "markdown",
   "id": "b7e12360-9ec8-4fdd-b39a-9b2f8fb52f58",
   "metadata": {},
   "source": [
    "## `__main__` 의 의미"
   ]
  },
  {
   "cell_type": "code",
   "execution_count": 2,
   "id": "e5a231a7-12db-4dfe-90aa-e81422ce64d4",
   "metadata": {},
   "outputs": [],
   "source": [
    "with open(\"mod1.py\", \"a\", encoding=\"utf-8\") as f:\n",
    "    text = \"\"\"\n",
    "\n",
    "print(add(1, 4))\n",
    "print(sub(4,2))\n",
    "\"\"\"\n",
    "    f.write(text)"
   ]
  },
  {
   "cell_type": "code",
   "execution_count": 3,
   "id": "ce373cbe-e956-49eb-8e61-f0e963920a16",
   "metadata": {},
   "outputs": [
    {
     "name": "stdout",
     "output_type": "stream",
     "text": [
      "Microsoft Windows [Version 10.0.26100.3194]\n",
      "(c) Microsoft Corporation. All rights reserved.\n",
      "\n",
      "HS\\jup>python mod1.py\n",
      "���� ����\n",
      "5\n",
      "2\n",
      "\n",
      "D:\\JHS\\jup>"
     ]
    }
   ],
   "source": [
    "%%cmd\n",
    "python mod1.py"
   ]
  },
  {
   "cell_type": "code",
   "execution_count": 4,
   "id": "e288487b-4916-43a5-8fac-32b1d7956243",
   "metadata": {},
   "outputs": [],
   "source": [
    "import mod1"
   ]
  },
  {
   "cell_type": "code",
   "execution_count": 5,
   "id": "91ebcdd5-b3e0-4020-8b95-a15f534eceb8",
   "metadata": {},
   "outputs": [
    {
     "data": {
      "text/plain": [
       "['__builtins__',\n",
       " '__cached__',\n",
       " '__doc__',\n",
       " '__file__',\n",
       " '__loader__',\n",
       " '__name__',\n",
       " '__package__',\n",
       " '__spec__',\n",
       " 'add',\n",
       " 'sub']"
      ]
     },
     "execution_count": 5,
     "metadata": {},
     "output_type": "execute_result"
    }
   ],
   "source": [
    "dir(mod1)"
   ]
  },
  {
   "cell_type": "code",
   "execution_count": 6,
   "id": "771ae1f7-8ee2-4842-a7e6-9ab65ac849e1",
   "metadata": {},
   "outputs": [],
   "source": [
    "with open(\"mod1.py\",\"a\") as f:\n",
    "    content = \"\"\"\n",
    "\n",
    "print(__name__)\n",
    "\n",
    "\"\"\"\n",
    "    f.write(content)"
   ]
  },
  {
   "cell_type": "code",
   "execution_count": 7,
   "id": "d4ee4a6b-c2c9-4341-9940-5321b4c9ec6e",
   "metadata": {},
   "outputs": [],
   "source": [
    "import mod1"
   ]
  },
  {
   "cell_type": "code",
   "execution_count": 8,
   "id": "15b1b1c5-0314-40a0-9ad7-c501cb46b259",
   "metadata": {},
   "outputs": [],
   "source": [
    "with open(\"stock1.py\",\"w\",encoding=\"utf-8\") as f:\n",
    "    data = \"\"\"\n",
    "import requests\n",
    "\n",
    "def findStock():\n",
    "    url = \"https://finance.naver.com/sise/sise_market_sum.naver\"\n",
    "    req = requests.get(url)\n",
    "    \n",
    "    inp = input(\"주식 가격 알려드림 \")\n",
    "    find_text_index = req.text.find(f'class=\"tltle\">{inp}')\n",
    "    \n",
    "    if find_text_index == -1:\n",
    "        print('그런 주식 없음 돌아가')\n",
    "    else:\n",
    "        find_price = req.text[find_text_index + 31:find_text_index + 71]\n",
    "        replace_price = int(find_price.replace('<td class=\"number\">',\"\").replace('</td>',\"\").replace(\"\\\\n\",\"\").replace(\"\t\",\"\").replace(\",\",\"\").replace(\"<\",\"\").replace(\">\",\"\").replace(\"t\",\"\").replace(\"d\",\"\"))\n",
    "        print(f\"{inp}의 가격 : {replace_price:,}원\") \n",
    "\n",
    "if __name__ == \"__main__\":\n",
    "    findStock()\n",
    "    \"\"\"\n",
    "    f.write(data)\n"
   ]
  },
  {
   "cell_type": "code",
   "execution_count": 1,
   "id": "00282c14-f60e-4ddf-b314-e920b22105b7",
   "metadata": {},
   "outputs": [],
   "source": [
    "import stock1"
   ]
  },
  {
   "cell_type": "code",
   "execution_count": 6,
   "id": "e210af46-7e2d-4f5e-8df1-49c2851e0529",
   "metadata": {},
   "outputs": [
    {
     "name": "stdout",
     "output_type": "stream",
     "text": [
      "Microsoft Windows [Version 10.0.26100.3194]\n",
      "(c) Microsoft Corporation. All rights reserved.\n",
      "\n",
      "HS\\jup>python\n",
      "\n",
      "D:\\JHS\\jup>"
     ]
    }
   ],
   "source": []
  },
  {
   "cell_type": "code",
   "execution_count": 13,
   "id": "f621cded-3d8e-4ca8-87c4-d8193f8d782d",
   "metadata": {},
   "outputs": [
    {
     "name": "stdin",
     "output_type": "stream",
     "text": [
      "주식 가격 알려드림 asd\n"
     ]
    },
    {
     "name": "stdout",
     "output_type": "stream",
     "text": [
      "그런 주식 없음 돌아가\n"
     ]
    }
   ],
   "source": []
  },
  {
   "cell_type": "markdown",
   "id": "cab433cd-536b-4d3f-a884-3f3659b598ec",
   "metadata": {},
   "source": [
    "## 클래스나 변수등을 포함한 모듈"
   ]
  },
  {
   "cell_type": "code",
   "execution_count": 1,
   "id": "5977870a-ff01-4eea-90db-d7eb4f9cd976",
   "metadata": {},
   "outputs": [
    {
     "name": "stdout",
     "output_type": "stream",
     "text": [
      "3.141592\n",
      "314.1592\n",
      "7.5415920000000005\n"
     ]
    }
   ],
   "source": [
    "with open(\"mod3.py\",\"w\") as f:\n",
    "    text = \"\"\"\n",
    "PI = 3.141592\n",
    "\n",
    "class Math:\n",
    "    def solv(self, r):\n",
    "        return PI * (r**2)\n",
    "\n",
    "def add(a,b):\n",
    "    return a + b\n",
    "    \n",
    "\"\"\"\n",
    "    f.write(text)\n",
    "\n",
    "import mod3\n",
    "\n",
    "print(mod3.PI)\n",
    "\n",
    "a = mod3.Math()\n",
    "print(a.solv(10))\n",
    "\n",
    "print(mod3.add(mod3.PI,4.4))"
   ]
  },
  {
   "cell_type": "markdown",
   "id": "d60280bc-7f0f-4e9f-8737-79a9ba163e19",
   "metadata": {},
   "source": [
    "## 다른 디렉터리에서 모듈 불러오기"
   ]
  },
  {
   "cell_type": "code",
   "execution_count": null,
   "id": "3ec35204-6083-412a-9ddb-c890a35c4e29",
   "metadata": {},
   "outputs": [],
   "source": [
    "import sys\n",
    "sys.path\n",
    "\n",
    "sys.path.append(\"D:\\\\jhs\\\\jup\\\\mymod\")\n",
    "sys.path"
   ]
  },
  {
   "cell_type": "code",
   "execution_count": 1,
   "id": "9a6229e0-3386-4007-8436-bfb4dda0add7",
   "metadata": {},
   "outputs": [
    {
     "name": "stdout",
     "output_type": "stream",
     "text": [
      "Collecting python-dotenv\n",
      "  Downloading python_dotenv-1.0.1-py3-none-any.whl.metadata (23 kB)\n",
      "Downloading python_dotenv-1.0.1-py3-none-any.whl (19 kB)\n",
      "Installing collected packages: python-dotenv\n",
      "Successfully installed python-dotenv-1.0.1\n"
     ]
    },
    {
     "name": "stderr",
     "output_type": "stream",
     "text": [
      "\n",
      "[notice] A new release of pip is available: 25.0 -> 25.0.1\n",
      "[notice] To update, run: python.exe -m pip install --upgrade pip\n"
     ]
    }
   ],
   "source": [
    "!pip install python-dotenv"
   ]
  },
  {
   "cell_type": "code",
   "execution_count": 1,
   "id": "fc19e2dd-37ab-4b66-9c2e-1992fb78d07a",
   "metadata": {},
   "outputs": [
    {
     "name": "stdout",
     "output_type": "stream",
     "text": [
      "myphone 010-1234-5678\n",
      "https:\\\\www.google.com\n",
      "ㅋㅋ\n"
     ]
    }
   ],
   "source": [
    "from dotenv import load_dotenv\n",
    "import os\n",
    "\n",
    "load_dotenv()\n",
    "\n",
    "SKEY = os.getenv(\"SECRET_KEY\")\n",
    "print(SKEY)\n",
    "DEBUG = os.getenv(\"DEBUG\")\n",
    "print(DEBUG)\n",
    "TEST = os.getenv(\"TEST\")\n",
    "print(TEST)"
   ]
  },
  {
   "cell_type": "code",
   "execution_count": 21,
   "id": "4015c61a-a0f9-4076-82ad-ba6cbb9169f4",
   "metadata": {},
   "outputs": [
    {
     "name": "stdout",
     "output_type": "stream",
     "text": [
      "======================================================================\n",
      "반도체 위기감에 삼성전자 찾은 김동연 총력 지원 약속\n",
      "김동연 경기도지사가 12일 미국 트럼프 행정부의 반도체 관세 부과 예고에 따른 국내 반도체산업계 위기감을 해소하기 위해 삼성전자 삼성전자 평택캠퍼스를 찾아 총력 지원을 약속했다. 김동연 지사는 평택시 고덕동... \n",
      "https://n.news.naver.com/mnews/article/003/0013063390?sid=102\n",
      "======================================================================\n",
      "파두, 삼성전자 출신 김태균 부사장 CBO로 영입\n",
      "그는 삼성전자에서 DS부문 전략기획, 사업분석 리더 등을 역임하며 신사업 전략 수립과 사업 추진 분야에서 풍부한 경험을 쌓아왔다. 반도체 업계에서 쌓은 폭넓은 전략기획 역량과 글로벌 네트워크를 보유한 김태균... \n",
      "https://n.news.naver.com/mnews/article/092/0002363003?sid=105\n",
      "======================================================================\n",
      "삼성전자 찾은 김동연 지원에 최선 다할 것\n",
      "트럼프 행정부가 반도체에도 관세 부과를 예고하면서 국내 반도체산업계의 위기감이 높아지고 있는 가운데 김동연 경기도지사가 삼성전자 평택캠퍼스를 찾아 총력 지원을 약속했다. 지난 12일 오후 삼성전자 평택... \n",
      "https://n.news.naver.com/mnews/article/018/0005942522?sid=100\n",
      "======================================================================\n",
      "파두, 삼성전자 출신 김태균 CBO 영입\n",
      "뉴데일리 윤아름 기자 = 데이터센터 반도체 전문기업 파두가 삼성전자 출신의 김태균 CBO(최고사업개발책임자) 부사장을 영입했다고 13일 밝혔다. 파두는 고객 맞춤형 솔루션 '플렉스(Flex) SSD™' 사업을 본격 추진해... \n",
      "https://biz.newdaily.co.kr/site/data/html/2025/02/13/2025021300189.html\n",
      "======================================================================\n",
      "파두, 삼성전자 출신 김태균 부사장 CBO 영입\n",
      "그는 삼성전자에서 DS부문 전략기획, 사업분석리더 등을 역임하며 신사업 전략 수립과 추진 분야에서 풍부한 경험을 쌓았다. 반도체 관련 폭넓은 전략기획 역량과 글로벌 네트워크를 보유한 김 CBO 합류로 파두의 해외... \n",
      "https://n.news.naver.com/mnews/article/014/0005307651?sid=101\n",
      "======================================================================\n",
      "삼성전자 “쉽지 않네”...‘밸류업의 역설’로 삼성생명이 주식 처분\n",
      "삼성생명과 삼성화재가 삼성전자 지분 약 2800억원을 매각했다. 지난해 삼성전자의 자사주 소각으로 인해 ‘금융산업의 구조개선에 관한 법률’(금산법) 위반 가능성이 생겼기 때문이다. 이에 밸류업(기업 가치 개선)... \n",
      "https://n.news.naver.com/mnews/article/024/0000094908?sid=102\n",
      "======================================================================\n",
      "김동연, 삼성전자 평택공장 찾아 반도체특별법에 비상한 노력\n",
      "김동연 경기도지사는 12일 삼성전자 평택캠퍼스를 찾아 현장 간담회를 갖고 반도체산업에 대한 총력 지원을 약속했다. 이날 방문은 도널드 트럼프 미국 대통령이 철강, 알루미늄에 이어 반도체에 대한 관세 부과를 예고하며... \n",
      "https://n.news.naver.com/mnews/article/001/0015209063?sid=101\n",
      "======================================================================\n",
      "파두, 삼성전자 출신 김태균 부사장 영입…글로벌 영업 강화\n",
      "올해 ‘플렉스 SSD™’로 고객사 공략 공격적 영업조직, 파격 보상제도 마련 파두가 삼성전자 출신의 김태균 부사장을 최고사업개발책임자(CBO)로 영입했다. [파두 제공] [헤럴드경제=김현일 기자] 파두가 삼성전자... \n",
      "https://n.news.naver.com/mnews/article/016/0002428423?sid=105\n",
      "======================================================================\n",
      "파두, 삼성전자 출신 '김태균' 부사장 CBO 영입\n",
      "이투데이=박민웅 기자 | 파두가 삼성전자 출신 김태균 부사장을 최고사업개발책임자(CBO)로 영입했다고 13일 밝혔다. 김 부사장은 30년 이상 반도체 업계 경력을 보유했다. 삼성전자 DS부문 전략기획, 사업분석 리더 등을... \n",
      "https://www.etoday.co.kr/news/view/2444770\n",
      "======================================================================\n",
      "금산법-밸류업 충돌…삼성전자, 자사주 소각 때마다 블록딜 [마켓딥다이...\n",
      "반등에 나섰던 삼성전자가 다시 하락 전환했습니다. 삼성생명과 삼성화재의 블록딜 때문인데요. 최민정 기자가 자세히 짚어봅니다. 2,800억 원의 삼성생명과 삼성화재 블록딜, 시간 외 대량 매매로 삼성전자의 주가도... \n",
      "https://n.news.naver.com/mnews/article/215/0001198266?sid=101\n"
     ]
    }
   ],
   "source": [
    "import os\n",
    "import sys\n",
    "import urllib.request\n",
    "from dotenv import load_dotenv\n",
    "import json\n",
    "\n",
    "load_dotenv()\n",
    "MY_ID = os.getenv(\"MY_ID\")\n",
    "MY_SECRET = os.getenv(\"MY_SECRET\")\n",
    "\n",
    "def news(a):\n",
    "    client_id = MY_ID\n",
    "    client_secret = MY_SECRET\n",
    "    encText = urllib.parse.quote(f\"{a}\")\n",
    "    url = \"https://openapi.naver.com/v1/search/news.json?query=\" + encText+ \"&display=10&start=1&sort=sim\" # JSON 결과\n",
    "    # url = \"https://openapi.naver.com/v1/search/blog.xml?query=\" + encText # XML 결과\n",
    "    request = urllib.request.Request(url)\n",
    "    request.add_header(\"X-Naver-Client-Id\",client_id)\n",
    "    request.add_header(\"X-Naver-Client-Secret\",client_secret)\n",
    "    response = urllib.request.urlopen(request)\n",
    "    rescode = response.getcode()\n",
    "    if(rescode==200):\n",
    "        response_body = response.read()\n",
    "        result = response_body.decode('utf-8')\n",
    "        data = json.loads(result)\n",
    "        real_data = data[\"items\"]\n",
    "        for i in real_data:\n",
    "            print(\"=\" * 70)\n",
    "            print(i[\"title\"].replace(\"<b>\",\"\").replace(\"&quot;\",\"\").replace(\"</b>\",\"\"))\n",
    "            print(i[\"description\"].replace(\"<b>\",\"\").replace(\"</b>\",\"\"))\n",
    "            print(i[\"link\"])\n",
    "    else:\n",
    "        print(\"Error Code:\" + rescode)\n",
    "\n",
    "news(\"삼성전자\")"
   ]
  },
  {
   "cell_type": "code",
   "execution_count": 36,
   "id": "db2f0dbd-c313-44d6-99fb-fa07cc236125",
   "metadata": {},
   "outputs": [
    {
     "name": "stdin",
     "output_type": "stream",
     "text": [
      "우 to the 영 to the 우 가나다나가\n"
     ]
    },
    {
     "name": "stdout",
     "output_type": "stream",
     "text": [
      "입력값 : 가나다나가 // 앞 뒤가 똑같은 우 to the 영 to the 우\n"
     ]
    }
   ],
   "source": [
    "#Q1\n",
    "\n",
    "inp = input('우 to the 영 to the 우')\n",
    "\n",
    "똑바로 = []\n",
    "똑바로_copy = []\n",
    "거꾸로 = []\n",
    "for i in range(len(inp)):\n",
    "    똑바로.append(inp[i])\n",
    "\n",
    "똑바로_copy = 똑바로.copy()\n",
    "\n",
    "for i in range(len(똑바로)):\n",
    "    거꾸로.append(똑바로.pop())\n",
    "\n",
    "if 똑바로_copy == 거꾸로:\n",
    "    print(f\"입력값 : {inp} // 앞 뒤가 똑같은 우 to the 영 to the 우\")\n",
    "else:\n",
    "    print(f\"입력값 : {inp} // 앞 뒤가 다른 동 to the 그 to the 라미\")"
   ]
  },
  {
   "cell_type": "code",
   "execution_count": 45,
   "id": "e52c00c5-ae82-4e17-8853-d36c2e5e68bd",
   "metadata": {},
   "outputs": [
    {
     "name": "stdin",
     "output_type": "stream",
     "text": [
      "숫자 여러개 입력해보셈(띄어쓰기 해주셈) 1 2 3 4\n"
     ]
    },
    {
     "name": "stdout",
     "output_type": "stream",
     "text": [
      "짝수 리스트 : ['2', '4'], 홀수 리스트 : ['1', '3']\n"
     ]
    }
   ],
   "source": [
    "#Q2\n",
    "\n",
    "inp = input('숫자 여러개 입력해보셈(띄어쓰기 해주셈)')\n",
    "num_list = inp.split(\" \")\n",
    "odd_list = []\n",
    "even_list = []\n",
    "\n",
    "# print(type(int(num_list[0])))\n",
    "for i in num_list:\n",
    "    if int(i) % 2 == 0:\n",
    "        even_list.append(i)\n",
    "    else:\n",
    "        odd_list.append(i)\n",
    "\n",
    "print(f\"짝수 리스트 : {even_list}, 홀수 리스트 : {odd_list}\")"
   ]
  },
  {
   "cell_type": "code",
   "execution_count": 83,
   "id": "79e20af7-58e6-4787-b56b-904dd571797a",
   "metadata": {},
   "outputs": [
    {
     "name": "stdin",
     "output_type": "stream",
     "text": [
      "좋은 문장 하나 써봐라 aa bb ccc ddd\n"
     ]
    },
    {
     "name": "stdout",
     "output_type": "stream",
     "text": [
      "['ccc', 'ddd']\n"
     ]
    }
   ],
   "source": [
    "#Q3\n",
    "\n",
    "inp = input('좋은 문장 하나 써봐라')\n",
    "word_list = inp.split(\" \")\n",
    "max_len_word = []\n",
    "\n",
    "if len(max_len_word) == 0:\n",
    "    max_len_word.append(word_list[0])\n",
    "    word_list.remove(word_list[0])\n",
    "if len(max_len_word) > 0:\n",
    "    for j in range(len(max_len_word)):\n",
    "        for i in range(len(word_list)):\n",
    "            if len(max_len_word[j]) == len(word_list[i]):\n",
    "                max_len_word.append(word_list[i])\n",
    "            elif len(max_len_word[j]) < len(word_list[i]):\n",
    "                max_len_word = []\n",
    "                max_len_word.append(word_list[i])\n",
    "\n",
    "print(max_len_word)"
   ]
  },
  {
   "cell_type": "code",
   "execution_count": 93,
   "id": "6d5b8bb5-422f-4168-9a69-3341c47d2d9d",
   "metadata": {},
   "outputs": [
    {
     "ename": "ModuleNotFoundError",
     "evalue": "No module named 'qrcode'",
     "output_type": "error",
     "traceback": [
      "\u001b[1;31m---------------------------------------------------------------------------\u001b[0m",
      "\u001b[1;31mModuleNotFoundError\u001b[0m                       Traceback (most recent call last)",
      "Cell \u001b[1;32mIn[93], line 1\u001b[0m\n\u001b[1;32m----> 1\u001b[0m \u001b[38;5;28;01mimport\u001b[39;00m\u001b[38;5;250m \u001b[39m\u001b[38;5;21;01mqrcode\u001b[39;00m\n",
      "\u001b[1;31mModuleNotFoundError\u001b[0m: No module named 'qrcode'"
     ]
    }
   ],
   "source": [
    "import qrcode"
   ]
  },
  {
   "cell_type": "code",
   "execution_count": 94,
   "id": "4d753074-3650-485a-8ae7-2b7dd9048503",
   "metadata": {},
   "outputs": [
    {
     "name": "stdout",
     "output_type": "stream",
     "text": [
      "Collecting qrcode\n",
      "  Downloading qrcode-8.0-py3-none-any.whl.metadata (17 kB)\n",
      "Requirement already satisfied: colorama in c:\\users\\admin\\appdata\\local\\programs\\python\\python313\\lib\\site-packages (from qrcode) (0.4.6)\n",
      "Downloading qrcode-8.0-py3-none-any.whl (45 kB)\n",
      "Installing collected packages: qrcode\n",
      "Successfully installed qrcode-8.0\n"
     ]
    },
    {
     "name": "stderr",
     "output_type": "stream",
     "text": [
      "\n",
      "[notice] A new release of pip is available: 25.0 -> 25.0.1\n",
      "[notice] To update, run: python.exe -m pip install --upgrade pip\n"
     ]
    }
   ],
   "source": [
    "!pip install qrcode"
   ]
  },
  {
   "cell_type": "code",
   "execution_count": 102,
   "id": "6ecb38a7-8c94-4c73-a384-68c8ca82aa07",
   "metadata": {},
   "outputs": [
    {
     "data": {
      "text/html": [
       "<img src = \"github.png\">"
      ],
      "text/plain": [
       "<IPython.core.display.HTML object>"
      ]
     },
     "metadata": {},
     "output_type": "display_data"
    }
   ],
   "source": [
    "import qrcode\n",
    "\n",
    "def qrcode_maker(text,filename = 'qr.png'):\n",
    "    qr = qrcode.make(text)\n",
    "    qr.save(filename)\n",
    "\n",
    "qrcode_maker(\"큐알코드당\")\n",
    "qrcode_maker(\"https://github.com/JeongHui-seong?tab=repositories\",filename=\"github.png\")\n",
    "\n",
    "from IPython.display import display , HTML\n",
    "from PIL import Image\n",
    "\n",
    "image_path = \"github.png\"\n",
    "img = Image.open(image_path)\n",
    "display(HTML('<img src = \"github.png\">'))"
   ]
  },
  {
   "cell_type": "code",
   "execution_count": 115,
   "id": "a900cb9b-0fe2-46cc-a16c-67beea1e15aa",
   "metadata": {},
   "outputs": [
    {
     "name": "stdin",
     "output_type": "stream",
     "text": [
      "기분 한문장 요약 ㄱㄱ 그저 그럼\n"
     ]
    },
    {
     "name": "stdout",
     "output_type": "stream",
     "text": [
      "['그저', '그럼']\n",
      "평범하구만요\n"
     ]
    }
   ],
   "source": [
    "#Q4\n",
    "\n",
    "positive_words = [\"좋아\", \"행복\", \"멋져\", \"최고\", \"사랑해\"]\n",
    "negative_words = [\"싫어\", \"화나\", \"짜증\", \"별로\", \"나빠\"]\n",
    "\n",
    "inp = input(\"기분 한문장 요약 ㄱㄱ\")\n",
    "inp = inp.replace(\"!\",\"\").replace(\".\",\"\").replace(\",\",\"\")\n",
    "inp = inp.split(\" \")\n",
    "feel = []\n",
    "\n",
    "print(inp)\n",
    "\n",
    "for i in inp:\n",
    "    if i in positive_words:\n",
    "        feel.append(1)\n",
    "    elif i in negative_words:\n",
    "        feel.append(-1)\n",
    "    else:\n",
    "        feel.append(0)\n",
    "\n",
    "if feel.count(1) > feel.count(-1):\n",
    "    print(\"오늘 기분 좋구만요\")\n",
    "elif feel.count(1) < feel.count(-1):\n",
    "    print(\"오늘 기분 안좋구만요\")\n",
    "elif 1 not in feel and -1 not in feel:\n",
    "    print(\"평범하구만요\")\n",
    "\n",
    "\n",
    "# 오늘 답답하지만 할만해, 멋져!!"
   ]
  },
  {
   "cell_type": "code",
   "execution_count": 1,
   "id": "cc78d185-b96d-4460-af6a-dc3f9480400e",
   "metadata": {},
   "outputs": [
    {
     "name": "stdout",
     "output_type": "stream",
     "text": [
      "========== 20250217 영화 순위 ==========\n",
      "1위 : 말할 수 없는 비밀\n",
      "2위 : 히트맨2\n",
      "3위 : 검은 수녀들\n",
      "4위 : 아이유 콘서트 : 더 위닝\n",
      "5위 : 브로큰\n",
      "6위 : 뽀로로 극장판 바닷속 대모험\n",
      "7위 : 퇴마록\n",
      "8위 : 하얼빈\n",
      "9위 : 마당을 나온 암탉\n",
      "10위 : 레드벨벳 해피니스 다이어리 : 마이 디어, 레베럽 인 시네마\n"
     ]
    }
   ],
   "source": [
    "import requests\n",
    "from datetime import datetime, timedelta\n",
    "from dotenv import load_dotenv\n",
    "import json\n",
    "import os\n",
    "\n",
    "load_dotenv()\n",
    "KEY = os.getenv(\"KEY\")\n",
    "\n",
    "today_date = datetime.today().strftime(\"%Y-%m-%d\").replace(\"-\",\"\") #오늘 날짜\n",
    "yesterday_date = (datetime.today() - timedelta(1)).strftime(\"%Y-%m-%d\").replace(\"-\",\"\") #어제 날짜 (영화 순위 업데이트가 안돼서 어제 날짜로 해야 잘 나옴)\n",
    "\n",
    "url = f\"http://www.kobis.or.kr/kobisopenapi/webservice/rest/boxoffice/searchDailyBoxOfficeList.json?key={KEY}&targetDt={yesterday_date}&itemPerPage=10&repNationCd=K\"\n",
    "req = requests.get(url)\n",
    "data = req.json()['boxOfficeResult']['dailyBoxOfficeList']\n",
    "\n",
    "print(f\"========== {today_date} 영화 순위 ==========\")\n",
    "for i in range(10):\n",
    "    print(f\"{i + 1}위 : {data[i]['movieNm']}\")\n"
   ]
  },
  {
   "cell_type": "code",
   "execution_count": 137,
   "id": "7ab9acd0-ca01-466b-85d4-05a7babc98d0",
   "metadata": {},
   "outputs": [
    {
     "name": "stdin",
     "output_type": "stream",
     "text": [
      "영어 소문자로 한문장 ㄱㄱ apples are delicious\n"
     ]
    },
    {
     "name": "stdout",
     "output_type": "stream",
     "text": [
      "Apples Are Delicious "
     ]
    }
   ],
   "source": [
    "#Q5\n",
    "inp = input(\"영어 소문자로 한문장 ㄱㄱ\")\n",
    "inp = inp.split(\" \")\n",
    "\n",
    "for i in range(len(inp)):\n",
    "    print(inp[i].replace(inp[i][0],inp[i][0].upper()), end=\" \")"
   ]
  },
  {
   "cell_type": "code",
   "execution_count": null,
   "id": "10533a03-0a89-4238-929f-27d4a48b02d3",
   "metadata": {},
   "outputs": [],
   "source": []
  },
  {
   "cell_type": "markdown",
   "id": "b91e8ea1-f0fd-4082-86c5-2ac12f5ad84e",
   "metadata": {},
   "source": [
    "# 패키지"
   ]
  },
  {
   "cell_type": "markdown",
   "id": "2d8fe68c-229b-4d13-be9e-28ef86289a24",
   "metadata": {},
   "source": [
    "## 패키지 만들기"
   ]
  },
  {
   "cell_type": "code",
   "execution_count": 4,
   "id": "af23a144-f108-4821-93e5-efc2e5d4f1b1",
   "metadata": {},
   "outputs": [
    {
     "name": "stdout",
     "output_type": "stream",
     "text": [
      "Microsoft Windows [Version 10.0.26100.3194]\n",
      "(c) Microsoft Corporation. All rights reserved.\n",
      "\n",
      "D:\\JHS\\jup>set PYTHONPATH=D:\\\\jhs\\\\jup\\\\game\n",
      "\n",
      "D:\\JHS\\jup>"
     ]
    }
   ],
   "source": [
    "%%cmd\n",
    "set PYTHONPATH=D:\\\\jhs\\\\jup\\\\game"
   ]
  },
  {
   "cell_type": "code",
   "execution_count": 10,
   "id": "e94fd606-111f-4184-ae61-0e75f3422040",
   "metadata": {},
   "outputs": [
    {
     "name": "stdout",
     "output_type": "stream",
     "text": [
      "render\n",
      "echo\n",
      "Video Echo\n"
     ]
    }
   ],
   "source": [
    "import game.sound.echo\n",
    "import game.graphic.echo\n",
    "\n",
    "game.graphic.render.render_test()\n",
    "game.sound.echo.echo_test()\n",
    "game.graphic.echo.echo_test()"
   ]
  },
  {
   "cell_type": "code",
   "execution_count": 13,
   "id": "9d7a0685-59bb-41b7-918a-9f8c4c60b460",
   "metadata": {},
   "outputs": [
    {
     "name": "stdout",
     "output_type": "stream",
     "text": [
      "echo\n",
      "Video Echo\n"
     ]
    }
   ],
   "source": [
    "# import game.echo\n",
    "# import game.echo2\n",
    "from game import echo, echo2\n",
    "\n",
    "echo.echo_test()\n",
    "echo2.echo_test()"
   ]
  },
  {
   "cell_type": "code",
   "execution_count": 3,
   "id": "ca95fa77-ac42-44e3-816e-07baa206ff9e",
   "metadata": {},
   "outputs": [
    {
     "name": "stdout",
     "output_type": "stream",
     "text": [
      "Video Echo\n"
     ]
    }
   ],
   "source": [
    "# from game.graphic.echo import echo_test\n",
    "# from game.sound.echo import echo_test\n",
    "from game import graphic , sound\n",
    "\n",
    "graphic.echo.echo_test()"
   ]
  },
  {
   "cell_type": "code",
   "execution_count": 1,
   "id": "ac20b0ce-ec23-4891-b7a0-27d34968f410",
   "metadata": {},
   "outputs": [
    {
     "name": "stdout",
     "output_type": "stream",
     "text": [
      "3.5\n",
      "The version of this game is 3.5\n",
      "None\n"
     ]
    }
   ],
   "source": [
    "import game\n",
    "\n",
    "print(game.VERSION)\n",
    "print(game.print_version_info())"
   ]
  },
  {
   "cell_type": "code",
   "execution_count": 1,
   "id": "92875d32-fdd9-4138-9ec5-1178d8837657",
   "metadata": {},
   "outputs": [
    {
     "name": "stdout",
     "output_type": "stream",
     "text": [
      "Initializing game\n",
      "render\n"
     ]
    }
   ],
   "source": [
    "import game\n",
    "\n",
    "game.render_test()"
   ]
  },
  {
   "cell_type": "code",
   "execution_count": 5,
   "id": "2ebd0564-e2ba-4f4d-b84e-6842ab3f72d2",
   "metadata": {},
   "outputs": [
    {
     "name": "stdout",
     "output_type": "stream",
     "text": [
      "The version of this graphic of game is 3.7\n"
     ]
    }
   ],
   "source": [
    "import game.graphic\n",
    "game.graphic.print_version_info()"
   ]
  },
  {
   "cell_type": "code",
   "execution_count": 1,
   "id": "21778aa3-8920-4e53-9f25-947dac332e26",
   "metadata": {},
   "outputs": [
    {
     "name": "stdout",
     "output_type": "stream",
     "text": [
      "Initializing game\n"
     ]
    }
   ],
   "source": [
    "from game.graphic import *"
   ]
  },
  {
   "cell_type": "code",
   "execution_count": 2,
   "id": "f7fc62cb-6fa7-4a26-a50d-71eeee6f05b9",
   "metadata": {},
   "outputs": [
    {
     "name": "stdout",
     "output_type": "stream",
     "text": [
      "Video Echo\n"
     ]
    }
   ],
   "source": [
    "echo.echo_test()"
   ]
  },
  {
   "cell_type": "code",
   "execution_count": 1,
   "id": "e388599b-31d5-482d-bc7b-fbd85e8be231",
   "metadata": {},
   "outputs": [
    {
     "name": "stdout",
     "output_type": "stream",
     "text": [
      "Initializing game\n",
      "render\n",
      "echo\n"
     ]
    }
   ],
   "source": [
    "from game.graphic.render import render_test\n",
    "\n",
    "render_test()"
   ]
  },
  {
   "cell_type": "markdown",
   "id": "3a3c6844-642e-4b83-b527-d9b9f5104993",
   "metadata": {},
   "source": [
    "# 예외처리"
   ]
  },
  {
   "cell_type": "markdown",
   "id": "fb390c07-c0d2-457c-ac07-1ded8354ae0e",
   "metadata": {},
   "source": [
    "## 오류발생\n",
    "- 오타\n",
    "- 존재하지 않는 파일 지정 or 사용\n",
    "- 수학적 오류\n",
    "- 인덱스\n",
    "- 문법 오류\n",
    "  "
   ]
  },
  {
   "cell_type": "markdown",
   "id": "42ac3f6f-3ea3-4aee-a1a9-5dc27c9150a7",
   "metadata": {},
   "source": [
    "## 오류 예외 처리 기법\n",
    "- try-except 문\n",
    "- try-finally 문\n",
    "- 여러개의 오류 처리\n",
    "- try-else 문\n"
   ]
  },
  {
   "cell_type": "code",
   "execution_count": 3,
   "id": "3f7fc5a8-3271-4eef-a0c8-6105056bf679",
   "metadata": {},
   "outputs": [],
   "source": [
    "# f = open(\"ㅋㅋㅋ\",'r')"
   ]
  },
  {
   "cell_type": "code",
   "execution_count": 7,
   "id": "ae687eb8-698f-4012-803c-0a41d2d13365",
   "metadata": {},
   "outputs": [
    {
     "name": "stdout",
     "output_type": "stream",
     "text": [
      "ㅎㅇ\n",
      "[Errno 2] No such file or directory: 'ㅋㅋㅋ'\n",
      "코드 마침\n"
     ]
    }
   ],
   "source": [
    "try:\n",
    "    f = open(\"ㅋㅋㅋ\",'r')\n",
    "except FileNotFoundError as e:\n",
    "    if e:\n",
    "        print(\"ㅎㅇ\")\n",
    "    print(e)\n",
    "finally:\n",
    "    print(\"코드 마침\")"
   ]
  },
  {
   "cell_type": "code",
   "execution_count": 8,
   "id": "bb06a272-6d57-4dac-a488-d587dbe50e01",
   "metadata": {},
   "outputs": [
    {
     "name": "stdout",
     "output_type": "stream",
     "text": [
      "에러\n"
     ]
    }
   ],
   "source": [
    "try:\n",
    "    4 / 0\n",
    "except:\n",
    "    print('에러')"
   ]
  },
  {
   "cell_type": "code",
   "execution_count": 10,
   "id": "3c847e4b-56ae-4f5e-aba8-d4d7af2a03d8",
   "metadata": {},
   "outputs": [
    {
     "name": "stdout",
     "output_type": "stream",
     "text": [
      "0으로 나누지 마시오\n"
     ]
    }
   ],
   "source": [
    "try:\n",
    "    f = open(\"foo.txt\", \"w\")\n",
    "    f.write(4 / 0)\n",
    "except:\n",
    "    print(\"0으로 나누지 마시오\")\n",
    "finally:\n",
    "    f.close()"
   ]
  },
  {
   "cell_type": "code",
   "execution_count": 2,
   "id": "b0d3a71b-93a4-43fe-b994-41d595868fbf",
   "metadata": {},
   "outputs": [
    {
     "name": "stdout",
     "output_type": "stream",
     "text": [
      "tuple index out of range\n"
     ]
    }
   ],
   "source": [
    "try:\n",
    "    a = 1,2\n",
    "    print(a[12])\n",
    "    4 / 0\n",
    "except (IndexError, ZeroDivisionError) as e:\n",
    "    print(e)"
   ]
  },
  {
   "cell_type": "code",
   "execution_count": 8,
   "id": "cd4806fa-284f-4dc8-86c0-767067a73747",
   "metadata": {},
   "outputs": [
    {
     "name": "stdin",
     "output_type": "stream",
     "text": [
      "몇 살이고 12\n"
     ]
    },
    {
     "name": "stdout",
     "output_type": "stream",
     "text": [
      "미성년자는 나가라\n",
      "====================\n"
     ]
    }
   ],
   "source": [
    "try:\n",
    "    age = int(input('몇 살이고'))\n",
    "    if age <= 18:\n",
    "        print(\"미성년자는 나가라\")\n",
    "    else:\n",
    "        print(\"ㄱㄱㄱ\")\n",
    "except:\n",
    "    print(\"숫자로 입력 ㄱㄱ\")\n",
    "\n",
    "finally:\n",
    "    print('=' * 20)"
   ]
  },
  {
   "cell_type": "code",
   "execution_count": 9,
   "id": "bc96b211-e4e1-4a30-8abe-93708272922d",
   "metadata": {},
   "outputs": [
    {
     "name": "stdout",
     "output_type": "stream",
     "text": [
      "ㅎㅇ\n"
     ]
    }
   ],
   "source": [
    "try:\n",
    "    print(\"ㅎㅇ\")\n",
    "    f = open(\"없는 파일\", 'r')\n",
    "    print(\"ㅂㅇ\")\n",
    "except:\n",
    "    pass"
   ]
  },
  {
   "cell_type": "code",
   "execution_count": 12,
   "id": "827e20a6-e12b-4cf9-a1ae-6b9d698c9453",
   "metadata": {},
   "outputs": [
    {
     "name": "stdin",
     "output_type": "stream",
     "text": [
      "13보다 큰 수 입력 ㄱㄱ 12\n"
     ]
    },
    {
     "ename": "NotImplementedError",
     "evalue": "",
     "output_type": "error",
     "traceback": [
      "\u001b[1;31m---------------------------------------------------------------------------\u001b[0m",
      "\u001b[1;31mNotImplementedError\u001b[0m                       Traceback (most recent call last)",
      "Cell \u001b[1;32mIn[12], line 5\u001b[0m\n\u001b[0;32m      3\u001b[0m     \u001b[38;5;28mprint\u001b[39m(\u001b[38;5;124m'\u001b[39m\u001b[38;5;124m큼\u001b[39m\u001b[38;5;124m'\u001b[39m)\n\u001b[0;32m      4\u001b[0m \u001b[38;5;28;01melse\u001b[39;00m:\n\u001b[1;32m----> 5\u001b[0m     \u001b[38;5;28;01mraise\u001b[39;00m \u001b[38;5;167;01mNotImplementedError\u001b[39;00m\n",
      "\u001b[1;31mNotImplementedError\u001b[0m: "
     ]
    }
   ],
   "source": [
    "inp = int(input(\"13보다 큰 수 입력 ㄱㄱ\"))\n",
    "if 13 < inp:\n",
    "    print('큼')\n",
    "else:\n",
    "    raise NotImplementedError"
   ]
  },
  {
   "cell_type": "code",
   "execution_count": null,
   "id": "18032165-121a-4337-afe2-81232307e877",
   "metadata": {},
   "outputs": [],
   "source": [
    "class Bird:\n",
    "    def fly(self):\n",
    "        raise NotImplementedError\n",
    "\n",
    "class Eagle(Bird):\n",
    "    pass\n",
    "\n",
    "eagle = Eagle()\n",
    "eagle.fly()"
   ]
  },
  {
   "cell_type": "code",
   "execution_count": 31,
   "id": "0b404401-10df-474f-9f8e-6cdbbd5c16ca",
   "metadata": {},
   "outputs": [
    {
     "name": "stdout",
     "output_type": "stream",
     "text": [
      "천사\n",
      "바보아님 ㅋㅋ \n"
     ]
    }
   ],
   "source": [
    "class MyError(Exception):\n",
    "    pass\n",
    "\n",
    "def say_nick(nick):\n",
    "    if nick == \"바보\":\n",
    "        raise MyError()\n",
    "    print(nick)\n",
    "\n",
    "try:\n",
    "    say_nick(\"천사\")\n",
    "    say_nick(\"바보\")\n",
    "except MyError as e:\n",
    "    print(\"바보아님 ㅋㅋ\" ,e)"
   ]
  },
  {
   "cell_type": "code",
   "execution_count": 34,
   "id": "b496dc19-fa0a-4145-b4c9-1ccec59dab75",
   "metadata": {},
   "outputs": [
    {
     "name": "stdout",
     "output_type": "stream",
     "text": [
      "천사\n",
      "바보아님 ㅋㅋ 바보 아님요\n"
     ]
    }
   ],
   "source": [
    "class MyError(Exception):\n",
    "    def __str__(self):\n",
    "        return \"바보 아님요\"\n",
    "\n",
    "try:\n",
    "    say_nick(\"천사\")\n",
    "    say_nick(\"바보\")\n",
    "except MyError as e:\n",
    "    print(\"바보아님 ㅋㅋ\", e)"
   ]
  },
  {
   "cell_type": "code",
   "execution_count": null,
   "id": "13fa1bad-9bdf-4bbf-9acd-6d9725d44505",
   "metadata": {},
   "outputs": [],
   "source": []
  }
 ],
 "metadata": {
  "kernelspec": {
   "display_name": "Python 3 (ipykernel)",
   "language": "python",
   "name": "python3"
  },
  "language_info": {
   "codemirror_mode": {
    "name": "ipython",
    "version": 3
   },
   "file_extension": ".py",
   "mimetype": "text/x-python",
   "name": "python",
   "nbconvert_exporter": "python",
   "pygments_lexer": "ipython3",
   "version": "3.13.1"
  }
 },
 "nbformat": 4,
 "nbformat_minor": 5
}
