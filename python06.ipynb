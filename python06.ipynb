{
 "cells": [
  {
   "cell_type": "markdown",
   "id": "2a12ce98-22f9-4294-af0b-bab5431da8b9",
   "metadata": {},
   "source": [
    "# 모듈"
   ]
  },
  {
   "cell_type": "markdown",
   "id": "703c2a88-97bb-4564-95d0-3241c0a6203a",
   "metadata": {},
   "source": [
    "## 모듈 만들기"
   ]
  },
  {
   "cell_type": "code",
   "execution_count": 1,
   "id": "b06ce66d-005c-4981-a917-b9c0b2c497be",
   "metadata": {},
   "outputs": [],
   "source": [
    "# def add(a,b):\n",
    "#     return a + b\n",
    "# def sub(a,b):\n",
    "#     return a - b"
   ]
  },
  {
   "cell_type": "code",
   "execution_count": 2,
   "id": "cc12de8c-87f9-41d4-bd4c-768cfa3fbf32",
   "metadata": {},
   "outputs": [
    {
     "name": "stdout",
     "output_type": "stream",
     "text": [
      "5\n",
      "2\n",
      "3\n",
      "1\n"
     ]
    }
   ],
   "source": [
    "import mod1\n",
    "print(mod1.add(1,2))\n",
    "print(mod1.sub(2,1))"
   ]
  },
  {
   "cell_type": "code",
   "execution_count": 3,
   "id": "646ef6ab-c911-4553-a4fa-14a434e66869",
   "metadata": {},
   "outputs": [],
   "source": [
    "with open(\"mod2.py\",\"w\",encoding=\"utf-8\") as f:\n",
    "    data = \"\"\"def mul(a,b):\n",
    "    return a * b\n",
    "def div(a,b):\n",
    "    return a / b\"\"\"\n",
    "    f.write(data)"
   ]
  },
  {
   "cell_type": "code",
   "execution_count": 4,
   "id": "4ee44a47-c92f-46ed-850b-5b309c726cd5",
   "metadata": {},
   "outputs": [
    {
     "name": "stdout",
     "output_type": "stream",
     "text": [
      "12\n",
      "0.75\n"
     ]
    }
   ],
   "source": [
    "import mod2\n",
    "print(mod2.mul(3,4))\n",
    "print(mod2.div(3,4))"
   ]
  },
  {
   "cell_type": "code",
   "execution_count": 5,
   "id": "9e99c702-2a32-460d-ab69-ed23892d99f6",
   "metadata": {},
   "outputs": [
    {
     "name": "stdout",
     "output_type": "stream",
     "text": [
      "3\n",
      "1\n",
      "12\n",
      "0.75\n"
     ]
    }
   ],
   "source": [
    "import mod1, mod2\n",
    "print(mod1.add(1,2))\n",
    "print(mod1.sub(2,1))\n",
    "print(mod2.mul(3,4))\n",
    "print(mod2.div(3,4))"
   ]
  },
  {
   "cell_type": "markdown",
   "id": "b7e12360-9ec8-4fdd-b39a-9b2f8fb52f58",
   "metadata": {},
   "source": [
    "## `__main__` 의 의미"
   ]
  },
  {
   "cell_type": "code",
   "execution_count": 2,
   "id": "e5a231a7-12db-4dfe-90aa-e81422ce64d4",
   "metadata": {},
   "outputs": [],
   "source": [
    "with open(\"mod1.py\", \"a\", encoding=\"utf-8\") as f:\n",
    "    text = \"\"\"\n",
    "\n",
    "print(add(1, 4))\n",
    "print(sub(4,2))\n",
    "\"\"\"\n",
    "    f.write(text)"
   ]
  },
  {
   "cell_type": "code",
   "execution_count": 3,
   "id": "ce373cbe-e956-49eb-8e61-f0e963920a16",
   "metadata": {},
   "outputs": [
    {
     "name": "stdout",
     "output_type": "stream",
     "text": [
      "Microsoft Windows [Version 10.0.26100.3194]\n",
      "(c) Microsoft Corporation. All rights reserved.\n",
      "\n",
      "HS\\jup>python mod1.py\n",
      "���� ����\n",
      "5\n",
      "2\n",
      "\n",
      "D:\\JHS\\jup>"
     ]
    }
   ],
   "source": [
    "%%cmd\n",
    "python mod1.py"
   ]
  },
  {
   "cell_type": "code",
   "execution_count": 4,
   "id": "e288487b-4916-43a5-8fac-32b1d7956243",
   "metadata": {},
   "outputs": [],
   "source": [
    "import mod1"
   ]
  },
  {
   "cell_type": "code",
   "execution_count": 5,
   "id": "91ebcdd5-b3e0-4020-8b95-a15f534eceb8",
   "metadata": {},
   "outputs": [
    {
     "data": {
      "text/plain": [
       "['__builtins__',\n",
       " '__cached__',\n",
       " '__doc__',\n",
       " '__file__',\n",
       " '__loader__',\n",
       " '__name__',\n",
       " '__package__',\n",
       " '__spec__',\n",
       " 'add',\n",
       " 'sub']"
      ]
     },
     "execution_count": 5,
     "metadata": {},
     "output_type": "execute_result"
    }
   ],
   "source": [
    "dir(mod1)"
   ]
  },
  {
   "cell_type": "code",
   "execution_count": 6,
   "id": "771ae1f7-8ee2-4842-a7e6-9ab65ac849e1",
   "metadata": {},
   "outputs": [],
   "source": [
    "with open(\"mod1.py\",\"a\") as f:\n",
    "    content = \"\"\"\n",
    "\n",
    "print(__name__)\n",
    "\n",
    "\"\"\"\n",
    "    f.write(content)"
   ]
  },
  {
   "cell_type": "code",
   "execution_count": 7,
   "id": "d4ee4a6b-c2c9-4341-9940-5321b4c9ec6e",
   "metadata": {},
   "outputs": [],
   "source": [
    "import mod1"
   ]
  },
  {
   "cell_type": "code",
   "execution_count": 8,
   "id": "15b1b1c5-0314-40a0-9ad7-c501cb46b259",
   "metadata": {},
   "outputs": [],
   "source": [
    "with open(\"stock1.py\",\"w\",encoding=\"utf-8\") as f:\n",
    "    data = \"\"\"\n",
    "import requests\n",
    "\n",
    "def findStock():\n",
    "    url = \"https://finance.naver.com/sise/sise_market_sum.naver\"\n",
    "    req = requests.get(url)\n",
    "    \n",
    "    inp = input(\"주식 가격 알려드림 \")\n",
    "    find_text_index = req.text.find(f'class=\"tltle\">{inp}')\n",
    "    \n",
    "    if find_text_index == -1:\n",
    "        print('그런 주식 없음 돌아가')\n",
    "    else:\n",
    "        find_price = req.text[find_text_index + 31:find_text_index + 71]\n",
    "        replace_price = int(find_price.replace('<td class=\"number\">',\"\").replace('</td>',\"\").replace(\"\\\\n\",\"\").replace(\"\t\",\"\").replace(\",\",\"\").replace(\"<\",\"\").replace(\">\",\"\").replace(\"t\",\"\").replace(\"d\",\"\"))\n",
    "        print(f\"{inp}의 가격 : {replace_price:,}원\") \n",
    "\n",
    "if __name__ == \"__main__\":\n",
    "    findStock()\n",
    "    \"\"\"\n",
    "    f.write(data)\n"
   ]
  },
  {
   "cell_type": "code",
   "execution_count": 1,
   "id": "00282c14-f60e-4ddf-b314-e920b22105b7",
   "metadata": {},
   "outputs": [],
   "source": [
    "import stock1"
   ]
  },
  {
   "cell_type": "code",
   "execution_count": 6,
   "id": "e210af46-7e2d-4f5e-8df1-49c2851e0529",
   "metadata": {},
   "outputs": [
    {
     "name": "stdout",
     "output_type": "stream",
     "text": [
      "Microsoft Windows [Version 10.0.26100.3194]\n",
      "(c) Microsoft Corporation. All rights reserved.\n",
      "\n",
      "HS\\jup>python\n",
      "\n",
      "D:\\JHS\\jup>"
     ]
    }
   ],
   "source": []
  },
  {
   "cell_type": "code",
   "execution_count": 13,
   "id": "f621cded-3d8e-4ca8-87c4-d8193f8d782d",
   "metadata": {},
   "outputs": [
    {
     "name": "stdin",
     "output_type": "stream",
     "text": [
      "주식 가격 알려드림 asd\n"
     ]
    },
    {
     "name": "stdout",
     "output_type": "stream",
     "text": [
      "그런 주식 없음 돌아가\n"
     ]
    }
   ],
   "source": []
  },
  {
   "cell_type": "markdown",
   "id": "cab433cd-536b-4d3f-a884-3f3659b598ec",
   "metadata": {},
   "source": [
    "## 클래스나 변수등을 포함한 모듈"
   ]
  },
  {
   "cell_type": "code",
   "execution_count": 1,
   "id": "5977870a-ff01-4eea-90db-d7eb4f9cd976",
   "metadata": {},
   "outputs": [
    {
     "name": "stdout",
     "output_type": "stream",
     "text": [
      "3.141592\n",
      "314.1592\n",
      "7.5415920000000005\n"
     ]
    }
   ],
   "source": [
    "with open(\"mod3.py\",\"w\") as f:\n",
    "    text = \"\"\"\n",
    "PI = 3.141592\n",
    "\n",
    "class Math:\n",
    "    def solv(self, r):\n",
    "        return PI * (r**2)\n",
    "\n",
    "def add(a,b):\n",
    "    return a + b\n",
    "    \n",
    "\"\"\"\n",
    "    f.write(text)\n",
    "\n",
    "import mod3\n",
    "\n",
    "print(mod3.PI)\n",
    "\n",
    "a = mod3.Math()\n",
    "print(a.solv(10))\n",
    "\n",
    "print(mod3.add(mod3.PI,4.4))"
   ]
  },
  {
   "cell_type": "markdown",
   "id": "d60280bc-7f0f-4e9f-8737-79a9ba163e19",
   "metadata": {},
   "source": [
    "## 다른 디렉터리에서 모듈 불러오기"
   ]
  },
  {
   "cell_type": "code",
   "execution_count": null,
   "id": "3ec35204-6083-412a-9ddb-c890a35c4e29",
   "metadata": {},
   "outputs": [],
   "source": [
    "import sys\n",
    "sys.path\n",
    "\n",
    "sys.path.append(\"D:\\\\jhs\\\\jup\\\\mymod\")\n",
    "sys.path"
   ]
  },
  {
   "cell_type": "code",
   "execution_count": 1,
   "id": "9a6229e0-3386-4007-8436-bfb4dda0add7",
   "metadata": {},
   "outputs": [
    {
     "name": "stdout",
     "output_type": "stream",
     "text": [
      "Collecting python-dotenv\n",
      "  Downloading python_dotenv-1.0.1-py3-none-any.whl.metadata (23 kB)\n",
      "Downloading python_dotenv-1.0.1-py3-none-any.whl (19 kB)\n",
      "Installing collected packages: python-dotenv\n",
      "Successfully installed python-dotenv-1.0.1\n"
     ]
    },
    {
     "name": "stderr",
     "output_type": "stream",
     "text": [
      "\n",
      "[notice] A new release of pip is available: 25.0 -> 25.0.1\n",
      "[notice] To update, run: python.exe -m pip install --upgrade pip\n"
     ]
    }
   ],
   "source": [
    "!pip install python-dotenv"
   ]
  },
  {
   "cell_type": "code",
   "execution_count": 1,
   "id": "fc19e2dd-37ab-4b66-9c2e-1992fb78d07a",
   "metadata": {},
   "outputs": [
    {
     "name": "stdout",
     "output_type": "stream",
     "text": [
      "myphone 010-1234-5678\n",
      "https:\\\\www.google.com\n",
      "ㅋㅋ\n"
     ]
    }
   ],
   "source": [
    "from dotenv import load_dotenv\n",
    "import os\n",
    "\n",
    "load_dotenv()\n",
    "\n",
    "SKEY = os.getenv(\"SECRET_KEY\")\n",
    "print(SKEY)\n",
    "DEBUG = os.getenv(\"DEBUG\")\n",
    "print(DEBUG)\n",
    "TEST = os.getenv(\"TEST\")\n",
    "print(TEST)"
   ]
  },
  {
   "cell_type": "code",
   "execution_count": 21,
   "id": "4015c61a-a0f9-4076-82ad-ba6cbb9169f4",
   "metadata": {},
   "outputs": [
    {
     "name": "stdout",
     "output_type": "stream",
     "text": [
      "======================================================================\n",
      "반도체 위기감에 삼성전자 찾은 김동연 총력 지원 약속\n",
      "김동연 경기도지사가 12일 미국 트럼프 행정부의 반도체 관세 부과 예고에 따른 국내 반도체산업계 위기감을 해소하기 위해 삼성전자 삼성전자 평택캠퍼스를 찾아 총력 지원을 약속했다. 김동연 지사는 평택시 고덕동... \n",
      "https://n.news.naver.com/mnews/article/003/0013063390?sid=102\n",
      "======================================================================\n",
      "파두, 삼성전자 출신 김태균 부사장 CBO로 영입\n",
      "그는 삼성전자에서 DS부문 전략기획, 사업분석 리더 등을 역임하며 신사업 전략 수립과 사업 추진 분야에서 풍부한 경험을 쌓아왔다. 반도체 업계에서 쌓은 폭넓은 전략기획 역량과 글로벌 네트워크를 보유한 김태균... \n",
      "https://n.news.naver.com/mnews/article/092/0002363003?sid=105\n",
      "======================================================================\n",
      "삼성전자 찾은 김동연 지원에 최선 다할 것\n",
      "트럼프 행정부가 반도체에도 관세 부과를 예고하면서 국내 반도체산업계의 위기감이 높아지고 있는 가운데 김동연 경기도지사가 삼성전자 평택캠퍼스를 찾아 총력 지원을 약속했다. 지난 12일 오후 삼성전자 평택... \n",
      "https://n.news.naver.com/mnews/article/018/0005942522?sid=100\n",
      "======================================================================\n",
      "파두, 삼성전자 출신 김태균 CBO 영입\n",
      "뉴데일리 윤아름 기자 = 데이터센터 반도체 전문기업 파두가 삼성전자 출신의 김태균 CBO(최고사업개발책임자) 부사장을 영입했다고 13일 밝혔다. 파두는 고객 맞춤형 솔루션 '플렉스(Flex) SSD™' 사업을 본격 추진해... \n",
      "https://biz.newdaily.co.kr/site/data/html/2025/02/13/2025021300189.html\n",
      "======================================================================\n",
      "파두, 삼성전자 출신 김태균 부사장 CBO 영입\n",
      "그는 삼성전자에서 DS부문 전략기획, 사업분석리더 등을 역임하며 신사업 전략 수립과 추진 분야에서 풍부한 경험을 쌓았다. 반도체 관련 폭넓은 전략기획 역량과 글로벌 네트워크를 보유한 김 CBO 합류로 파두의 해외... \n",
      "https://n.news.naver.com/mnews/article/014/0005307651?sid=101\n",
      "======================================================================\n",
      "삼성전자 “쉽지 않네”...‘밸류업의 역설’로 삼성생명이 주식 처분\n",
      "삼성생명과 삼성화재가 삼성전자 지분 약 2800억원을 매각했다. 지난해 삼성전자의 자사주 소각으로 인해 ‘금융산업의 구조개선에 관한 법률’(금산법) 위반 가능성이 생겼기 때문이다. 이에 밸류업(기업 가치 개선)... \n",
      "https://n.news.naver.com/mnews/article/024/0000094908?sid=102\n",
      "======================================================================\n",
      "김동연, 삼성전자 평택공장 찾아 반도체특별법에 비상한 노력\n",
      "김동연 경기도지사는 12일 삼성전자 평택캠퍼스를 찾아 현장 간담회를 갖고 반도체산업에 대한 총력 지원을 약속했다. 이날 방문은 도널드 트럼프 미국 대통령이 철강, 알루미늄에 이어 반도체에 대한 관세 부과를 예고하며... \n",
      "https://n.news.naver.com/mnews/article/001/0015209063?sid=101\n",
      "======================================================================\n",
      "파두, 삼성전자 출신 김태균 부사장 영입…글로벌 영업 강화\n",
      "올해 ‘플렉스 SSD™’로 고객사 공략 공격적 영업조직, 파격 보상제도 마련 파두가 삼성전자 출신의 김태균 부사장을 최고사업개발책임자(CBO)로 영입했다. [파두 제공] [헤럴드경제=김현일 기자] 파두가 삼성전자... \n",
      "https://n.news.naver.com/mnews/article/016/0002428423?sid=105\n",
      "======================================================================\n",
      "파두, 삼성전자 출신 '김태균' 부사장 CBO 영입\n",
      "이투데이=박민웅 기자 | 파두가 삼성전자 출신 김태균 부사장을 최고사업개발책임자(CBO)로 영입했다고 13일 밝혔다. 김 부사장은 30년 이상 반도체 업계 경력을 보유했다. 삼성전자 DS부문 전략기획, 사업분석 리더 등을... \n",
      "https://www.etoday.co.kr/news/view/2444770\n",
      "======================================================================\n",
      "금산법-밸류업 충돌…삼성전자, 자사주 소각 때마다 블록딜 [마켓딥다이...\n",
      "반등에 나섰던 삼성전자가 다시 하락 전환했습니다. 삼성생명과 삼성화재의 블록딜 때문인데요. 최민정 기자가 자세히 짚어봅니다. 2,800억 원의 삼성생명과 삼성화재 블록딜, 시간 외 대량 매매로 삼성전자의 주가도... \n",
      "https://n.news.naver.com/mnews/article/215/0001198266?sid=101\n"
     ]
    }
   ],
   "source": [
    "import os\n",
    "import sys\n",
    "import urllib.request\n",
    "from dotenv import load_dotenv\n",
    "import json\n",
    "\n",
    "load_dotenv()\n",
    "MY_ID = os.getenv(\"MY_ID\")\n",
    "MY_SECRET = os.getenv(\"MY_SECRET\")\n",
    "\n",
    "def news(a):\n",
    "    client_id = MY_ID\n",
    "    client_secret = MY_SECRET\n",
    "    encText = urllib.parse.quote(f\"{a}\")\n",
    "    url = \"https://openapi.naver.com/v1/search/news.json?query=\" + encText+ \"&display=10&start=1&sort=sim\" # JSON 결과\n",
    "    # url = \"https://openapi.naver.com/v1/search/blog.xml?query=\" + encText # XML 결과\n",
    "    request = urllib.request.Request(url)\n",
    "    request.add_header(\"X-Naver-Client-Id\",client_id)\n",
    "    request.add_header(\"X-Naver-Client-Secret\",client_secret)\n",
    "    response = urllib.request.urlopen(request)\n",
    "    rescode = response.getcode()\n",
    "    if(rescode==200):\n",
    "        response_body = response.read()\n",
    "        result = response_body.decode('utf-8')\n",
    "        data = json.loads(result)\n",
    "        real_data = data[\"items\"]\n",
    "        for i in real_data:\n",
    "            print(\"=\" * 70)\n",
    "            print(i[\"title\"].replace(\"<b>\",\"\").replace(\"&quot;\",\"\").replace(\"</b>\",\"\"))\n",
    "            print(i[\"description\"].replace(\"<b>\",\"\").replace(\"</b>\",\"\"))\n",
    "            print(i[\"link\"])\n",
    "    else:\n",
    "        print(\"Error Code:\" + rescode)\n",
    "\n",
    "news(\"삼성전자\")"
   ]
  },
  {
   "cell_type": "code",
   "execution_count": null,
   "id": "db2f0dbd-c313-44d6-99fb-fa07cc236125",
   "metadata": {},
   "outputs": [],
   "source": []
  }
 ],
 "metadata": {
  "kernelspec": {
   "display_name": "Python 3 (ipykernel)",
   "language": "python",
   "name": "python3"
  },
  "language_info": {
   "codemirror_mode": {
    "name": "ipython",
    "version": 3
   },
   "file_extension": ".py",
   "mimetype": "text/x-python",
   "name": "python",
   "nbconvert_exporter": "python",
   "pygments_lexer": "ipython3",
   "version": "3.13.1"
  }
 },
 "nbformat": 4,
 "nbformat_minor": 5
}
