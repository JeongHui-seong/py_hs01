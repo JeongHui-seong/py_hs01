{
 "cells": [
  {
   "cell_type": "code",
   "execution_count": 47,
   "id": "cc7fc587-8fa5-4e66-80e0-666608073d2a",
   "metadata": {},
   "outputs": [],
   "source": [
    "import pandas as pd\n",
    "import numpy as np\n",
    "\n",
    "file_path = 'dataset/titanic.csv'\n",
    "titanic_df = pd.read_csv(file_path) #8번\n",
    "\n",
    "# titanic_df.head() 9번\n",
    "# titanic_df.shape 10번\n",
    "# titanic_df.info() 11번\n",
    "# titanic_df.describe() 12번\n",
    "# titanic_df[['Age','Name']][titanic_df['Age'] > 60].head(3) 13번\n",
    "# titanic_df[['Name','Pclass','Age']][titanic_df['Survived'] == 1].head() 14번\n",
    "\n",
    "# AT = titanic_df[titanic_df['Age'] >= 60] 15번\n",
    "# P1 = AT[AT['Pclass'] == 1] 15번\n",
    "# len(P1[P1['Sex'] == 'female']) 15번\n",
    "\n",
    "# PFS = titanic_df[titanic_df['Sex'] == 'female'].groupby('Pclass').sum() 16번\n",
    "# print(f\"1등급 여성 생존자 {PFS['Survived'].loc[1]}\") 16번\n",
    "# print(f\"2등급 여성 생존자 {PFS['Survived'].loc[2]}\") 16번\n",
    "# print(f\"3등급 여성 생존자 {PFS['Survived'].loc[3]}\") 16번\n",
    "\n",
    "# SIP = titanic_df.set_index('Pclass') 17번\n",
    "# SIP.groupby('Pclass').count() 17번"
   ]
  },
  {
   "cell_type": "code",
   "execution_count": 77,
   "id": "5dc2db92-6578-438a-a1b9-5d3ba4281e39",
   "metadata": {},
   "outputs": [
    {
     "data": {
      "text/plain": [
       "0      3.642857\n",
       "1      3.500000\n",
       "2      3.615385\n",
       "3      3.066667\n",
       "4      3.571429\n",
       "         ...   \n",
       "145    1.288462\n",
       "146    1.260000\n",
       "147    1.250000\n",
       "148    1.148148\n",
       "149    1.156863\n",
       "Length: 150, dtype: float64"
      ]
     },
     "execution_count": 77,
     "metadata": {},
     "output_type": "execute_result"
    }
   ],
   "source": [
    "iris = pd.read_csv('dataset/iris.csv')\n",
    "iris #18번\n",
    "\n",
    "\n",
    "# np.array(set(iris['species'])) 19번\n",
    "# len(set(iris['species'].values)) 20번\n",
    "# iris['species'].value_counts() 21번\n",
    "\n",
    "# SI = iris.sort_values('sepal_length',ascending=False).reset_index() 22번\n",
    "# SI['sepal_length'].head(10) 22번\n",
    "\n",
    "# iris['sepal_length'].iloc[5:20] 23번\n",
    "# iris['sepal_length'] / iris['petal_length'] 24번\n",
    "\n"
   ]
  },
  {
   "cell_type": "code",
   "execution_count": null,
   "id": "0a1b1285-cec8-4904-97e2-c003b16f07d7",
   "metadata": {},
   "outputs": [],
   "source": []
  }
 ],
 "metadata": {
  "kernelspec": {
   "display_name": "Python 3 (ipykernel)",
   "language": "python",
   "name": "python3"
  },
  "language_info": {
   "codemirror_mode": {
    "name": "ipython",
    "version": 3
   },
   "file_extension": ".py",
   "mimetype": "text/x-python",
   "name": "python",
   "nbconvert_exporter": "python",
   "pygments_lexer": "ipython3",
   "version": "3.13.1"
  }
 },
 "nbformat": 4,
 "nbformat_minor": 5
}
