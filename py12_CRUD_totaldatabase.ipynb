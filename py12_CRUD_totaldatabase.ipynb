{
 "cells": [
  {
   "cell_type": "markdown",
   "id": "6ea7906e-ae58-46ac-8b38-58e207f35067",
   "metadata": {},
   "source": [
    "# 개인 과제\n",
    "## 주피터랩에서 데이터를 입력받으면 3가지 DB에 동시에 CRUD가 되는 시스템을 만들어라\n",
    "### input을 이용하여 <이름> 홍길동(엔터), <나이> 33(엔터), <주소> 해운대구 (엔터)\n",
    "### 입력하고, 이름을 고르고 수정하고, 삭제 가능하게 하라 "
   ]
  },
  {
   "cell_type": "code",
   "execution_count": 120,
   "id": "df28153f-f26f-4176-80ef-7ba49efdf594",
   "metadata": {},
   "outputs": [
    {
     "name": "stdout",
     "output_type": "stream",
     "text": [
      "\n",
      "1. 데이터 등록\n",
      "2. 데이터 읽기\n",
      "3. 데이터 수정\n",
      "4. 데이터 삭제\n",
      "5. 종료\n",
      "고르세요.\n",
      "\n"
     ]
    },
    {
     "name": "stdin",
     "output_type": "stream",
     "text": [
      "숫자를 선택하세요 3\n"
     ]
    },
    {
     "name": "stdout",
     "output_type": "stream",
     "text": [
      "\n",
      "        1. ID\n",
      "        2. NAME\n",
      "        3. ADDRESS\n",
      "        4. AGE\n",
      "        \n"
     ]
    },
    {
     "name": "stdin",
     "output_type": "stream",
     "text": [
      "찾으려는 항목의 숫자를 입력하세요. 5\n"
     ]
    },
    {
     "name": "stdout",
     "output_type": "stream",
     "text": [
      "no\n"
     ]
    },
    {
     "name": "stdin",
     "output_type": "stream",
     "text": [
      "찾으려는 항목의 숫자를 입력하세요. 1\n"
     ]
    },
    {
     "ename": "KeyboardInterrupt",
     "evalue": "Interrupted by user",
     "output_type": "error",
     "traceback": [
      "\u001b[0;31m---------------------------------------------------------------------------\u001b[0m",
      "\u001b[0;31mKeyboardInterrupt\u001b[0m                         Traceback (most recent call last)",
      "Cell \u001b[0;32mIn[120], line 45\u001b[0m\n\u001b[1;32m     43\u001b[0m     \u001b[38;5;28mprint\u001b[39m(\u001b[38;5;124m\"\u001b[39m\u001b[38;5;124mno\u001b[39m\u001b[38;5;124m\"\u001b[39m)\n\u001b[1;32m     44\u001b[0m     f_column \u001b[38;5;241m=\u001b[39m \u001b[38;5;28minput\u001b[39m(\u001b[38;5;124m\"\u001b[39m\u001b[38;5;124m찾으려는 항목의 숫자를 입력하세요.\u001b[39m\u001b[38;5;124m\"\u001b[39m)\n\u001b[0;32m---> 45\u001b[0m find_value \u001b[38;5;241m=\u001b[39m \u001b[38;5;28;43minput\u001b[39;49m\u001b[43m(\u001b[49m\u001b[38;5;124;43m\"\u001b[39;49m\u001b[38;5;124;43m찾으려는 값을 입력하세요.\u001b[39;49m\u001b[38;5;124;43m\"\u001b[39;49m\u001b[43m)\u001b[49m\n\u001b[1;32m     46\u001b[0m \u001b[38;5;28mprint\u001b[39m(\u001b[38;5;124m\"\"\"\u001b[39m\n\u001b[1;32m     47\u001b[0m \u001b[38;5;124m1. ID\u001b[39m\n\u001b[1;32m     48\u001b[0m \u001b[38;5;124m2. NAME\u001b[39m\n\u001b[1;32m     49\u001b[0m \u001b[38;5;124m3. ADDRESS\u001b[39m\n\u001b[1;32m     50\u001b[0m \u001b[38;5;124m4. AGE\u001b[39m\n\u001b[1;32m     51\u001b[0m \u001b[38;5;124m\u001b[39m\u001b[38;5;124m\"\"\"\u001b[39m)\n\u001b[1;32m     52\u001b[0m c_column \u001b[38;5;241m=\u001b[39m \u001b[38;5;28minput\u001b[39m(\u001b[38;5;124m\"\u001b[39m\u001b[38;5;124m변경할 항목의 숫자를 입력하세요.\u001b[39m\u001b[38;5;124m\"\u001b[39m)\n",
      "File \u001b[0;32m~/.local/lib/python3.10/site-packages/ipykernel/kernelbase.py:1282\u001b[0m, in \u001b[0;36mKernel.raw_input\u001b[0;34m(self, prompt)\u001b[0m\n\u001b[1;32m   1280\u001b[0m     msg \u001b[38;5;241m=\u001b[39m \u001b[38;5;124m\"\u001b[39m\u001b[38;5;124mraw_input was called, but this frontend does not support input requests.\u001b[39m\u001b[38;5;124m\"\u001b[39m\n\u001b[1;32m   1281\u001b[0m     \u001b[38;5;28;01mraise\u001b[39;00m StdinNotImplementedError(msg)\n\u001b[0;32m-> 1282\u001b[0m \u001b[38;5;28;01mreturn\u001b[39;00m \u001b[38;5;28;43mself\u001b[39;49m\u001b[38;5;241;43m.\u001b[39;49m\u001b[43m_input_request\u001b[49m\u001b[43m(\u001b[49m\n\u001b[1;32m   1283\u001b[0m \u001b[43m    \u001b[49m\u001b[38;5;28;43mstr\u001b[39;49m\u001b[43m(\u001b[49m\u001b[43mprompt\u001b[49m\u001b[43m)\u001b[49m\u001b[43m,\u001b[49m\n\u001b[1;32m   1284\u001b[0m \u001b[43m    \u001b[49m\u001b[38;5;28;43mself\u001b[39;49m\u001b[38;5;241;43m.\u001b[39;49m\u001b[43m_parent_ident\u001b[49m\u001b[43m[\u001b[49m\u001b[38;5;124;43m\"\u001b[39;49m\u001b[38;5;124;43mshell\u001b[39;49m\u001b[38;5;124;43m\"\u001b[39;49m\u001b[43m]\u001b[49m\u001b[43m,\u001b[49m\n\u001b[1;32m   1285\u001b[0m \u001b[43m    \u001b[49m\u001b[38;5;28;43mself\u001b[39;49m\u001b[38;5;241;43m.\u001b[39;49m\u001b[43mget_parent\u001b[49m\u001b[43m(\u001b[49m\u001b[38;5;124;43m\"\u001b[39;49m\u001b[38;5;124;43mshell\u001b[39;49m\u001b[38;5;124;43m\"\u001b[39;49m\u001b[43m)\u001b[49m\u001b[43m,\u001b[49m\n\u001b[1;32m   1286\u001b[0m \u001b[43m    \u001b[49m\u001b[43mpassword\u001b[49m\u001b[38;5;241;43m=\u001b[39;49m\u001b[38;5;28;43;01mFalse\u001b[39;49;00m\u001b[43m,\u001b[49m\n\u001b[1;32m   1287\u001b[0m \u001b[43m\u001b[49m\u001b[43m)\u001b[49m\n",
      "File \u001b[0;32m~/.local/lib/python3.10/site-packages/ipykernel/kernelbase.py:1325\u001b[0m, in \u001b[0;36mKernel._input_request\u001b[0;34m(self, prompt, ident, parent, password)\u001b[0m\n\u001b[1;32m   1322\u001b[0m \u001b[38;5;28;01mexcept\u001b[39;00m \u001b[38;5;167;01mKeyboardInterrupt\u001b[39;00m:\n\u001b[1;32m   1323\u001b[0m     \u001b[38;5;66;03m# re-raise KeyboardInterrupt, to truncate traceback\u001b[39;00m\n\u001b[1;32m   1324\u001b[0m     msg \u001b[38;5;241m=\u001b[39m \u001b[38;5;124m\"\u001b[39m\u001b[38;5;124mInterrupted by user\u001b[39m\u001b[38;5;124m\"\u001b[39m\n\u001b[0;32m-> 1325\u001b[0m     \u001b[38;5;28;01mraise\u001b[39;00m \u001b[38;5;167;01mKeyboardInterrupt\u001b[39;00m(msg) \u001b[38;5;28;01mfrom\u001b[39;00m\u001b[38;5;250m \u001b[39m\u001b[38;5;28;01mNone\u001b[39;00m\n\u001b[1;32m   1326\u001b[0m \u001b[38;5;28;01mexcept\u001b[39;00m \u001b[38;5;167;01mException\u001b[39;00m:\n\u001b[1;32m   1327\u001b[0m     \u001b[38;5;28mself\u001b[39m\u001b[38;5;241m.\u001b[39mlog\u001b[38;5;241m.\u001b[39mwarning(\u001b[38;5;124m\"\u001b[39m\u001b[38;5;124mInvalid Message:\u001b[39m\u001b[38;5;124m\"\u001b[39m, exc_info\u001b[38;5;241m=\u001b[39m\u001b[38;5;28;01mTrue\u001b[39;00m)\n",
      "\u001b[0;31mKeyboardInterrupt\u001b[0m: Interrupted by user"
     ]
    }
   ],
   "source": [
    "str = \"\"\"\n",
    "1. 데이터 등록\n",
    "2. 데이터 읽기\n",
    "3. 데이터 수정\n",
    "4. 데이터 삭제\n",
    "5. 종료\n",
    "고르세요.\n",
    "\"\"\"\n",
    "\n",
    "while True:\n",
    "    print(str)\n",
    "    inp = input(\"숫자를 선택하세요\")\n",
    "    \n",
    "    if inp == '1':\n",
    "        name = input(\"이름을 입력하세요\")\n",
    "        age = input('나이를 입력하세요')\n",
    "        address = input('주소를 입력하세요')\n",
    "        print(f\"입력하신 내용은 이름: {name}, 나이: {age} , 주소: {address}\")\n",
    "        oracle.insert_db(name, int(age), address)\n",
    "        print(\"오라클 등록 완료\")\n",
    "        mysql.insert_db(name, int(age), address)\n",
    "        print(\"MySQL 등록 완료\")\n",
    "        mongodb.insert_db(name, int(age), address)\n",
    "        print(\"MongoDB 등록 완료\")\n",
    "        break\n",
    "    if inp == '2':\n",
    "        oracle.select_db()\n",
    "        print(\"오라클 읽기 완료\")\n",
    "        mysql.select_db()\n",
    "        print(\"MySQL 읽기 완료\")\n",
    "        mongodb.select_db()\n",
    "        print(\"MongoDB 읽기 완료\")\n",
    "        break\n",
    "    if inp == '3':\n",
    "        print(\"\"\"\n",
    "        1. ID\n",
    "        2. NAME\n",
    "        3. ADDRESS\n",
    "        4. AGE\n",
    "        \"\"\")\n",
    "        f_column = input(\"찾으려는 항목의 숫자를 입력하세요.\")\n",
    "        if f_column != 1 or 2 or 3 or 4:\n",
    "            print(\"no\")\n",
    "            f_column = input(\"찾으려는 항목의 숫자를 입력하세요.\")\n",
    "        find_value = input(\"찾으려는 값을 입력하세요.\")\n",
    "        print(\"\"\"\n",
    "        1. ID\n",
    "        2. NAME\n",
    "        3. ADDRESS\n",
    "        4. AGE\n",
    "        \"\"\")\n",
    "        c_column = input(\"변경할 항목의 숫자를 입력하세요.\")\n",
    "        change = input(\"변경할 값을 입력하세요.\")\n",
    "\n",
    "\n",
    "        \n",
    "        oracle.update_db(change, find_value, c_column, f_column)\n",
    "                       # f\"UPDATE PRACTICE0409 SET {c_column} = :change WHERE {f_column} = :find_value\"\n",
    "        print(\"오라클 수정 완료\")\n",
    "        mysql.update_db()\n",
    "        # f\"UPDATE judb.PRACTICE0409 SET {c_column} = %s WHERE {f_column} = %s\"\n",
    "        print(\"MySQL 수정 완료\")\n",
    "        mongodb.update_db()\n",
    "        # collection.update_one({f_column:f_value},{\"$set\":{c_column:c_value}})\n",
    "        print(\"MongoDB 수정 완료\")\n",
    "    if inp == '4':\n",
    "        oracle.delete_db()\n",
    "        print(\"오라클 삭제 완료\")\n",
    "        mysql.delete_db()\n",
    "        print(\"MySQL 삭제 완료\")\n",
    "        mongodb.delete_db()\n",
    "        print(\"MongoDB 삭제 완료\")\n",
    "    if inp == '5':\n",
    "        print(\"종료합니다\")\n",
    "        break"
   ]
  },
  {
   "cell_type": "code",
   "execution_count": 121,
   "id": "a109b950-d175-43ad-b721-f9e864ec9817",
   "metadata": {},
   "outputs": [
    {
     "name": "stdout",
     "output_type": "stream",
     "text": [
      "MySQL 접속 완료\n"
     ]
    }
   ],
   "source": [
    "import mysql.connector\n",
    "\n",
    "class Mysql:\n",
    "    def __init__(self): \n",
    "        try:\n",
    "            self.conn = mysql.connector.connect(\n",
    "                host = \"mysql\",\n",
    "                user = \"root\",\n",
    "                password = \"1234\"\n",
    "            )\n",
    "            \n",
    "            if self.conn.is_connected():\n",
    "                print(\"MySQL 접속 완료\")\n",
    "        except mysql.connector.Error as e:\n",
    "            print(e)\n",
    "        \n",
    "        self.cursor = self.conn.cursor()\n",
    "    \n",
    "    def insert_db(self, name, age, address):\n",
    "        query = \"INSERT INTO judb.PRACTICE0409 (NAME, AGE, ADDRESS) VALUES (%s, %s, %s)\"\n",
    "        values = (name, age, address)\n",
    "        self.cursor.execute(query, values)\n",
    "        self.conn.commit()\n",
    "        # print(\"데이터 삽입 완료\")\n",
    "        \n",
    "    def select_db(self):\n",
    "        query = \"SELECT NAME, AGE, ADDRESS FROM judb.PRACTICE0409\"\n",
    "        self.cursor.execute(query)\n",
    "        result = self.cursor.fetchall()\n",
    "        for r in result:\n",
    "            print(r)\n",
    "            \n",
    "    def update_db(self, change, find_value, c_column, f_column):\n",
    "        try:\n",
    "            query = f\"UPDATE judb.PRACTICE0409 SET {c_column} = %s WHERE {f_column} = %s\"\n",
    "            values = (change, find_value)\n",
    "            self.cursor.execute(query, values)\n",
    "            self.conn.commit()\n",
    "            # print(\"ok\")\n",
    "        except Exception as e:\n",
    "            print(e)\n",
    "        \n",
    "    def delete_db(self, column, value):\n",
    "        try:\n",
    "            query = f\"DELETE FROM judb.PRACTICE0409 WHERE {column} = %s\"\n",
    "            value = (value,)\n",
    "            self.cursor.execute(query, value)\n",
    "            self.conn.commit()\n",
    "        except Exception as e:\n",
    "            print(e)\n",
    "\n",
    "mysql = Mysql()"
   ]
  },
  {
   "cell_type": "code",
   "execution_count": 123,
   "id": "3eb0fd49-7b38-4dfc-a002-54825db5ba3e",
   "metadata": {},
   "outputs": [
    {
     "name": "stdout",
     "output_type": "stream",
     "text": [
      "MongoDB 접속 성공\n"
     ]
    }
   ],
   "source": [
    "from pymongo import MongoClient\n",
    "\n",
    "class MongoDB:\n",
    "    client = MongoClient(\"mongodb://mongodb:27017\")\n",
    "\n",
    "    try:\n",
    "        print('MongoDB 접속 성공')\n",
    "    except Exception as e:\n",
    "        print(e)\n",
    "        \n",
    "    db = client[\"PRACTICE0409\"]\n",
    "    # print(f\"{db} DB 사용\")\n",
    "    \n",
    "    collection = db[\"PRACTICE0409\"]\n",
    "    # print(f\"{collection} 컬렉션 사용\")\n",
    "    def insert_db(name, age, address):\n",
    "        values = {\"NAME\":name, \"AGE\":age, \"ADDRESS\":address}\n",
    "        insert_values = collection.insert_one(values)\n",
    "        # print(\"ok\")\n",
    "    def select_db():\n",
    "        result = collection.find({},{\"_id\":0})\n",
    "        for r in result:\n",
    "            print(r)\n",
    "    def update_db(f_column, f_value, c_column, c_value):\n",
    "        collection.update_one({f_column:f_value},{\"$set\":{c_column:c_value}})\n",
    "    def delete_db(d_column, d_value):\n",
    "        collection.delete_one({d_column:d_value})\n",
    "\n",
    "mongodb = MongoDB"
   ]
  },
  {
   "cell_type": "code",
   "execution_count": 122,
   "id": "022cd424-4d3a-432b-9c2d-d39edc8adfdc",
   "metadata": {},
   "outputs": [
    {
     "name": "stdout",
     "output_type": "stream",
     "text": [
      "Oracle 연결 성공\n"
     ]
    }
   ],
   "source": [
    "import oracledb\n",
    "\n",
    "class Oracle:\n",
    "    def __init__(self):\n",
    "        try:\n",
    "            self.conn = oracledb.connect(\n",
    "                user = 'pknu',\n",
    "                password = '1234',\n",
    "                dsn = 'oracle/XEPDB1'\n",
    "            )\n",
    "            self.cursor = self.conn.cursor()\n",
    "            print(\"Oracle 연결 성공\")\n",
    "        except Exception as e:\n",
    "            print(e)\n",
    "\n",
    "    def insert_db(self, name, age, address):\n",
    "        query = \"INSERT INTO PRACTICE0409 (NAME, AGE, ADDRESS) VALUES (:name, :age, :address)\"\n",
    "        values = (name, age, address)\n",
    "        self.cursor.execute(query, values)\n",
    "        self.conn.commit()\n",
    "        # print(\"데이터 삽입 완료\")\n",
    "        \n",
    "    def select_db(self):\n",
    "        query = \"SELECT NAME, AGE, ADDRESS FROM PRACTICE0409\"\n",
    "        self.cursor.execute(query)\n",
    "        result = self.cursor.fetchall()\n",
    "        for r in result:\n",
    "            print(r)\n",
    "            \n",
    "    def update_db(self, change, find_value, c_column, f_column):\n",
    "        try:\n",
    "            query = f\"UPDATE PRACTICE0409 SET {c_column} = :change WHERE {f_column} = :find_value\"\n",
    "            values = (change, find_value)\n",
    "            self.cursor.execute(query, values)\n",
    "            self.conn.commit()\n",
    "            # print(\"ok\")\n",
    "        except Exception as e:\n",
    "            print(e)\n",
    "            \n",
    "    def delete_db(self, column, value):\n",
    "        try:\n",
    "            query = f\"DELETE FROM PRACTICE0409 WHERE {column} = :value\"\n",
    "            value = (value,)\n",
    "            self.cursor.execute(query, value)\n",
    "            self.conn.commit()\n",
    "        except Exception as e:\n",
    "            print(e)\n",
    "\n",
    "oracle = Oracle()"
   ]
  },
  {
   "cell_type": "code",
   "execution_count": null,
   "id": "619aaa60-31b7-41f0-b627-d45949062509",
   "metadata": {},
   "outputs": [],
   "source": []
  }
 ],
 "metadata": {
  "kernelspec": {
   "display_name": "Python 3 (ipykernel)",
   "language": "python",
   "name": "python3"
  },
  "language_info": {
   "codemirror_mode": {
    "name": "ipython",
    "version": 3
   },
   "file_extension": ".py",
   "mimetype": "text/x-python",
   "name": "python",
   "nbconvert_exporter": "python",
   "pygments_lexer": "ipython3",
   "version": "3.13.1"
  }
 },
 "nbformat": 4,
 "nbformat_minor": 5
}
