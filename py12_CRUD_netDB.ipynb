{
 "cells": [
  {
   "cell_type": "code",
   "execution_count": 33,
   "id": "66b1c788-ce64-4f81-a0e4-b0bfc5a8c4ac",
   "metadata": {},
   "outputs": [
    {
     "name": "stdout",
     "output_type": "stream",
     "text": [
      "MySQL 접속 완료\n"
     ]
    }
   ],
   "source": [
    "import mysql.connector\n",
    "\n",
    "try:\n",
    "    conn1 = mysql.connector.connect(\n",
    "        host = \"mysql\",\n",
    "        user = \"root\",\n",
    "        password = \"1234\"\n",
    "    )\n",
    "    conn2 = mysql.connector.connect(\n",
    "        host = \"210.119.14.68\", # 보성\n",
    "        user = \"root\",\n",
    "        password = \"1234\"\n",
    "    )\n",
    "    conn3 = mysql.connector.connect(\n",
    "        host = \"210.119.14.64\", # 성훈\n",
    "        user = \"root\",\n",
    "        password = \"1234\"\n",
    "    )\n",
    "    \n",
    "    if conn1.is_connected() and conn2.is_connected() and conn3.is_connected():\n",
    "        print(\"MySQL 접속 완료\")\n",
    "        \n",
    "except mysql.connector.Error as e:\n",
    "    print(\"MySQL 접속 실패\", e)"
   ]
  },
  {
   "cell_type": "code",
   "execution_count": 34,
   "id": "83294461-0d69-4318-8eb5-e887934927b5",
   "metadata": {},
   "outputs": [
    {
     "name": "stdout",
     "output_type": "stream",
     "text": [
      "MySQL 연결 성공\n"
     ]
    }
   ],
   "source": [
    "query = \"CREATE DATABASE IF NOT EXISTS jhszz\"\n",
    "cursor1 = conn1.cursor()\n",
    "cursor2 = conn2.cursor()\n",
    "cursor3 = conn3.cursor()\n",
    "cursor1.execute(query)\n",
    "cursor2.execute(query)\n",
    "cursor3.execute(query)\n",
    "conn1.close()\n",
    "conn2.close()\n",
    "conn3.close()\n",
    "print(\"MySQL 연결 성공\")"
   ]
  },
  {
   "cell_type": "code",
   "execution_count": 36,
   "id": "1ab56a82-3647-4536-9fe2-ec9e700ca838",
   "metadata": {},
   "outputs": [],
   "source": [
    "conn1 = mysql.connector.connect(\n",
    "        host = \"mysql\",\n",
    "        user = \"root\",\n",
    "        password = \"1234\",\n",
    "        database = \"jhszz\"\n",
    "    )\n",
    "conn2 = mysql.connector.connect(\n",
    "        host = \"210.119.14.68\", # 보성\n",
    "        user = \"root\",\n",
    "        password = \"1234\",\n",
    "        database = \"jhszz\"\n",
    "    )\n",
    "conn3 = mysql.connector.connect(\n",
    "        host = \"210.119.14.64\", # 성훈\n",
    "        user = \"root\",\n",
    "        password = \"1234\",\n",
    "        database = \"jhszz\"\n",
    "    )\n",
    "\n",
    "query = \"CREATE TABLE IF NOT EXISTS RALO(ID int auto_increment primary key, comment varchar(500))\"\n",
    "cursor1 = conn1.cursor()\n",
    "cursor2 = conn2.cursor()\n",
    "cursor3 = conn3.cursor()\n",
    "cursor1.execute(query)\n",
    "cursor2.execute(query)\n",
    "cursor3.execute(query)"
   ]
  },
  {
   "cell_type": "code",
   "execution_count": 43,
   "id": "bfce4b14-6cab-476e-a5cb-014972dd9ea5",
   "metadata": {},
   "outputs": [],
   "source": [
    "query = \"INSERT INTO RALO(comment) VALUES (%s)\"\n",
    "values = [('베인아아아',),('너 가능성 있어, 열심히 해',)]\n",
    "cursor1.executemany(query,values)\n",
    "cursor2.executemany(query,values)\n",
    "cursor3.executemany(query,values)\n",
    "conn1.commit()\n",
    "conn2.commit()\n",
    "conn3.commit()"
   ]
  }
 ],
 "metadata": {
  "kernelspec": {
   "display_name": "Python 3 (ipykernel)",
   "language": "python",
   "name": "python3"
  },
  "language_info": {
   "codemirror_mode": {
    "name": "ipython",
    "version": 3
   },
   "file_extension": ".py",
   "mimetype": "text/x-python",
   "name": "python",
   "nbconvert_exporter": "python",
   "pygments_lexer": "ipython3",
   "version": "3.13.1"
  }
 },
 "nbformat": 4,
 "nbformat_minor": 5
}
