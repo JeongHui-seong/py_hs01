{
 "cells": [
  {
   "cell_type": "code",
   "execution_count": 1,
   "id": "f53a5412-4e1c-4d4c-806f-49bef75d0239",
   "metadata": {},
   "outputs": [
    {
     "name": "stdout",
     "output_type": "stream",
     "text": [
      "Defaulting to user installation because normal site-packages is not writeable\n",
      "Collecting pymongo\n",
      "  Downloading pymongo-4.12.0-cp310-cp310-manylinux_2_17_x86_64.manylinux2014_x86_64.whl.metadata (22 kB)\n",
      "Collecting dnspython<3.0.0,>=1.16.0 (from pymongo)\n",
      "  Downloading dnspython-2.7.0-py3-none-any.whl.metadata (5.8 kB)\n",
      "Downloading pymongo-4.12.0-cp310-cp310-manylinux_2_17_x86_64.manylinux2014_x86_64.whl (1.2 MB)\n",
      "\u001b[2K   \u001b[90m━━━━━━━━━━━━━━━━━━━━━━━━━━━━━━━━━━━━━━━━\u001b[0m \u001b[32m1.2/1.2 MB\u001b[0m \u001b[31m20.9 MB/s\u001b[0m eta \u001b[36m0:00:00\u001b[0m\n",
      "\u001b[?25hDownloading dnspython-2.7.0-py3-none-any.whl (313 kB)\n",
      "Installing collected packages: dnspython, pymongo\n",
      "Successfully installed dnspython-2.7.0 pymongo-4.12.0\n"
     ]
    }
   ],
   "source": [
    "!pip install pymongo"
   ]
  },
  {
   "cell_type": "code",
   "execution_count": 8,
   "id": "dbff8724-a768-47b5-b962-492bfd8ce566",
   "metadata": {},
   "outputs": [
    {
     "name": "stdout",
     "output_type": "stream",
     "text": [
      "{'ok': 1.0}\n",
      "MongoDB 접속 성공\n"
     ]
    }
   ],
   "source": [
    "from pymongo import MongoClient\n",
    "client = MongoClient(\"mongodb://mongodb:27017\")\n",
    "\n",
    "try:\n",
    "    print(client.admin.command('ping'))\n",
    "    print('MongoDB 접속 성공')\n",
    "except Exception as e:\n",
    "    print('MongoDB 접속 실패')"
   ]
  },
  {
   "cell_type": "code",
   "execution_count": 10,
   "id": "45d994fc-da66-475e-9a4d-a05b2bb1b1f8",
   "metadata": {},
   "outputs": [
    {
     "name": "stdout",
     "output_type": "stream",
     "text": [
      "Database(MongoClient(host=['mongodb:27017'], document_class=dict, tz_aware=False, connect=True), 'mdb') DB 사용\n",
      "Collection(Database(MongoClient(host=['mongodb:27017'], document_class=dict, tz_aware=False, connect=True), 'mdb'), 'c1') 컬렉션 사용\n"
     ]
    }
   ],
   "source": [
    "db = client[\"mdb\"]\n",
    "print(f\"{db} DB 사용\")\n",
    "\n",
    "collection = db[\"c1\"]\n",
    "print(f\"{collection} 컬렉션 사용\")"
   ]
  },
  {
   "cell_type": "code",
   "execution_count": 15,
   "id": "1d4f145f-122e-4d61-9f9d-d63aec954141",
   "metadata": {},
   "outputs": [
    {
     "name": "stdout",
     "output_type": "stream",
     "text": [
      "Inserted ID:  67f5def63a91af8538ba30ec\n"
     ]
    }
   ],
   "source": [
    "user = {\"name\":\"Alice\", \"age\":25, \"city\":\"Seoul\"}\n",
    "insert_result = collection.insert_one(user)\n",
    "print(\"Inserted ID: \", insert_result.inserted_id)"
   ]
  },
  {
   "cell_type": "code",
   "execution_count": 18,
   "id": "95468cdd-7caa-4571-b502-3234604765ed",
   "metadata": {},
   "outputs": [
    {
     "name": "stdout",
     "output_type": "stream",
     "text": [
      "Inserted IDs:  InsertOneResult(ObjectId('67f5def63a91af8538ba30ec'), acknowledged=True)\n"
     ]
    }
   ],
   "source": [
    "user = [{\"name\":\"Apple\", \"age\":15, \"city\":\"Daegu\"},\n",
    "        {\"name\":\"Bob\", \"age\":30, \"city\":\"Busan\"},\n",
    "        {\"name\":\"Char\", \"age\":35, \"city\":\"Incheon\"}]\n",
    "insert_results = collection.insert_many(user)\n",
    "print(\"Inserted IDs: \", insert_result)"
   ]
  },
  {
   "cell_type": "code",
   "execution_count": 42,
   "id": "72a366b7-cce5-46db-b829-1fdea1b4e050",
   "metadata": {},
   "outputs": [
    {
     "name": "stdout",
     "output_type": "stream",
     "text": [
      "{'name': 'SuperMan', 'etc': '힘쎔'}\n",
      "{'name': 'cutegirl', 'age': 22, 'gender': '여자'}\n",
      "{'name': 'Bob', 'age': 30, 'city': 'Busan'}\n",
      "{'name': 'Char', 'age': 35, 'city': 'Incheon'}\n"
     ]
    }
   ],
   "source": [
    "users = collection.find({},{\"_id\":0})\n",
    "for user in users:\n",
    "    print(user)"
   ]
  },
  {
   "cell_type": "code",
   "execution_count": 25,
   "id": "452cba77-bfb6-49d2-9bca-57f49801bbcf",
   "metadata": {},
   "outputs": [
    {
     "name": "stdout",
     "output_type": "stream",
     "text": [
      "{'_id': ObjectId('67f5df913a91af8538ba30ed'), 'name': 'Apple', 'age': 15, 'city': 'Daegu'}\n"
     ]
    }
   ],
   "source": [
    "user = collection.find_one({\"name\":\"Apple\"})\n",
    "print(user)"
   ]
  },
  {
   "cell_type": "code",
   "execution_count": 35,
   "id": "49284235-7871-4c2e-a3b6-a4b13a395725",
   "metadata": {},
   "outputs": [
    {
     "name": "stdout",
     "output_type": "stream",
     "text": [
      "{'name': 'cutegirl', 'age': 22, 'gender': '여자'}\n",
      "{'name': 'Alice', 'age': 26, 'city': 'Seoul'}\n",
      "{'name': 'Bob', 'age': 30, 'city': 'Busan'}\n",
      "{'name': 'Char', 'age': 35, 'city': 'Incheon'}\n"
     ]
    }
   ],
   "source": [
    "filters = {\"age\":{\"$gt\":20}}\n",
    "filtered = collection.find(filters, {\"_id\":0})\n",
    "for f in filtered:\n",
    "    print(f)"
   ]
  },
  {
   "cell_type": "code",
   "execution_count": 34,
   "id": "6a4ef621-9bbc-44cc-9349-d8791f871104",
   "metadata": {},
   "outputs": [
    {
     "name": "stdout",
     "output_type": "stream",
     "text": [
      "수정:  UpdateResult({'n': 1, 'nModified': 1, 'ok': 1.0, 'updatedExisting': True}, acknowledged=True)\n"
     ]
    }
   ],
   "source": [
    "update = collection.update_one({\"name\":\"Alice\"},{\"$set\":{\"age\":26}})\n",
    "print(\"수정: \", update)"
   ]
  },
  {
   "cell_type": "code",
   "execution_count": 38,
   "id": "cb9b905d-c401-402d-924f-eefb49fbc072",
   "metadata": {},
   "outputs": [
    {
     "name": "stdout",
     "output_type": "stream",
     "text": [
      "수정:  UpdateResult({'n': 2, 'nModified': 2, 'ok': 1.0, 'updatedExisting': True}, acknowledged=True)\n"
     ]
    }
   ],
   "source": [
    "updates = collection.update_many({\"name\":{\"$regex\":\"^A\"}},{\"$inc\":{\"age\":5}})\n",
    "print(\"수정: \", updates)"
   ]
  },
  {
   "cell_type": "code",
   "execution_count": 39,
   "id": "912420ce-e75f-42a4-9730-7af15929b302",
   "metadata": {},
   "outputs": [
    {
     "name": "stdout",
     "output_type": "stream",
     "text": [
      "DeleteResult({'n': 1, 'ok': 1.0}, acknowledged=True)\n"
     ]
    }
   ],
   "source": [
    "delete = collection.delete_one({\"etc\":\"잘생김\"})\n",
    "print(delete)"
   ]
  },
  {
   "cell_type": "code",
   "execution_count": 41,
   "id": "c255d553-c8d7-4e06-b878-bf835b596fe9",
   "metadata": {},
   "outputs": [
    {
     "name": "stdout",
     "output_type": "stream",
     "text": [
      "DeleteResult({'n': 3, 'ok': 1.0}, acknowledged=True)\n"
     ]
    }
   ],
   "source": [
    "deletes = collection.delete_many({\"name\":{\"$regex\":\"e$\"}})\n",
    "print(deletes)"
   ]
  },
  {
   "cell_type": "code",
   "execution_count": 45,
   "id": "502e4270-4373-49b0-9b98-f94f63dba9cf",
   "metadata": {},
   "outputs": [],
   "source": [
    "import json\n",
    "\n",
    "with open('./photos.json') as f:\n",
    "    data = json.load(f)"
   ]
  },
  {
   "cell_type": "code",
   "execution_count": 46,
   "id": "77b37a0b-1694-4382-afec-bbe685d4d39d",
   "metadata": {},
   "outputs": [
    {
     "name": "stdout",
     "output_type": "stream",
     "text": [
      "Database(MongoClient(host=['mongodb:27017'], document_class=dict, tz_aware=False, connect=True), 'jdb') DB 사용\n",
      "Collection(Database(MongoClient(host=['mongodb:27017'], document_class=dict, tz_aware=False, connect=True), 'jdb'), 'j1') 컬렉션 사용\n"
     ]
    }
   ],
   "source": [
    "db2 = client[\"jdb\"]\n",
    "print(f\"{db} DB 사용\")\n",
    "\n",
    "collection2 = db[\"j1\"]\n",
    "print(f\"{collection} 컬렉션 사용\")"
   ]
  },
  {
   "cell_type": "code",
   "execution_count": 47,
   "id": "ef18772b-50d7-420d-a576-e60ad9d092a4",
   "metadata": {},
   "outputs": [
    {
     "name": "stdout",
     "output_type": "stream",
     "text": [
      "로드완료\n"
     ]
    }
   ],
   "source": [
    "collection2.insert_many(data)\n",
    "print('로드완료')"
   ]
  },
  {
   "cell_type": "code",
   "execution_count": 63,
   "id": "33a47175-c6b6-47cd-81e0-303867856779",
   "metadata": {},
   "outputs": [
    {
     "name": "stdout",
     "output_type": "stream",
     "text": [
      "https://via.placeholder.com/600/92c952\n",
      "https://via.placeholder.com/600/771796\n",
      "https://via.placeholder.com/600/24f355\n",
      "https://via.placeholder.com/600/d32776\n",
      "https://via.placeholder.com/600/f66b97\n",
      "https://via.placeholder.com/600/56a8c2\n",
      "https://via.placeholder.com/600/b0f7cc\n",
      "https://via.placeholder.com/600/54176f\n",
      "https://via.placeholder.com/600/51aa97\n",
      "https://via.placeholder.com/600/810b14\n",
      "https://via.placeholder.com/600/1ee8a4\n",
      "https://via.placeholder.com/600/66b7d2\n",
      "https://via.placeholder.com/600/197d29\n",
      "https://via.placeholder.com/600/61a65\n",
      "https://via.placeholder.com/600/f9cee5\n",
      "https://via.placeholder.com/600/fdf73e\n",
      "https://via.placeholder.com/600/9c184f\n",
      "https://via.placeholder.com/600/1fe46f\n",
      "https://via.placeholder.com/600/56acb2\n",
      "https://via.placeholder.com/600/8985dc\n",
      "https://via.placeholder.com/600/5e12c6\n",
      "https://via.placeholder.com/600/45601a\n",
      "https://via.placeholder.com/600/e924e6\n",
      "https://via.placeholder.com/600/8f209a\n",
      "https://via.placeholder.com/600/5e3a73\n",
      "https://via.placeholder.com/600/474645\n",
      "https://via.placeholder.com/600/c984bf\n",
      "https://via.placeholder.com/600/392537\n",
      "https://via.placeholder.com/600/602b9e\n",
      "https://via.placeholder.com/600/372c93\n"
     ]
    }
   ],
   "source": [
    "result_j = collection.find({\"id\":{\"$lte\":30}})\n",
    "for j in result_j:\n",
    "    print(j['url'])"
   ]
  }
 ],
 "metadata": {
  "kernelspec": {
   "display_name": "Python 3 (ipykernel)",
   "language": "python",
   "name": "python3"
  },
  "language_info": {
   "codemirror_mode": {
    "name": "ipython",
    "version": 3
   },
   "file_extension": ".py",
   "mimetype": "text/x-python",
   "name": "python",
   "nbconvert_exporter": "python",
   "pygments_lexer": "ipython3",
   "version": "3.13.1"
  }
 },
 "nbformat": 4,
 "nbformat_minor": 5
}
