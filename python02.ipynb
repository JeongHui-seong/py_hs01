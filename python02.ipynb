{
 "cells": [
  {
   "cell_type": "markdown",
   "id": "f47f3513-05db-4f5d-9819-206caf4fb8d9",
   "metadata": {},
   "source": [
    "# 자료형"
   ]
  },
  {
   "cell_type": "markdown",
   "id": "3ddf7f12-1bcf-43ef-a36b-2bc8504a5a40",
   "metadata": {},
   "source": [
    "## 리스트 자료형"
   ]
  },
  {
   "cell_type": "markdown",
   "id": "13257727-d99b-4345-a1fd-c55f0c6bd037",
   "metadata": {},
   "source": [
    "### 리스트의 인덱싱과 슬라이싱"
   ]
  },
  {
   "cell_type": "code",
   "execution_count": 4,
   "id": "a3b78620-588b-4ff6-a5fb-d7a63621a404",
   "metadata": {},
   "outputs": [],
   "source": [
    "odd = [1,3,5,7,9]\n",
    "\n",
    "a = []\n",
    "b = [1,2,3]\n",
    "c = ['Life', 'is', 'too', 'short']\n",
    "d = [1, 2, 'Life', 'is']\n",
    "e = [1, 2, ['Life', 'is']]"
   ]
  },
  {
   "cell_type": "code",
   "execution_count": 5,
   "id": "b12700a9-811d-4746-9bb0-610c707d425b",
   "metadata": {},
   "outputs": [
    {
     "data": {
      "text/plain": [
       "5"
      ]
     },
     "execution_count": 5,
     "metadata": {},
     "output_type": "execute_result"
    }
   ],
   "source": [
    "b[1] + b[2]"
   ]
  },
  {
   "cell_type": "code",
   "execution_count": 6,
   "id": "55f3d3e8-5da2-4f6b-91c3-f7ae14b511e8",
   "metadata": {},
   "outputs": [
    {
     "name": "stdout",
     "output_type": "stream",
     "text": [
      "Lifeshort\n"
     ]
    }
   ],
   "source": [
    "print(c[0] + c[3])"
   ]
  },
  {
   "cell_type": "code",
   "execution_count": 7,
   "id": "c886d683-6ba4-41c2-84c0-4611e9870b94",
   "metadata": {},
   "outputs": [
    {
     "name": "stdout",
     "output_type": "stream",
     "text": [
      "LifeLifeLife\n"
     ]
    }
   ],
   "source": [
    "print(c[0] * b[2])"
   ]
  },
  {
   "cell_type": "code",
   "execution_count": 8,
   "id": "ca02ac05-82b8-475f-b404-66ff2cdd9357",
   "metadata": {},
   "outputs": [
    {
     "name": "stdout",
     "output_type": "stream",
     "text": [
      "[2, 3]\n"
     ]
    }
   ],
   "source": [
    "a = [1,2,3,4,5]\n",
    "result = a[1:3]\n",
    "print(result)"
   ]
  },
  {
   "cell_type": "code",
   "execution_count": 9,
   "id": "40e168ce-56bf-4032-9996-66d27dd1911b",
   "metadata": {},
   "outputs": [
    {
     "name": "stdout",
     "output_type": "stream",
     "text": [
      "[11, 22, 33, 44, 55]\n",
      "[33, 44, 55]\n",
      "[11, 22]\n",
      "[44, 55]\n",
      "[55, 44, 33, 22, 11]\n",
      "[11, 33, 55]\n"
     ]
    }
   ],
   "source": [
    "a = [11,22,33,44,55]\n",
    "print(a[:])\n",
    "print(a[2:])\n",
    "print(a[:-3])\n",
    "print(a[-2:])\n",
    "print(a[::-1])\n",
    "print(a[::2])"
   ]
  },
  {
   "cell_type": "markdown",
   "id": "57d40531-d79f-4524-a4de-2599cb946072",
   "metadata": {},
   "source": [
    "### 리스트 연산하기"
   ]
  },
  {
   "cell_type": "code",
   "execution_count": 13,
   "id": "70b87739-302a-4859-bbc7-fc1e50882883",
   "metadata": {},
   "outputs": [
    {
     "name": "stdout",
     "output_type": "stream",
     "text": [
      "[11, 22, 33, 44, 55, 66]\n",
      "[11, 22, 33, 11, 22, 33, 11, 22, 33]\n",
      "9\n"
     ]
    }
   ],
   "source": [
    "a = [11,22,33]\n",
    "b = [44,55,66]\n",
    "c = a * 3\n",
    "\n",
    "print(a+b)\n",
    "print(c)\n",
    "print(len(c))\n"
   ]
  },
  {
   "cell_type": "code",
   "execution_count": 14,
   "id": "345a5180-de05-4667-a414-f34a42bae481",
   "metadata": {},
   "outputs": [
    {
     "name": "stdout",
     "output_type": "stream",
     "text": [
      "[11, 22, 44]\n"
     ]
    }
   ],
   "source": [
    "a = [11,22,33]\n",
    "a[2] = 44\n",
    "print(a)"
   ]
  },
  {
   "cell_type": "code",
   "execution_count": 15,
   "id": "a5daf7c8-900f-4821-8e84-f669a411599f",
   "metadata": {},
   "outputs": [
    {
     "name": "stdout",
     "output_type": "stream",
     "text": [
      "[11, 44]\n"
     ]
    }
   ],
   "source": [
    "del a[1]\n",
    "\n",
    "print(a)"
   ]
  },
  {
   "cell_type": "code",
   "execution_count": 16,
   "id": "bf7a5785-6fea-4303-a48c-9e1eac3e39f4",
   "metadata": {},
   "outputs": [
    {
     "data": {
      "text/plain": [
       "[11, 22, 33, 11, 22, 33, 11, 22, 33]"
      ]
     },
     "execution_count": 16,
     "metadata": {},
     "output_type": "execute_result"
    }
   ],
   "source": [
    "c"
   ]
  },
  {
   "cell_type": "code",
   "execution_count": 17,
   "id": "69ee4606-f2d8-4272-bac8-3a97e660f2ce",
   "metadata": {},
   "outputs": [],
   "source": [
    "del c[:-2]"
   ]
  },
  {
   "cell_type": "code",
   "execution_count": 18,
   "id": "e2dacc8a-29c1-448b-b60d-633174db4740",
   "metadata": {},
   "outputs": [
    {
     "data": {
      "text/plain": [
       "[22, 33]"
      ]
     },
     "execution_count": 18,
     "metadata": {},
     "output_type": "execute_result"
    }
   ],
   "source": [
    "c"
   ]
  },
  {
   "cell_type": "markdown",
   "id": "18254f71-630f-4d03-8a50-bc21a039797f",
   "metadata": {},
   "source": [
    "### 리스트 관련 함수"
   ]
  },
  {
   "cell_type": "code",
   "execution_count": 19,
   "id": "ae598951-e591-491f-b7ab-904361e29577",
   "metadata": {},
   "outputs": [],
   "source": [
    "c.clear()"
   ]
  },
  {
   "cell_type": "code",
   "execution_count": 20,
   "id": "179661e9-b9df-4dce-813d-829d0322229e",
   "metadata": {},
   "outputs": [
    {
     "name": "stdout",
     "output_type": "stream",
     "text": [
      "[]\n"
     ]
    }
   ],
   "source": [
    "print(c)"
   ]
  },
  {
   "cell_type": "code",
   "execution_count": 26,
   "id": "db9a97bd-baf8-4f73-8999-0a18ab6bd00b",
   "metadata": {},
   "outputs": [],
   "source": [
    "a = []"
   ]
  },
  {
   "cell_type": "code",
   "execution_count": 27,
   "id": "cc5b46e4-41bb-472e-bf87-f81044a57d8a",
   "metadata": {},
   "outputs": [
    {
     "name": "stdout",
     "output_type": "stream",
     "text": [
      "[4]\n",
      "[4, [1, 2, 3]]\n"
     ]
    }
   ],
   "source": [
    "a.append(4)\n",
    "print(a)\n",
    "\n",
    "a.append([1,2,3])\n",
    "print(a)"
   ]
  },
  {
   "cell_type": "code",
   "execution_count": 32,
   "id": "87ec7b90-dac0-4290-b0ed-df1ba8fceabc",
   "metadata": {},
   "outputs": [],
   "source": [
    "b = []\n",
    "num = 0"
   ]
  },
  {
   "cell_type": "code",
   "execution_count": 35,
   "id": "aa9ca933-b63b-49e9-8ddf-099fa0128f92",
   "metadata": {},
   "outputs": [
    {
     "name": "stdout",
     "output_type": "stream",
     "text": [
      "[1, 2, 3]\n"
     ]
    }
   ],
   "source": [
    "num += 1\n",
    "b.append(num)\n",
    "print(b)"
   ]
  },
  {
   "cell_type": "code",
   "execution_count": 38,
   "id": "9be922ae-9a93-4fdb-86b7-c171b62c5320",
   "metadata": {},
   "outputs": [
    {
     "name": "stdout",
     "output_type": "stream",
     "text": [
      "[1, 2, 3, 0, 1, 2, 3, 4, 5, 6, 7, 8, 9, 0, 1, 2, 3, 4, 5, 6, 7, 8, 9]\n"
     ]
    }
   ],
   "source": [
    "for i in range(10):\n",
    "    b.append(i)\n",
    "print(b)"
   ]
  },
  {
   "cell_type": "code",
   "execution_count": 40,
   "id": "9d5677eb-d3ad-4a3f-82df-d2fd0e4d955f",
   "metadata": {},
   "outputs": [
    {
     "name": "stdout",
     "output_type": "stream",
     "text": [
      "[11, 22, 33, 44, 55]\n",
      "[55, 44, 33, 22, 11]\n"
     ]
    }
   ],
   "source": [
    "a = [11,33,44,22,55]\n",
    "a.sort()\n",
    "print(a)\n",
    "\n",
    "a.reverse()\n",
    "print(a)"
   ]
  },
  {
   "cell_type": "code",
   "execution_count": 42,
   "id": "1f322a8a-af6f-4f43-bda6-1d3a387586cf",
   "metadata": {},
   "outputs": [
    {
     "name": "stdout",
     "output_type": "stream",
     "text": [
      "[11, 33, 44, 22, 55]\n",
      "[55, 44, 33, 22, 11]\n"
     ]
    }
   ],
   "source": [
    "a = [11,33,44,22,55]\n",
    "print(a)\n",
    "a.sort(reverse = True)\n",
    "print(a)"
   ]
  },
  {
   "cell_type": "code",
   "execution_count": 44,
   "id": "6ae7a5a1-5986-4f2f-afbd-538e7bd5e243",
   "metadata": {},
   "outputs": [
    {
     "name": "stdout",
     "output_type": "stream",
     "text": [
      "[66, 77, 88, 99, 0]\n",
      "[0, 66, 77, 88, 99]\n",
      "[99, 88, 77, 66, 0]\n"
     ]
    }
   ],
   "source": [
    "aa = [66, 77, 88, 99, 0]\n",
    "bb = sorted(aa)\n",
    "cc = sorted(aa,reverse = True)\n",
    "print(aa)\n",
    "print(bb)\n",
    "print(cc)"
   ]
  },
  {
   "cell_type": "code",
   "execution_count": 47,
   "id": "a0d51127-5b85-4222-9656-2b55cf914376",
   "metadata": {},
   "outputs": [
    {
     "name": "stdout",
     "output_type": "stream",
     "text": [
      "['banana', 'kiwi', 'orange', 'melon', 'pear', 'apple', 'strawberry', 'blueberry']\n",
      "['kiwi', 'pear', 'melon', 'apple', 'banana', 'orange', 'blueberry', 'strawberry']\n",
      "['strawberry', 'pear', 'orange', 'melon', 'kiwi', 'blueberry', 'banana', 'apple']\n"
     ]
    }
   ],
   "source": [
    "fruit = ['banana', 'kiwi', 'orange', 'melon', 'pear', 'apple', 'strawberry', 'blueberry']\n",
    "result = sorted(fruit, key = len)\n",
    "result2 = sorted(fruit, reverse = True)\n",
    "print(fruit)\n",
    "print(result)\n",
    "print(result2)"
   ]
  },
  {
   "cell_type": "code",
   "execution_count": 48,
   "id": "a8f63e44-5251-4d8d-b8c2-ae9f23cc6886",
   "metadata": {},
   "outputs": [
    {
     "name": "stdout",
     "output_type": "stream",
     "text": [
      "1\n"
     ]
    }
   ],
   "source": [
    "print(fruit.index('kiwi'))"
   ]
  },
  {
   "cell_type": "code",
   "execution_count": 49,
   "id": "b28e90da-ad2b-4401-9701-7c3288d817ee",
   "metadata": {},
   "outputs": [
    {
     "name": "stdin",
     "output_type": "stream",
     "text": [
      "무슨 과일 먹고 싶음 ㅁㄴㅇ\n"
     ]
    }
   ],
   "source": [
    "질문 = input('무슨 과일 먹고 싶음')\n",
    "\n",
    "inp = []\n",
    "inp.append(질문)"
   ]
  },
  {
   "cell_type": "code",
   "execution_count": 50,
   "id": "ec3428cb-082d-4e37-8fb8-dd3dc0e6fb48",
   "metadata": {},
   "outputs": [
    {
     "name": "stdout",
     "output_type": "stream",
     "text": [
      "['ㅁㄴㅇ']\n"
     ]
    }
   ],
   "source": [
    "print(inp)"
   ]
  },
  {
   "cell_type": "code",
   "execution_count": 54,
   "id": "ddd4cfa9-9d58-46b3-bdf3-f7c3fc2c0f1a",
   "metadata": {},
   "outputs": [
    {
     "name": "stdin",
     "output_type": "stream",
     "text": [
      "무슨 과일 찾음 영어로 치셈 아니면 큰일남 melon\n"
     ]
    },
    {
     "name": "stdout",
     "output_type": "stream",
     "text": [
      "4번 쪽에 있음 찾아가보셈\n"
     ]
    }
   ],
   "source": [
    "fruit = ['banana', 'kiwi', 'orange', 'melon', 'pear', 'apple', 'strawberry', 'blueberry']\n",
    "\n",
    "뭐찾음 = input('무슨 과일 찾음 영어로 치셈 아니면 큰일남')\n",
    "if 뭐찾음 in fruit:\n",
    "    print(f\"{fruit.index(뭐찾음) + 1}번 쪽에 있음 찾아가보셈\")\n",
    "else:\n",
    "    print('그런거 없음 ㅂㅂ')"
   ]
  },
  {
   "cell_type": "code",
   "execution_count": 56,
   "id": "a8b91520-4e15-4150-b523-8cd396be5924",
   "metadata": {},
   "outputs": [
    {
     "name": "stdout",
     "output_type": "stream",
     "text": [
      "[11, 22, 33, 55, 66, 77, 88]\n",
      "[11, 22, 33, 44, 55, 66, 77, 88]\n"
     ]
    }
   ],
   "source": [
    "num = [11,22,33,55,66,77,88]\n",
    "print(num)\n",
    "num.insert(3,44)\n",
    "print(num)"
   ]
  },
  {
   "cell_type": "code",
   "execution_count": 61,
   "id": "bc2f2241-fe1c-4b9d-be67-d0f8a5de8068",
   "metadata": {},
   "outputs": [],
   "source": [
    "ex = []"
   ]
  },
  {
   "cell_type": "code",
   "execution_count": 63,
   "id": "af8b24a7-71e1-4f65-b7b9-c1735fb2e2c1",
   "metadata": {},
   "outputs": [
    {
     "name": "stdout",
     "output_type": "stream",
     "text": [
      "[22, 33]\n"
     ]
    }
   ],
   "source": [
    "ex.insert(len(ex),33)\n",
    "print(ex)"
   ]
  },
  {
   "cell_type": "code",
   "execution_count": 1,
   "id": "a31ce3dc-e459-452d-bd12-b30288182e15",
   "metadata": {},
   "outputs": [
    {
     "name": "stdout",
     "output_type": "stream",
     "text": [
      "[1, 2, 1, 3, 2]\n"
     ]
    }
   ],
   "source": [
    "a = [1,2,3,1,3,2]\n",
    "\n",
    "a.remove(3)\n",
    "print(a)"
   ]
  },
  {
   "cell_type": "code",
   "execution_count": 3,
   "id": "ff19841b-d643-4e3e-b245-0522fd84dfd4",
   "metadata": {},
   "outputs": [
    {
     "name": "stdout",
     "output_type": "stream",
     "text": [
      "[1, 2]\n",
      "3\n"
     ]
    }
   ],
   "source": [
    "a = [1,2,3]\n",
    "\n",
    "hand = a.pop()\n",
    "\n",
    "print(a)\n",
    "print(hand)"
   ]
  },
  {
   "cell_type": "code",
   "execution_count": 4,
   "id": "58ea59e5-ce78-4a6f-93a8-5acbbc01dec7",
   "metadata": {},
   "outputs": [
    {
     "name": "stdout",
     "output_type": "stream",
     "text": [
      "[1, 2, 3]\n"
     ]
    }
   ],
   "source": [
    "a.append(hand)\n",
    "print(a)"
   ]
  },
  {
   "cell_type": "code",
   "execution_count": 5,
   "id": "7b44dd14-4f02-4048-a755-0b169dea8e3a",
   "metadata": {},
   "outputs": [
    {
     "name": "stdout",
     "output_type": "stream",
     "text": [
      "[1, 3]\n"
     ]
    }
   ],
   "source": [
    "a = [1,2,3]\n",
    "a.pop(1)\n",
    "\n",
    "print(a)"
   ]
  },
  {
   "cell_type": "code",
   "execution_count": 6,
   "id": "504c2484-ad92-4412-b90d-68871fdc46de",
   "metadata": {},
   "outputs": [
    {
     "data": {
      "text/plain": [
       "2"
      ]
     },
     "execution_count": 6,
     "metadata": {},
     "output_type": "execute_result"
    }
   ],
   "source": [
    "a = [1,2,3,5,3,1,2,3]\n",
    "\n",
    "a.count(1)"
   ]
  },
  {
   "cell_type": "code",
   "execution_count": 7,
   "id": "4d58d330-b71f-4efc-8679-40130a02f8b8",
   "metadata": {},
   "outputs": [
    {
     "name": "stdout",
     "output_type": "stream",
     "text": [
      "[1, 2, 3, 4, 5]\n"
     ]
    }
   ],
   "source": [
    "a = [1,2,3]\n",
    "a.extend([4,5])\n",
    "\n",
    "print(a)"
   ]
  },
  {
   "cell_type": "code",
   "execution_count": 8,
   "id": "e95dd056-2291-48ab-bcda-588b4e556754",
   "metadata": {},
   "outputs": [
    {
     "name": "stdout",
     "output_type": "stream",
     "text": [
      "[11, 222, 33, 44, 55, 66]\n"
     ]
    }
   ],
   "source": [
    "b = [11,222,33]\n",
    "c = [44,55,66]\n",
    "\n",
    "print(b+c)"
   ]
  },
  {
   "cell_type": "code",
   "execution_count": 12,
   "id": "73f194be-2b59-4f75-bd33-e009b08c3cd4",
   "metadata": {},
   "outputs": [
    {
     "name": "stdin",
     "output_type": "stream",
     "text": [
      "필요한거 담아주세요. 당근\n"
     ]
    }
   ],
   "source": [
    "# 장바구니\n",
    "\n",
    "bag = []"
   ]
  },
  {
   "cell_type": "code",
   "execution_count": 18,
   "id": "331c3409-44d7-45ff-824b-0d4958544dee",
   "metadata": {},
   "outputs": [
    {
     "name": "stdin",
     "output_type": "stream",
     "text": [
      "필요한거 담아주세요. 카레\n"
     ]
    },
    {
     "name": "stdout",
     "output_type": "stream",
     "text": [
      "장바구니에는 ['감자', 'ㅁㄴㅇㄹ', '소주', '카레']이 있습니다\n"
     ]
    }
   ],
   "source": [
    "\n",
    "inp = input('필요한거 담아주세요.')\n",
    "bag.append(inp)\n",
    "print(f'장바구니에는 {bag}이 있습니다')"
   ]
  },
  {
   "cell_type": "code",
   "execution_count": 16,
   "id": "02bc240f-3552-4b83-abc5-11da5632bb81",
   "metadata": {},
   "outputs": [
    {
     "name": "stdout",
     "output_type": "stream",
     "text": [
      "당근을 꺼내서 장바구니에 ['감자', 'ㅁㄴㅇㄹ']가 남았습니다.\n"
     ]
    }
   ],
   "source": [
    "outp = bag.pop(0)\n",
    "print(f'{outp}을 꺼내서 장바구니에 {bag}가 남았습니다.')"
   ]
  },
  {
   "cell_type": "code",
   "execution_count": 20,
   "id": "f1eb0c6d-5b38-4956-a4c5-b7d1b31dbd5a",
   "metadata": {},
   "outputs": [
    {
     "name": "stdin",
     "output_type": "stream",
     "text": [
      "꺼내고 싶은 물품을 입력하세요. 소주\n"
     ]
    },
    {
     "name": "stdout",
     "output_type": "stream",
     "text": [
      "['감자', 'ㅁㄴㅇㄹ', '카레']\n"
     ]
    }
   ],
   "source": [
    "got = input('꺼내고 싶은 물품을 입력하세요.')\n",
    "pop_num = bag.index(got)\n",
    "bb = bag.pop(pop_num)\n",
    "print(bag)"
   ]
  },
  {
   "cell_type": "code",
   "execution_count": 23,
   "id": "7042b604-3fed-4c0f-b21b-44dce092deec",
   "metadata": {},
   "outputs": [
    {
     "name": "stdin",
     "output_type": "stream",
     "text": [
      "아무 물품 하나 말해보삼 감자\n",
      "뭐 넣을 거임요 고구마\n"
     ]
    },
    {
     "name": "stdout",
     "output_type": "stream",
     "text": [
      "감자뒤에 고구마넣었음 확인해보삼 ['호박', '감자', '고구마', '소주', '맥주', '피자']\n"
     ]
    }
   ],
   "source": [
    "bag = ['호박', '감자', '소주', '맥주', '피자']\n",
    "\n",
    "inp1 = input('아무 물품 하나 말해보삼')\n",
    "inp2 = input('뭐 넣을 거임요')\n",
    "\n",
    "a1 = bag.index(inp1) + 1\n",
    "a2 = bag.insert(a1,inp2)\n",
    "\n",
    "print(f\"{inp1}뒤에 {inp2}넣었음 확인해보삼 {bag}\")"
   ]
  },
  {
   "cell_type": "code",
   "execution_count": 24,
   "id": "614d7377-58e1-4ab8-aae5-7dfc832190cb",
   "metadata": {},
   "outputs": [
    {
     "name": "stdin",
     "output_type": "stream",
     "text": [
      "몇 달라 1\n"
     ]
    },
    {
     "name": "stdout",
     "output_type": "stream",
     "text": [
      "1달라는 1450원임\n"
     ]
    }
   ],
   "source": [
    "won_dollar = 1450\n",
    "q1 = int(input('몇 달라'))\n",
    "\n",
    "print(f'{q1}달라는 {won_dollar * q1}원임')\n"
   ]
  },
  {
   "cell_type": "code",
   "execution_count": 96,
   "id": "53cc9215-ab13-4681-8251-980d868f9475",
   "metadata": {},
   "outputs": [
    {
     "name": "stdin",
     "output_type": "stream",
     "text": [
      "몇 달라 1\n"
     ]
    },
    {
     "name": "stdout",
     "output_type": "stream",
     "text": [
      "현재 환율 1449.7임. 1달라는 1450.0원임\n"
     ]
    }
   ],
   "source": [
    "import requests\n",
    "from bs4 import BeautifulSoup\n",
    "url = 'https://search.naver.com/search.naver?where=nexearch&sm=top_hty&fbm=0&ie=utf8&query=%ED%99%98%EC%9C%A8'\n",
    "res = requests.get(url).text\n",
    "soup = BeautifulSoup(res, 'html.parser')\n",
    "element_class = soup.find_all(class_='nb_txt _pronunciation')\n",
    "data = str(element_class[1])\n",
    "\n",
    "# print()\n",
    "\n",
    "won_dollar2 = float(data[-17:-10].replace(\",\",\"\"))\n",
    "q1 = int(input('몇 달라'))\n",
    "\n",
    "print(f'현재 환율 {won_dollar2}임. {q1}달라는 {won_dollar * q1:.1f}원임')"
   ]
  },
  {
   "cell_type": "code",
   "execution_count": 91,
   "id": "943478c9-4e13-4a27-b5c7-33292f9a0388",
   "metadata": {},
   "outputs": [
    {
     "name": "stdout",
     "output_type": "stream",
     "text": [
      "1449.4\n"
     ]
    }
   ],
   "source": [
    "print(1449.4 * 1)"
   ]
  },
  {
   "cell_type": "markdown",
   "id": "f956b050-4897-49e4-9203-2e16a085d062",
   "metadata": {},
   "source": [
    "## 튜플 자료형"
   ]
  },
  {
   "cell_type": "code",
   "execution_count": 101,
   "id": "c376eb02-6d4e-499e-8c59-7af53a1d159b",
   "metadata": {},
   "outputs": [],
   "source": [
    "t1 = ()\n",
    "t2 = (1,)\n",
    "t3 = (1,2,3)\n",
    "t4 = 1,2,3\n",
    "t5 = ('a', 'b', ('ab', 'cd'))"
   ]
  },
  {
   "cell_type": "code",
   "execution_count": 102,
   "id": "2a22b7f9-201a-4606-aab2-e4a9b0b1d969",
   "metadata": {},
   "outputs": [
    {
     "ename": "TypeError",
     "evalue": "'tuple' object doesn't support item deletion",
     "output_type": "error",
     "traceback": [
      "\u001b[1;31m---------------------------------------------------------------------------\u001b[0m",
      "\u001b[1;31mTypeError\u001b[0m                                 Traceback (most recent call last)",
      "Cell \u001b[1;32mIn[102], line 1\u001b[0m\n\u001b[1;32m----> 1\u001b[0m \u001b[38;5;28;01mdel\u001b[39;00m \u001b[43mt5\u001b[49m\u001b[43m[\u001b[49m\u001b[38;5;241;43m1\u001b[39;49m\u001b[43m]\u001b[49m\n",
      "\u001b[1;31mTypeError\u001b[0m: 'tuple' object doesn't support item deletion"
     ]
    }
   ],
   "source": [
    "del t5[1]"
   ]
  },
  {
   "cell_type": "code",
   "execution_count": 103,
   "id": "7a3c0435-dc69-4d70-84dd-59c7d209715d",
   "metadata": {},
   "outputs": [
    {
     "name": "stdout",
     "output_type": "stream",
     "text": [
      "b\n",
      "('b', ('ab', 'cd'))\n"
     ]
    }
   ],
   "source": [
    "print(t5[1])\n",
    "print(t5[1:])"
   ]
  },
  {
   "cell_type": "code",
   "execution_count": 104,
   "id": "4f998b55-2f73-41f7-9c94-08d156f1c848",
   "metadata": {},
   "outputs": [
    {
     "name": "stdout",
     "output_type": "stream",
     "text": [
      "(1, 2, 3, 'a', 'b', ('ab', 'cd'))\n"
     ]
    }
   ],
   "source": [
    "print(t4 + t5)"
   ]
  },
  {
   "cell_type": "code",
   "execution_count": 105,
   "id": "0015d6c2-1712-4eb1-9905-1e66889bd6b7",
   "metadata": {},
   "outputs": [
    {
     "name": "stdout",
     "output_type": "stream",
     "text": [
      "(1, 2, 3, 1, 2, 3)\n"
     ]
    }
   ],
   "source": [
    "print(t3 * 2)"
   ]
  },
  {
   "cell_type": "code",
   "execution_count": 106,
   "id": "1a9ffc7e-008d-4125-b2c8-5614dcf79b09",
   "metadata": {},
   "outputs": [
    {
     "name": "stdout",
     "output_type": "stream",
     "text": [
      "(1, 2, 3, 4)\n"
     ]
    }
   ],
   "source": [
    "t = (1,2,3)\n",
    "\n",
    "print(t + (4,))"
   ]
  },
  {
   "cell_type": "markdown",
   "id": "7e8be5c0-e866-4e05-b6a8-a0f0f41a7669",
   "metadata": {},
   "source": [
    "## 딕셔너리 자료형"
   ]
  },
  {
   "cell_type": "code",
   "execution_count": 107,
   "id": "c7f30807-8478-4a44-b5d3-529a78f074f0",
   "metadata": {},
   "outputs": [
    {
     "name": "stdout",
     "output_type": "stream",
     "text": [
      "pey\n",
      "010-1231-4567\n",
      "1118\n"
     ]
    }
   ],
   "source": [
    "dic = {'name' : 'pey', 'phone' : '010-1231-4567', 'birth' : '1118'}\n",
    "\n",
    "print(dic['name'])\n",
    "print(dic['phone'])\n",
    "print(dic['birth'])"
   ]
  },
  {
   "cell_type": "code",
   "execution_count": 109,
   "id": "1649bf76-74a7-49fa-8b99-23c347126dbb",
   "metadata": {},
   "outputs": [
    {
     "name": "stdout",
     "output_type": "stream",
     "text": [
      "3\n"
     ]
    }
   ],
   "source": [
    "a = {'aa' : [1,2,3,4,5]}\n",
    "\n",
    "print(a['aa'][2])"
   ]
  },
  {
   "cell_type": "markdown",
   "id": "1e5182e2-427c-4695-91c5-63ef17a86ffd",
   "metadata": {},
   "source": [
    "### 딕셔너리 쌍 추가, 삭제하기"
   ]
  },
  {
   "cell_type": "code",
   "execution_count": 110,
   "id": "86378471-eb60-4bb7-afc3-88b06483a379",
   "metadata": {},
   "outputs": [],
   "source": [
    "dic = {'name' : 'pey', 'phone' : '010-1231-4567', 'birth' : '1118'}\n",
    "\n",
    "dic['address'] = 'Busan'"
   ]
  },
  {
   "cell_type": "code",
   "execution_count": 111,
   "id": "68742f55-74fa-45ca-bf88-149a32a0a69f",
   "metadata": {},
   "outputs": [
    {
     "data": {
      "text/plain": [
       "{'name': 'pey', 'phone': '010-1231-4567', 'birth': '1118', 'address': 'Busan'}"
      ]
     },
     "execution_count": 111,
     "metadata": {},
     "output_type": "execute_result"
    }
   ],
   "source": [
    "dic"
   ]
  },
  {
   "cell_type": "code",
   "execution_count": 112,
   "id": "18de2c2b-f896-422e-b03d-1a527df8d594",
   "metadata": {},
   "outputs": [],
   "source": [
    "dic['arr'] = [1,2,3,4]"
   ]
  },
  {
   "cell_type": "code",
   "execution_count": 113,
   "id": "cbf3c307-c958-44ef-8d14-265735581446",
   "metadata": {},
   "outputs": [
    {
     "data": {
      "text/plain": [
       "{'name': 'pey',\n",
       " 'phone': '010-1231-4567',\n",
       " 'birth': '1118',\n",
       " 'address': 'Busan',\n",
       " 'arr': [1, 2, 3, 4]}"
      ]
     },
     "execution_count": 113,
     "metadata": {},
     "output_type": "execute_result"
    }
   ],
   "source": [
    "dic"
   ]
  },
  {
   "cell_type": "code",
   "execution_count": 114,
   "id": "5a45bcd5-f3c9-4783-8813-9d959da2ddd8",
   "metadata": {},
   "outputs": [],
   "source": [
    "del dic['arr']"
   ]
  },
  {
   "cell_type": "code",
   "execution_count": 115,
   "id": "0cd9844c-22b1-4f42-ae23-b16ee81a1ef5",
   "metadata": {},
   "outputs": [
    {
     "data": {
      "text/plain": [
       "{'name': 'pey', 'phone': '010-1231-4567', 'birth': '1118', 'address': 'Busan'}"
      ]
     },
     "execution_count": 115,
     "metadata": {},
     "output_type": "execute_result"
    }
   ],
   "source": [
    "dic"
   ]
  },
  {
   "cell_type": "code",
   "execution_count": null,
   "id": "3cf6ff08-5df8-49bf-acd6-5bd0031b17ef",
   "metadata": {},
   "outputs": [],
   "source": []
  }
 ],
 "metadata": {
  "kernelspec": {
   "display_name": "Python 3 (ipykernel)",
   "language": "python",
   "name": "python3"
  },
  "language_info": {
   "codemirror_mode": {
    "name": "ipython",
    "version": 3
   },
   "file_extension": ".py",
   "mimetype": "text/x-python",
   "name": "python",
   "nbconvert_exporter": "python",
   "pygments_lexer": "ipython3",
   "version": "3.13.1"
  }
 },
 "nbformat": 4,
 "nbformat_minor": 5
}
