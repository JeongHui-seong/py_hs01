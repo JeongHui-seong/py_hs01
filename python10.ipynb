{
 "cells": [
  {
   "cell_type": "code",
   "execution_count": 3,
   "metadata": {
    "colab": {
     "base_uri": "https://localhost:8080/"
    },
    "id": "62l0XTGygBKR",
    "outputId": "b89bb391-f809-4a35-9568-e926ea2a0eb5"
   },
   "outputs": [
    {
     "name": "stdout",
     "output_type": "stream",
     "text": [
      "ㅇㅋ\n"
     ]
    }
   ],
   "source": [
    "# with open('./drive/MyDrive/ReadME.md','w') as f:\n",
    "#   data = f.write('리드미')\n",
    "#   print('ㅇㅋ')"
   ]
  },
  {
   "cell_type": "markdown",
   "metadata": {
    "id": "22IWjrI2ioeG"
   },
   "source": [
    "# 넘파이(Numpy)"
   ]
  },
  {
   "cell_type": "markdown",
   "metadata": {
    "id": "blTGCLKYjY0-"
   },
   "source": [
    "- ndim : 축의 개수\n",
    "- shape : 배열의 차원정보\n",
    "- size : 배열안에 있는 원소의 총 개수\n",
    "- dtype : 원소의 자료형"
   ]
  },
  {
   "cell_type": "markdown",
   "metadata": {
    "id": "Kg0_MrTkuNFF"
   },
   "source": [
    "## 1차원과 속성들"
   ]
  },
  {
   "cell_type": "code",
   "execution_count": 12,
   "metadata": {
    "colab": {
     "base_uri": "https://localhost:8080/"
    },
    "id": "2YUzGjnWhNie",
    "outputId": "16c8421c-3842-4d65-9558-ef978340f9f0"
   },
   "outputs": [
    {
     "name": "stdout",
     "output_type": "stream",
     "text": [
      "[0 1 2 3 4]\n",
      "<class 'numpy.ndarray'>\n",
      "1\n",
      "(5,)\n",
      "5\n",
      "4\n",
      "[2 3]\n"
     ]
    }
   ],
   "source": [
    "import numpy as np\n",
    "narry = np.array(range(5))\n",
    "print(narry)\n",
    "print(type(narry))\n",
    "print(narry.ndim)\n",
    "print(narry.shape)\n",
    "print(narry.size)\n",
    "print(narry[4])\n",
    "print(narry[2:4])"
   ]
  },
  {
   "cell_type": "code",
   "execution_count": 16,
   "metadata": {
    "colab": {
     "base_uri": "https://localhost:8080/"
    },
    "id": "dRsabYfjhxvi",
    "outputId": "f26ffdce-fc23-4244-cd8a-4ce294451933"
   },
   "outputs": [
    {
     "name": "stdout",
     "output_type": "stream",
     "text": [
      "[1 2 3 4] int64\n",
      "['1' '2' 'a' 'b'] <U21\n",
      "['1' '2' '3' '4'] <U1\n"
     ]
    }
   ],
   "source": [
    "narr1 = np.array([1,2,3,4])\n",
    "narr2 = np.array([1,2,'a','b']) # 전부 다 문자 처리\n",
    "narr3 = np.array([1,2,3,4],dtype = 'str')\n",
    "print(narr1, narr1.dtype)\n",
    "print(narr2, narr2.dtype)\n",
    "print(narr3, narr3.dtype)"
   ]
  },
  {
   "cell_type": "code",
   "execution_count": 55,
   "metadata": {
    "colab": {
     "base_uri": "https://localhost:8080/"
    },
    "id": "ucVpn5v5p0LF",
    "outputId": "94584139-34f7-4e5c-a264-ebf72047e070"
   },
   "outputs": [
    {
     "name": "stdout",
     "output_type": "stream",
     "text": [
      "[0 0 0 0 0 0 0 0 0 0] <class 'numpy.ndarray'>\n",
      "[[3 3 3]\n",
      " [3 3 3]\n",
      " [3 3 3]] <class 'numpy.ndarray'>\n",
      "[[1. 1.]\n",
      " [1. 1.]] <class 'numpy.ndarray'>\n",
      "[['number' 'number']\n",
      " ['number' 'number']] <class 'numpy.ndarray'>\n",
      "[[1. 0. 0.]\n",
      " [0. 1. 0.]\n",
      " [0. 0. 1.]] <class 'numpy.ndarray'>\n",
      "[ 0. 20. 40. 60. 80.] <class 'numpy.ndarray'>\n",
      "[ 0 20 40 60 80] <class 'numpy.ndarray'>\n"
     ]
    }
   ],
   "source": [
    "narr4 = np.zeros(10, dtype = 'int64')\n",
    "narr5 = np.full((3,3),3)\n",
    "narr6 = np.ones((2,2))\n",
    "narr7 = np.full((2,2), 'number')\n",
    "narr8 = np.eye(3)\n",
    "narr9 = np.linspace(0,100,5, endpoint=False)\n",
    "narr10 = np.arange(0,100,20)\n",
    "print(narr4, type(narr4))\n",
    "print(narr5, type(narr5))\n",
    "print(narr6, type(narr6))\n",
    "print(narr7, type(narr7))\n",
    "print(narr8, type(narr8))\n",
    "print(narr9, type(narr9))\n",
    "print(narr10, type(narr10))"
   ]
  },
  {
   "cell_type": "markdown",
   "metadata": {
    "id": "mH1McDKsuTp3"
   },
   "source": [
    "# 2차원 배열"
   ]
  },
  {
   "cell_type": "code",
   "execution_count": 26,
   "metadata": {
    "colab": {
     "base_uri": "https://localhost:8080/"
    },
    "id": "IJ3NpsKElV7T",
    "outputId": "1eb5c99e-e631-488c-e976-3200e10b6a03"
   },
   "outputs": [
    {
     "name": "stdout",
     "output_type": "stream",
     "text": [
      "[[0 0]\n",
      " [0 0]]\n"
     ]
    }
   ],
   "source": [
    "arr1 = np.zeros((2,2), dtype = 'int64')\n",
    "print(arr1)"
   ]
  },
  {
   "cell_type": "code",
   "execution_count": 33,
   "metadata": {
    "colab": {
     "base_uri": "https://localhost:8080/"
    },
    "id": "0EiaoN6ApiUI",
    "outputId": "ca83a1ab-445a-46fd-e950-a744bddd1f5f"
   },
   "outputs": [
    {
     "name": "stdout",
     "output_type": "stream",
     "text": [
      "[[1 2 3]\n",
      " [4 5 6]\n",
      " [7 8 9]]\n"
     ]
    }
   ],
   "source": [
    "arr2 = np.array([1,2,3,4,5,6,7,8,9]).reshape(3,3)\n",
    "print(arr2)"
   ]
  },
  {
   "cell_type": "code",
   "execution_count": 37,
   "metadata": {
    "colab": {
     "base_uri": "https://localhost:8080/"
    },
    "id": "1SlG-rUhvMi7",
    "outputId": "58551b0a-78aa-43f2-fd28-28ca1bee0fe0"
   },
   "outputs": [
    {
     "name": "stdout",
     "output_type": "stream",
     "text": [
      "[2, 3, 4, 5, 6, 7, 8, 9]\n",
      "range(2, 10)\n",
      "[2 3 4 5 6 7 8 9]\n"
     ]
    }
   ],
   "source": [
    "print(list(range(2,10)))\n",
    "print(range(2,10))\n",
    "print(np.arange(2,10))"
   ]
  },
  {
   "cell_type": "code",
   "execution_count": 39,
   "metadata": {
    "colab": {
     "base_uri": "https://localhost:8080/"
    },
    "id": "ssexak7DvjbE",
    "outputId": "99a847cd-80c7-46af-c685-d73883e17a32"
   },
   "outputs": [
    {
     "name": "stdout",
     "output_type": "stream",
     "text": [
      "[[ 1  2  3  4  5]\n",
      " [ 6  7  8  9 10]]\n",
      "[[ 1  2]\n",
      " [ 3  4]\n",
      " [ 5  6]\n",
      " [ 7  8]\n",
      " [ 9 10]]\n"
     ]
    }
   ],
   "source": [
    "arr3 = np.arange(1,11).reshape(2,5)\n",
    "arr4 = np.arange(1,11).reshape(5,2)\n",
    "\n",
    "print(arr3)\n",
    "print(arr4)"
   ]
  },
  {
   "cell_type": "code",
   "execution_count": 40,
   "metadata": {
    "colab": {
     "base_uri": "https://localhost:8080/"
    },
    "id": "OyOOv9VEww9h",
    "outputId": "db705784-c27d-4c03-8abc-3ad523514d71"
   },
   "outputs": [
    {
     "name": "stdout",
     "output_type": "stream",
     "text": [
      "[[[ 1  2  3]\n",
      "  [ 4  5  6]\n",
      "  [ 7  8  9]]\n",
      "\n",
      " [[10 11 12]\n",
      "  [13 14 15]\n",
      "  [16 17 18]]\n",
      "\n",
      " [[19 20 21]\n",
      "  [22 23 24]\n",
      "  [25 26 27]]]\n"
     ]
    }
   ],
   "source": [
    "arr5 = np.arange(1,28).reshape(3,3,3)\n",
    "print(arr5)"
   ]
  },
  {
   "cell_type": "code",
   "execution_count": 52,
   "metadata": {
    "colab": {
     "base_uri": "https://localhost:8080/"
    },
    "id": "5QEfZzk_w6IF",
    "outputId": "23d9090a-6cd5-4f2f-d9d4-34c90b0cebe2"
   },
   "outputs": [
    {
     "name": "stdout",
     "output_type": "stream",
     "text": [
      "[[ 1  2  3  4  5  6  7]\n",
      " [ 8  9 10 11 12 13 14]\n",
      " [15 16 17 18 19 20 21]]\n",
      "====================\n",
      "[[1]\n",
      " [2]\n",
      " [3]\n",
      " [4]\n",
      " [5]\n",
      " [6]\n",
      " [7]]\n",
      "====================\n",
      "[[ 1  2]\n",
      " [ 3  4]\n",
      " [ 5  6]\n",
      " [ 7  8]\n",
      " [ 9 10]]\n",
      "====================\n",
      "[[[ 1]\n",
      "  [ 2]\n",
      "  [ 3]]\n",
      "\n",
      " [[ 4]\n",
      "  [ 5]\n",
      "  [ 6]]\n",
      "\n",
      " [[ 7]\n",
      "  [ 8]\n",
      "  [ 9]]\n",
      "\n",
      " [[10]\n",
      "  [11]\n",
      "  [12]]]\n"
     ]
    }
   ],
   "source": [
    "ex1 = np.arange(1,22).reshape(3,7)\n",
    "ex2 = np.arange(1,8).reshape(7,1)\n",
    "ex3 = np.arange(1,11).reshape(5,2)\n",
    "ex4 = np.arange(1,13).reshape(4,3,1)\n",
    "print(ex1)\n",
    "print(\"=\" * 20)\n",
    "print(ex2)\n",
    "print(\"=\" * 20)\n",
    "print(ex3)\n",
    "print(\"=\" * 20)\n",
    "print(ex4)"
   ]
  },
  {
   "cell_type": "code",
   "execution_count": 65,
   "metadata": {
    "colab": {
     "base_uri": "https://localhost:8080/"
    },
    "id": "QEBAiYW_2mpv",
    "outputId": "089d0668-a4ef-4668-dbc1-1468badf8354"
   },
   "outputs": [
    {
     "name": "stdout",
     "output_type": "stream",
     "text": [
      "[[ 4  5  6  7]\n",
      " [11 12 13 14]\n",
      " [18 19 20 21]]\n"
     ]
    }
   ],
   "source": [
    "print(ex1[0:3, 3:7])"
   ]
  },
  {
   "cell_type": "code",
   "execution_count": 66,
   "metadata": {
    "colab": {
     "base_uri": "https://localhost:8080/"
    },
    "id": "Aq6by2D6-tqG",
    "outputId": "c683bce3-6d82-4f7a-b8aa-1762fa1246ea"
   },
   "outputs": [
    {
     "name": "stdout",
     "output_type": "stream",
     "text": [
      "[4 5 6 7]\n",
      "[11 12 13 14]\n",
      "[18 19 20 21]\n"
     ]
    }
   ],
   "source": [
    "for e in ex1:\n",
    "  print(e[3:7])"
   ]
  },
  {
   "cell_type": "code",
   "execution_count": 74,
   "metadata": {
    "colab": {
     "base_uri": "https://localhost:8080/"
    },
    "id": "4G4yMYgk_g_E",
    "outputId": "e2db198e-698c-4e61-bdae-ae03c631cc12"
   },
   "outputs": [
    {
     "name": "stdout",
     "output_type": "stream",
     "text": [
      "[15 16 17 18 19 20 21]\n"
     ]
    }
   ],
   "source": [
    "print(ex1[ex1 > 14])"
   ]
  },
  {
   "cell_type": "code",
   "execution_count": 75,
   "metadata": {
    "colab": {
     "base_uri": "https://localhost:8080/"
    },
    "id": "zz8TucRoEw9A",
    "outputId": "4aef1839-bcd3-4094-8d94-b99d8765ac3f"
   },
   "outputs": [
    {
     "name": "stdout",
     "output_type": "stream",
     "text": [
      "[ 7  9 11 13 15]\n",
      "[-5 -5 -5 -5 -5]\n",
      "[ 6 14 24 36 50]\n",
      "[0.16666667 0.28571429 0.375      0.44444444 0.5       ]\n"
     ]
    }
   ],
   "source": [
    "np1 = np.array([1,2,3,4,5])\n",
    "np2 = np.array([6,7,8,9,10])\n",
    "print(np1 + np2)\n",
    "print(np1 - np2)\n",
    "print(np1 * np2)\n",
    "print(np1 / np2)"
   ]
  },
  {
   "cell_type": "code",
   "execution_count": 78,
   "metadata": {
    "colab": {
     "base_uri": "https://localhost:8080/"
    },
    "id": "LZwiQupDF8bm",
    "outputId": "e36c4521-6bc8-4276-97ce-8eb6f181edcd"
   },
   "outputs": [
    {
     "name": "stdout",
     "output_type": "stream",
     "text": [
      "[16 17 18 19 20]\n"
     ]
    }
   ],
   "source": [
    "np3 = np2 + 10\n",
    "print(np3)"
   ]
  },
  {
   "cell_type": "code",
   "execution_count": 84,
   "metadata": {
    "colab": {
     "base_uri": "https://localhost:8080/"
    },
    "id": "y_CV5rd5G6QC",
    "outputId": "667b557b-dd73-4e2b-9547-958328c4f1bf"
   },
   "outputs": [
    {
     "name": "stdout",
     "output_type": "stream",
     "text": [
      "[[1 2 3]\n",
      " [4 5 6]\n",
      " [7 8 9]]\n",
      "[[ 4  5  6]\n",
      " [ 7  8  9]\n",
      " [10 11 12]]\n",
      "[[ 2  4  6]\n",
      " [ 8 10 12]\n",
      " [14 16 18]]\n",
      "[[12 24 36]\n",
      " [15 27 39]\n",
      " [18 30 42]]\n",
      "[[ 11  44  99]\n",
      " [ 44 110 198]\n",
      " [ 77 176 297]]\n"
     ]
    }
   ],
   "source": [
    "br1 = np.arange(1,10).reshape(3,3)\n",
    "br2 = np.array([11,22,33])\n",
    "print(br1)\n",
    "print(br1 + 3)\n",
    "print(br1 * 2)\n",
    "print(br1 + br2)\n",
    "print(br1 * br2)"
   ]
  },
  {
   "cell_type": "code",
   "execution_count": 88,
   "metadata": {
    "colab": {
     "base_uri": "https://localhost:8080/"
    },
    "id": "E4s2isOnHakc",
    "outputId": "091077c9-d35f-40f9-ed16-6933412e251e"
   },
   "outputs": [
    {
     "name": "stdout",
     "output_type": "stream",
     "text": [
      "[1 2 3 4 5 6 7 8 9]\n",
      "[1 2 3 4 5 6 7 8 9]\n"
     ]
    }
   ],
   "source": [
    "print(br1.reshape(9))\n",
    "print(br1.flatten())"
   ]
  },
  {
   "cell_type": "markdown",
   "metadata": {
    "id": "wmpo8adQJnRD"
   },
   "source": [
    "## random number 발생"
   ]
  },
  {
   "cell_type": "markdown",
   "metadata": {},
   "source": [
    "- np.random.randint(): 균일 분포의 정수 난수\n",
    "- np.random.rand(): 0부터 1사이의 균일 분포 난수 생성\n",
    "- np.random.randn(): 표준 정규 분포 난수 생성\n",
    "- np.random.normal(): 정규 분포 난수 생성"
   ]
  },
  {
   "cell_type": "code",
   "execution_count": 11,
   "metadata": {},
   "outputs": [
    {
     "data": {
      "text/plain": [
       "array([[ 2, 19, 33, 75, 72],\n",
       "       [25, 45, 46, 97, 41],\n",
       "       [71, 29, 29, 13, 50],\n",
       "       [71, 24, 29, 10, 57],\n",
       "       [18, 12, 21,  2, 65],\n",
       "       [72, 49, 42, 22, 20],\n",
       "       [94, 93, 58,  1, 58],\n",
       "       [38, 80, 28,  6, 52],\n",
       "       [95, 33, 36, 74, 28],\n",
       "       [ 9, 65, 98, 58, 41]], dtype=int32)"
      ]
     },
     "execution_count": 11,
     "metadata": {},
     "output_type": "execute_result"
    }
   ],
   "source": [
    "import numpy as np\n",
    "x = np.random.randint(1,100,size = (10,5))\n",
    "x"
   ]
  },
  {
   "cell_type": "code",
   "execution_count": 13,
   "metadata": {},
   "outputs": [
    {
     "name": "stdout",
     "output_type": "stream",
     "text": [
      "평균 : 44.12, 표준편차 : 27.410684048377924, 최대 : 98, 최소 : 1\n"
     ]
    }
   ],
   "source": [
    "print(f\"평균 : {np.mean(x)}, 표준편차 : {np.std(x)}, 최대 : {x.max()}, 최소 : {x.min()}\")"
   ]
  },
  {
   "cell_type": "code",
   "execution_count": 15,
   "metadata": {},
   "outputs": [
    {
     "name": "stdout",
     "output_type": "stream",
     "text": [
      "50\n"
     ]
    }
   ],
   "source": [
    "print(len(x.flatten()))"
   ]
  },
  {
   "cell_type": "code",
   "execution_count": 18,
   "metadata": {},
   "outputs": [
    {
     "name": "stdout",
     "output_type": "stream",
     "text": [
      "17\n",
      "12\n"
     ]
    }
   ],
   "source": [
    "y = np.array([0,1,2,0,3,4,5,6,0,7,8,9,0,3,5,4,0])\n",
    "print(len(y))\n",
    "print(np.count_nonzero(y))"
   ]
  },
  {
   "cell_type": "code",
   "execution_count": null,
   "metadata": {},
   "outputs": [],
   "source": []
  }
 ],
 "metadata": {
  "colab": {
   "provenance": [],
   "toc_visible": true
  },
  "kernelspec": {
   "display_name": "Python 3 (ipykernel)",
   "language": "python",
   "name": "python3"
  },
  "language_info": {
   "codemirror_mode": {
    "name": "ipython",
    "version": 3
   },
   "file_extension": ".py",
   "mimetype": "text/x-python",
   "name": "python",
   "nbconvert_exporter": "python",
   "pygments_lexer": "ipython3",
   "version": "3.13.1"
  }
 },
 "nbformat": 4,
 "nbformat_minor": 4
}
