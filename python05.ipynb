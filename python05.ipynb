{
 "cells": [
  {
   "cell_type": "markdown",
   "id": "84b5eed7-5259-4aa4-a3dc-57b27b1e9bdf",
   "metadata": {},
   "source": [
    "# 클래스"
   ]
  },
  {
   "cell_type": "markdown",
   "id": "3faed814-22cf-41d5-8ba1-b95797e2d189",
   "metadata": {},
   "source": [
    "## 클래스"
   ]
  },
  {
   "cell_type": "code",
   "execution_count": 1,
   "id": "aaa640d1-c031-414e-bc6d-0170ed6b641f",
   "metadata": {},
   "outputs": [
    {
     "name": "stdout",
     "output_type": "stream",
     "text": [
      "[1, 2, 3, 4] <class 'list'>\n",
      "(11, 22, 33, 44) <class 'tuple'>\n"
     ]
    }
   ],
   "source": [
    "what = [1,2,3,4]\n",
    "who = 11,22,33,44\n",
    "print(what,type(what))\n",
    "print(who,type(who))"
   ]
  },
  {
   "cell_type": "code",
   "execution_count": 2,
   "id": "113aa3e5-4ab2-4e45-af2a-f577869a106f",
   "metadata": {},
   "outputs": [
    {
     "name": "stdout",
     "output_type": "stream",
     "text": [
      "3\n",
      "7\n"
     ]
    }
   ],
   "source": [
    "result = 0\n",
    "def add(num):\n",
    "    global result\n",
    "    result += num\n",
    "    return result\n",
    "print(add(3))\n",
    "print(add(4))"
   ]
  },
  {
   "cell_type": "code",
   "execution_count": 3,
   "id": "3202e6b5-178c-4645-bc22-400fd5e181db",
   "metadata": {},
   "outputs": [
    {
     "name": "stdout",
     "output_type": "stream",
     "text": [
      "4\n",
      "7\n",
      "9\n",
      "8\n",
      "9\n",
      "11\n"
     ]
    }
   ],
   "source": [
    "class Calculator:\n",
    "    def __init__(self):\n",
    "        self.result = 0\n",
    "        \n",
    "    def add(self, num):\n",
    "        self.result += num\n",
    "        return self.result\n",
    "\n",
    "cal1 = Calculator()\n",
    "print(cal1.add(4))\n",
    "print(cal1.add(3))\n",
    "print(cal1.add(2))\n",
    "cal2 = Calculator()\n",
    "print(cal2.add(8))\n",
    "print(cal2.add(1))\n",
    "print(cal2.add(2))"
   ]
  },
  {
   "cell_type": "markdown",
   "id": "8470276e-b08c-4283-82af-d5fd1db980d6",
   "metadata": {},
   "source": [
    "## 생성자"
   ]
  },
  {
   "cell_type": "code",
   "execution_count": 4,
   "id": "26496a7e-6db9-4611-aa7c-d0f3da8002f7",
   "metadata": {},
   "outputs": [
    {
     "name": "stdout",
     "output_type": "stream",
     "text": [
      "3\n",
      "-1\n",
      "2\n",
      "0.5\n"
     ]
    }
   ],
   "source": [
    "class FourCal:\n",
    "    def __init__(self, first, second):\n",
    "        self.first = first\n",
    "        self.second = second\n",
    "\n",
    "    def plus(self):\n",
    "        result = self.first + self.second\n",
    "        return result\n",
    "\n",
    "    def minus(self):\n",
    "        result = self.first - self.second\n",
    "        return result\n",
    "\n",
    "    def multiply(self):\n",
    "        result = self.first * self.second\n",
    "        return result\n",
    "\n",
    "    def division(self):\n",
    "        result = self.first / self.second\n",
    "        return result\n",
    "\n",
    "a = FourCal(1,2)\n",
    "print(a.plus())\n",
    "print(a.minus())\n",
    "print(a.multiply())\n",
    "print(a.division())"
   ]
  },
  {
   "cell_type": "code",
   "execution_count": 5,
   "id": "aa55a233-af8d-4ee0-a7e4-769798a9310d",
   "metadata": {},
   "outputs": [
    {
     "name": "stdout",
     "output_type": "stream",
     "text": [
      "나는 돼지 떡볶이 6000원어치 먹음\n",
      "나는 돼지 어묵 12000원어치 먹음\n",
      "나는 돼지 순대 6000원어치 먹음\n",
      "나는 돼지 떡볶이 12000원어치 먹음\n",
      "나는 돼지 어묵 24000원어치 먹음\n",
      "나는 돼지 순대 12000원어치 먹음\n",
      "나는 돼지 떡볶이 8000원어치 먹음\n",
      "나는 돼지 어묵 16000원어치 먹음\n",
      "나는 돼지 순대 8000원어치 먹음\n"
     ]
    }
   ],
   "source": [
    "class Tteok:\n",
    "    def __init__(self, won, ea):\n",
    "        self.won = won\n",
    "        self.ea = ea\n",
    "    def tteok(self):\n",
    "        result = self.won * self.ea\n",
    "        print(f\"나는 돼지 떡볶이 {result}원어치 먹음\")\n",
    "    def fishcake(self):\n",
    "        result = self.won * 2 * self.ea\n",
    "        print(f\"나는 돼지 어묵 {result}원어치 먹음\")\n",
    "    def sundae(self):\n",
    "        result = self.won * self.ea\n",
    "        print(f\"나는 돼지 순대 {result}원어치 먹음\")\n",
    "\n",
    "aa = Tteok(3000, 2)\n",
    "aa.tteok()\n",
    "aa.fishcake()\n",
    "aa.sundae()\n",
    "\n",
    "aa = Tteok(4000, 3)\n",
    "aa.tteok()\n",
    "aa.fishcake()\n",
    "aa.sundae()\n",
    "\n",
    "aa.__init__(2000,4)\n",
    "aa.tteok()\n",
    "aa.fishcake()\n",
    "aa.sundae()"
   ]
  },
  {
   "cell_type": "markdown",
   "id": "a980cce9-f2f6-44f0-86d2-a93024e0694b",
   "metadata": {},
   "source": [
    "## 예제"
   ]
  },
  {
   "cell_type": "code",
   "execution_count": 6,
   "id": "1fd8e053-76e6-4484-be37-c77d6d7739ff",
   "metadata": {},
   "outputs": [
    {
     "name": "stdout",
     "output_type": "stream",
     "text": [
      "ㅎㅇㅎㅇ\n"
     ]
    }
   ],
   "source": [
    "def test():\n",
    "    \"\"\"\n",
    "    인사임\n",
    "    \"\"\"\n",
    "    print(\"ㅎㅇㅎㅇ\")\n",
    "test()"
   ]
  },
  {
   "cell_type": "code",
   "execution_count": 7,
   "id": "b957e6d4-7e38-4f8f-96a8-08952cbc352d",
   "metadata": {},
   "outputs": [],
   "source": [
    "def set_car(name, color):\n",
    "    return {\"name\": name, \"color\":color}\n",
    "# set_car(\"HD\",\"blue\")\n",
    "def get_car_info(car):\n",
    "    return f\"car:{car[\"name\"]},color:{car[\"color\"]}\""
   ]
  },
  {
   "cell_type": "code",
   "execution_count": 8,
   "id": "1eb61433-8f25-4127-aa46-0b1fcf6d92c5",
   "metadata": {},
   "outputs": [
    {
     "data": {
      "text/plain": [
       "'car:HD,color:blue'"
      ]
     },
     "execution_count": 8,
     "metadata": {},
     "output_type": "execute_result"
    }
   ],
   "source": [
    "car = set_car(\"HD\",\"blue\")\n",
    "get_car_info(car)"
   ]
  },
  {
   "cell_type": "code",
   "execution_count": 9,
   "id": "56b8d448-d6dc-4215-97c0-74efd6672dcd",
   "metadata": {},
   "outputs": [
    {
     "data": {
      "text/plain": [
       "'car:KIA,color:white'"
      ]
     },
     "execution_count": 9,
     "metadata": {},
     "output_type": "execute_result"
    }
   ],
   "source": [
    "get_car_info(set_car(\"KIA\",\"white\"))"
   ]
  },
  {
   "cell_type": "code",
   "execution_count": 10,
   "id": "4b19be02-1b0e-4d55-b5c8-cc6a3837234c",
   "metadata": {},
   "outputs": [],
   "source": [
    "class Car:\n",
    "    def set_car(name, color):\n",
    "        return {\"name\": name, \"color\":color}\n",
    "    def get_car_info(car):\n",
    "        return f\"car:{car[\"name\"]},color:{car[\"color\"]}\""
   ]
  },
  {
   "cell_type": "code",
   "execution_count": 11,
   "id": "9c7c2632-113a-4ffc-a1d4-a70536d860ee",
   "metadata": {},
   "outputs": [
    {
     "name": "stdout",
     "output_type": "stream",
     "text": [
      "car:HD,color:Yellow\n",
      "car:KIA,color:black\n"
     ]
    }
   ],
   "source": [
    "a = Car.set_car(\"HD\",\"Yellow\")\n",
    "b = Car.set_car(\"KIA\", \"black\")\n",
    "print(Car.get_car_info(a))\n",
    "print(Car.get_car_info(b))"
   ]
  },
  {
   "cell_type": "code",
   "execution_count": 30,
   "id": "2f7f9e47-b72a-4740-ba05-b907de24c209",
   "metadata": {},
   "outputs": [],
   "source": [
    "class Car:\n",
    "    def __init__(self, name, color):\n",
    "        self.name = name\n",
    "        self.color = color\n",
    "        self.speed = 0\n",
    "\n",
    "    def get_car_info(self):\n",
    "        return f\"car:{self.name},color:{self.color}\"\n",
    "\n",
    "    def acc(self,amount):\n",
    "        self.speed += amount\n",
    "        return f\"{self.color} {self.name}의 속도 : {self.speed}km/h\"\n"
   ]
  },
  {
   "cell_type": "code",
   "execution_count": 20,
   "id": "19cc9b5d-cf09-438d-a430-94282260f303",
   "metadata": {},
   "outputs": [],
   "source": [
    "car1 = Car(\"HD\",\"white\")\n",
    "# print(car1.acc(50))"
   ]
  },
  {
   "cell_type": "code",
   "execution_count": 31,
   "id": "fbbdaf3a-88fb-4391-9c40-e18f6ccae387",
   "metadata": {},
   "outputs": [
    {
     "name": "stdout",
     "output_type": "stream",
     "text": [
      "white HD의 속도 : 61km/h\n",
      "white HD의 속도 : 62km/h\n",
      "white HD의 속도 : 63km/h\n"
     ]
    },
    {
     "ename": "KeyboardInterrupt",
     "evalue": "",
     "output_type": "error",
     "traceback": [
      "\u001b[1;31m---------------------------------------------------------------------------\u001b[0m",
      "\u001b[1;31mKeyboardInterrupt\u001b[0m                         Traceback (most recent call last)",
      "Cell \u001b[1;32mIn[31], line 5\u001b[0m\n\u001b[0;32m      3\u001b[0m \u001b[38;5;28;01mfor\u001b[39;00m i \u001b[38;5;129;01min\u001b[39;00m \u001b[38;5;28mrange\u001b[39m(\u001b[38;5;241m60\u001b[39m):\n\u001b[0;32m      4\u001b[0m     \u001b[38;5;28mprint\u001b[39m(car1\u001b[38;5;241m.\u001b[39macc(\u001b[38;5;241m1\u001b[39m))\n\u001b[1;32m----> 5\u001b[0m     \u001b[43mtime\u001b[49m\u001b[38;5;241;43m.\u001b[39;49m\u001b[43msleep\u001b[49m\u001b[43m(\u001b[49m\u001b[38;5;241;43m1\u001b[39;49m\u001b[43m)\u001b[49m\n",
      "\u001b[1;31mKeyboardInterrupt\u001b[0m: "
     ]
    }
   ],
   "source": [
    "import time\n",
    "\n",
    "for i in range(60):\n",
    "    print(car1.acc(1))\n",
    "    time.sleep(1)"
   ]
  },
  {
   "cell_type": "code",
   "execution_count": 32,
   "id": "9b7d046f-86df-402c-b789-a25e6b41c78c",
   "metadata": {},
   "outputs": [],
   "source": [
    "class Mycar(Car):\n",
    "    def turbo(self):\n",
    "        self.speed += 50\n",
    "        return f\"빠르지롱 {self.speed}km/h\""
   ]
  },
  {
   "cell_type": "code",
   "execution_count": 34,
   "id": "ca53e6da-5c43-4f17-a9df-46d2c8b5c069",
   "metadata": {},
   "outputs": [
    {
     "name": "stdout",
     "output_type": "stream",
     "text": [
      "빠르지롱 50km/h\n",
      "빠르지롱 100km/h\n"
     ]
    }
   ],
   "source": [
    "my = Mycar(\"BMW\",\"Yellow\")\n",
    "print(my.turbo())\n",
    "print(my.turbo())"
   ]
  },
  {
   "cell_type": "code",
   "execution_count": 35,
   "id": "ba7524ca-e47e-40e5-be80-bd19fe7add06",
   "metadata": {},
   "outputs": [],
   "source": [
    "class Pet:\n",
    "    def __init__(self, name, species):\n",
    "        self.name = name\n",
    "        self.species = species\n",
    "        self.hunger = 50\n",
    "    def feed(self):\n",
    "        if self.hunger > 10:\n",
    "            self.hunger -= 12\n",
    "        return f\"{self.name}에게 밥을 줬습니다. 배고픔:{self.hunger}\"\n",
    "    def play(self):\n",
    "        if self.hunger <= 80:\n",
    "            self.hunger += 20\n",
    "        return f\"{self.name}와 잘 놀아줬어요. 배고픔:{self.hunger}\""
   ]
  },
  {
   "cell_type": "code",
   "execution_count": 37,
   "id": "dceabde7-1f9e-4189-9267-3fb0807c36c1",
   "metadata": {},
   "outputs": [
    {
     "name": "stdout",
     "output_type": "stream",
     "text": [
      "둥이에게 밥을 줬습니다. 배고픔:38\n",
      "둥이에게 밥을 줬습니다. 배고픔:26\n",
      "몽이와 잘 놀아줬어요. 배고픔:70\n",
      "몽이와 잘 놀아줬어요. 배고픔:90\n"
     ]
    }
   ],
   "source": [
    "dog1 = Pet(\"둥이\",\"말티즈\")\n",
    "dog2 = Pet(\"몽이\",\"요크\")\n",
    "print(dog1.feed())\n",
    "print(dog1.feed())\n",
    "print(dog2.play())\n",
    "print(dog2.play())"
   ]
  },
  {
   "cell_type": "code",
   "execution_count": 43,
   "id": "3ba7d606-9cb1-4229-a45a-43f1376addd1",
   "metadata": {},
   "outputs": [],
   "source": [
    "class Bacteria:\n",
    "    def __init__(self,population,growth_rate):\n",
    "        self.population = population\n",
    "        self.growth_rate = growth_rate\n",
    "        self.time = 0\n",
    "\n",
    "    def grow(self,hours):\n",
    "        self.time += hours\n",
    "        self.population *= self.growth_rate ** hours\n",
    "        return f\"{self.time}시간 후 세균 수는 {int(self.population)}마리\"\n",
    "\n",
    "    def check(self):\n",
    "        return f\"현재 세균 수 : {int(self.population)}마리\""
   ]
  },
  {
   "cell_type": "code",
   "execution_count": 45,
   "id": "5796cf88-e27e-4cd8-b083-b8ad22944095",
   "metadata": {},
   "outputs": [
    {
     "name": "stdout",
     "output_type": "stream",
     "text": [
      "1시간 후 세균 수는 200마리\n",
      "3시간 후 세균 수는 800마리\n",
      "6시간 후 세균 수는 6400마리\n"
     ]
    },
    {
     "data": {
      "text/plain": [
       "'현재 세균 수 : 6400마리'"
      ]
     },
     "execution_count": 45,
     "metadata": {},
     "output_type": "execute_result"
    }
   ],
   "source": [
    "bac = Bacteria(100 , 2)\n",
    "print(bac.grow(1))\n",
    "print(bac.grow(2))\n",
    "print(bac.grow(3))\n",
    "bac.check()"
   ]
  },
  {
   "cell_type": "code",
   "execution_count": 68,
   "id": "92c70efd-88ac-42ce-90c2-0f6c84d646f4",
   "metadata": {},
   "outputs": [
    {
     "name": "stdout",
     "output_type": "stream",
     "text": [
      "철수님의 잔고는 50000원 입니다\n",
      "영희님의 잔고는 200000원 입니다\n",
      "철수님의 잔고는 9000000원 입니다\n"
     ]
    }
   ],
   "source": [
    "class Bankaccount:\n",
    "    interest_rate = 0.02\n",
    "    def __init__(self,owner,balance):\n",
    "        self.owner = owner\n",
    "        self.balance = balance or 0\n",
    "    def bprint(self):\n",
    "        return f\"{self.owner}님의 잔고는 {self.balance}원 입니다\"\n",
    "\n",
    "acc1 = Bankaccount(\"철수\", 50000)\n",
    "acc2 = Bankaccount(\"영희\", 200000)\n",
    "\n",
    "print(acc1.bprint())\n",
    "print(acc2.bprint())\n",
    "acc1.balance = 9000000\n",
    "print(acc1.bprint())"
   ]
  },
  {
   "cell_type": "code",
   "execution_count": 84,
   "id": "9a1c64f6-d44b-4396-8f69-2f1d26ad9fd2",
   "metadata": {},
   "outputs": [
    {
     "name": "stdout",
     "output_type": "stream",
     "text": [
      "철수님의 잔고는 50000원 입니다\n",
      "영희님의 잔고는 200000원 입니다\n",
      "0.02%의 이자가 반영된 금액은 51000원 입니다\n",
      "0.02%의 이자가 반영된 금액은 204000원 입니다\n",
      "0.03%의 이자가 반영된 금액은 51500원 입니다\n",
      "0.03%의 이자가 반영된 금액은 206000원 입니다\n",
      "철수님의 계좌에 30000원이 입금 되었습니다. 현재 잔약: 80000원\n",
      "철수님의 계좌에 5500원이 출금 되었습니다. 현재 잔약: 74500원\n"
     ]
    }
   ],
   "source": [
    "class Bankaccount:\n",
    "    interest_rate = 0.02\n",
    "    def __init__(self,owner,balance):\n",
    "        self.owner = owner\n",
    "        self.__balance = balance or 0\n",
    "    def bprint(self):\n",
    "        return f\"{self.owner}님의 잔고는 {self.__balance}원 입니다\"\n",
    "\n",
    "    def deposit(self, amount):\n",
    "        self.__balance += amount\n",
    "        return f\"{self.owner}님의 계좌에 {amount}원이 입금 되었습니다. 현재 잔약: {self.__balance}원\"\n",
    "\n",
    "    def withdraw (self, amount):\n",
    "        if self.__balance >= amount:\n",
    "            self.__balance -= amount\n",
    "            return f\"{self.owner}님의 계좌에 {amount}원이 출금 되었습니다. 현재 잔약: {self.__balance}원\"\n",
    "        return \"잔액이 부족합니다.\"\n",
    "\n",
    "    def interest(self):\n",
    "        total = self.__balance * (self.interest_rate + 1)\n",
    "        return f\"{self.interest_rate}%의 이자가 반영된 금액은 {total:.0f}원 입니다\"\n",
    "\n",
    "acc1 = Bankaccount(\"철수\", 50000)\n",
    "acc2 = Bankaccount(\"영희\", 200000)\n",
    "print(acc1.bprint())\n",
    "print(acc2.bprint())\n",
    "print(acc1.interest())\n",
    "print(acc2.interest())\n",
    "Bankaccount.interest_rate = 0.03\n",
    "print(acc1.interest())\n",
    "print(acc2.interest())\n",
    "\n",
    "print(acc1.deposit(30000))\n",
    "print(acc1.withdraw(5500))\n"
   ]
  },
  {
   "cell_type": "code",
   "execution_count": 88,
   "id": "2f47bec7-21c2-4b62-bbcd-29d8de3638c1",
   "metadata": {},
   "outputs": [
    {
     "data": {
      "text/plain": [
       "'현재 잔액 : 3000원'"
      ]
     },
     "execution_count": 88,
     "metadata": {},
     "output_type": "execute_result"
    }
   ],
   "source": [
    "#잔액 충전 insert_money\n",
    "#상품 구매 buy_item\n",
    "#잔액 반환 refund\n",
    "#사이다 가격: 1400 콜라 1500, 물 1000\n",
    "\n",
    "class VendingMachine:\n",
    "    def __init__(self):\n",
    "        self.balance = 0\n",
    "        self.item = {\"사이다\":1400,\"콜라\":1500,\"물\":1000}\n",
    "\n",
    "    def insert_money(self, amount):\n",
    "        self.balance += amount\n",
    "        return f\"현재 잔액 : {self.balance}원\"\n",
    "\n",
    "    def buy_item(self, select):\n",
    "        if select not in self.item:\n",
    "            return f\"{select}는 안팜 ㅂㅂ\"\n",
    "        if self.item[select] < self.balance:\n",
    "            self.balance -= self.item[select]\n",
    "            return f\"{select}구매 완료, 현재 잔액 : {self.balance}\"\n",
    "        else:\n",
    "            return f\"잔액 부족, 현재 잔액 : {self.balance}\"\n",
    "\n",
    "    def refund(self):\n",
    "        self.balance = 0\n",
    "        return f\"현재 잔액 : {self.balance} 반환 완료\"\n",
    "\n",
    "vm = VendingMachine()\n",
    "vm.insert_money(3000)"
   ]
  },
  {
   "cell_type": "code",
   "execution_count": 89,
   "id": "228cf8ae-de61-486e-a9ff-61e7ac2919fa",
   "metadata": {},
   "outputs": [
    {
     "data": {
      "text/plain": [
       "'사이다구매 완료, 현재 잔액 : 1600'"
      ]
     },
     "execution_count": 89,
     "metadata": {},
     "output_type": "execute_result"
    }
   ],
   "source": [
    "vm.buy_item(\"사이다\")"
   ]
  },
  {
   "cell_type": "code",
   "execution_count": 90,
   "id": "6404c70c-3fed-48ef-97a1-9673947dffd8",
   "metadata": {},
   "outputs": [
    {
     "data": {
      "text/plain": [
       "'물구매 완료, 현재 잔액 : 600'"
      ]
     },
     "execution_count": 90,
     "metadata": {},
     "output_type": "execute_result"
    }
   ],
   "source": [
    "vm.buy_item(\"물\")"
   ]
  },
  {
   "cell_type": "code",
   "execution_count": 91,
   "id": "17a30edb-1645-4c23-b435-4b281f0c2685",
   "metadata": {},
   "outputs": [
    {
     "data": {
      "text/plain": [
       "'잔액 부족, 현재 잔액 : 600'"
      ]
     },
     "execution_count": 91,
     "metadata": {},
     "output_type": "execute_result"
    }
   ],
   "source": [
    "vm.buy_item(\"사이다\")"
   ]
  },
  {
   "cell_type": "code",
   "execution_count": 92,
   "id": "d98745fd-a12a-4027-8900-bfecbf23c6db",
   "metadata": {},
   "outputs": [
    {
     "data": {
      "text/plain": [
       "'현재 잔액 : 0 반환 완료'"
      ]
     },
     "execution_count": 92,
     "metadata": {},
     "output_type": "execute_result"
    }
   ],
   "source": [
    "vm.refund()"
   ]
  },
  {
   "cell_type": "code",
   "execution_count": 1,
   "id": "8bb13595-31fe-473a-bfaf-339e426b7b9e",
   "metadata": {},
   "outputs": [],
   "source": [
    "import turtle\n",
    "\n",
    "window = turtle.Screen()\n",
    "window.bgcolor('blue')\n",
    "\n",
    "my_turtle = turtle.Turtle()\n",
    "my_turtle.shape('turtle')\n",
    "my_turtle.color(\"yellow\")"
   ]
  },
  {
   "cell_type": "code",
   "execution_count": null,
   "id": "db9cfa21-d4e3-4fb8-91f0-22bf612ff09e",
   "metadata": {},
   "outputs": [],
   "source": []
  }
 ],
 "metadata": {
  "kernelspec": {
   "display_name": "Python 3 (ipykernel)",
   "language": "python",
   "name": "python3"
  },
  "language_info": {
   "codemirror_mode": {
    "name": "ipython",
    "version": 3
   },
   "file_extension": ".py",
   "mimetype": "text/x-python",
   "name": "python",
   "nbconvert_exporter": "python",
   "pygments_lexer": "ipython3",
   "version": "3.13.1"
  }
 },
 "nbformat": 4,
 "nbformat_minor": 5
}
